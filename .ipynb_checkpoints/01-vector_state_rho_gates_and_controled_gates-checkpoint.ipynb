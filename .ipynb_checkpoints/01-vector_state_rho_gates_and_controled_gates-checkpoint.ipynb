{
 "cells": [
  {
   "cell_type": "code",
   "execution_count": 2,
   "id": "93d4c9e8",
   "metadata": {},
   "outputs": [],
   "source": [
    "%run init.ipynb\n",
    "%run init-tensor_product.ipynb"
   ]
  },
  {
   "cell_type": "markdown",
   "id": "962dd3e6",
   "metadata": {},
   "source": [
    "# Gates"
   ]
  },
  {
   "cell_type": "markdown",
   "id": "36904412",
   "metadata": {},
   "source": [
    "## Hadamard"
   ]
  },
  {
   "cell_type": "code",
   "execution_count": 3,
   "id": "6dae9044",
   "metadata": {},
   "outputs": [
    {
     "data": {
      "image/png": "[encoded data removed]",
      "text/latex": [
       "$\\displaystyle \\left[\\begin{matrix}\\frac{\\sqrt{2}}{2} & \\frac{\\sqrt{2}}{2}\\\\\\frac{\\sqrt{2}}{2} & - \\frac{\\sqrt{2}}{2}\\end{matrix}\\right]$"
      ],
      "text/plain": [
       "⎡√2   √2 ⎤\n",
       "⎢──   ── ⎥\n",
       "⎢2    2  ⎥\n",
       "⎢        ⎥\n",
       "⎢√2  -√2 ⎥\n",
       "⎢──  ────⎥\n",
       "⎣2    2  ⎦"
      ]
     },
     "execution_count": 3,
     "metadata": {},
     "output_type": "execute_result"
    }
   ],
   "source": [
    "H = (1/sqrt(2))*(pauli(1) + pauli(3))\n",
    "H"
   ]
  },
  {
   "cell_type": "markdown",
   "id": "3745bf88",
   "metadata": {},
   "source": [
    "## Applying the H gate on the computational base"
   ]
  },
  {
   "cell_type": "code",
   "execution_count": 4,
   "id": "6345ee93",
   "metadata": {},
   "outputs": [
    {
     "data": {
      "image/png": "[encoded data removed]",
      "text/latex": [
       "$\\displaystyle {\\left|000\\right\\rangle }$"
      ],
      "text/plain": [
       "❘000⟩"
      ]
     },
     "execution_count": 4,
     "metadata": {},
     "output_type": "execute_result"
    }
   ],
   "source": [
    "psi = pket('000')\n",
    "mbk(psi)"
   ]
  },
  {
   "cell_type": "code",
   "execution_count": 13,
   "id": "632414a8",
   "metadata": {},
   "outputs": [],
   "source": [
    "# mysim = simplify(expr, rational=True)\n",
    "# mbk(Matrix) --> vector state in the bra ket notation\n",
    "# tp_porta(n, gate, pos) --> n = num of qubits, gate, position of action (0, 1, ..., d-1)"
   ]
  },
  {
   "cell_type": "code",
   "execution_count": 67,
   "id": "4dd58130",
   "metadata": {},
   "outputs": [
    {
     "name": "stdout",
     "output_type": "stream",
     "text": [
      "pos =  0\n"
     ]
    },
    {
     "data": {
      "image/png": "[encoded data removed]",
      "text/latex": [
       "$\\displaystyle \\frac{\\sqrt{2} \\left({\\left|000\\right\\rangle } + {\\left|100\\right\\rangle }\\right)}{2}$"
      ],
      "text/plain": [
       "√2⋅(❘000⟩ + ❘100⟩)\n",
       "──────────────────\n",
       "        2         "
      ]
     },
     "metadata": {},
     "output_type": "display_data"
    },
    {
     "name": "stdout",
     "output_type": "stream",
     "text": [
      "pos =  1\n"
     ]
    },
    {
     "data": {
      "image/png": "[encoded data removed]",
      "text/latex": [
       "$\\displaystyle \\frac{\\sqrt{2} \\left({\\left|000\\right\\rangle } + {\\left|010\\right\\rangle }\\right)}{2}$"
      ],
      "text/plain": [
       "√2⋅(❘000⟩ + ❘010⟩)\n",
       "──────────────────\n",
       "        2         "
      ]
     },
     "metadata": {},
     "output_type": "display_data"
    },
    {
     "name": "stdout",
     "output_type": "stream",
     "text": [
      "pos =  2\n"
     ]
    },
    {
     "data": {
      "image/png": "[encoded data removed]",
      "text/latex": [
       "$\\displaystyle \\frac{\\sqrt{2} \\left({\\left|000\\right\\rangle } + {\\left|001\\right\\rangle }\\right)}{2}$"
      ],
      "text/plain": [
       "√2⋅(❘000⟩ + ❘001⟩)\n",
       "──────────────────\n",
       "        2         "
      ]
     },
     "metadata": {},
     "output_type": "display_data"
    }
   ],
   "source": [
    "for j in range(3):\n",
    "    pos = j\n",
    "    print('pos = ', j)\n",
    "    display(mysim(mbk(tp_porta(3, H, pos)*psi)))"
   ]
  },
  {
   "cell_type": "code",
   "execution_count": 7,
   "id": "4b1ccff8",
   "metadata": {},
   "outputs": [],
   "source": [
    "# Produto tensorial para poder atuar nos vetores de estado\n",
    "# n = número de qubits\n",
    "def psi_gate(psi, porta, pos):\n",
    "    n = int(log(len(psi), 2))\n",
    "    objeto = id_sym(2)\n",
    "    for i in range(0, n-1):\n",
    "        if pos == 0 and i==0:\n",
    "            # primeira posição\n",
    "            objeto = tp(porta, objeto)\n",
    "            porta = id_sym(2)\n",
    "        elif pos == (i+1) and pos == n-1:\n",
    "            # última posição\n",
    "            objeto = tp(objeto, porta)\n",
    "            porta = id_sym(2)\n",
    "        elif pos == i+1:\n",
    "            # caso a posição seja a próxima, aí precisamos fazer nesse loop\n",
    "            objeto = tp(objeto, porta)\n",
    "            porta = id_sym(2)\n",
    "        else:\n",
    "            # casos em que não é a posição\n",
    "            objeto = tp(objeto, id_sym(2))\n",
    "    return objeto * psi"
   ]
  },
  {
   "cell_type": "code",
   "execution_count": 12,
   "id": "6a2d7dc5",
   "metadata": {},
   "outputs": [],
   "source": [
    "# psi_gate(psi, gate, pos) --> psi = state (matrix form), gate, \n",
    "#    position of the qubit that will act the unitary (0, 1, ..., d-1)"
   ]
  },
  {
   "cell_type": "code",
   "execution_count": 4,
   "id": "35ff9957",
   "metadata": {},
   "outputs": [
    {
     "data": {
      "image/png": "[encoded data removed]",
      "text/latex": [
       "$\\displaystyle {\\left|000\\right\\rangle }$"
      ],
      "text/plain": [
       "❘000⟩"
      ]
     },
     "execution_count": 4,
     "metadata": {},
     "output_type": "execute_result"
    }
   ],
   "source": [
    "psi = pket('000')\n",
    "mbk(psi)"
   ]
  },
  {
   "cell_type": "code",
   "execution_count": 8,
   "id": "ee28824f",
   "metadata": {},
   "outputs": [
    {
     "name": "stdout",
     "output_type": "stream",
     "text": [
      "pos =  0\n"
     ]
    },
    {
     "data": {
      "image/png": "[encoded data removed]",
      "text/latex": [
       "$\\displaystyle \\frac{\\sqrt{2} \\left({\\left|000\\right\\rangle } + {\\left|100\\right\\rangle }\\right)}{2}$"
      ],
      "text/plain": [
       "√2⋅(❘000⟩ + ❘100⟩)\n",
       "──────────────────\n",
       "        2         "
      ]
     },
     "metadata": {},
     "output_type": "display_data"
    },
    {
     "name": "stdout",
     "output_type": "stream",
     "text": [
      "pos =  1\n"
     ]
    },
    {
     "data": {
      "image/png": "[encoded data removed]",
      "text/latex": [
       "$\\displaystyle \\frac{\\sqrt{2} \\left({\\left|000\\right\\rangle } + {\\left|010\\right\\rangle }\\right)}{2}$"
      ],
      "text/plain": [
       "√2⋅(❘000⟩ + ❘010⟩)\n",
       "──────────────────\n",
       "        2         "
      ]
     },
     "metadata": {},
     "output_type": "display_data"
    },
    {
     "name": "stdout",
     "output_type": "stream",
     "text": [
      "pos =  2\n"
     ]
    },
    {
     "data": {
      "image/png": "[encoded data removed]",
      "text/latex": [
       "$\\displaystyle \\frac{\\sqrt{2} \\left({\\left|000\\right\\rangle } + {\\left|001\\right\\rangle }\\right)}{2}$"
      ],
      "text/plain": [
       "√2⋅(❘000⟩ + ❘001⟩)\n",
       "──────────────────\n",
       "        2         "
      ]
     },
     "metadata": {},
     "output_type": "display_data"
    }
   ],
   "source": [
    "for j in range(3):\n",
    "    pos = j\n",
    "    print('pos = ', j)\n",
    "    display(mysim(mbk(psi_gate(psi, H, pos))))"
   ]
  },
  {
   "cell_type": "code",
   "execution_count": 9,
   "id": "a10087b0",
   "metadata": {},
   "outputs": [
    {
     "data": {
      "image/png": "[encoded data removed]",
      "text/latex": [
       "$\\displaystyle {\\left|111\\right\\rangle }$"
      ],
      "text/plain": [
       "❘111⟩"
      ]
     },
     "execution_count": 9,
     "metadata": {},
     "output_type": "execute_result"
    }
   ],
   "source": [
    "psi = pket('111')\n",
    "mbk(psi)"
   ]
  },
  {
   "cell_type": "code",
   "execution_count": 10,
   "id": "03d15d01",
   "metadata": {},
   "outputs": [
    {
     "name": "stdout",
     "output_type": "stream",
     "text": [
      "pos =  0\n"
     ]
    },
    {
     "data": {
      "image/png": "[encoded data removed]",
      "text/latex": [
       "$\\displaystyle \\frac{\\sqrt{2} \\left({\\left|011\\right\\rangle } - {\\left|111\\right\\rangle }\\right)}{2}$"
      ],
      "text/plain": [
       "√2⋅(❘011⟩ - ❘111⟩)\n",
       "──────────────────\n",
       "        2         "
      ]
     },
     "metadata": {},
     "output_type": "display_data"
    },
    {
     "name": "stdout",
     "output_type": "stream",
     "text": [
      "pos =  1\n"
     ]
    },
    {
     "data": {
      "image/png": "[encoded data removed]",
      "text/latex": [
       "$\\displaystyle \\frac{\\sqrt{2} \\left({\\left|101\\right\\rangle } - {\\left|111\\right\\rangle }\\right)}{2}$"
      ],
      "text/plain": [
       "√2⋅(❘101⟩ - ❘111⟩)\n",
       "──────────────────\n",
       "        2         "
      ]
     },
     "metadata": {},
     "output_type": "display_data"
    },
    {
     "name": "stdout",
     "output_type": "stream",
     "text": [
      "pos =  2\n"
     ]
    },
    {
     "data": {
      "image/png": "[encoded data removed]",
      "text/latex": [
       "$\\displaystyle \\frac{\\sqrt{2} \\left({\\left|110\\right\\rangle } - {\\left|111\\right\\rangle }\\right)}{2}$"
      ],
      "text/plain": [
       "√2⋅(❘110⟩ - ❘111⟩)\n",
       "──────────────────\n",
       "        2         "
      ]
     },
     "metadata": {},
     "output_type": "display_data"
    }
   ],
   "source": [
    "for j in range(3):\n",
    "    pos = j\n",
    "    print('pos = ', j)\n",
    "    display(mysim(mbk(psi_gate(psi, H, pos))))"
   ]
  },
  {
   "cell_type": "markdown",
   "id": "c44dd661",
   "metadata": {},
   "source": [
    "## S and S$^\\dagger$"
   ]
  },
  {
   "cell_type": "code",
   "execution_count": 6,
   "id": "4bd700a2",
   "metadata": {},
   "outputs": [
    {
     "data": {
      "image/png": "[encoded data removed]",
      "text/latex": [
       "$\\displaystyle \\left[\\begin{matrix}1 & 0\\\\0 & i\\end{matrix}\\right]$"
      ],
      "text/plain": [
       "⎡1  0⎤\n",
       "⎢    ⎥\n",
       "⎣0  ⅈ⎦"
      ]
     },
     "execution_count": 6,
     "metadata": {},
     "output_type": "execute_result"
    }
   ],
   "source": [
    "S = pauli(3).applyfunc(lambda x: sqrt(x))\n",
    "S"
   ]
  },
  {
   "cell_type": "code",
   "execution_count": 7,
   "id": "bd205e1a",
   "metadata": {},
   "outputs": [
    {
     "data": {
      "image/png": "[encoded data removed]",
      "text/latex": [
       "$\\displaystyle \\left[\\begin{matrix}1 & 0\\\\0 & - i\\end{matrix}\\right]$"
      ],
      "text/plain": [
       "⎡1  0 ⎤\n",
       "⎢     ⎥\n",
       "⎣0  -ⅈ⎦"
      ]
     },
     "execution_count": 7,
     "metadata": {},
     "output_type": "execute_result"
    }
   ],
   "source": [
    "Sdg = tsco(S)\n",
    "Sdg"
   ]
  },
  {
   "cell_type": "markdown",
   "id": "b01b3d4b",
   "metadata": {},
   "source": [
    "# Controlled gates"
   ]
  },
  {
   "cell_type": "code",
   "execution_count": 16,
   "id": "ac2fc427",
   "metadata": {},
   "outputs": [
    {
     "data": {
      "image/png": "[encoded data removed]",
      "text/latex": [
       "$\\displaystyle {\\left|00\\right\\rangle }{\\left\\langle 00\\right|} + {\\left|01\\right\\rangle }{\\left\\langle 01\\right|} + {\\left|10\\right\\rangle }{\\left\\langle 11\\right|} + {\\left|11\\right\\rangle }{\\left\\langle 10\\right|}$"
      ],
      "text/plain": [
       "❘00⟩⟨00❘ + ❘01⟩⟨01❘ + ❘10⟩⟨11❘ + ❘11⟩⟨10❘"
      ]
     },
     "execution_count": 16,
     "metadata": {},
     "output_type": "execute_result"
    }
   ],
   "source": [
    "CNOT_ct = tp(proj(pket('0')), pauli(0)) + tp(proj(pket('1')), pauli(1))\n",
    "mbk(CNOT_ct)"
   ]
  },
  {
   "cell_type": "code",
   "execution_count": 17,
   "id": "d04380e2",
   "metadata": {},
   "outputs": [
    {
     "data": {
      "image/png": "[encoded data removed]",
      "text/latex": [
       "$\\displaystyle \\left[\\begin{matrix}1 & 0 & 0 & 0\\\\0 & 1 & 0 & 0\\\\0 & 0 & 0 & 1\\\\0 & 0 & 1 & 0\\end{matrix}\\right]$"
      ],
      "text/plain": [
       "⎡1  0  0  0⎤\n",
       "⎢          ⎥\n",
       "⎢0  1  0  0⎥\n",
       "⎢          ⎥\n",
       "⎢0  0  0  1⎥\n",
       "⎢          ⎥\n",
       "⎣0  0  1  0⎦"
      ]
     },
     "execution_count": 17,
     "metadata": {},
     "output_type": "execute_result"
    }
   ],
   "source": [
    "CNOT_ct"
   ]
  },
  {
   "cell_type": "markdown",
   "id": "35a7e03b",
   "metadata": {},
   "source": [
    "## Example: applying the CNOT on a three-qubit system"
   ]
  },
  {
   "cell_type": "code",
   "execution_count": 29,
   "id": "faf7c1b6",
   "metadata": {},
   "outputs": [
    {
     "data": {
      "image/png": "[encoded data removed]",
      "text/latex": [
       "$\\displaystyle c_{000} {\\left|000\\right\\rangle } + c_{001} {\\left|001\\right\\rangle } + c_{010} {\\left|010\\right\\rangle } + c_{011} {\\left|011\\right\\rangle } + c_{100} {\\left|100\\right\\rangle } + c_{101} {\\left|101\\right\\rangle } + c_{110} {\\left|110\\right\\rangle } + c_{111} {\\left|111\\right\\rangle }$"
      ],
      "text/plain": [
       "c₀₀₀⋅❘000⟩ + c₀₀₁⋅❘001⟩ + c₀₁₀⋅❘010⟩ + c₀₁₁⋅❘011⟩ + c₁₀₀⋅❘100⟩ + c₁₀₁⋅❘101⟩ + \n",
       "c₁₁₀⋅❘110⟩ + c₁₁₁⋅❘111⟩"
      ]
     },
     "execution_count": 29,
     "metadata": {},
     "output_type": "execute_result"
    }
   ],
   "source": [
    "psi = psi_bin(8)\n",
    "mbk(psi)"
   ]
  },
  {
   "cell_type": "code",
   "execution_count": 30,
   "id": "397ccbb0",
   "metadata": {},
   "outputs": [
    {
     "name": "stdout",
     "output_type": "stream",
     "text": [
      "control = 0, target = 0\n"
     ]
    },
    {
     "data": {
      "image/png": "[encoded data removed]",
      "text/latex": [
       "$\\displaystyle c_{000} {\\left|000\\right\\rangle } + c_{001} {\\left|001\\right\\rangle } + c_{010} {\\left|010\\right\\rangle } + c_{011} {\\left|011\\right\\rangle } + c_{100} {\\left|100\\right\\rangle } + c_{101} {\\left|101\\right\\rangle } + c_{110} {\\left|110\\right\\rangle } + c_{111} {\\left|111\\right\\rangle }$"
      ],
      "text/plain": [
       "c₀₀₀⋅❘000⟩ + c₀₀₁⋅❘001⟩ + c₀₁₀⋅❘010⟩ + c₀₁₁⋅❘011⟩ + c₁₀₀⋅❘100⟩ + c₁₀₁⋅❘101⟩ + \n",
       "c₁₁₀⋅❘110⟩ + c₁₁₁⋅❘111⟩"
      ]
     },
     "metadata": {},
     "output_type": "display_data"
    },
    {
     "name": "stdout",
     "output_type": "stream",
     "text": [
      "control = 0, target = 1\n"
     ]
    },
    {
     "data": {
      "image/png": "[encoded data removed]",
      "text/latex": [
       "$\\displaystyle c_{000} {\\left|000\\right\\rangle } + c_{001} {\\left|001\\right\\rangle } + c_{010} {\\left|010\\right\\rangle } + c_{011} {\\left|011\\right\\rangle } + c_{100} {\\left|110\\right\\rangle } + c_{101} {\\left|111\\right\\rangle } + c_{110} {\\left|100\\right\\rangle } + c_{111} {\\left|101\\right\\rangle }$"
      ],
      "text/plain": [
       "c₀₀₀⋅❘000⟩ + c₀₀₁⋅❘001⟩ + c₀₁₀⋅❘010⟩ + c₀₁₁⋅❘011⟩ + c₁₀₀⋅❘110⟩ + c₁₀₁⋅❘111⟩ + \n",
       "c₁₁₀⋅❘100⟩ + c₁₁₁⋅❘101⟩"
      ]
     },
     "metadata": {},
     "output_type": "display_data"
    },
    {
     "name": "stdout",
     "output_type": "stream",
     "text": [
      "control = 0, target = 2\n"
     ]
    },
    {
     "data": {
      "image/png": "[encoded data removed]",
      "text/latex": [
       "$\\displaystyle c_{000} {\\left|000\\right\\rangle } + c_{001} {\\left|001\\right\\rangle } + c_{010} {\\left|010\\right\\rangle } + c_{011} {\\left|011\\right\\rangle } + c_{100} {\\left|101\\right\\rangle } + c_{101} {\\left|100\\right\\rangle } + c_{110} {\\left|111\\right\\rangle } + c_{111} {\\left|110\\right\\rangle }$"
      ],
      "text/plain": [
       "c₀₀₀⋅❘000⟩ + c₀₀₁⋅❘001⟩ + c₀₁₀⋅❘010⟩ + c₀₁₁⋅❘011⟩ + c₁₀₀⋅❘101⟩ + c₁₀₁⋅❘100⟩ + \n",
       "c₁₁₀⋅❘111⟩ + c₁₁₁⋅❘110⟩"
      ]
     },
     "metadata": {},
     "output_type": "display_data"
    },
    {
     "name": "stdout",
     "output_type": "stream",
     "text": [
      "control = 1, target = 0\n"
     ]
    },
    {
     "data": {
      "image/png": "[encoded data removed]",
      "text/latex": [
       "$\\displaystyle c_{000} {\\left|000\\right\\rangle } + c_{001} {\\left|001\\right\\rangle } + c_{010} {\\left|110\\right\\rangle } + c_{011} {\\left|111\\right\\rangle } + c_{100} {\\left|100\\right\\rangle } + c_{101} {\\left|101\\right\\rangle } + c_{110} {\\left|010\\right\\rangle } + c_{111} {\\left|011\\right\\rangle }$"
      ],
      "text/plain": [
       "c₀₀₀⋅❘000⟩ + c₀₀₁⋅❘001⟩ + c₀₁₀⋅❘110⟩ + c₀₁₁⋅❘111⟩ + c₁₀₀⋅❘100⟩ + c₁₀₁⋅❘101⟩ + \n",
       "c₁₁₀⋅❘010⟩ + c₁₁₁⋅❘011⟩"
      ]
     },
     "metadata": {},
     "output_type": "display_data"
    },
    {
     "name": "stdout",
     "output_type": "stream",
     "text": [
      "control = 1, target = 1\n"
     ]
    },
    {
     "data": {
      "image/png": "[encoded data removed]",
      "text/latex": [
       "$\\displaystyle c_{000} {\\left|000\\right\\rangle } + c_{001} {\\left|001\\right\\rangle } + c_{010} {\\left|010\\right\\rangle } + c_{011} {\\left|011\\right\\rangle } + c_{100} {\\left|100\\right\\rangle } + c_{101} {\\left|101\\right\\rangle } + c_{110} {\\left|110\\right\\rangle } + c_{111} {\\left|111\\right\\rangle }$"
      ],
      "text/plain": [
       "c₀₀₀⋅❘000⟩ + c₀₀₁⋅❘001⟩ + c₀₁₀⋅❘010⟩ + c₀₁₁⋅❘011⟩ + c₁₀₀⋅❘100⟩ + c₁₀₁⋅❘101⟩ + \n",
       "c₁₁₀⋅❘110⟩ + c₁₁₁⋅❘111⟩"
      ]
     },
     "metadata": {},
     "output_type": "display_data"
    },
    {
     "name": "stdout",
     "output_type": "stream",
     "text": [
      "control = 1, target = 2\n"
     ]
    },
    {
     "data": {
      "image/png": "[encoded data removed]",
      "text/latex": [
       "$\\displaystyle c_{000} {\\left|000\\right\\rangle } + c_{001} {\\left|001\\right\\rangle } + c_{010} {\\left|011\\right\\rangle } + c_{011} {\\left|010\\right\\rangle } + c_{100} {\\left|100\\right\\rangle } + c_{101} {\\left|101\\right\\rangle } + c_{110} {\\left|111\\right\\rangle } + c_{111} {\\left|110\\right\\rangle }$"
      ],
      "text/plain": [
       "c₀₀₀⋅❘000⟩ + c₀₀₁⋅❘001⟩ + c₀₁₀⋅❘011⟩ + c₀₁₁⋅❘010⟩ + c₁₀₀⋅❘100⟩ + c₁₀₁⋅❘101⟩ + \n",
       "c₁₁₀⋅❘111⟩ + c₁₁₁⋅❘110⟩"
      ]
     },
     "metadata": {},
     "output_type": "display_data"
    },
    {
     "name": "stdout",
     "output_type": "stream",
     "text": [
      "control = 2, target = 0\n"
     ]
    },
    {
     "data": {
      "image/png": "[encoded data removed]",
      "text/latex": [
       "$\\displaystyle c_{000} {\\left|000\\right\\rangle } + c_{001} {\\left|101\\right\\rangle } + c_{010} {\\left|010\\right\\rangle } + c_{011} {\\left|111\\right\\rangle } + c_{100} {\\left|100\\right\\rangle } + c_{101} {\\left|001\\right\\rangle } + c_{110} {\\left|110\\right\\rangle } + c_{111} {\\left|011\\right\\rangle }$"
      ],
      "text/plain": [
       "c₀₀₀⋅❘000⟩ + c₀₀₁⋅❘101⟩ + c₀₁₀⋅❘010⟩ + c₀₁₁⋅❘111⟩ + c₁₀₀⋅❘100⟩ + c₁₀₁⋅❘001⟩ + \n",
       "c₁₁₀⋅❘110⟩ + c₁₁₁⋅❘011⟩"
      ]
     },
     "metadata": {},
     "output_type": "display_data"
    },
    {
     "name": "stdout",
     "output_type": "stream",
     "text": [
      "control = 2, target = 1\n"
     ]
    },
    {
     "data": {
      "image/png": "[encoded data removed]",
      "text/latex": [
       "$\\displaystyle c_{000} {\\left|000\\right\\rangle } + c_{001} {\\left|011\\right\\rangle } + c_{010} {\\left|010\\right\\rangle } + c_{011} {\\left|001\\right\\rangle } + c_{100} {\\left|100\\right\\rangle } + c_{101} {\\left|111\\right\\rangle } + c_{110} {\\left|110\\right\\rangle } + c_{111} {\\left|101\\right\\rangle }$"
      ],
      "text/plain": [
       "c₀₀₀⋅❘000⟩ + c₀₀₁⋅❘011⟩ + c₀₁₀⋅❘010⟩ + c₀₁₁⋅❘001⟩ + c₁₀₀⋅❘100⟩ + c₁₀₁⋅❘111⟩ + \n",
       "c₁₁₀⋅❘110⟩ + c₁₁₁⋅❘101⟩"
      ]
     },
     "metadata": {},
     "output_type": "display_data"
    },
    {
     "name": "stdout",
     "output_type": "stream",
     "text": [
      "control = 2, target = 2\n"
     ]
    },
    {
     "data": {
      "image/png": "[encoded data removed]",
      "text/latex": [
       "$\\displaystyle c_{000} {\\left|000\\right\\rangle } + c_{001} {\\left|001\\right\\rangle } + c_{010} {\\left|010\\right\\rangle } + c_{011} {\\left|011\\right\\rangle } + c_{100} {\\left|100\\right\\rangle } + c_{101} {\\left|101\\right\\rangle } + c_{110} {\\left|110\\right\\rangle } + c_{111} {\\left|111\\right\\rangle }$"
      ],
      "text/plain": [
       "c₀₀₀⋅❘000⟩ + c₀₀₁⋅❘001⟩ + c₀₁₀⋅❘010⟩ + c₀₁₁⋅❘011⟩ + c₁₀₀⋅❘100⟩ + c₁₀₁⋅❘101⟩ + \n",
       "c₁₁₀⋅❘110⟩ + c₁₁₁⋅❘111⟩"
      ]
     },
     "metadata": {},
     "output_type": "display_data"
    }
   ],
   "source": [
    "for j,k in product(range(3), repeat=2):\n",
    "    control, target = j, k\n",
    "    print('control = {}, target = {}'. format(j,k))\n",
    "    display(mbk(psi_ctrl(psi, CNOT_ct, control, target)))"
   ]
  },
  {
   "cell_type": "markdown",
   "id": "335ab48d",
   "metadata": {},
   "source": [
    "## Changing control of the controlled gate"
   ]
  },
  {
   "cell_type": "code",
   "execution_count": null,
   "id": "c79cd332",
   "metadata": {},
   "outputs": [],
   "source": [
    "# troca_qubit_rho(rho or gate, qubit_ini, qubit_fin)\n",
    "# qubit_ini = qubit starting position\n",
    "# qubit_fin = final position of the qubit\n",
    "# It helps to change the position of the qubits in a density matrix, but it also serves to change the control and the target, among other things.\n",
    "# You have to be very careful with this function\n",
    "# think of it as a state vector for the density matrix\n",
    "# or on the control-target relation of a controlled gate"
   ]
  },
  {
   "cell_type": "code",
   "execution_count": 18,
   "id": "1a4d6856",
   "metadata": {},
   "outputs": [
    {
     "data": {
      "image/png": "[encoded data removed]",
      "text/latex": [
       "$\\displaystyle \\left[\\begin{matrix}1 & 0 & 0 & 0\\\\0 & 1 & 0 & 0\\\\0 & 0 & 0 & 1\\\\0 & 0 & 1 & 0\\end{matrix}\\right]$"
      ],
      "text/plain": [
       "⎡1  0  0  0⎤\n",
       "⎢          ⎥\n",
       "⎢0  1  0  0⎥\n",
       "⎢          ⎥\n",
       "⎢0  0  0  1⎥\n",
       "⎢          ⎥\n",
       "⎣0  0  1  0⎦"
      ]
     },
     "execution_count": 18,
     "metadata": {},
     "output_type": "execute_result"
    }
   ],
   "source": [
    "CNOT_ct"
   ]
  },
  {
   "cell_type": "code",
   "execution_count": 33,
   "id": "7c84b38b",
   "metadata": {},
   "outputs": [
    {
     "data": {
      "image/png": "[encoded data removed]",
      "text/latex": [
       "$\\displaystyle \\left[\\begin{matrix}1 & 0 & 0 & 0\\\\0 & 0 & 0 & 1\\\\0 & 0 & 1 & 0\\\\0 & 1 & 0 & 0\\end{matrix}\\right]$"
      ],
      "text/plain": [
       "⎡1  0  0  0⎤\n",
       "⎢          ⎥\n",
       "⎢0  0  0  1⎥\n",
       "⎢          ⎥\n",
       "⎢0  0  1  0⎥\n",
       "⎢          ⎥\n",
       "⎣0  1  0  0⎦"
      ]
     },
     "execution_count": 33,
     "metadata": {},
     "output_type": "execute_result"
    }
   ],
   "source": [
    "CNOT_tc = troca_qubit_rho(CNOT_ct, 0, 1)\n",
    "CNOT_tc"
   ]
  },
  {
   "cell_type": "code",
   "execution_count": 14,
   "id": "3c1ed497",
   "metadata": {},
   "outputs": [],
   "source": [
    "# psi_ctrl(state, controlled_gate, control, target)\n",
    "# state = matrix state\n",
    "# control and targer --> both 0,1,...,(d-1)\n",
    "# controlled_gate need to be C_ct\n",
    "# if is C_tc the control (of function) change to target (of gate) and target (of function) change to control (of gate)"
   ]
  },
  {
   "cell_type": "code",
   "execution_count": 35,
   "id": "b56526eb",
   "metadata": {},
   "outputs": [
    {
     "name": "stdout",
     "output_type": "stream",
     "text": [
      "control = 0, target = 0\n"
     ]
    },
    {
     "data": {
      "image/png": "[encoded data removed]",
      "text/latex": [
       "$\\displaystyle c_{000} {\\left|000\\right\\rangle } + c_{001} {\\left|001\\right\\rangle } + c_{010} {\\left|010\\right\\rangle } + c_{011} {\\left|011\\right\\rangle } + c_{100} {\\left|100\\right\\rangle } + c_{101} {\\left|101\\right\\rangle } + c_{110} {\\left|110\\right\\rangle } + c_{111} {\\left|111\\right\\rangle }$"
      ],
      "text/plain": [
       "c₀₀₀⋅❘000⟩ + c₀₀₁⋅❘001⟩ + c₀₁₀⋅❘010⟩ + c₀₁₁⋅❘011⟩ + c₁₀₀⋅❘100⟩ + c₁₀₁⋅❘101⟩ + \n",
       "c₁₁₀⋅❘110⟩ + c₁₁₁⋅❘111⟩"
      ]
     },
     "metadata": {},
     "output_type": "display_data"
    },
    {
     "name": "stdout",
     "output_type": "stream",
     "text": [
      "control = 0, target = 1\n"
     ]
    },
    {
     "data": {
      "image/png": "[encoded data removed]",
      "text/latex": [
       "$\\displaystyle c_{000} {\\left|000\\right\\rangle } + c_{001} {\\left|001\\right\\rangle } + c_{010} {\\left|010\\right\\rangle } + c_{011} {\\left|011\\right\\rangle } + c_{100} {\\left|110\\right\\rangle } + c_{101} {\\left|111\\right\\rangle } + c_{110} {\\left|100\\right\\rangle } + c_{111} {\\left|101\\right\\rangle }$"
      ],
      "text/plain": [
       "c₀₀₀⋅❘000⟩ + c₀₀₁⋅❘001⟩ + c₀₁₀⋅❘010⟩ + c₀₁₁⋅❘011⟩ + c₁₀₀⋅❘110⟩ + c₁₀₁⋅❘111⟩ + \n",
       "c₁₁₀⋅❘100⟩ + c₁₁₁⋅❘101⟩"
      ]
     },
     "metadata": {},
     "output_type": "display_data"
    },
    {
     "name": "stdout",
     "output_type": "stream",
     "text": [
      "control = 0, target = 2\n"
     ]
    },
    {
     "data": {
      "image/png": "[encoded data removed]",
      "text/latex": [
       "$\\displaystyle c_{000} {\\left|000\\right\\rangle } + c_{001} {\\left|001\\right\\rangle } + c_{010} {\\left|010\\right\\rangle } + c_{011} {\\left|011\\right\\rangle } + c_{100} {\\left|101\\right\\rangle } + c_{101} {\\left|100\\right\\rangle } + c_{110} {\\left|111\\right\\rangle } + c_{111} {\\left|110\\right\\rangle }$"
      ],
      "text/plain": [
       "c₀₀₀⋅❘000⟩ + c₀₀₁⋅❘001⟩ + c₀₁₀⋅❘010⟩ + c₀₁₁⋅❘011⟩ + c₁₀₀⋅❘101⟩ + c₁₀₁⋅❘100⟩ + \n",
       "c₁₁₀⋅❘111⟩ + c₁₁₁⋅❘110⟩"
      ]
     },
     "metadata": {},
     "output_type": "display_data"
    },
    {
     "name": "stdout",
     "output_type": "stream",
     "text": [
      "control = 1, target = 0\n"
     ]
    },
    {
     "data": {
      "image/png": "[encoded data removed]",
      "text/latex": [
       "$\\displaystyle c_{000} {\\left|000\\right\\rangle } + c_{001} {\\left|001\\right\\rangle } + c_{010} {\\left|110\\right\\rangle } + c_{011} {\\left|111\\right\\rangle } + c_{100} {\\left|100\\right\\rangle } + c_{101} {\\left|101\\right\\rangle } + c_{110} {\\left|010\\right\\rangle } + c_{111} {\\left|011\\right\\rangle }$"
      ],
      "text/plain": [
       "c₀₀₀⋅❘000⟩ + c₀₀₁⋅❘001⟩ + c₀₁₀⋅❘110⟩ + c₀₁₁⋅❘111⟩ + c₁₀₀⋅❘100⟩ + c₁₀₁⋅❘101⟩ + \n",
       "c₁₁₀⋅❘010⟩ + c₁₁₁⋅❘011⟩"
      ]
     },
     "metadata": {},
     "output_type": "display_data"
    },
    {
     "name": "stdout",
     "output_type": "stream",
     "text": [
      "control = 1, target = 1\n"
     ]
    },
    {
     "data": {
      "image/png": "[encoded data removed]",
      "text/latex": [
       "$\\displaystyle c_{000} {\\left|000\\right\\rangle } + c_{001} {\\left|001\\right\\rangle } + c_{010} {\\left|010\\right\\rangle } + c_{011} {\\left|011\\right\\rangle } + c_{100} {\\left|100\\right\\rangle } + c_{101} {\\left|101\\right\\rangle } + c_{110} {\\left|110\\right\\rangle } + c_{111} {\\left|111\\right\\rangle }$"
      ],
      "text/plain": [
       "c₀₀₀⋅❘000⟩ + c₀₀₁⋅❘001⟩ + c₀₁₀⋅❘010⟩ + c₀₁₁⋅❘011⟩ + c₁₀₀⋅❘100⟩ + c₁₀₁⋅❘101⟩ + \n",
       "c₁₁₀⋅❘110⟩ + c₁₁₁⋅❘111⟩"
      ]
     },
     "metadata": {},
     "output_type": "display_data"
    },
    {
     "name": "stdout",
     "output_type": "stream",
     "text": [
      "control = 1, target = 2\n"
     ]
    },
    {
     "data": {
      "image/png": "[encoded data removed]",
      "text/latex": [
       "$\\displaystyle c_{000} {\\left|000\\right\\rangle } + c_{001} {\\left|001\\right\\rangle } + c_{010} {\\left|011\\right\\rangle } + c_{011} {\\left|010\\right\\rangle } + c_{100} {\\left|100\\right\\rangle } + c_{101} {\\left|101\\right\\rangle } + c_{110} {\\left|111\\right\\rangle } + c_{111} {\\left|110\\right\\rangle }$"
      ],
      "text/plain": [
       "c₀₀₀⋅❘000⟩ + c₀₀₁⋅❘001⟩ + c₀₁₀⋅❘011⟩ + c₀₁₁⋅❘010⟩ + c₁₀₀⋅❘100⟩ + c₁₀₁⋅❘101⟩ + \n",
       "c₁₁₀⋅❘111⟩ + c₁₁₁⋅❘110⟩"
      ]
     },
     "metadata": {},
     "output_type": "display_data"
    },
    {
     "name": "stdout",
     "output_type": "stream",
     "text": [
      "control = 2, target = 0\n"
     ]
    },
    {
     "data": {
      "image/png": "[encoded data removed]",
      "text/latex": [
       "$\\displaystyle c_{000} {\\left|000\\right\\rangle } + c_{001} {\\left|101\\right\\rangle } + c_{010} {\\left|010\\right\\rangle } + c_{011} {\\left|111\\right\\rangle } + c_{100} {\\left|100\\right\\rangle } + c_{101} {\\left|001\\right\\rangle } + c_{110} {\\left|110\\right\\rangle } + c_{111} {\\left|011\\right\\rangle }$"
      ],
      "text/plain": [
       "c₀₀₀⋅❘000⟩ + c₀₀₁⋅❘101⟩ + c₀₁₀⋅❘010⟩ + c₀₁₁⋅❘111⟩ + c₁₀₀⋅❘100⟩ + c₁₀₁⋅❘001⟩ + \n",
       "c₁₁₀⋅❘110⟩ + c₁₁₁⋅❘011⟩"
      ]
     },
     "metadata": {},
     "output_type": "display_data"
    },
    {
     "name": "stdout",
     "output_type": "stream",
     "text": [
      "control = 2, target = 1\n"
     ]
    },
    {
     "data": {
      "image/png": "[encoded data removed]",
      "text/latex": [
       "$\\displaystyle c_{000} {\\left|000\\right\\rangle } + c_{001} {\\left|011\\right\\rangle } + c_{010} {\\left|010\\right\\rangle } + c_{011} {\\left|001\\right\\rangle } + c_{100} {\\left|100\\right\\rangle } + c_{101} {\\left|111\\right\\rangle } + c_{110} {\\left|110\\right\\rangle } + c_{111} {\\left|101\\right\\rangle }$"
      ],
      "text/plain": [
       "c₀₀₀⋅❘000⟩ + c₀₀₁⋅❘011⟩ + c₀₁₀⋅❘010⟩ + c₀₁₁⋅❘001⟩ + c₁₀₀⋅❘100⟩ + c₁₀₁⋅❘111⟩ + \n",
       "c₁₁₀⋅❘110⟩ + c₁₁₁⋅❘101⟩"
      ]
     },
     "metadata": {},
     "output_type": "display_data"
    },
    {
     "name": "stdout",
     "output_type": "stream",
     "text": [
      "control = 2, target = 2\n"
     ]
    },
    {
     "data": {
      "image/png": "[encoded data removed]",
      "text/latex": [
       "$\\displaystyle c_{000} {\\left|000\\right\\rangle } + c_{001} {\\left|001\\right\\rangle } + c_{010} {\\left|010\\right\\rangle } + c_{011} {\\left|011\\right\\rangle } + c_{100} {\\left|100\\right\\rangle } + c_{101} {\\left|101\\right\\rangle } + c_{110} {\\left|110\\right\\rangle } + c_{111} {\\left|111\\right\\rangle }$"
      ],
      "text/plain": [
       "c₀₀₀⋅❘000⟩ + c₀₀₁⋅❘001⟩ + c₀₁₀⋅❘010⟩ + c₀₁₁⋅❘011⟩ + c₁₀₀⋅❘100⟩ + c₁₀₁⋅❘101⟩ + \n",
       "c₁₁₀⋅❘110⟩ + c₁₁₁⋅❘111⟩"
      ]
     },
     "metadata": {},
     "output_type": "display_data"
    }
   ],
   "source": [
    "for j,k in product(range(3), repeat=2):\n",
    "    target, control = j, k\n",
    "    print('control = {}, target = {}'. format(j,k))\n",
    "    display(mbk(psi_ctrl(psi, CNOT_tc, control, target)))"
   ]
  },
  {
   "cell_type": "markdown",
   "id": "a680e73e",
   "metadata": {},
   "source": [
    "OBS: in the previous situation the control and target are inverted, so in the function the control will be the target of the door and the target of the function will be the control of the door"
   ]
  },
  {
   "cell_type": "code",
   "execution_count": null,
   "id": "fd068284",
   "metadata": {},
   "outputs": [],
   "source": []
  }
 ],
 "metadata": {
  "kernelspec": {
   "display_name": "Python 3 (ipykernel)",
   "language": "python",
   "name": "python3"
  },
  "language_info": {
   "codemirror_mode": {
    "name": "ipython",
    "version": 3
   },
   "file_extension": ".py",
   "mimetype": "text/x-python",
   "name": "python",
   "nbconvert_exporter": "python",
   "pygments_lexer": "ipython3",
   "version": "3.9.13"
  }
 },
 "nbformat": 4,
 "nbformat_minor": 5
}
