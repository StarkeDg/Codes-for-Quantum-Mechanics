{
 "cells": [
  {
   "cell_type": "code",
   "execution_count": 2,
   "id": "93d4c9e8",
   "metadata": {},
   "outputs": [],
   "source": [
    "import sympy\n",
    "from sympy import *\n",
    "import sympy as sym\n",
    "from sympy.physics.quantum import TensorProduct as tp # produto tensorial\n",
    "import math\n",
    "from sympy.physics.quantum import Ket, Bra"
   ]
  },
  {
   "cell_type": "markdown",
   "id": "f757245b",
   "metadata": {},
   "source": [
    "# Funções auxiliares"
   ]
  },
  {
   "cell_type": "code",
   "execution_count": 200,
   "id": "df808264",
   "metadata": {},
   "outputs": [],
   "source": [
    "def tr(A):\n",
    "    '''retorna o traço de uma matriz'''\n",
    "    d = A.shape[0]\n",
    "    tr = 0\n",
    "    for j in range(0,d):\n",
    "        tr += A[j,j]\n",
    "    return tr"
   ]
  },
  {
   "cell_type": "code",
   "execution_count": 3,
   "id": "701e014f",
   "metadata": {},
   "outputs": [],
   "source": [
    "def cb(n,j):\n",
    "    '''retorna um vetor da base padrão de C^n'''\n",
    "    vec = zeros(n,1)\n",
    "    vec[j] = 1\n",
    "    return vec"
   ]
  },
  {
   "cell_type": "code",
   "execution_count": 4,
   "id": "ec5f4b00",
   "metadata": {},
   "outputs": [
    {
     "data": {
      "text/latex": [
       "$\\displaystyle \\left[\\begin{matrix}1\\\\0\\end{matrix}\\right]$"
      ],
      "text/plain": [
       "Matrix([\n",
       "[1],\n",
       "[0]])"
      ]
     },
     "metadata": {},
     "output_type": "display_data"
    },
    {
     "data": {
      "text/latex": [
       "$\\displaystyle \\left[\\begin{matrix}0\\\\1\\end{matrix}\\right]$"
      ],
      "text/plain": [
       "Matrix([\n",
       "[0],\n",
       "[1]])"
      ]
     },
     "metadata": {},
     "output_type": "display_data"
    }
   ],
   "source": [
    "display(cb(2,0), cb(2,1))"
   ]
  },
  {
   "cell_type": "code",
   "execution_count": 5,
   "id": "ee378752",
   "metadata": {},
   "outputs": [
    {
     "data": {
      "text/latex": [
       "$\\displaystyle \\left[\\begin{matrix}1\\\\0\\\\0\\end{matrix}\\right]$"
      ],
      "text/plain": [
       "Matrix([\n",
       "[1],\n",
       "[0],\n",
       "[0]])"
      ]
     },
     "metadata": {},
     "output_type": "display_data"
    },
    {
     "data": {
      "text/latex": [
       "$\\displaystyle \\left[\\begin{matrix}0\\\\1\\\\0\\end{matrix}\\right]$"
      ],
      "text/plain": [
       "Matrix([\n",
       "[0],\n",
       "[1],\n",
       "[0]])"
      ]
     },
     "metadata": {},
     "output_type": "display_data"
    }
   ],
   "source": [
    "display(cb(3,0), cb(3,1))"
   ]
  },
  {
   "cell_type": "code",
   "execution_count": 6,
   "id": "b4d80ecc",
   "metadata": {},
   "outputs": [],
   "source": [
    "def proj(psi): \n",
    "    '''retorna o projetor no vetor psi'''\n",
    "    d = psi.shape[0]\n",
    "    P = zeros(d,d)\n",
    "    for j in range(0,d):\n",
    "        for k in range(0,d):\n",
    "            P[j,k] = psi[j]*conjugate(psi[k])\n",
    "    return P"
   ]
  },
  {
   "cell_type": "code",
   "execution_count": 7,
   "id": "2dd0b809",
   "metadata": {},
   "outputs": [
    {
     "data": {
      "text/latex": [
       "$\\displaystyle \\left[\\begin{matrix}1 & 0\\\\0 & 0\\end{matrix}\\right]$"
      ],
      "text/plain": [
       "Matrix([\n",
       "[1, 0],\n",
       "[0, 0]])"
      ]
     },
     "metadata": {},
     "output_type": "display_data"
    },
    {
     "data": {
      "text/latex": [
       "$\\displaystyle \\left[\\begin{matrix}0 & 0\\\\0 & 1\\end{matrix}\\right]$"
      ],
      "text/plain": [
       "Matrix([\n",
       "[0, 0],\n",
       "[0, 1]])"
      ]
     },
     "metadata": {},
     "output_type": "display_data"
    }
   ],
   "source": [
    "display(proj(cb(2,0)),proj(cb(2,1)))"
   ]
  },
  {
   "cell_type": "code",
   "execution_count": 8,
   "id": "f82a2c6b",
   "metadata": {},
   "outputs": [],
   "source": [
    "def inner_product(v,w):\n",
    "    d = len(v); ip = 0\n",
    "    for j in range(0,d):\n",
    "        ip += conjugate(v[j])*w[j]\n",
    "    return ip"
   ]
  },
  {
   "cell_type": "code",
   "execution_count": 9,
   "id": "85a12bf2",
   "metadata": {},
   "outputs": [
    {
     "data": {
      "text/latex": [
       "$\\displaystyle c \\overline{b} + d \\overline{a}$"
      ],
      "text/plain": [
       "c*conjugate(b) + d*conjugate(a)"
      ]
     },
     "execution_count": 9,
     "metadata": {},
     "output_type": "execute_result"
    }
   ],
   "source": [
    "a,b,c,d = symbols(\"a b c d\"); v = [b,a]; w = [c,d]; inner_product(v,w)"
   ]
  },
  {
   "cell_type": "code",
   "execution_count": 10,
   "id": "d1dff576",
   "metadata": {},
   "outputs": [],
   "source": [
    "def ext_product(psi1, psi2): \n",
    "    '''retorna o projetor no vetor psi'''\n",
    "    d1 = psi1.shape[0]\n",
    "    d2 = psi2.shape[0]\n",
    "    P = zeros(d1,d2)\n",
    "    for j in range(0,d1):\n",
    "        for k in range(0,d2):\n",
    "            P[j,k] = psi1[j]*conjugate(psi2[k])\n",
    "    return P"
   ]
  },
  {
   "cell_type": "code",
   "execution_count": 11,
   "id": "7c32a848",
   "metadata": {},
   "outputs": [
    {
     "data": {
      "text/latex": [
       "$\\displaystyle \\left[\\begin{matrix}1 & 0\\\\0 & 0\\end{matrix}\\right]$"
      ],
      "text/plain": [
       "Matrix([\n",
       "[1, 0],\n",
       "[0, 0]])"
      ]
     },
     "metadata": {},
     "output_type": "display_data"
    },
    {
     "data": {
      "text/latex": [
       "$\\displaystyle \\left[\\begin{matrix}0 & 1\\\\0 & 0\\end{matrix}\\right]$"
      ],
      "text/plain": [
       "Matrix([\n",
       "[0, 1],\n",
       "[0, 0]])"
      ]
     },
     "metadata": {},
     "output_type": "display_data"
    },
    {
     "data": {
      "text/latex": [
       "$\\displaystyle \\left[\\begin{matrix}0 & 0\\\\1 & 0\\end{matrix}\\right]$"
      ],
      "text/plain": [
       "Matrix([\n",
       "[0, 0],\n",
       "[1, 0]])"
      ]
     },
     "metadata": {},
     "output_type": "display_data"
    },
    {
     "data": {
      "text/latex": [
       "$\\displaystyle \\left[\\begin{matrix}0 & 0\\\\0 & 1\\end{matrix}\\right]$"
      ],
      "text/plain": [
       "Matrix([\n",
       "[0, 0],\n",
       "[0, 1]])"
      ]
     },
     "metadata": {},
     "output_type": "display_data"
    }
   ],
   "source": [
    "display(ext_product(cb(2,0),cb(2,0)),ext_product(cb(2,0),cb(2,1)),ext_product(cb(2,1),cb(2,0)),ext_product(cb(2,1),cb(2,1)))"
   ]
  },
  {
   "cell_type": "code",
   "execution_count": 12,
   "id": "28470260",
   "metadata": {},
   "outputs": [],
   "source": [
    "def norm(v):\n",
    "    v = inner_product(v,v)\n",
    "    return sqrt(v)"
   ]
  },
  {
   "cell_type": "code",
   "execution_count": 13,
   "id": "6990dc9d",
   "metadata": {},
   "outputs": [
    {
     "data": {
      "text/latex": [
       "$\\displaystyle 2 \\sqrt{2}$"
      ],
      "text/plain": [
       "2*sqrt(2)"
      ]
     },
     "execution_count": 13,
     "metadata": {},
     "output_type": "execute_result"
    }
   ],
   "source": [
    "v = [2,2]; norm(v)"
   ]
  },
  {
   "cell_type": "code",
   "execution_count": 14,
   "id": "984c9c0e",
   "metadata": {},
   "outputs": [],
   "source": [
    "# Outside these functions, initialize: rhos = zeros(ds,ds), s=A,B\n",
    "#\n",
    "# da = dim de A\n",
    "# db = dim de B\n",
    "#\n",
    "# rho_AB\n",
    "#\n",
    "# rho_B = Tr_A (rho_AB)\n",
    "#\n",
    "def ptraceA(da, db, rho):\n",
    "    rhoB = zeros(db,db)\n",
    "    for j in range(0, db):\n",
    "        for k in range(0, db):\n",
    "            for l in range(0, da):\n",
    "                rhoB[j,k] += rho[l*db+j,l*db+k]\n",
    "    return rhoB\n",
    "#\n",
    "# rho_A = Tr_B (rho_AB)\n",
    "#\n",
    "def ptraceB(da, db, rho):\n",
    "    rhoA = zeros(da,da)\n",
    "    for j in range(0, da):\n",
    "        for k in range(0, da):\n",
    "            for l in range(0, db):\n",
    "                rhoA[j,k] += rho[j*db+l,k*db+l]\n",
    "    return rhoA"
   ]
  },
  {
   "cell_type": "markdown",
   "id": "85a5f9fb",
   "metadata": {},
   "source": [
    "# Criando um rho genérico de $n$ níveis"
   ]
  },
  {
   "cell_type": "code",
   "execution_count": 168,
   "id": "adf192b1",
   "metadata": {},
   "outputs": [],
   "source": [
    "# Retorna um rho genérico simbólico com índices na forma binária\n",
    "# matriz quadrada\n",
    "# n = dimensão da coluna\n",
    "def rho_bin(n):\n",
    "    rho = [sympy.symbols('rho_{}'.format(format(i, '0{}b'.format(int(math.ceil(log(n**2, 2))))))) for i in range(n**2)]\n",
    "    A = zeros(n,n)\n",
    "    l = 0\n",
    "    for j in range(0,n):\n",
    "        for k in range(0,n):\n",
    "                A[j,k] = rho[l]\n",
    "                l += 1\n",
    "    return A\n",
    "# rho = rho_bin(16); rho"
   ]
  },
  {
   "cell_type": "code",
   "execution_count": 167,
   "id": "064cd5c6",
   "metadata": {},
   "outputs": [],
   "source": [
    "# Retorna um rho genérico simbólico\n",
    "# n = dimensão da coluna\n",
    "# Retorna um rho genérico simbólico\n",
    "# matriz quadrada\n",
    "# n = quantidade de níveis\n",
    "# symbol: 0 ou outro valor = \\rho, 1 = \\sigma\n",
    "def rho_g(n, symbol):\n",
    "    num_digits = len(str(n**2 - 1))\n",
    "    A = zeros(n,n)\n",
    "    l = 0\n",
    "    if symbol == 1:\n",
    "        rho = sympy.symbols(['sigma{:0{}}'.format(i, num_digits) for i in range(n**2)])\n",
    "        for j in range(0,n):\n",
    "            for k in range(0,n):\n",
    "                    A[j,k] = rho[l]\n",
    "                    l += 1\n",
    "    else: \n",
    "        rho = sympy.symbols(['rho_{:0{}}'.format(i, num_digits) for i in range(n**2)])\n",
    "        for j in range(0,n):\n",
    "            for k in range(0,n):\n",
    "                    A[j,k] = rho[l]\n",
    "                    l += 1\n",
    "    return A"
   ]
  },
  {
   "cell_type": "code",
   "execution_count": 79,
   "id": "8c793bea",
   "metadata": {},
   "outputs": [
    {
     "data": {
      "text/latex": [
       "$\\displaystyle \\left[\\begin{matrix}\\rho_{00} & \\rho_{01} & \\rho_{02} & \\rho_{03}\\\\\\rho_{04} & \\rho_{05} & \\rho_{06} & \\rho_{07}\\\\\\rho_{08} & \\rho_{09} & \\rho_{10} & \\rho_{11}\\\\\\rho_{12} & \\rho_{13} & \\rho_{14} & \\rho_{15}\\end{matrix}\\right]$"
      ],
      "text/plain": [
       "Matrix([\n",
       "[rho_00, rho_01, rho_02, rho_03],\n",
       "[rho_04, rho_05, rho_06, rho_07],\n",
       "[rho_08, rho_09, rho_10, rho_11],\n",
       "[rho_12, rho_13, rho_14, rho_15]])"
      ]
     },
     "execution_count": 79,
     "metadata": {},
     "output_type": "execute_result"
    }
   ],
   "source": [
    "m1 = rho_g(4,0)\n",
    "m1"
   ]
  },
  {
   "cell_type": "code",
   "execution_count": 80,
   "id": "c4919262",
   "metadata": {},
   "outputs": [
    {
     "data": {
      "text/latex": [
       "$\\displaystyle \\left[\\begin{matrix}\\sigma_{00} & \\sigma_{01} & \\sigma_{02} & \\sigma_{03}\\\\\\sigma_{04} & \\sigma_{05} & \\sigma_{06} & \\sigma_{07}\\\\\\sigma_{08} & \\sigma_{09} & \\sigma_{10} & \\sigma_{11}\\\\\\sigma_{12} & \\sigma_{13} & \\sigma_{14} & \\sigma_{15}\\end{matrix}\\right]$"
      ],
      "text/plain": [
       "Matrix([\n",
       "[sigma00, sigma01, sigma02, sigma03],\n",
       "[sigma04, sigma05, sigma06, sigma07],\n",
       "[sigma08, sigma09, sigma10, sigma11],\n",
       "[sigma12, sigma13, sigma14, sigma15]])"
      ]
     },
     "execution_count": 80,
     "metadata": {},
     "output_type": "execute_result"
    }
   ],
   "source": [
    "m2 = rho_g(4, 1)\n",
    "m2"
   ]
  },
  {
   "cell_type": "code",
   "execution_count": 83,
   "id": "9f45cd67",
   "metadata": {},
   "outputs": [
    {
     "data": {
      "text/latex": [
       "$\\displaystyle \\left[\\begin{matrix}\\rho_{00} \\sigma_{00} + \\rho_{01} \\sigma_{04} + \\rho_{02} \\sigma_{08} + \\rho_{03} \\sigma_{12} & \\rho_{00} \\sigma_{01} + \\rho_{01} \\sigma_{05} + \\rho_{02} \\sigma_{09} + \\rho_{03} \\sigma_{13} & \\rho_{00} \\sigma_{02} + \\rho_{01} \\sigma_{06} + \\rho_{02} \\sigma_{10} + \\rho_{03} \\sigma_{14} & \\rho_{00} \\sigma_{03} + \\rho_{01} \\sigma_{07} + \\rho_{02} \\sigma_{11} + \\rho_{03} \\sigma_{15}\\\\\\rho_{04} \\sigma_{00} + \\rho_{05} \\sigma_{04} + \\rho_{06} \\sigma_{08} + \\rho_{07} \\sigma_{12} & \\rho_{04} \\sigma_{01} + \\rho_{05} \\sigma_{05} + \\rho_{06} \\sigma_{09} + \\rho_{07} \\sigma_{13} & \\rho_{04} \\sigma_{02} + \\rho_{05} \\sigma_{06} + \\rho_{06} \\sigma_{10} + \\rho_{07} \\sigma_{14} & \\rho_{04} \\sigma_{03} + \\rho_{05} \\sigma_{07} + \\rho_{06} \\sigma_{11} + \\rho_{07} \\sigma_{15}\\\\\\rho_{08} \\sigma_{00} + \\rho_{09} \\sigma_{04} + \\rho_{10} \\sigma_{08} + \\rho_{11} \\sigma_{12} & \\rho_{08} \\sigma_{01} + \\rho_{09} \\sigma_{05} + \\rho_{10} \\sigma_{09} + \\rho_{11} \\sigma_{13} & \\rho_{08} \\sigma_{02} + \\rho_{09} \\sigma_{06} + \\rho_{10} \\sigma_{10} + \\rho_{11} \\sigma_{14} & \\rho_{08} \\sigma_{03} + \\rho_{09} \\sigma_{07} + \\rho_{10} \\sigma_{11} + \\rho_{11} \\sigma_{15}\\\\\\rho_{12} \\sigma_{00} + \\rho_{13} \\sigma_{04} + \\rho_{14} \\sigma_{08} + \\rho_{15} \\sigma_{12} & \\rho_{12} \\sigma_{01} + \\rho_{13} \\sigma_{05} + \\rho_{14} \\sigma_{09} + \\rho_{15} \\sigma_{13} & \\rho_{12} \\sigma_{02} + \\rho_{13} \\sigma_{06} + \\rho_{14} \\sigma_{10} + \\rho_{15} \\sigma_{14} & \\rho_{12} \\sigma_{03} + \\rho_{13} \\sigma_{07} + \\rho_{14} \\sigma_{11} + \\rho_{15} \\sigma_{15}\\end{matrix}\\right]$"
      ],
      "text/plain": [
       "Matrix([\n",
       "[rho_00*sigma00 + rho_01*sigma04 + rho_02*sigma08 + rho_03*sigma12, rho_00*sigma01 + rho_01*sigma05 + rho_02*sigma09 + rho_03*sigma13, rho_00*sigma02 + rho_01*sigma06 + rho_02*sigma10 + rho_03*sigma14, rho_00*sigma03 + rho_01*sigma07 + rho_02*sigma11 + rho_03*sigma15],\n",
       "[rho_04*sigma00 + rho_05*sigma04 + rho_06*sigma08 + rho_07*sigma12, rho_04*sigma01 + rho_05*sigma05 + rho_06*sigma09 + rho_07*sigma13, rho_04*sigma02 + rho_05*sigma06 + rho_06*sigma10 + rho_07*sigma14, rho_04*sigma03 + rho_05*sigma07 + rho_06*sigma11 + rho_07*sigma15],\n",
       "[rho_08*sigma00 + rho_09*sigma04 + rho_10*sigma08 + rho_11*sigma12, rho_08*sigma01 + rho_09*sigma05 + rho_10*sigma09 + rho_11*sigma13, rho_08*sigma02 + rho_09*sigma06 + rho_10*sigma10 + rho_11*sigma14, rho_08*sigma03 + rho_09*sigma07 + rho_10*sigma11 + rho_11*sigma15],\n",
       "[rho_12*sigma00 + rho_13*sigma04 + rho_14*sigma08 + rho_15*sigma12, rho_12*sigma01 + rho_13*sigma05 + rho_14*sigma09 + rho_15*sigma13, rho_12*sigma02 + rho_13*sigma06 + rho_14*sigma10 + rho_15*sigma14, rho_12*sigma03 + rho_13*sigma07 + rho_14*sigma11 + rho_15*sigma15]])"
      ]
     },
     "execution_count": 83,
     "metadata": {},
     "output_type": "execute_result"
    }
   ],
   "source": [
    "m = m1*m2\n",
    "m"
   ]
  },
  {
   "cell_type": "code",
   "execution_count": 84,
   "id": "b22b2809",
   "metadata": {},
   "outputs": [
    {
     "data": {
      "text/latex": [
       "$\\displaystyle \\left[\\begin{matrix}\\rho_{00} \\sigma_{00} + \\rho_{04} \\sigma_{01} + \\rho_{08} \\sigma_{02} + \\rho_{12} \\sigma_{03} & \\rho_{01} \\sigma_{00} + \\rho_{05} \\sigma_{01} + \\rho_{09} \\sigma_{02} + \\rho_{13} \\sigma_{03} & \\rho_{02} \\sigma_{00} + \\rho_{06} \\sigma_{01} + \\rho_{10} \\sigma_{02} + \\rho_{14} \\sigma_{03} & \\rho_{03} \\sigma_{00} + \\rho_{07} \\sigma_{01} + \\rho_{11} \\sigma_{02} + \\rho_{15} \\sigma_{03}\\\\\\rho_{00} \\sigma_{04} + \\rho_{04} \\sigma_{05} + \\rho_{08} \\sigma_{06} + \\rho_{12} \\sigma_{07} & \\rho_{01} \\sigma_{04} + \\rho_{05} \\sigma_{05} + \\rho_{09} \\sigma_{06} + \\rho_{13} \\sigma_{07} & \\rho_{02} \\sigma_{04} + \\rho_{06} \\sigma_{05} + \\rho_{10} \\sigma_{06} + \\rho_{14} \\sigma_{07} & \\rho_{03} \\sigma_{04} + \\rho_{07} \\sigma_{05} + \\rho_{11} \\sigma_{06} + \\rho_{15} \\sigma_{07}\\\\\\rho_{00} \\sigma_{08} + \\rho_{04} \\sigma_{09} + \\rho_{08} \\sigma_{10} + \\rho_{12} \\sigma_{11} & \\rho_{01} \\sigma_{08} + \\rho_{05} \\sigma_{09} + \\rho_{09} \\sigma_{10} + \\rho_{13} \\sigma_{11} & \\rho_{02} \\sigma_{08} + \\rho_{06} \\sigma_{09} + \\rho_{10} \\sigma_{10} + \\rho_{14} \\sigma_{11} & \\rho_{03} \\sigma_{08} + \\rho_{07} \\sigma_{09} + \\rho_{11} \\sigma_{10} + \\rho_{15} \\sigma_{11}\\\\\\rho_{00} \\sigma_{12} + \\rho_{04} \\sigma_{13} + \\rho_{08} \\sigma_{14} + \\rho_{12} \\sigma_{15} & \\rho_{01} \\sigma_{12} + \\rho_{05} \\sigma_{13} + \\rho_{09} \\sigma_{14} + \\rho_{13} \\sigma_{15} & \\rho_{02} \\sigma_{12} + \\rho_{06} \\sigma_{13} + \\rho_{10} \\sigma_{14} + \\rho_{14} \\sigma_{15} & \\rho_{03} \\sigma_{12} + \\rho_{07} \\sigma_{13} + \\rho_{11} \\sigma_{14} + \\rho_{15} \\sigma_{15}\\end{matrix}\\right]$"
      ],
      "text/plain": [
       "Matrix([\n",
       "[rho_00*sigma00 + rho_04*sigma01 + rho_08*sigma02 + rho_12*sigma03, rho_01*sigma00 + rho_05*sigma01 + rho_09*sigma02 + rho_13*sigma03, rho_02*sigma00 + rho_06*sigma01 + rho_10*sigma02 + rho_14*sigma03, rho_03*sigma00 + rho_07*sigma01 + rho_11*sigma02 + rho_15*sigma03],\n",
       "[rho_00*sigma04 + rho_04*sigma05 + rho_08*sigma06 + rho_12*sigma07, rho_01*sigma04 + rho_05*sigma05 + rho_09*sigma06 + rho_13*sigma07, rho_02*sigma04 + rho_06*sigma05 + rho_10*sigma06 + rho_14*sigma07, rho_03*sigma04 + rho_07*sigma05 + rho_11*sigma06 + rho_15*sigma07],\n",
       "[rho_00*sigma08 + rho_04*sigma09 + rho_08*sigma10 + rho_12*sigma11, rho_01*sigma08 + rho_05*sigma09 + rho_09*sigma10 + rho_13*sigma11, rho_02*sigma08 + rho_06*sigma09 + rho_10*sigma10 + rho_14*sigma11, rho_03*sigma08 + rho_07*sigma09 + rho_11*sigma10 + rho_15*sigma11],\n",
       "[rho_00*sigma12 + rho_04*sigma13 + rho_08*sigma14 + rho_12*sigma15, rho_01*sigma12 + rho_05*sigma13 + rho_09*sigma14 + rho_13*sigma15, rho_02*sigma12 + rho_06*sigma13 + rho_10*sigma14 + rho_14*sigma15, rho_03*sigma12 + rho_07*sigma13 + rho_11*sigma14 + rho_15*sigma15]])"
      ]
     },
     "execution_count": 84,
     "metadata": {},
     "output_type": "execute_result"
    }
   ],
   "source": [
    "m = m2*m1\n",
    "m"
   ]
  },
  {
   "cell_type": "code",
   "execution_count": 82,
   "id": "205b1de0",
   "metadata": {},
   "outputs": [
    {
     "data": {
      "text/latex": [
       "$\\displaystyle \\rho_{00} \\sigma_{00} + \\rho_{01} \\sigma_{04} + \\rho_{02} \\sigma_{08} + \\rho_{03} \\sigma_{12} + \\rho_{04} \\sigma_{01} + \\rho_{05} \\sigma_{05} + \\rho_{06} \\sigma_{09} + \\rho_{07} \\sigma_{13} + \\rho_{08} \\sigma_{02} + \\rho_{09} \\sigma_{06} + \\rho_{10} \\sigma_{10} + \\rho_{11} \\sigma_{14} + \\rho_{12} \\sigma_{03} + \\rho_{13} \\sigma_{07} + \\rho_{14} \\sigma_{11} + \\rho_{15} \\sigma_{15}$"
      ],
      "text/plain": [
       "rho_00*sigma00 + rho_01*sigma04 + rho_02*sigma08 + rho_03*sigma12 + rho_04*sigma01 + rho_05*sigma05 + rho_06*sigma09 + rho_07*sigma13 + rho_08*sigma02 + rho_09*sigma06 + rho_10*sigma10 + rho_11*sigma14 + rho_12*sigma03 + rho_13*sigma07 + rho_14*sigma11 + rho_15*sigma15"
      ]
     },
     "execution_count": 82,
     "metadata": {},
     "output_type": "execute_result"
    }
   ],
   "source": [
    "trace(m)"
   ]
  },
  {
   "cell_type": "code",
   "execution_count": 32,
   "id": "ae46fbcc",
   "metadata": {
    "scrolled": false,
    "tags": []
   },
   "outputs": [
    {
     "data": {
      "text/latex": [
       "$\\displaystyle \\left[\\begin{array}{ccccccccccc}\\rho_{000} & \\rho_{001} & \\rho_{002} & \\rho_{003} & \\rho_{004} & \\rho_{005} & \\rho_{006} & \\rho_{007} & \\rho_{008} & \\rho_{009} & \\rho_{010}\\\\\\rho_{011} & \\rho_{012} & \\rho_{013} & \\rho_{014} & \\rho_{015} & \\rho_{016} & \\rho_{017} & \\rho_{018} & \\rho_{019} & \\rho_{020} & \\rho_{021}\\\\\\rho_{022} & \\rho_{023} & \\rho_{024} & \\rho_{025} & \\rho_{026} & \\rho_{027} & \\rho_{028} & \\rho_{029} & \\rho_{030} & \\rho_{031} & \\rho_{032}\\\\\\rho_{033} & \\rho_{034} & \\rho_{035} & \\rho_{036} & \\rho_{037} & \\rho_{038} & \\rho_{039} & \\rho_{040} & \\rho_{041} & \\rho_{042} & \\rho_{043}\\\\\\rho_{044} & \\rho_{045} & \\rho_{046} & \\rho_{047} & \\rho_{048} & \\rho_{049} & \\rho_{050} & \\rho_{051} & \\rho_{052} & \\rho_{053} & \\rho_{054}\\\\\\rho_{055} & \\rho_{056} & \\rho_{057} & \\rho_{058} & \\rho_{059} & \\rho_{060} & \\rho_{061} & \\rho_{062} & \\rho_{063} & \\rho_{064} & \\rho_{065}\\\\\\rho_{066} & \\rho_{067} & \\rho_{068} & \\rho_{069} & \\rho_{070} & \\rho_{071} & \\rho_{072} & \\rho_{073} & \\rho_{074} & \\rho_{075} & \\rho_{076}\\\\\\rho_{077} & \\rho_{078} & \\rho_{079} & \\rho_{080} & \\rho_{081} & \\rho_{082} & \\rho_{083} & \\rho_{084} & \\rho_{085} & \\rho_{086} & \\rho_{087}\\\\\\rho_{088} & \\rho_{089} & \\rho_{090} & \\rho_{091} & \\rho_{092} & \\rho_{093} & \\rho_{094} & \\rho_{095} & \\rho_{096} & \\rho_{097} & \\rho_{098}\\\\\\rho_{099} & \\rho_{100} & \\rho_{101} & \\rho_{102} & \\rho_{103} & \\rho_{104} & \\rho_{105} & \\rho_{106} & \\rho_{107} & \\rho_{108} & \\rho_{109}\\\\\\rho_{110} & \\rho_{111} & \\rho_{112} & \\rho_{113} & \\rho_{114} & \\rho_{115} & \\rho_{116} & \\rho_{117} & \\rho_{118} & \\rho_{119} & \\rho_{120}\\end{array}\\right]$"
      ],
      "text/plain": [
       "Matrix([\n",
       "[rho_000, rho_001, rho_002, rho_003, rho_004, rho_005, rho_006, rho_007, rho_008, rho_009, rho_010],\n",
       "[rho_011, rho_012, rho_013, rho_014, rho_015, rho_016, rho_017, rho_018, rho_019, rho_020, rho_021],\n",
       "[rho_022, rho_023, rho_024, rho_025, rho_026, rho_027, rho_028, rho_029, rho_030, rho_031, rho_032],\n",
       "[rho_033, rho_034, rho_035, rho_036, rho_037, rho_038, rho_039, rho_040, rho_041, rho_042, rho_043],\n",
       "[rho_044, rho_045, rho_046, rho_047, rho_048, rho_049, rho_050, rho_051, rho_052, rho_053, rho_054],\n",
       "[rho_055, rho_056, rho_057, rho_058, rho_059, rho_060, rho_061, rho_062, rho_063, rho_064, rho_065],\n",
       "[rho_066, rho_067, rho_068, rho_069, rho_070, rho_071, rho_072, rho_073, rho_074, rho_075, rho_076],\n",
       "[rho_077, rho_078, rho_079, rho_080, rho_081, rho_082, rho_083, rho_084, rho_085, rho_086, rho_087],\n",
       "[rho_088, rho_089, rho_090, rho_091, rho_092, rho_093, rho_094, rho_095, rho_096, rho_097, rho_098],\n",
       "[rho_099, rho_100, rho_101, rho_102, rho_103, rho_104, rho_105, rho_106, rho_107, rho_108, rho_109],\n",
       "[rho_110, rho_111, rho_112, rho_113, rho_114, rho_115, rho_116, rho_117, rho_118, rho_119, rho_120]])"
      ]
     },
     "execution_count": 32,
     "metadata": {},
     "output_type": "execute_result"
    }
   ],
   "source": [
    "rho_0 = rho_g(11); rho_0"
   ]
  },
  {
   "cell_type": "code",
   "execution_count": 34,
   "id": "3eda892e",
   "metadata": {},
   "outputs": [
    {
     "data": {
      "text/latex": [
       "$\\displaystyle \\rho_{000} + \\rho_{012} + \\rho_{024} + \\rho_{036} + \\rho_{048} + \\rho_{060} + \\rho_{072} + \\rho_{084} + \\rho_{096} + \\rho_{108} + \\rho_{120}$"
      ],
      "text/plain": [
       "rho_000 + rho_012 + rho_024 + rho_036 + rho_048 + rho_060 + rho_072 + rho_084 + rho_096 + rho_108 + rho_120"
      ]
     },
     "execution_count": 34,
     "metadata": {},
     "output_type": "execute_result"
    }
   ],
   "source": [
    "trace(rho_0)"
   ]
  },
  {
   "cell_type": "code",
   "execution_count": 58,
   "id": "b4d2dbf5",
   "metadata": {
    "scrolled": true,
    "tags": []
   },
   "outputs": [
    {
     "data": {
      "text/latex": [
       "$\\displaystyle \\left[\\begin{matrix}\\rho_{00} & \\rho_{01} & \\rho_{02} & \\rho_{03}\\\\\\rho_{04} & \\rho_{05} & \\rho_{06} & \\rho_{07}\\\\\\rho_{08} & \\rho_{09} & \\rho_{10} & \\rho_{11}\\\\\\rho_{12} & \\rho_{13} & \\rho_{14} & \\rho_{15}\\end{matrix}\\right]$"
      ],
      "text/plain": [
       "Matrix([\n",
       "[rho_00, rho_01, rho_02, rho_03],\n",
       "[rho_04, rho_05, rho_06, rho_07],\n",
       "[rho_08, rho_09, rho_10, rho_11],\n",
       "[rho_12, rho_13, rho_14, rho_15]])"
      ]
     },
     "execution_count": 58,
     "metadata": {},
     "output_type": "execute_result"
    }
   ],
   "source": [
    "rho_0 = rho_g(4); rho_0"
   ]
  },
  {
   "cell_type": "markdown",
   "id": "0c787d53",
   "metadata": {},
   "source": [
    "# Função que retorna os elementos do vetor de estado ou rho na notação de braket"
   ]
  },
  {
   "cell_type": "code",
   "execution_count": 150,
   "id": "e8d91be9",
   "metadata": {},
   "outputs": [],
   "source": [
    "# Mandar sequência em binário {0,1}\n",
    "def psi_ket(seq):\n",
    "    vec = []\n",
    "    for digito in seq:\n",
    "        vec.append(int(digito))\n",
    "    n = len(vec)\n",
    "    psi = cb(2, vec[0])\n",
    "    for j in range(1,n):\n",
    "        psi = tp(psi,cb(2, vec[j]))\n",
    "    return psi\n",
    "#psi_ket('00110')"
   ]
  },
  {
   "cell_type": "code",
   "execution_count": 151,
   "id": "2ea80907",
   "metadata": {},
   "outputs": [],
   "source": [
    "# Mandar sequência em binário {0,1}\n",
    "def psi_bra(seq):\n",
    "    vec = []\n",
    "    for digito in seq:\n",
    "        vec.append(int(digito))\n",
    "    n = len(vec)\n",
    "    psi = cb(2, vec[0])\n",
    "    for j in range(1,n):\n",
    "        psi = tp(psi,cb(2, vec[j]))\n",
    "    return transpose(psi).as_mutable()\n",
    "#psi_ket('00110')"
   ]
  },
  {
   "cell_type": "code",
   "execution_count": 152,
   "id": "3869a88c",
   "metadata": {},
   "outputs": [],
   "source": [
    "# Mandar a sequência na dimensão seq (cada dígito --> d-1)\n",
    "# Exemplo: dim=4, seq = '2023'\n",
    "def psi_ket_g(dim, seq):\n",
    "    vec = []\n",
    "    for digito in seq:\n",
    "        vec.append(int(digito))\n",
    "    n = len(vec)\n",
    "    psi = cb(dim, vec[0])\n",
    "    for j in range(n-1):\n",
    "        psi = tp(psi,cb(dim, vec[j+1]))\n",
    "    return psi\n",
    "# psi_ket_g(4, '2023')"
   ]
  },
  {
   "cell_type": "code",
   "execution_count": 153,
   "id": "10e849d8",
   "metadata": {},
   "outputs": [],
   "source": [
    "# Retorna Psi ou rho na notação ketbra\n",
    "# Mandou Psi - retorna Psi\n",
    "# Mandou rho - retorna rho\n",
    "def m_braket(matrix):\n",
    "    posicoes = []\n",
    "    posicoes_bin = []\n",
    "    val = []\n",
    "    if isinstance(matrix, sympy.matrices.dense.MutableDenseMatrix):\n",
    "        n_linhas, n_colunas = matrix.shape\n",
    "        if n_linhas == 1:\n",
    "            Psi = 0\n",
    "            x = len(matrix)\n",
    "            for i in range(x):\n",
    "                if matrix[i] != 0:\n",
    "                    val.append(matrix[i])\n",
    "                    posicoes.append(i)\n",
    "                    posicoes_bin.append(format(i, f'0{int(math.log(x)/math.log(2))}b'))\n",
    "            for i in range(len(val)):\n",
    "                Psi = val[i] * Bra(posicoes_bin[i]) + Psi\n",
    "            return Psi\n",
    "        if n_colunas == 1:\n",
    "            Psi = 0\n",
    "            x = len(matrix)\n",
    "            for i in range(x):\n",
    "                if matrix[i] != 0:\n",
    "                    val.append(matrix[i])\n",
    "                    posicoes.append(i)\n",
    "                    posicoes_bin.append(format(i, f'0{int(math.log(x)/math.log(2))}b'))\n",
    "            for i in range(len(val)):\n",
    "                Psi = val[i] * Ket(posicoes_bin[i]) + Psi\n",
    "            return Psi\n",
    "        else:\n",
    "            m, n = matrix.shape\n",
    "            rho = 0\n",
    "            for i in range(m):\n",
    "                for j in range(n):\n",
    "                    if matrix[i, j] != 0:\n",
    "                        val.append(matrix[i, j])\n",
    "                        posicoes.append((i, j))\n",
    "                        posicoes_bin.append((format(i, f'0{int(math.log(m)/math.log(2))}b'),\n",
    "                                            format(j, f'0{int(math.log(n)/math.log(2))}b')))\n",
    "            for i in range(len(val)):\n",
    "                rho = val[i] * (Ket(posicoes_bin[i][0])) * (Bra(posicoes_bin[i][1])) + rho\n",
    "            return rho"
   ]
  },
  {
   "cell_type": "code",
   "execution_count": 154,
   "id": "25255def",
   "metadata": {},
   "outputs": [
    {
     "data": {
      "text/latex": [
       "$\\displaystyle \\rho_{00} {\\left|00\\right\\rangle } {\\left\\langle 00\\right|} + \\rho_{01} {\\left|00\\right\\rangle } {\\left\\langle 01\\right|} + \\rho_{02} {\\left|00\\right\\rangle } {\\left\\langle 10\\right|} + \\rho_{03} {\\left|00\\right\\rangle } {\\left\\langle 11\\right|} + \\rho_{04} {\\left|00\\right\\rangle } {\\left\\langle 100\\right|} + \\rho_{05} {\\left|01\\right\\rangle } {\\left\\langle 00\\right|} + \\rho_{06} {\\left|01\\right\\rangle } {\\left\\langle 01\\right|} + \\rho_{07} {\\left|01\\right\\rangle } {\\left\\langle 10\\right|} + \\rho_{08} {\\left|01\\right\\rangle } {\\left\\langle 11\\right|} + \\rho_{09} {\\left|01\\right\\rangle } {\\left\\langle 100\\right|} + \\rho_{10} {\\left|10\\right\\rangle } {\\left\\langle 00\\right|} + \\rho_{11} {\\left|10\\right\\rangle } {\\left\\langle 01\\right|} + \\rho_{12} {\\left|10\\right\\rangle } {\\left\\langle 10\\right|} + \\rho_{13} {\\left|10\\right\\rangle } {\\left\\langle 11\\right|} + \\rho_{14} {\\left|10\\right\\rangle } {\\left\\langle 100\\right|} + \\rho_{15} {\\left|11\\right\\rangle } {\\left\\langle 00\\right|} + \\rho_{16} {\\left|11\\right\\rangle } {\\left\\langle 01\\right|} + \\rho_{17} {\\left|11\\right\\rangle } {\\left\\langle 10\\right|} + \\rho_{18} {\\left|11\\right\\rangle } {\\left\\langle 11\\right|} + \\rho_{19} {\\left|11\\right\\rangle } {\\left\\langle 100\\right|} + \\rho_{20} {\\left|100\\right\\rangle } {\\left\\langle 00\\right|} + \\rho_{21} {\\left|100\\right\\rangle } {\\left\\langle 01\\right|} + \\rho_{22} {\\left|100\\right\\rangle } {\\left\\langle 10\\right|} + \\rho_{23} {\\left|100\\right\\rangle } {\\left\\langle 11\\right|} + \\rho_{24} {\\left|100\\right\\rangle } {\\left\\langle 100\\right|}$"
      ],
      "text/plain": [
       "rho_00*|00>*<00| + rho_01*|00>*<01| + rho_02*|00>*<10| + rho_03*|00>*<11| + rho_04*|00>*<100| + rho_05*|01>*<00| + rho_06*|01>*<01| + rho_07*|01>*<10| + rho_08*|01>*<11| + rho_09*|01>*<100| + rho_10*|10>*<00| + rho_11*|10>*<01| + rho_12*|10>*<10| + rho_13*|10>*<11| + rho_14*|10>*<100| + rho_15*|11>*<00| + rho_16*|11>*<01| + rho_17*|11>*<10| + rho_18*|11>*<11| + rho_19*|11>*<100| + rho_20*|100>*<00| + rho_21*|100>*<01| + rho_22*|100>*<10| + rho_23*|100>*<11| + rho_24*|100>*<100|"
      ]
     },
     "execution_count": 154,
     "metadata": {},
     "output_type": "execute_result"
    }
   ],
   "source": [
    "m_braket(rho_0)"
   ]
  },
  {
   "cell_type": "code",
   "execution_count": 194,
   "id": "5736d94b",
   "metadata": {},
   "outputs": [],
   "source": [
    "# Retorna Psi ou rho na notação ketbra\n",
    "# Mandou Psi - retorna Psi\n",
    "# Mandou rho - retorna rho\n",
    "def m_braket_g(base, matrix):\n",
    "    def convert_base(x, base, min_digits):\n",
    "        digits = '0123456789ABCDEFGHIJKLMNOPQRSTUVWXYZ'[:base]\n",
    "        result = ''\n",
    "        while x > 0 or len(result) < min_digits:\n",
    "            x, digit = divmod(x, base)\n",
    "            result = digits[digit] + result\n",
    "        return result\n",
    "    posicoes = []\n",
    "    posicoes_bin = []\n",
    "    val = []\n",
    "    if isinstance(matrix, sympy.matrices.dense.MutableDenseMatrix):\n",
    "        n_linhas, n_colunas = matrix.shape\n",
    "        if n_linhas == 1:\n",
    "            Psi = 0\n",
    "            x = len(matrix)\n",
    "            for i in range(x):\n",
    "                if matrix[i] != 0:\n",
    "                    val.append(matrix[i])\n",
    "                    posicoes.append(i)\n",
    "                    posicoes_bin.append(convert_base(i, base, int(math.ceil(math.log(x)/math.log(base)))))\n",
    "            for i in range(len(val)):\n",
    "                Psi = val[i] * Bra(posicoes_bin[i]) + Psi\n",
    "            return simplify(Psi)\n",
    "        if n_colunas == 1:\n",
    "            Psi = 0\n",
    "            x = len(matrix)\n",
    "            for i in range(x):\n",
    "                if matrix[i] != 0:\n",
    "                    val.append(matrix[i])\n",
    "                    posicoes.append(i)\n",
    "                    posicoes_bin.append(convert_base(i, base, int(math.ceil(math.log(x)/math.log(base)))))\n",
    "            for i in range(len(val)):\n",
    "                Psi = val[i] * Ket(posicoes_bin[i]) + Psi\n",
    "            return Psi\n",
    "        else:\n",
    "            m, n = matrix.shape\n",
    "            rho = 0\n",
    "            for i in range(m):\n",
    "                for j in range(n):\n",
    "                    if matrix[i, j] != 0:\n",
    "                        val.append(matrix[i, j])\n",
    "                        posicoes.append((i, j))\n",
    "                        posicoes_bin.append((convert_base(i, base, int(math.ceil(math.log(m)/math.log(base)))),\\\n",
    "                                             convert_base(j, base, int(math.ceil(math.log(m)/math.log(base))))))\n",
    "            for i in range(len(val)):\n",
    "                rho = val[i] * (Ket(posicoes_bin[i][0])) * (Bra(posicoes_bin[i][1])) + rho\n",
    "            return rho\n",
    "#m_braket_g(4, psi_ket_g(4,'2023'))"
   ]
  },
  {
   "cell_type": "code",
   "execution_count": 156,
   "id": "b1b6ab53",
   "metadata": {},
   "outputs": [
    {
     "data": {
      "text/latex": [
       "$\\displaystyle \\left[\\begin{matrix}\\rho_{00} & \\rho_{01} & \\rho_{02} & \\rho_{03} & \\rho_{04}\\\\\\rho_{05} & \\rho_{06} & \\rho_{07} & \\rho_{08} & \\rho_{09}\\\\\\rho_{10} & \\rho_{11} & \\rho_{12} & \\rho_{13} & \\rho_{14}\\\\\\rho_{15} & \\rho_{16} & \\rho_{17} & \\rho_{18} & \\rho_{19}\\\\\\rho_{20} & \\rho_{21} & \\rho_{22} & \\rho_{23} & \\rho_{24}\\end{matrix}\\right]$"
      ],
      "text/plain": [
       "Matrix([\n",
       "[rho_00, rho_01, rho_02, rho_03, rho_04],\n",
       "[rho_05, rho_06, rho_07, rho_08, rho_09],\n",
       "[rho_10, rho_11, rho_12, rho_13, rho_14],\n",
       "[rho_15, rho_16, rho_17, rho_18, rho_19],\n",
       "[rho_20, rho_21, rho_22, rho_23, rho_24]])"
      ]
     },
     "execution_count": 156,
     "metadata": {},
     "output_type": "execute_result"
    }
   ],
   "source": [
    "rho_0 = rho_g(5, 0); rho_0"
   ]
  },
  {
   "cell_type": "code",
   "execution_count": 157,
   "id": "b18cc44e",
   "metadata": {},
   "outputs": [
    {
     "data": {
      "text/latex": [
       "$\\displaystyle \\rho_{00} {\\left|000\\right\\rangle } {\\left\\langle 000\\right|} + \\rho_{01} {\\left|000\\right\\rangle } {\\left\\langle 001\\right|} + \\rho_{02} {\\left|000\\right\\rangle } {\\left\\langle 010\\right|} + \\rho_{03} {\\left|000\\right\\rangle } {\\left\\langle 011\\right|} + \\rho_{04} {\\left|000\\right\\rangle } {\\left\\langle 100\\right|} + \\rho_{05} {\\left|001\\right\\rangle } {\\left\\langle 000\\right|} + \\rho_{06} {\\left|001\\right\\rangle } {\\left\\langle 001\\right|} + \\rho_{07} {\\left|001\\right\\rangle } {\\left\\langle 010\\right|} + \\rho_{08} {\\left|001\\right\\rangle } {\\left\\langle 011\\right|} + \\rho_{09} {\\left|001\\right\\rangle } {\\left\\langle 100\\right|} + \\rho_{10} {\\left|010\\right\\rangle } {\\left\\langle 000\\right|} + \\rho_{11} {\\left|010\\right\\rangle } {\\left\\langle 001\\right|} + \\rho_{12} {\\left|010\\right\\rangle } {\\left\\langle 010\\right|} + \\rho_{13} {\\left|010\\right\\rangle } {\\left\\langle 011\\right|} + \\rho_{14} {\\left|010\\right\\rangle } {\\left\\langle 100\\right|} + \\rho_{15} {\\left|011\\right\\rangle } {\\left\\langle 000\\right|} + \\rho_{16} {\\left|011\\right\\rangle } {\\left\\langle 001\\right|} + \\rho_{17} {\\left|011\\right\\rangle } {\\left\\langle 010\\right|} + \\rho_{18} {\\left|011\\right\\rangle } {\\left\\langle 011\\right|} + \\rho_{19} {\\left|011\\right\\rangle } {\\left\\langle 100\\right|} + \\rho_{20} {\\left|100\\right\\rangle } {\\left\\langle 000\\right|} + \\rho_{21} {\\left|100\\right\\rangle } {\\left\\langle 001\\right|} + \\rho_{22} {\\left|100\\right\\rangle } {\\left\\langle 010\\right|} + \\rho_{23} {\\left|100\\right\\rangle } {\\left\\langle 011\\right|} + \\rho_{24} {\\left|100\\right\\rangle } {\\left\\langle 100\\right|}$"
      ],
      "text/plain": [
       "rho_00*|000>*<000| + rho_01*|000>*<001| + rho_02*|000>*<010| + rho_03*|000>*<011| + rho_04*|000>*<100| + rho_05*|001>*<000| + rho_06*|001>*<001| + rho_07*|001>*<010| + rho_08*|001>*<011| + rho_09*|001>*<100| + rho_10*|010>*<000| + rho_11*|010>*<001| + rho_12*|010>*<010| + rho_13*|010>*<011| + rho_14*|010>*<100| + rho_15*|011>*<000| + rho_16*|011>*<001| + rho_17*|011>*<010| + rho_18*|011>*<011| + rho_19*|011>*<100| + rho_20*|100>*<000| + rho_21*|100>*<001| + rho_22*|100>*<010| + rho_23*|100>*<011| + rho_24*|100>*<100|"
      ]
     },
     "execution_count": 157,
     "metadata": {},
     "output_type": "execute_result"
    }
   ],
   "source": [
    "m_braket_g(2, rho_0)"
   ]
  },
  {
   "cell_type": "code",
   "execution_count": 158,
   "id": "e7a98c76",
   "metadata": {},
   "outputs": [
    {
     "data": {
      "text/latex": [
       "$\\displaystyle \\rho_{00} {\\left|0\\right\\rangle } {\\left\\langle 0\\right|} + \\rho_{01} {\\left|0\\right\\rangle } {\\left\\langle 1\\right|} + \\rho_{02} {\\left|0\\right\\rangle } {\\left\\langle 2\\right|} + \\rho_{03} {\\left|0\\right\\rangle } {\\left\\langle 3\\right|} + \\rho_{04} {\\left|0\\right\\rangle } {\\left\\langle 4\\right|} + \\rho_{05} {\\left|1\\right\\rangle } {\\left\\langle 0\\right|} + \\rho_{06} {\\left|1\\right\\rangle } {\\left\\langle 1\\right|} + \\rho_{07} {\\left|1\\right\\rangle } {\\left\\langle 2\\right|} + \\rho_{08} {\\left|1\\right\\rangle } {\\left\\langle 3\\right|} + \\rho_{09} {\\left|1\\right\\rangle } {\\left\\langle 4\\right|} + \\rho_{10} {\\left|2\\right\\rangle } {\\left\\langle 0\\right|} + \\rho_{11} {\\left|2\\right\\rangle } {\\left\\langle 1\\right|} + \\rho_{12} {\\left|2\\right\\rangle } {\\left\\langle 2\\right|} + \\rho_{13} {\\left|2\\right\\rangle } {\\left\\langle 3\\right|} + \\rho_{14} {\\left|2\\right\\rangle } {\\left\\langle 4\\right|} + \\rho_{15} {\\left|3\\right\\rangle } {\\left\\langle 0\\right|} + \\rho_{16} {\\left|3\\right\\rangle } {\\left\\langle 1\\right|} + \\rho_{17} {\\left|3\\right\\rangle } {\\left\\langle 2\\right|} + \\rho_{18} {\\left|3\\right\\rangle } {\\left\\langle 3\\right|} + \\rho_{19} {\\left|3\\right\\rangle } {\\left\\langle 4\\right|} + \\rho_{20} {\\left|4\\right\\rangle } {\\left\\langle 0\\right|} + \\rho_{21} {\\left|4\\right\\rangle } {\\left\\langle 1\\right|} + \\rho_{22} {\\left|4\\right\\rangle } {\\left\\langle 2\\right|} + \\rho_{23} {\\left|4\\right\\rangle } {\\left\\langle 3\\right|} + \\rho_{24} {\\left|4\\right\\rangle } {\\left\\langle 4\\right|}$"
      ],
      "text/plain": [
       "rho_00*|0>*<0| + rho_01*|0>*<1| + rho_02*|0>*<2| + rho_03*|0>*<3| + rho_04*|0>*<4| + rho_05*|1>*<0| + rho_06*|1>*<1| + rho_07*|1>*<2| + rho_08*|1>*<3| + rho_09*|1>*<4| + rho_10*|2>*<0| + rho_11*|2>*<1| + rho_12*|2>*<2| + rho_13*|2>*<3| + rho_14*|2>*<4| + rho_15*|3>*<0| + rho_16*|3>*<1| + rho_17*|3>*<2| + rho_18*|3>*<3| + rho_19*|3>*<4| + rho_20*|4>*<0| + rho_21*|4>*<1| + rho_22*|4>*<2| + rho_23*|4>*<3| + rho_24*|4>*<4|"
      ]
     },
     "execution_count": 158,
     "metadata": {},
     "output_type": "execute_result"
    }
   ],
   "source": [
    "m_braket_g(5, rho_0)"
   ]
  },
  {
   "cell_type": "markdown",
   "id": "d769d3e8",
   "metadata": {},
   "source": [
    "## Exemplos"
   ]
  },
  {
   "cell_type": "markdown",
   "id": "abc80c85",
   "metadata": {},
   "source": [
    "### Exemplo 1"
   ]
  },
  {
   "cell_type": "code",
   "execution_count": 159,
   "id": "24d09847",
   "metadata": {},
   "outputs": [
    {
     "data": {
      "text/latex": [
       "$\\displaystyle \\left[\\begin{array}{cccccccccccccccccccccccccccccccccccccccccccccccccccccccccccccccc}0.5 & 0.5 i & - 0.5 i & 0.5 & 0 & 0 & 0 & 0 & 0 & 0 & 0 & 0 & 0 & 0 & 0 & 0 & 0 & 0 & 0 & 0 & 0 & 0 & 0 & 0 & 0 & 0 & 0 & 0 & 0 & 0 & 0 & 0 & 0 & 0 & 0 & 0 & 0 & 0 & 0 & 0 & 0 & 0 & 0 & 0 & 0 & 0 & 0 & 0 & 0 & 0 & 0 & 0 & 0 & 0 & 0 & 0 & 0 & 0 & 0 & 0 & 0 & 0 & 0 & 0\\end{array}\\right]$"
      ],
      "text/plain": [
       "Matrix([[0.5, 0.5*I, -0.5*I, 0.5, 0, 0, 0, 0, 0, 0, 0, 0, 0, 0, 0, 0, 0, 0, 0, 0, 0, 0, 0, 0, 0, 0, 0, 0, 0, 0, 0, 0, 0, 0, 0, 0, 0, 0, 0, 0, 0, 0, 0, 0, 0, 0, 0, 0, 0, 0, 0, 0, 0, 0, 0, 0, 0, 0, 0, 0, 0, 0, 0, 0]])"
      ]
     },
     "execution_count": 159,
     "metadata": {},
     "output_type": "execute_result"
    }
   ],
   "source": [
    "psi = psi_ket('000000') + 1j*psi_ket('000001') - 1j*psi_ket('000010') + psi_ket('000011')\n",
    "psi = psi/norm(psi)\n",
    "transpose(psi)"
   ]
  },
  {
   "cell_type": "code",
   "execution_count": 160,
   "id": "2f158757",
   "metadata": {},
   "outputs": [
    {
     "data": {
      "text/latex": [
       "$\\displaystyle 0.5 {\\left|000000\\right\\rangle } + 0.5 i {\\left|000001\\right\\rangle } - 0.5 i {\\left|000010\\right\\rangle } + 0.5 {\\left|000011\\right\\rangle }$"
      ],
      "text/plain": [
       "0.5*|000000> + 0.5*I*|000001> - 0.5*I*|000010> + 0.5*|000011>"
      ]
     },
     "execution_count": 160,
     "metadata": {},
     "output_type": "execute_result"
    }
   ],
   "source": [
    "psik = m_braket(psi)\n",
    "psik"
   ]
  },
  {
   "cell_type": "code",
   "execution_count": 161,
   "id": "7a742013",
   "metadata": {
    "scrolled": true
   },
   "outputs": [
    {
     "data": {
      "text/latex": [
       "$\\displaystyle \\left[\\begin{array}{cccccccccccccccccccccccccccccccccccccccccccccccccccccccccccccccc}0.25 & - 0.25 i & 0.25 i & 0.25 & 0 & 0 & 0 & 0 & 0 & 0 & 0 & 0 & 0 & 0 & 0 & 0 & 0 & 0 & 0 & 0 & 0 & 0 & 0 & 0 & 0 & 0 & 0 & 0 & 0 & 0 & 0 & 0 & 0 & 0 & 0 & 0 & 0 & 0 & 0 & 0 & 0 & 0 & 0 & 0 & 0 & 0 & 0 & 0 & 0 & 0 & 0 & 0 & 0 & 0 & 0 & 0 & 0 & 0 & 0 & 0 & 0 & 0 & 0 & 0\\\\0.25 i & 0.25 & -0.25 & 0.25 i & 0 & 0 & 0 & 0 & 0 & 0 & 0 & 0 & 0 & 0 & 0 & 0 & 0 & 0 & 0 & 0 & 0 & 0 & 0 & 0 & 0 & 0 & 0 & 0 & 0 & 0 & 0 & 0 & 0 & 0 & 0 & 0 & 0 & 0 & 0 & 0 & 0 & 0 & 0 & 0 & 0 & 0 & 0 & 0 & 0 & 0 & 0 & 0 & 0 & 0 & 0 & 0 & 0 & 0 & 0 & 0 & 0 & 0 & 0 & 0\\\\- 0.25 i & -0.25 & 0.25 & - 0.25 i & 0 & 0 & 0 & 0 & 0 & 0 & 0 & 0 & 0 & 0 & 0 & 0 & 0 & 0 & 0 & 0 & 0 & 0 & 0 & 0 & 0 & 0 & 0 & 0 & 0 & 0 & 0 & 0 & 0 & 0 & 0 & 0 & 0 & 0 & 0 & 0 & 0 & 0 & 0 & 0 & 0 & 0 & 0 & 0 & 0 & 0 & 0 & 0 & 0 & 0 & 0 & 0 & 0 & 0 & 0 & 0 & 0 & 0 & 0 & 0\\\\0.25 & - 0.25 i & 0.25 i & 0.25 & 0 & 0 & 0 & 0 & 0 & 0 & 0 & 0 & 0 & 0 & 0 & 0 & 0 & 0 & 0 & 0 & 0 & 0 & 0 & 0 & 0 & 0 & 0 & 0 & 0 & 0 & 0 & 0 & 0 & 0 & 0 & 0 & 0 & 0 & 0 & 0 & 0 & 0 & 0 & 0 & 0 & 0 & 0 & 0 & 0 & 0 & 0 & 0 & 0 & 0 & 0 & 0 & 0 & 0 & 0 & 0 & 0 & 0 & 0 & 0\\\\0 & 0 & 0 & 0 & 0 & 0 & 0 & 0 & 0 & 0 & 0 & 0 & 0 & 0 & 0 & 0 & 0 & 0 & 0 & 0 & 0 & 0 & 0 & 0 & 0 & 0 & 0 & 0 & 0 & 0 & 0 & 0 & 0 & 0 & 0 & 0 & 0 & 0 & 0 & 0 & 0 & 0 & 0 & 0 & 0 & 0 & 0 & 0 & 0 & 0 & 0 & 0 & 0 & 0 & 0 & 0 & 0 & 0 & 0 & 0 & 0 & 0 & 0 & 0\\\\0 & 0 & 0 & 0 & 0 & 0 & 0 & 0 & 0 & 0 & 0 & 0 & 0 & 0 & 0 & 0 & 0 & 0 & 0 & 0 & 0 & 0 & 0 & 0 & 0 & 0 & 0 & 0 & 0 & 0 & 0 & 0 & 0 & 0 & 0 & 0 & 0 & 0 & 0 & 0 & 0 & 0 & 0 & 0 & 0 & 0 & 0 & 0 & 0 & 0 & 0 & 0 & 0 & 0 & 0 & 0 & 0 & 0 & 0 & 0 & 0 & 0 & 0 & 0\\\\0 & 0 & 0 & 0 & 0 & 0 & 0 & 0 & 0 & 0 & 0 & 0 & 0 & 0 & 0 & 0 & 0 & 0 & 0 & 0 & 0 & 0 & 0 & 0 & 0 & 0 & 0 & 0 & 0 & 0 & 0 & 0 & 0 & 0 & 0 & 0 & 0 & 0 & 0 & 0 & 0 & 0 & 0 & 0 & 0 & 0 & 0 & 0 & 0 & 0 & 0 & 0 & 0 & 0 & 0 & 0 & 0 & 0 & 0 & 0 & 0 & 0 & 0 & 0\\\\0 & 0 & 0 & 0 & 0 & 0 & 0 & 0 & 0 & 0 & 0 & 0 & 0 & 0 & 0 & 0 & 0 & 0 & 0 & 0 & 0 & 0 & 0 & 0 & 0 & 0 & 0 & 0 & 0 & 0 & 0 & 0 & 0 & 0 & 0 & 0 & 0 & 0 & 0 & 0 & 0 & 0 & 0 & 0 & 0 & 0 & 0 & 0 & 0 & 0 & 0 & 0 & 0 & 0 & 0 & 0 & 0 & 0 & 0 & 0 & 0 & 0 & 0 & 0\\\\0 & 0 & 0 & 0 & 0 & 0 & 0 & 0 & 0 & 0 & 0 & 0 & 0 & 0 & 0 & 0 & 0 & 0 & 0 & 0 & 0 & 0 & 0 & 0 & 0 & 0 & 0 & 0 & 0 & 0 & 0 & 0 & 0 & 0 & 0 & 0 & 0 & 0 & 0 & 0 & 0 & 0 & 0 & 0 & 0 & 0 & 0 & 0 & 0 & 0 & 0 & 0 & 0 & 0 & 0 & 0 & 0 & 0 & 0 & 0 & 0 & 0 & 0 & 0\\\\0 & 0 & 0 & 0 & 0 & 0 & 0 & 0 & 0 & 0 & 0 & 0 & 0 & 0 & 0 & 0 & 0 & 0 & 0 & 0 & 0 & 0 & 0 & 0 & 0 & 0 & 0 & 0 & 0 & 0 & 0 & 0 & 0 & 0 & 0 & 0 & 0 & 0 & 0 & 0 & 0 & 0 & 0 & 0 & 0 & 0 & 0 & 0 & 0 & 0 & 0 & 0 & 0 & 0 & 0 & 0 & 0 & 0 & 0 & 0 & 0 & 0 & 0 & 0\\\\0 & 0 & 0 & 0 & 0 & 0 & 0 & 0 & 0 & 0 & 0 & 0 & 0 & 0 & 0 & 0 & 0 & 0 & 0 & 0 & 0 & 0 & 0 & 0 & 0 & 0 & 0 & 0 & 0 & 0 & 0 & 0 & 0 & 0 & 0 & 0 & 0 & 0 & 0 & 0 & 0 & 0 & 0 & 0 & 0 & 0 & 0 & 0 & 0 & 0 & 0 & 0 & 0 & 0 & 0 & 0 & 0 & 0 & 0 & 0 & 0 & 0 & 0 & 0\\\\0 & 0 & 0 & 0 & 0 & 0 & 0 & 0 & 0 & 0 & 0 & 0 & 0 & 0 & 0 & 0 & 0 & 0 & 0 & 0 & 0 & 0 & 0 & 0 & 0 & 0 & 0 & 0 & 0 & 0 & 0 & 0 & 0 & 0 & 0 & 0 & 0 & 0 & 0 & 0 & 0 & 0 & 0 & 0 & 0 & 0 & 0 & 0 & 0 & 0 & 0 & 0 & 0 & 0 & 0 & 0 & 0 & 0 & 0 & 0 & 0 & 0 & 0 & 0\\\\0 & 0 & 0 & 0 & 0 & 0 & 0 & 0 & 0 & 0 & 0 & 0 & 0 & 0 & 0 & 0 & 0 & 0 & 0 & 0 & 0 & 0 & 0 & 0 & 0 & 0 & 0 & 0 & 0 & 0 & 0 & 0 & 0 & 0 & 0 & 0 & 0 & 0 & 0 & 0 & 0 & 0 & 0 & 0 & 0 & 0 & 0 & 0 & 0 & 0 & 0 & 0 & 0 & 0 & 0 & 0 & 0 & 0 & 0 & 0 & 0 & 0 & 0 & 0\\\\0 & 0 & 0 & 0 & 0 & 0 & 0 & 0 & 0 & 0 & 0 & 0 & 0 & 0 & 0 & 0 & 0 & 0 & 0 & 0 & 0 & 0 & 0 & 0 & 0 & 0 & 0 & 0 & 0 & 0 & 0 & 0 & 0 & 0 & 0 & 0 & 0 & 0 & 0 & 0 & 0 & 0 & 0 & 0 & 0 & 0 & 0 & 0 & 0 & 0 & 0 & 0 & 0 & 0 & 0 & 0 & 0 & 0 & 0 & 0 & 0 & 0 & 0 & 0\\\\0 & 0 & 0 & 0 & 0 & 0 & 0 & 0 & 0 & 0 & 0 & 0 & 0 & 0 & 0 & 0 & 0 & 0 & 0 & 0 & 0 & 0 & 0 & 0 & 0 & 0 & 0 & 0 & 0 & 0 & 0 & 0 & 0 & 0 & 0 & 0 & 0 & 0 & 0 & 0 & 0 & 0 & 0 & 0 & 0 & 0 & 0 & 0 & 0 & 0 & 0 & 0 & 0 & 0 & 0 & 0 & 0 & 0 & 0 & 0 & 0 & 0 & 0 & 0\\\\0 & 0 & 0 & 0 & 0 & 0 & 0 & 0 & 0 & 0 & 0 & 0 & 0 & 0 & 0 & 0 & 0 & 0 & 0 & 0 & 0 & 0 & 0 & 0 & 0 & 0 & 0 & 0 & 0 & 0 & 0 & 0 & 0 & 0 & 0 & 0 & 0 & 0 & 0 & 0 & 0 & 0 & 0 & 0 & 0 & 0 & 0 & 0 & 0 & 0 & 0 & 0 & 0 & 0 & 0 & 0 & 0 & 0 & 0 & 0 & 0 & 0 & 0 & 0\\\\0 & 0 & 0 & 0 & 0 & 0 & 0 & 0 & 0 & 0 & 0 & 0 & 0 & 0 & 0 & 0 & 0 & 0 & 0 & 0 & 0 & 0 & 0 & 0 & 0 & 0 & 0 & 0 & 0 & 0 & 0 & 0 & 0 & 0 & 0 & 0 & 0 & 0 & 0 & 0 & 0 & 0 & 0 & 0 & 0 & 0 & 0 & 0 & 0 & 0 & 0 & 0 & 0 & 0 & 0 & 0 & 0 & 0 & 0 & 0 & 0 & 0 & 0 & 0\\\\0 & 0 & 0 & 0 & 0 & 0 & 0 & 0 & 0 & 0 & 0 & 0 & 0 & 0 & 0 & 0 & 0 & 0 & 0 & 0 & 0 & 0 & 0 & 0 & 0 & 0 & 0 & 0 & 0 & 0 & 0 & 0 & 0 & 0 & 0 & 0 & 0 & 0 & 0 & 0 & 0 & 0 & 0 & 0 & 0 & 0 & 0 & 0 & 0 & 0 & 0 & 0 & 0 & 0 & 0 & 0 & 0 & 0 & 0 & 0 & 0 & 0 & 0 & 0\\\\0 & 0 & 0 & 0 & 0 & 0 & 0 & 0 & 0 & 0 & 0 & 0 & 0 & 0 & 0 & 0 & 0 & 0 & 0 & 0 & 0 & 0 & 0 & 0 & 0 & 0 & 0 & 0 & 0 & 0 & 0 & 0 & 0 & 0 & 0 & 0 & 0 & 0 & 0 & 0 & 0 & 0 & 0 & 0 & 0 & 0 & 0 & 0 & 0 & 0 & 0 & 0 & 0 & 0 & 0 & 0 & 0 & 0 & 0 & 0 & 0 & 0 & 0 & 0\\\\0 & 0 & 0 & 0 & 0 & 0 & 0 & 0 & 0 & 0 & 0 & 0 & 0 & 0 & 0 & 0 & 0 & 0 & 0 & 0 & 0 & 0 & 0 & 0 & 0 & 0 & 0 & 0 & 0 & 0 & 0 & 0 & 0 & 0 & 0 & 0 & 0 & 0 & 0 & 0 & 0 & 0 & 0 & 0 & 0 & 0 & 0 & 0 & 0 & 0 & 0 & 0 & 0 & 0 & 0 & 0 & 0 & 0 & 0 & 0 & 0 & 0 & 0 & 0\\\\0 & 0 & 0 & 0 & 0 & 0 & 0 & 0 & 0 & 0 & 0 & 0 & 0 & 0 & 0 & 0 & 0 & 0 & 0 & 0 & 0 & 0 & 0 & 0 & 0 & 0 & 0 & 0 & 0 & 0 & 0 & 0 & 0 & 0 & 0 & 0 & 0 & 0 & 0 & 0 & 0 & 0 & 0 & 0 & 0 & 0 & 0 & 0 & 0 & 0 & 0 & 0 & 0 & 0 & 0 & 0 & 0 & 0 & 0 & 0 & 0 & 0 & 0 & 0\\\\0 & 0 & 0 & 0 & 0 & 0 & 0 & 0 & 0 & 0 & 0 & 0 & 0 & 0 & 0 & 0 & 0 & 0 & 0 & 0 & 0 & 0 & 0 & 0 & 0 & 0 & 0 & 0 & 0 & 0 & 0 & 0 & 0 & 0 & 0 & 0 & 0 & 0 & 0 & 0 & 0 & 0 & 0 & 0 & 0 & 0 & 0 & 0 & 0 & 0 & 0 & 0 & 0 & 0 & 0 & 0 & 0 & 0 & 0 & 0 & 0 & 0 & 0 & 0\\\\0 & 0 & 0 & 0 & 0 & 0 & 0 & 0 & 0 & 0 & 0 & 0 & 0 & 0 & 0 & 0 & 0 & 0 & 0 & 0 & 0 & 0 & 0 & 0 & 0 & 0 & 0 & 0 & 0 & 0 & 0 & 0 & 0 & 0 & 0 & 0 & 0 & 0 & 0 & 0 & 0 & 0 & 0 & 0 & 0 & 0 & 0 & 0 & 0 & 0 & 0 & 0 & 0 & 0 & 0 & 0 & 0 & 0 & 0 & 0 & 0 & 0 & 0 & 0\\\\0 & 0 & 0 & 0 & 0 & 0 & 0 & 0 & 0 & 0 & 0 & 0 & 0 & 0 & 0 & 0 & 0 & 0 & 0 & 0 & 0 & 0 & 0 & 0 & 0 & 0 & 0 & 0 & 0 & 0 & 0 & 0 & 0 & 0 & 0 & 0 & 0 & 0 & 0 & 0 & 0 & 0 & 0 & 0 & 0 & 0 & 0 & 0 & 0 & 0 & 0 & 0 & 0 & 0 & 0 & 0 & 0 & 0 & 0 & 0 & 0 & 0 & 0 & 0\\\\0 & 0 & 0 & 0 & 0 & 0 & 0 & 0 & 0 & 0 & 0 & 0 & 0 & 0 & 0 & 0 & 0 & 0 & 0 & 0 & 0 & 0 & 0 & 0 & 0 & 0 & 0 & 0 & 0 & 0 & 0 & 0 & 0 & 0 & 0 & 0 & 0 & 0 & 0 & 0 & 0 & 0 & 0 & 0 & 0 & 0 & 0 & 0 & 0 & 0 & 0 & 0 & 0 & 0 & 0 & 0 & 0 & 0 & 0 & 0 & 0 & 0 & 0 & 0\\\\0 & 0 & 0 & 0 & 0 & 0 & 0 & 0 & 0 & 0 & 0 & 0 & 0 & 0 & 0 & 0 & 0 & 0 & 0 & 0 & 0 & 0 & 0 & 0 & 0 & 0 & 0 & 0 & 0 & 0 & 0 & 0 & 0 & 0 & 0 & 0 & 0 & 0 & 0 & 0 & 0 & 0 & 0 & 0 & 0 & 0 & 0 & 0 & 0 & 0 & 0 & 0 & 0 & 0 & 0 & 0 & 0 & 0 & 0 & 0 & 0 & 0 & 0 & 0\\\\0 & 0 & 0 & 0 & 0 & 0 & 0 & 0 & 0 & 0 & 0 & 0 & 0 & 0 & 0 & 0 & 0 & 0 & 0 & 0 & 0 & 0 & 0 & 0 & 0 & 0 & 0 & 0 & 0 & 0 & 0 & 0 & 0 & 0 & 0 & 0 & 0 & 0 & 0 & 0 & 0 & 0 & 0 & 0 & 0 & 0 & 0 & 0 & 0 & 0 & 0 & 0 & 0 & 0 & 0 & 0 & 0 & 0 & 0 & 0 & 0 & 0 & 0 & 0\\\\0 & 0 & 0 & 0 & 0 & 0 & 0 & 0 & 0 & 0 & 0 & 0 & 0 & 0 & 0 & 0 & 0 & 0 & 0 & 0 & 0 & 0 & 0 & 0 & 0 & 0 & 0 & 0 & 0 & 0 & 0 & 0 & 0 & 0 & 0 & 0 & 0 & 0 & 0 & 0 & 0 & 0 & 0 & 0 & 0 & 0 & 0 & 0 & 0 & 0 & 0 & 0 & 0 & 0 & 0 & 0 & 0 & 0 & 0 & 0 & 0 & 0 & 0 & 0\\\\0 & 0 & 0 & 0 & 0 & 0 & 0 & 0 & 0 & 0 & 0 & 0 & 0 & 0 & 0 & 0 & 0 & 0 & 0 & 0 & 0 & 0 & 0 & 0 & 0 & 0 & 0 & 0 & 0 & 0 & 0 & 0 & 0 & 0 & 0 & 0 & 0 & 0 & 0 & 0 & 0 & 0 & 0 & 0 & 0 & 0 & 0 & 0 & 0 & 0 & 0 & 0 & 0 & 0 & 0 & 0 & 0 & 0 & 0 & 0 & 0 & 0 & 0 & 0\\\\0 & 0 & 0 & 0 & 0 & 0 & 0 & 0 & 0 & 0 & 0 & 0 & 0 & 0 & 0 & 0 & 0 & 0 & 0 & 0 & 0 & 0 & 0 & 0 & 0 & 0 & 0 & 0 & 0 & 0 & 0 & 0 & 0 & 0 & 0 & 0 & 0 & 0 & 0 & 0 & 0 & 0 & 0 & 0 & 0 & 0 & 0 & 0 & 0 & 0 & 0 & 0 & 0 & 0 & 0 & 0 & 0 & 0 & 0 & 0 & 0 & 0 & 0 & 0\\\\0 & 0 & 0 & 0 & 0 & 0 & 0 & 0 & 0 & 0 & 0 & 0 & 0 & 0 & 0 & 0 & 0 & 0 & 0 & 0 & 0 & 0 & 0 & 0 & 0 & 0 & 0 & 0 & 0 & 0 & 0 & 0 & 0 & 0 & 0 & 0 & 0 & 0 & 0 & 0 & 0 & 0 & 0 & 0 & 0 & 0 & 0 & 0 & 0 & 0 & 0 & 0 & 0 & 0 & 0 & 0 & 0 & 0 & 0 & 0 & 0 & 0 & 0 & 0\\\\0 & 0 & 0 & 0 & 0 & 0 & 0 & 0 & 0 & 0 & 0 & 0 & 0 & 0 & 0 & 0 & 0 & 0 & 0 & 0 & 0 & 0 & 0 & 0 & 0 & 0 & 0 & 0 & 0 & 0 & 0 & 0 & 0 & 0 & 0 & 0 & 0 & 0 & 0 & 0 & 0 & 0 & 0 & 0 & 0 & 0 & 0 & 0 & 0 & 0 & 0 & 0 & 0 & 0 & 0 & 0 & 0 & 0 & 0 & 0 & 0 & 0 & 0 & 0\\\\0 & 0 & 0 & 0 & 0 & 0 & 0 & 0 & 0 & 0 & 0 & 0 & 0 & 0 & 0 & 0 & 0 & 0 & 0 & 0 & 0 & 0 & 0 & 0 & 0 & 0 & 0 & 0 & 0 & 0 & 0 & 0 & 0 & 0 & 0 & 0 & 0 & 0 & 0 & 0 & 0 & 0 & 0 & 0 & 0 & 0 & 0 & 0 & 0 & 0 & 0 & 0 & 0 & 0 & 0 & 0 & 0 & 0 & 0 & 0 & 0 & 0 & 0 & 0\\\\0 & 0 & 0 & 0 & 0 & 0 & 0 & 0 & 0 & 0 & 0 & 0 & 0 & 0 & 0 & 0 & 0 & 0 & 0 & 0 & 0 & 0 & 0 & 0 & 0 & 0 & 0 & 0 & 0 & 0 & 0 & 0 & 0 & 0 & 0 & 0 & 0 & 0 & 0 & 0 & 0 & 0 & 0 & 0 & 0 & 0 & 0 & 0 & 0 & 0 & 0 & 0 & 0 & 0 & 0 & 0 & 0 & 0 & 0 & 0 & 0 & 0 & 0 & 0\\\\0 & 0 & 0 & 0 & 0 & 0 & 0 & 0 & 0 & 0 & 0 & 0 & 0 & 0 & 0 & 0 & 0 & 0 & 0 & 0 & 0 & 0 & 0 & 0 & 0 & 0 & 0 & 0 & 0 & 0 & 0 & 0 & 0 & 0 & 0 & 0 & 0 & 0 & 0 & 0 & 0 & 0 & 0 & 0 & 0 & 0 & 0 & 0 & 0 & 0 & 0 & 0 & 0 & 0 & 0 & 0 & 0 & 0 & 0 & 0 & 0 & 0 & 0 & 0\\\\0 & 0 & 0 & 0 & 0 & 0 & 0 & 0 & 0 & 0 & 0 & 0 & 0 & 0 & 0 & 0 & 0 & 0 & 0 & 0 & 0 & 0 & 0 & 0 & 0 & 0 & 0 & 0 & 0 & 0 & 0 & 0 & 0 & 0 & 0 & 0 & 0 & 0 & 0 & 0 & 0 & 0 & 0 & 0 & 0 & 0 & 0 & 0 & 0 & 0 & 0 & 0 & 0 & 0 & 0 & 0 & 0 & 0 & 0 & 0 & 0 & 0 & 0 & 0\\\\0 & 0 & 0 & 0 & 0 & 0 & 0 & 0 & 0 & 0 & 0 & 0 & 0 & 0 & 0 & 0 & 0 & 0 & 0 & 0 & 0 & 0 & 0 & 0 & 0 & 0 & 0 & 0 & 0 & 0 & 0 & 0 & 0 & 0 & 0 & 0 & 0 & 0 & 0 & 0 & 0 & 0 & 0 & 0 & 0 & 0 & 0 & 0 & 0 & 0 & 0 & 0 & 0 & 0 & 0 & 0 & 0 & 0 & 0 & 0 & 0 & 0 & 0 & 0\\\\0 & 0 & 0 & 0 & 0 & 0 & 0 & 0 & 0 & 0 & 0 & 0 & 0 & 0 & 0 & 0 & 0 & 0 & 0 & 0 & 0 & 0 & 0 & 0 & 0 & 0 & 0 & 0 & 0 & 0 & 0 & 0 & 0 & 0 & 0 & 0 & 0 & 0 & 0 & 0 & 0 & 0 & 0 & 0 & 0 & 0 & 0 & 0 & 0 & 0 & 0 & 0 & 0 & 0 & 0 & 0 & 0 & 0 & 0 & 0 & 0 & 0 & 0 & 0\\\\0 & 0 & 0 & 0 & 0 & 0 & 0 & 0 & 0 & 0 & 0 & 0 & 0 & 0 & 0 & 0 & 0 & 0 & 0 & 0 & 0 & 0 & 0 & 0 & 0 & 0 & 0 & 0 & 0 & 0 & 0 & 0 & 0 & 0 & 0 & 0 & 0 & 0 & 0 & 0 & 0 & 0 & 0 & 0 & 0 & 0 & 0 & 0 & 0 & 0 & 0 & 0 & 0 & 0 & 0 & 0 & 0 & 0 & 0 & 0 & 0 & 0 & 0 & 0\\\\0 & 0 & 0 & 0 & 0 & 0 & 0 & 0 & 0 & 0 & 0 & 0 & 0 & 0 & 0 & 0 & 0 & 0 & 0 & 0 & 0 & 0 & 0 & 0 & 0 & 0 & 0 & 0 & 0 & 0 & 0 & 0 & 0 & 0 & 0 & 0 & 0 & 0 & 0 & 0 & 0 & 0 & 0 & 0 & 0 & 0 & 0 & 0 & 0 & 0 & 0 & 0 & 0 & 0 & 0 & 0 & 0 & 0 & 0 & 0 & 0 & 0 & 0 & 0\\\\0 & 0 & 0 & 0 & 0 & 0 & 0 & 0 & 0 & 0 & 0 & 0 & 0 & 0 & 0 & 0 & 0 & 0 & 0 & 0 & 0 & 0 & 0 & 0 & 0 & 0 & 0 & 0 & 0 & 0 & 0 & 0 & 0 & 0 & 0 & 0 & 0 & 0 & 0 & 0 & 0 & 0 & 0 & 0 & 0 & 0 & 0 & 0 & 0 & 0 & 0 & 0 & 0 & 0 & 0 & 0 & 0 & 0 & 0 & 0 & 0 & 0 & 0 & 0\\\\0 & 0 & 0 & 0 & 0 & 0 & 0 & 0 & 0 & 0 & 0 & 0 & 0 & 0 & 0 & 0 & 0 & 0 & 0 & 0 & 0 & 0 & 0 & 0 & 0 & 0 & 0 & 0 & 0 & 0 & 0 & 0 & 0 & 0 & 0 & 0 & 0 & 0 & 0 & 0 & 0 & 0 & 0 & 0 & 0 & 0 & 0 & 0 & 0 & 0 & 0 & 0 & 0 & 0 & 0 & 0 & 0 & 0 & 0 & 0 & 0 & 0 & 0 & 0\\\\0 & 0 & 0 & 0 & 0 & 0 & 0 & 0 & 0 & 0 & 0 & 0 & 0 & 0 & 0 & 0 & 0 & 0 & 0 & 0 & 0 & 0 & 0 & 0 & 0 & 0 & 0 & 0 & 0 & 0 & 0 & 0 & 0 & 0 & 0 & 0 & 0 & 0 & 0 & 0 & 0 & 0 & 0 & 0 & 0 & 0 & 0 & 0 & 0 & 0 & 0 & 0 & 0 & 0 & 0 & 0 & 0 & 0 & 0 & 0 & 0 & 0 & 0 & 0\\\\0 & 0 & 0 & 0 & 0 & 0 & 0 & 0 & 0 & 0 & 0 & 0 & 0 & 0 & 0 & 0 & 0 & 0 & 0 & 0 & 0 & 0 & 0 & 0 & 0 & 0 & 0 & 0 & 0 & 0 & 0 & 0 & 0 & 0 & 0 & 0 & 0 & 0 & 0 & 0 & 0 & 0 & 0 & 0 & 0 & 0 & 0 & 0 & 0 & 0 & 0 & 0 & 0 & 0 & 0 & 0 & 0 & 0 & 0 & 0 & 0 & 0 & 0 & 0\\\\0 & 0 & 0 & 0 & 0 & 0 & 0 & 0 & 0 & 0 & 0 & 0 & 0 & 0 & 0 & 0 & 0 & 0 & 0 & 0 & 0 & 0 & 0 & 0 & 0 & 0 & 0 & 0 & 0 & 0 & 0 & 0 & 0 & 0 & 0 & 0 & 0 & 0 & 0 & 0 & 0 & 0 & 0 & 0 & 0 & 0 & 0 & 0 & 0 & 0 & 0 & 0 & 0 & 0 & 0 & 0 & 0 & 0 & 0 & 0 & 0 & 0 & 0 & 0\\\\0 & 0 & 0 & 0 & 0 & 0 & 0 & 0 & 0 & 0 & 0 & 0 & 0 & 0 & 0 & 0 & 0 & 0 & 0 & 0 & 0 & 0 & 0 & 0 & 0 & 0 & 0 & 0 & 0 & 0 & 0 & 0 & 0 & 0 & 0 & 0 & 0 & 0 & 0 & 0 & 0 & 0 & 0 & 0 & 0 & 0 & 0 & 0 & 0 & 0 & 0 & 0 & 0 & 0 & 0 & 0 & 0 & 0 & 0 & 0 & 0 & 0 & 0 & 0\\\\0 & 0 & 0 & 0 & 0 & 0 & 0 & 0 & 0 & 0 & 0 & 0 & 0 & 0 & 0 & 0 & 0 & 0 & 0 & 0 & 0 & 0 & 0 & 0 & 0 & 0 & 0 & 0 & 0 & 0 & 0 & 0 & 0 & 0 & 0 & 0 & 0 & 0 & 0 & 0 & 0 & 0 & 0 & 0 & 0 & 0 & 0 & 0 & 0 & 0 & 0 & 0 & 0 & 0 & 0 & 0 & 0 & 0 & 0 & 0 & 0 & 0 & 0 & 0\\\\0 & 0 & 0 & 0 & 0 & 0 & 0 & 0 & 0 & 0 & 0 & 0 & 0 & 0 & 0 & 0 & 0 & 0 & 0 & 0 & 0 & 0 & 0 & 0 & 0 & 0 & 0 & 0 & 0 & 0 & 0 & 0 & 0 & 0 & 0 & 0 & 0 & 0 & 0 & 0 & 0 & 0 & 0 & 0 & 0 & 0 & 0 & 0 & 0 & 0 & 0 & 0 & 0 & 0 & 0 & 0 & 0 & 0 & 0 & 0 & 0 & 0 & 0 & 0\\\\0 & 0 & 0 & 0 & 0 & 0 & 0 & 0 & 0 & 0 & 0 & 0 & 0 & 0 & 0 & 0 & 0 & 0 & 0 & 0 & 0 & 0 & 0 & 0 & 0 & 0 & 0 & 0 & 0 & 0 & 0 & 0 & 0 & 0 & 0 & 0 & 0 & 0 & 0 & 0 & 0 & 0 & 0 & 0 & 0 & 0 & 0 & 0 & 0 & 0 & 0 & 0 & 0 & 0 & 0 & 0 & 0 & 0 & 0 & 0 & 0 & 0 & 0 & 0\\\\0 & 0 & 0 & 0 & 0 & 0 & 0 & 0 & 0 & 0 & 0 & 0 & 0 & 0 & 0 & 0 & 0 & 0 & 0 & 0 & 0 & 0 & 0 & 0 & 0 & 0 & 0 & 0 & 0 & 0 & 0 & 0 & 0 & 0 & 0 & 0 & 0 & 0 & 0 & 0 & 0 & 0 & 0 & 0 & 0 & 0 & 0 & 0 & 0 & 0 & 0 & 0 & 0 & 0 & 0 & 0 & 0 & 0 & 0 & 0 & 0 & 0 & 0 & 0\\\\0 & 0 & 0 & 0 & 0 & 0 & 0 & 0 & 0 & 0 & 0 & 0 & 0 & 0 & 0 & 0 & 0 & 0 & 0 & 0 & 0 & 0 & 0 & 0 & 0 & 0 & 0 & 0 & 0 & 0 & 0 & 0 & 0 & 0 & 0 & 0 & 0 & 0 & 0 & 0 & 0 & 0 & 0 & 0 & 0 & 0 & 0 & 0 & 0 & 0 & 0 & 0 & 0 & 0 & 0 & 0 & 0 & 0 & 0 & 0 & 0 & 0 & 0 & 0\\\\0 & 0 & 0 & 0 & 0 & 0 & 0 & 0 & 0 & 0 & 0 & 0 & 0 & 0 & 0 & 0 & 0 & 0 & 0 & 0 & 0 & 0 & 0 & 0 & 0 & 0 & 0 & 0 & 0 & 0 & 0 & 0 & 0 & 0 & 0 & 0 & 0 & 0 & 0 & 0 & 0 & 0 & 0 & 0 & 0 & 0 & 0 & 0 & 0 & 0 & 0 & 0 & 0 & 0 & 0 & 0 & 0 & 0 & 0 & 0 & 0 & 0 & 0 & 0\\\\0 & 0 & 0 & 0 & 0 & 0 & 0 & 0 & 0 & 0 & 0 & 0 & 0 & 0 & 0 & 0 & 0 & 0 & 0 & 0 & 0 & 0 & 0 & 0 & 0 & 0 & 0 & 0 & 0 & 0 & 0 & 0 & 0 & 0 & 0 & 0 & 0 & 0 & 0 & 0 & 0 & 0 & 0 & 0 & 0 & 0 & 0 & 0 & 0 & 0 & 0 & 0 & 0 & 0 & 0 & 0 & 0 & 0 & 0 & 0 & 0 & 0 & 0 & 0\\\\0 & 0 & 0 & 0 & 0 & 0 & 0 & 0 & 0 & 0 & 0 & 0 & 0 & 0 & 0 & 0 & 0 & 0 & 0 & 0 & 0 & 0 & 0 & 0 & 0 & 0 & 0 & 0 & 0 & 0 & 0 & 0 & 0 & 0 & 0 & 0 & 0 & 0 & 0 & 0 & 0 & 0 & 0 & 0 & 0 & 0 & 0 & 0 & 0 & 0 & 0 & 0 & 0 & 0 & 0 & 0 & 0 & 0 & 0 & 0 & 0 & 0 & 0 & 0\\\\0 & 0 & 0 & 0 & 0 & 0 & 0 & 0 & 0 & 0 & 0 & 0 & 0 & 0 & 0 & 0 & 0 & 0 & 0 & 0 & 0 & 0 & 0 & 0 & 0 & 0 & 0 & 0 & 0 & 0 & 0 & 0 & 0 & 0 & 0 & 0 & 0 & 0 & 0 & 0 & 0 & 0 & 0 & 0 & 0 & 0 & 0 & 0 & 0 & 0 & 0 & 0 & 0 & 0 & 0 & 0 & 0 & 0 & 0 & 0 & 0 & 0 & 0 & 0\\\\0 & 0 & 0 & 0 & 0 & 0 & 0 & 0 & 0 & 0 & 0 & 0 & 0 & 0 & 0 & 0 & 0 & 0 & 0 & 0 & 0 & 0 & 0 & 0 & 0 & 0 & 0 & 0 & 0 & 0 & 0 & 0 & 0 & 0 & 0 & 0 & 0 & 0 & 0 & 0 & 0 & 0 & 0 & 0 & 0 & 0 & 0 & 0 & 0 & 0 & 0 & 0 & 0 & 0 & 0 & 0 & 0 & 0 & 0 & 0 & 0 & 0 & 0 & 0\\\\0 & 0 & 0 & 0 & 0 & 0 & 0 & 0 & 0 & 0 & 0 & 0 & 0 & 0 & 0 & 0 & 0 & 0 & 0 & 0 & 0 & 0 & 0 & 0 & 0 & 0 & 0 & 0 & 0 & 0 & 0 & 0 & 0 & 0 & 0 & 0 & 0 & 0 & 0 & 0 & 0 & 0 & 0 & 0 & 0 & 0 & 0 & 0 & 0 & 0 & 0 & 0 & 0 & 0 & 0 & 0 & 0 & 0 & 0 & 0 & 0 & 0 & 0 & 0\\\\0 & 0 & 0 & 0 & 0 & 0 & 0 & 0 & 0 & 0 & 0 & 0 & 0 & 0 & 0 & 0 & 0 & 0 & 0 & 0 & 0 & 0 & 0 & 0 & 0 & 0 & 0 & 0 & 0 & 0 & 0 & 0 & 0 & 0 & 0 & 0 & 0 & 0 & 0 & 0 & 0 & 0 & 0 & 0 & 0 & 0 & 0 & 0 & 0 & 0 & 0 & 0 & 0 & 0 & 0 & 0 & 0 & 0 & 0 & 0 & 0 & 0 & 0 & 0\\\\0 & 0 & 0 & 0 & 0 & 0 & 0 & 0 & 0 & 0 & 0 & 0 & 0 & 0 & 0 & 0 & 0 & 0 & 0 & 0 & 0 & 0 & 0 & 0 & 0 & 0 & 0 & 0 & 0 & 0 & 0 & 0 & 0 & 0 & 0 & 0 & 0 & 0 & 0 & 0 & 0 & 0 & 0 & 0 & 0 & 0 & 0 & 0 & 0 & 0 & 0 & 0 & 0 & 0 & 0 & 0 & 0 & 0 & 0 & 0 & 0 & 0 & 0 & 0\\\\0 & 0 & 0 & 0 & 0 & 0 & 0 & 0 & 0 & 0 & 0 & 0 & 0 & 0 & 0 & 0 & 0 & 0 & 0 & 0 & 0 & 0 & 0 & 0 & 0 & 0 & 0 & 0 & 0 & 0 & 0 & 0 & 0 & 0 & 0 & 0 & 0 & 0 & 0 & 0 & 0 & 0 & 0 & 0 & 0 & 0 & 0 & 0 & 0 & 0 & 0 & 0 & 0 & 0 & 0 & 0 & 0 & 0 & 0 & 0 & 0 & 0 & 0 & 0\\\\0 & 0 & 0 & 0 & 0 & 0 & 0 & 0 & 0 & 0 & 0 & 0 & 0 & 0 & 0 & 0 & 0 & 0 & 0 & 0 & 0 & 0 & 0 & 0 & 0 & 0 & 0 & 0 & 0 & 0 & 0 & 0 & 0 & 0 & 0 & 0 & 0 & 0 & 0 & 0 & 0 & 0 & 0 & 0 & 0 & 0 & 0 & 0 & 0 & 0 & 0 & 0 & 0 & 0 & 0 & 0 & 0 & 0 & 0 & 0 & 0 & 0 & 0 & 0\\\\0 & 0 & 0 & 0 & 0 & 0 & 0 & 0 & 0 & 0 & 0 & 0 & 0 & 0 & 0 & 0 & 0 & 0 & 0 & 0 & 0 & 0 & 0 & 0 & 0 & 0 & 0 & 0 & 0 & 0 & 0 & 0 & 0 & 0 & 0 & 0 & 0 & 0 & 0 & 0 & 0 & 0 & 0 & 0 & 0 & 0 & 0 & 0 & 0 & 0 & 0 & 0 & 0 & 0 & 0 & 0 & 0 & 0 & 0 & 0 & 0 & 0 & 0 & 0\\\\0 & 0 & 0 & 0 & 0 & 0 & 0 & 0 & 0 & 0 & 0 & 0 & 0 & 0 & 0 & 0 & 0 & 0 & 0 & 0 & 0 & 0 & 0 & 0 & 0 & 0 & 0 & 0 & 0 & 0 & 0 & 0 & 0 & 0 & 0 & 0 & 0 & 0 & 0 & 0 & 0 & 0 & 0 & 0 & 0 & 0 & 0 & 0 & 0 & 0 & 0 & 0 & 0 & 0 & 0 & 0 & 0 & 0 & 0 & 0 & 0 & 0 & 0 & 0\\\\0 & 0 & 0 & 0 & 0 & 0 & 0 & 0 & 0 & 0 & 0 & 0 & 0 & 0 & 0 & 0 & 0 & 0 & 0 & 0 & 0 & 0 & 0 & 0 & 0 & 0 & 0 & 0 & 0 & 0 & 0 & 0 & 0 & 0 & 0 & 0 & 0 & 0 & 0 & 0 & 0 & 0 & 0 & 0 & 0 & 0 & 0 & 0 & 0 & 0 & 0 & 0 & 0 & 0 & 0 & 0 & 0 & 0 & 0 & 0 & 0 & 0 & 0 & 0\\end{array}\\right]$"
      ],
      "text/plain": [
       "Matrix([\n",
       "[   0.25, -0.25*I, 0.25*I,    0.25, 0, 0, 0, 0, 0, 0, 0, 0, 0, 0, 0, 0, 0, 0, 0, 0, 0, 0, 0, 0, 0, 0, 0, 0, 0, 0, 0, 0, 0, 0, 0, 0, 0, 0, 0, 0, 0, 0, 0, 0, 0, 0, 0, 0, 0, 0, 0, 0, 0, 0, 0, 0, 0, 0, 0, 0, 0, 0, 0, 0],\n",
       "[ 0.25*I,    0.25,  -0.25,  0.25*I, 0, 0, 0, 0, 0, 0, 0, 0, 0, 0, 0, 0, 0, 0, 0, 0, 0, 0, 0, 0, 0, 0, 0, 0, 0, 0, 0, 0, 0, 0, 0, 0, 0, 0, 0, 0, 0, 0, 0, 0, 0, 0, 0, 0, 0, 0, 0, 0, 0, 0, 0, 0, 0, 0, 0, 0, 0, 0, 0, 0],\n",
       "[-0.25*I,   -0.25,   0.25, -0.25*I, 0, 0, 0, 0, 0, 0, 0, 0, 0, 0, 0, 0, 0, 0, 0, 0, 0, 0, 0, 0, 0, 0, 0, 0, 0, 0, 0, 0, 0, 0, 0, 0, 0, 0, 0, 0, 0, 0, 0, 0, 0, 0, 0, 0, 0, 0, 0, 0, 0, 0, 0, 0, 0, 0, 0, 0, 0, 0, 0, 0],\n",
       "[   0.25, -0.25*I, 0.25*I,    0.25, 0, 0, 0, 0, 0, 0, 0, 0, 0, 0, 0, 0, 0, 0, 0, 0, 0, 0, 0, 0, 0, 0, 0, 0, 0, 0, 0, 0, 0, 0, 0, 0, 0, 0, 0, 0, 0, 0, 0, 0, 0, 0, 0, 0, 0, 0, 0, 0, 0, 0, 0, 0, 0, 0, 0, 0, 0, 0, 0, 0],\n",
       "[      0,       0,      0,       0, 0, 0, 0, 0, 0, 0, 0, 0, 0, 0, 0, 0, 0, 0, 0, 0, 0, 0, 0, 0, 0, 0, 0, 0, 0, 0, 0, 0, 0, 0, 0, 0, 0, 0, 0, 0, 0, 0, 0, 0, 0, 0, 0, 0, 0, 0, 0, 0, 0, 0, 0, 0, 0, 0, 0, 0, 0, 0, 0, 0],\n",
       "[      0,       0,      0,       0, 0, 0, 0, 0, 0, 0, 0, 0, 0, 0, 0, 0, 0, 0, 0, 0, 0, 0, 0, 0, 0, 0, 0, 0, 0, 0, 0, 0, 0, 0, 0, 0, 0, 0, 0, 0, 0, 0, 0, 0, 0, 0, 0, 0, 0, 0, 0, 0, 0, 0, 0, 0, 0, 0, 0, 0, 0, 0, 0, 0],\n",
       "[      0,       0,      0,       0, 0, 0, 0, 0, 0, 0, 0, 0, 0, 0, 0, 0, 0, 0, 0, 0, 0, 0, 0, 0, 0, 0, 0, 0, 0, 0, 0, 0, 0, 0, 0, 0, 0, 0, 0, 0, 0, 0, 0, 0, 0, 0, 0, 0, 0, 0, 0, 0, 0, 0, 0, 0, 0, 0, 0, 0, 0, 0, 0, 0],\n",
       "[      0,       0,      0,       0, 0, 0, 0, 0, 0, 0, 0, 0, 0, 0, 0, 0, 0, 0, 0, 0, 0, 0, 0, 0, 0, 0, 0, 0, 0, 0, 0, 0, 0, 0, 0, 0, 0, 0, 0, 0, 0, 0, 0, 0, 0, 0, 0, 0, 0, 0, 0, 0, 0, 0, 0, 0, 0, 0, 0, 0, 0, 0, 0, 0],\n",
       "[      0,       0,      0,       0, 0, 0, 0, 0, 0, 0, 0, 0, 0, 0, 0, 0, 0, 0, 0, 0, 0, 0, 0, 0, 0, 0, 0, 0, 0, 0, 0, 0, 0, 0, 0, 0, 0, 0, 0, 0, 0, 0, 0, 0, 0, 0, 0, 0, 0, 0, 0, 0, 0, 0, 0, 0, 0, 0, 0, 0, 0, 0, 0, 0],\n",
       "[      0,       0,      0,       0, 0, 0, 0, 0, 0, 0, 0, 0, 0, 0, 0, 0, 0, 0, 0, 0, 0, 0, 0, 0, 0, 0, 0, 0, 0, 0, 0, 0, 0, 0, 0, 0, 0, 0, 0, 0, 0, 0, 0, 0, 0, 0, 0, 0, 0, 0, 0, 0, 0, 0, 0, 0, 0, 0, 0, 0, 0, 0, 0, 0],\n",
       "[      0,       0,      0,       0, 0, 0, 0, 0, 0, 0, 0, 0, 0, 0, 0, 0, 0, 0, 0, 0, 0, 0, 0, 0, 0, 0, 0, 0, 0, 0, 0, 0, 0, 0, 0, 0, 0, 0, 0, 0, 0, 0, 0, 0, 0, 0, 0, 0, 0, 0, 0, 0, 0, 0, 0, 0, 0, 0, 0, 0, 0, 0, 0, 0],\n",
       "[      0,       0,      0,       0, 0, 0, 0, 0, 0, 0, 0, 0, 0, 0, 0, 0, 0, 0, 0, 0, 0, 0, 0, 0, 0, 0, 0, 0, 0, 0, 0, 0, 0, 0, 0, 0, 0, 0, 0, 0, 0, 0, 0, 0, 0, 0, 0, 0, 0, 0, 0, 0, 0, 0, 0, 0, 0, 0, 0, 0, 0, 0, 0, 0],\n",
       "[      0,       0,      0,       0, 0, 0, 0, 0, 0, 0, 0, 0, 0, 0, 0, 0, 0, 0, 0, 0, 0, 0, 0, 0, 0, 0, 0, 0, 0, 0, 0, 0, 0, 0, 0, 0, 0, 0, 0, 0, 0, 0, 0, 0, 0, 0, 0, 0, 0, 0, 0, 0, 0, 0, 0, 0, 0, 0, 0, 0, 0, 0, 0, 0],\n",
       "[      0,       0,      0,       0, 0, 0, 0, 0, 0, 0, 0, 0, 0, 0, 0, 0, 0, 0, 0, 0, 0, 0, 0, 0, 0, 0, 0, 0, 0, 0, 0, 0, 0, 0, 0, 0, 0, 0, 0, 0, 0, 0, 0, 0, 0, 0, 0, 0, 0, 0, 0, 0, 0, 0, 0, 0, 0, 0, 0, 0, 0, 0, 0, 0],\n",
       "[      0,       0,      0,       0, 0, 0, 0, 0, 0, 0, 0, 0, 0, 0, 0, 0, 0, 0, 0, 0, 0, 0, 0, 0, 0, 0, 0, 0, 0, 0, 0, 0, 0, 0, 0, 0, 0, 0, 0, 0, 0, 0, 0, 0, 0, 0, 0, 0, 0, 0, 0, 0, 0, 0, 0, 0, 0, 0, 0, 0, 0, 0, 0, 0],\n",
       "[      0,       0,      0,       0, 0, 0, 0, 0, 0, 0, 0, 0, 0, 0, 0, 0, 0, 0, 0, 0, 0, 0, 0, 0, 0, 0, 0, 0, 0, 0, 0, 0, 0, 0, 0, 0, 0, 0, 0, 0, 0, 0, 0, 0, 0, 0, 0, 0, 0, 0, 0, 0, 0, 0, 0, 0, 0, 0, 0, 0, 0, 0, 0, 0],\n",
       "[      0,       0,      0,       0, 0, 0, 0, 0, 0, 0, 0, 0, 0, 0, 0, 0, 0, 0, 0, 0, 0, 0, 0, 0, 0, 0, 0, 0, 0, 0, 0, 0, 0, 0, 0, 0, 0, 0, 0, 0, 0, 0, 0, 0, 0, 0, 0, 0, 0, 0, 0, 0, 0, 0, 0, 0, 0, 0, 0, 0, 0, 0, 0, 0],\n",
       "[      0,       0,      0,       0, 0, 0, 0, 0, 0, 0, 0, 0, 0, 0, 0, 0, 0, 0, 0, 0, 0, 0, 0, 0, 0, 0, 0, 0, 0, 0, 0, 0, 0, 0, 0, 0, 0, 0, 0, 0, 0, 0, 0, 0, 0, 0, 0, 0, 0, 0, 0, 0, 0, 0, 0, 0, 0, 0, 0, 0, 0, 0, 0, 0],\n",
       "[      0,       0,      0,       0, 0, 0, 0, 0, 0, 0, 0, 0, 0, 0, 0, 0, 0, 0, 0, 0, 0, 0, 0, 0, 0, 0, 0, 0, 0, 0, 0, 0, 0, 0, 0, 0, 0, 0, 0, 0, 0, 0, 0, 0, 0, 0, 0, 0, 0, 0, 0, 0, 0, 0, 0, 0, 0, 0, 0, 0, 0, 0, 0, 0],\n",
       "[      0,       0,      0,       0, 0, 0, 0, 0, 0, 0, 0, 0, 0, 0, 0, 0, 0, 0, 0, 0, 0, 0, 0, 0, 0, 0, 0, 0, 0, 0, 0, 0, 0, 0, 0, 0, 0, 0, 0, 0, 0, 0, 0, 0, 0, 0, 0, 0, 0, 0, 0, 0, 0, 0, 0, 0, 0, 0, 0, 0, 0, 0, 0, 0],\n",
       "[      0,       0,      0,       0, 0, 0, 0, 0, 0, 0, 0, 0, 0, 0, 0, 0, 0, 0, 0, 0, 0, 0, 0, 0, 0, 0, 0, 0, 0, 0, 0, 0, 0, 0, 0, 0, 0, 0, 0, 0, 0, 0, 0, 0, 0, 0, 0, 0, 0, 0, 0, 0, 0, 0, 0, 0, 0, 0, 0, 0, 0, 0, 0, 0],\n",
       "[      0,       0,      0,       0, 0, 0, 0, 0, 0, 0, 0, 0, 0, 0, 0, 0, 0, 0, 0, 0, 0, 0, 0, 0, 0, 0, 0, 0, 0, 0, 0, 0, 0, 0, 0, 0, 0, 0, 0, 0, 0, 0, 0, 0, 0, 0, 0, 0, 0, 0, 0, 0, 0, 0, 0, 0, 0, 0, 0, 0, 0, 0, 0, 0],\n",
       "[      0,       0,      0,       0, 0, 0, 0, 0, 0, 0, 0, 0, 0, 0, 0, 0, 0, 0, 0, 0, 0, 0, 0, 0, 0, 0, 0, 0, 0, 0, 0, 0, 0, 0, 0, 0, 0, 0, 0, 0, 0, 0, 0, 0, 0, 0, 0, 0, 0, 0, 0, 0, 0, 0, 0, 0, 0, 0, 0, 0, 0, 0, 0, 0],\n",
       "[      0,       0,      0,       0, 0, 0, 0, 0, 0, 0, 0, 0, 0, 0, 0, 0, 0, 0, 0, 0, 0, 0, 0, 0, 0, 0, 0, 0, 0, 0, 0, 0, 0, 0, 0, 0, 0, 0, 0, 0, 0, 0, 0, 0, 0, 0, 0, 0, 0, 0, 0, 0, 0, 0, 0, 0, 0, 0, 0, 0, 0, 0, 0, 0],\n",
       "[      0,       0,      0,       0, 0, 0, 0, 0, 0, 0, 0, 0, 0, 0, 0, 0, 0, 0, 0, 0, 0, 0, 0, 0, 0, 0, 0, 0, 0, 0, 0, 0, 0, 0, 0, 0, 0, 0, 0, 0, 0, 0, 0, 0, 0, 0, 0, 0, 0, 0, 0, 0, 0, 0, 0, 0, 0, 0, 0, 0, 0, 0, 0, 0],\n",
       "[      0,       0,      0,       0, 0, 0, 0, 0, 0, 0, 0, 0, 0, 0, 0, 0, 0, 0, 0, 0, 0, 0, 0, 0, 0, 0, 0, 0, 0, 0, 0, 0, 0, 0, 0, 0, 0, 0, 0, 0, 0, 0, 0, 0, 0, 0, 0, 0, 0, 0, 0, 0, 0, 0, 0, 0, 0, 0, 0, 0, 0, 0, 0, 0],\n",
       "[      0,       0,      0,       0, 0, 0, 0, 0, 0, 0, 0, 0, 0, 0, 0, 0, 0, 0, 0, 0, 0, 0, 0, 0, 0, 0, 0, 0, 0, 0, 0, 0, 0, 0, 0, 0, 0, 0, 0, 0, 0, 0, 0, 0, 0, 0, 0, 0, 0, 0, 0, 0, 0, 0, 0, 0, 0, 0, 0, 0, 0, 0, 0, 0],\n",
       "[      0,       0,      0,       0, 0, 0, 0, 0, 0, 0, 0, 0, 0, 0, 0, 0, 0, 0, 0, 0, 0, 0, 0, 0, 0, 0, 0, 0, 0, 0, 0, 0, 0, 0, 0, 0, 0, 0, 0, 0, 0, 0, 0, 0, 0, 0, 0, 0, 0, 0, 0, 0, 0, 0, 0, 0, 0, 0, 0, 0, 0, 0, 0, 0],\n",
       "[      0,       0,      0,       0, 0, 0, 0, 0, 0, 0, 0, 0, 0, 0, 0, 0, 0, 0, 0, 0, 0, 0, 0, 0, 0, 0, 0, 0, 0, 0, 0, 0, 0, 0, 0, 0, 0, 0, 0, 0, 0, 0, 0, 0, 0, 0, 0, 0, 0, 0, 0, 0, 0, 0, 0, 0, 0, 0, 0, 0, 0, 0, 0, 0],\n",
       "[      0,       0,      0,       0, 0, 0, 0, 0, 0, 0, 0, 0, 0, 0, 0, 0, 0, 0, 0, 0, 0, 0, 0, 0, 0, 0, 0, 0, 0, 0, 0, 0, 0, 0, 0, 0, 0, 0, 0, 0, 0, 0, 0, 0, 0, 0, 0, 0, 0, 0, 0, 0, 0, 0, 0, 0, 0, 0, 0, 0, 0, 0, 0, 0],\n",
       "[      0,       0,      0,       0, 0, 0, 0, 0, 0, 0, 0, 0, 0, 0, 0, 0, 0, 0, 0, 0, 0, 0, 0, 0, 0, 0, 0, 0, 0, 0, 0, 0, 0, 0, 0, 0, 0, 0, 0, 0, 0, 0, 0, 0, 0, 0, 0, 0, 0, 0, 0, 0, 0, 0, 0, 0, 0, 0, 0, 0, 0, 0, 0, 0],\n",
       "[      0,       0,      0,       0, 0, 0, 0, 0, 0, 0, 0, 0, 0, 0, 0, 0, 0, 0, 0, 0, 0, 0, 0, 0, 0, 0, 0, 0, 0, 0, 0, 0, 0, 0, 0, 0, 0, 0, 0, 0, 0, 0, 0, 0, 0, 0, 0, 0, 0, 0, 0, 0, 0, 0, 0, 0, 0, 0, 0, 0, 0, 0, 0, 0],\n",
       "[      0,       0,      0,       0, 0, 0, 0, 0, 0, 0, 0, 0, 0, 0, 0, 0, 0, 0, 0, 0, 0, 0, 0, 0, 0, 0, 0, 0, 0, 0, 0, 0, 0, 0, 0, 0, 0, 0, 0, 0, 0, 0, 0, 0, 0, 0, 0, 0, 0, 0, 0, 0, 0, 0, 0, 0, 0, 0, 0, 0, 0, 0, 0, 0],\n",
       "[      0,       0,      0,       0, 0, 0, 0, 0, 0, 0, 0, 0, 0, 0, 0, 0, 0, 0, 0, 0, 0, 0, 0, 0, 0, 0, 0, 0, 0, 0, 0, 0, 0, 0, 0, 0, 0, 0, 0, 0, 0, 0, 0, 0, 0, 0, 0, 0, 0, 0, 0, 0, 0, 0, 0, 0, 0, 0, 0, 0, 0, 0, 0, 0],\n",
       "[      0,       0,      0,       0, 0, 0, 0, 0, 0, 0, 0, 0, 0, 0, 0, 0, 0, 0, 0, 0, 0, 0, 0, 0, 0, 0, 0, 0, 0, 0, 0, 0, 0, 0, 0, 0, 0, 0, 0, 0, 0, 0, 0, 0, 0, 0, 0, 0, 0, 0, 0, 0, 0, 0, 0, 0, 0, 0, 0, 0, 0, 0, 0, 0],\n",
       "[      0,       0,      0,       0, 0, 0, 0, 0, 0, 0, 0, 0, 0, 0, 0, 0, 0, 0, 0, 0, 0, 0, 0, 0, 0, 0, 0, 0, 0, 0, 0, 0, 0, 0, 0, 0, 0, 0, 0, 0, 0, 0, 0, 0, 0, 0, 0, 0, 0, 0, 0, 0, 0, 0, 0, 0, 0, 0, 0, 0, 0, 0, 0, 0],\n",
       "[      0,       0,      0,       0, 0, 0, 0, 0, 0, 0, 0, 0, 0, 0, 0, 0, 0, 0, 0, 0, 0, 0, 0, 0, 0, 0, 0, 0, 0, 0, 0, 0, 0, 0, 0, 0, 0, 0, 0, 0, 0, 0, 0, 0, 0, 0, 0, 0, 0, 0, 0, 0, 0, 0, 0, 0, 0, 0, 0, 0, 0, 0, 0, 0],\n",
       "[      0,       0,      0,       0, 0, 0, 0, 0, 0, 0, 0, 0, 0, 0, 0, 0, 0, 0, 0, 0, 0, 0, 0, 0, 0, 0, 0, 0, 0, 0, 0, 0, 0, 0, 0, 0, 0, 0, 0, 0, 0, 0, 0, 0, 0, 0, 0, 0, 0, 0, 0, 0, 0, 0, 0, 0, 0, 0, 0, 0, 0, 0, 0, 0],\n",
       "[      0,       0,      0,       0, 0, 0, 0, 0, 0, 0, 0, 0, 0, 0, 0, 0, 0, 0, 0, 0, 0, 0, 0, 0, 0, 0, 0, 0, 0, 0, 0, 0, 0, 0, 0, 0, 0, 0, 0, 0, 0, 0, 0, 0, 0, 0, 0, 0, 0, 0, 0, 0, 0, 0, 0, 0, 0, 0, 0, 0, 0, 0, 0, 0],\n",
       "[      0,       0,      0,       0, 0, 0, 0, 0, 0, 0, 0, 0, 0, 0, 0, 0, 0, 0, 0, 0, 0, 0, 0, 0, 0, 0, 0, 0, 0, 0, 0, 0, 0, 0, 0, 0, 0, 0, 0, 0, 0, 0, 0, 0, 0, 0, 0, 0, 0, 0, 0, 0, 0, 0, 0, 0, 0, 0, 0, 0, 0, 0, 0, 0],\n",
       "[      0,       0,      0,       0, 0, 0, 0, 0, 0, 0, 0, 0, 0, 0, 0, 0, 0, 0, 0, 0, 0, 0, 0, 0, 0, 0, 0, 0, 0, 0, 0, 0, 0, 0, 0, 0, 0, 0, 0, 0, 0, 0, 0, 0, 0, 0, 0, 0, 0, 0, 0, 0, 0, 0, 0, 0, 0, 0, 0, 0, 0, 0, 0, 0],\n",
       "[      0,       0,      0,       0, 0, 0, 0, 0, 0, 0, 0, 0, 0, 0, 0, 0, 0, 0, 0, 0, 0, 0, 0, 0, 0, 0, 0, 0, 0, 0, 0, 0, 0, 0, 0, 0, 0, 0, 0, 0, 0, 0, 0, 0, 0, 0, 0, 0, 0, 0, 0, 0, 0, 0, 0, 0, 0, 0, 0, 0, 0, 0, 0, 0],\n",
       "[      0,       0,      0,       0, 0, 0, 0, 0, 0, 0, 0, 0, 0, 0, 0, 0, 0, 0, 0, 0, 0, 0, 0, 0, 0, 0, 0, 0, 0, 0, 0, 0, 0, 0, 0, 0, 0, 0, 0, 0, 0, 0, 0, 0, 0, 0, 0, 0, 0, 0, 0, 0, 0, 0, 0, 0, 0, 0, 0, 0, 0, 0, 0, 0],\n",
       "[      0,       0,      0,       0, 0, 0, 0, 0, 0, 0, 0, 0, 0, 0, 0, 0, 0, 0, 0, 0, 0, 0, 0, 0, 0, 0, 0, 0, 0, 0, 0, 0, 0, 0, 0, 0, 0, 0, 0, 0, 0, 0, 0, 0, 0, 0, 0, 0, 0, 0, 0, 0, 0, 0, 0, 0, 0, 0, 0, 0, 0, 0, 0, 0],\n",
       "[      0,       0,      0,       0, 0, 0, 0, 0, 0, 0, 0, 0, 0, 0, 0, 0, 0, 0, 0, 0, 0, 0, 0, 0, 0, 0, 0, 0, 0, 0, 0, 0, 0, 0, 0, 0, 0, 0, 0, 0, 0, 0, 0, 0, 0, 0, 0, 0, 0, 0, 0, 0, 0, 0, 0, 0, 0, 0, 0, 0, 0, 0, 0, 0],\n",
       "[      0,       0,      0,       0, 0, 0, 0, 0, 0, 0, 0, 0, 0, 0, 0, 0, 0, 0, 0, 0, 0, 0, 0, 0, 0, 0, 0, 0, 0, 0, 0, 0, 0, 0, 0, 0, 0, 0, 0, 0, 0, 0, 0, 0, 0, 0, 0, 0, 0, 0, 0, 0, 0, 0, 0, 0, 0, 0, 0, 0, 0, 0, 0, 0],\n",
       "[      0,       0,      0,       0, 0, 0, 0, 0, 0, 0, 0, 0, 0, 0, 0, 0, 0, 0, 0, 0, 0, 0, 0, 0, 0, 0, 0, 0, 0, 0, 0, 0, 0, 0, 0, 0, 0, 0, 0, 0, 0, 0, 0, 0, 0, 0, 0, 0, 0, 0, 0, 0, 0, 0, 0, 0, 0, 0, 0, 0, 0, 0, 0, 0],\n",
       "[      0,       0,      0,       0, 0, 0, 0, 0, 0, 0, 0, 0, 0, 0, 0, 0, 0, 0, 0, 0, 0, 0, 0, 0, 0, 0, 0, 0, 0, 0, 0, 0, 0, 0, 0, 0, 0, 0, 0, 0, 0, 0, 0, 0, 0, 0, 0, 0, 0, 0, 0, 0, 0, 0, 0, 0, 0, 0, 0, 0, 0, 0, 0, 0],\n",
       "[      0,       0,      0,       0, 0, 0, 0, 0, 0, 0, 0, 0, 0, 0, 0, 0, 0, 0, 0, 0, 0, 0, 0, 0, 0, 0, 0, 0, 0, 0, 0, 0, 0, 0, 0, 0, 0, 0, 0, 0, 0, 0, 0, 0, 0, 0, 0, 0, 0, 0, 0, 0, 0, 0, 0, 0, 0, 0, 0, 0, 0, 0, 0, 0],\n",
       "[      0,       0,      0,       0, 0, 0, 0, 0, 0, 0, 0, 0, 0, 0, 0, 0, 0, 0, 0, 0, 0, 0, 0, 0, 0, 0, 0, 0, 0, 0, 0, 0, 0, 0, 0, 0, 0, 0, 0, 0, 0, 0, 0, 0, 0, 0, 0, 0, 0, 0, 0, 0, 0, 0, 0, 0, 0, 0, 0, 0, 0, 0, 0, 0],\n",
       "[      0,       0,      0,       0, 0, 0, 0, 0, 0, 0, 0, 0, 0, 0, 0, 0, 0, 0, 0, 0, 0, 0, 0, 0, 0, 0, 0, 0, 0, 0, 0, 0, 0, 0, 0, 0, 0, 0, 0, 0, 0, 0, 0, 0, 0, 0, 0, 0, 0, 0, 0, 0, 0, 0, 0, 0, 0, 0, 0, 0, 0, 0, 0, 0],\n",
       "[      0,       0,      0,       0, 0, 0, 0, 0, 0, 0, 0, 0, 0, 0, 0, 0, 0, 0, 0, 0, 0, 0, 0, 0, 0, 0, 0, 0, 0, 0, 0, 0, 0, 0, 0, 0, 0, 0, 0, 0, 0, 0, 0, 0, 0, 0, 0, 0, 0, 0, 0, 0, 0, 0, 0, 0, 0, 0, 0, 0, 0, 0, 0, 0],\n",
       "[      0,       0,      0,       0, 0, 0, 0, 0, 0, 0, 0, 0, 0, 0, 0, 0, 0, 0, 0, 0, 0, 0, 0, 0, 0, 0, 0, 0, 0, 0, 0, 0, 0, 0, 0, 0, 0, 0, 0, 0, 0, 0, 0, 0, 0, 0, 0, 0, 0, 0, 0, 0, 0, 0, 0, 0, 0, 0, 0, 0, 0, 0, 0, 0],\n",
       "[      0,       0,      0,       0, 0, 0, 0, 0, 0, 0, 0, 0, 0, 0, 0, 0, 0, 0, 0, 0, 0, 0, 0, 0, 0, 0, 0, 0, 0, 0, 0, 0, 0, 0, 0, 0, 0, 0, 0, 0, 0, 0, 0, 0, 0, 0, 0, 0, 0, 0, 0, 0, 0, 0, 0, 0, 0, 0, 0, 0, 0, 0, 0, 0],\n",
       "[      0,       0,      0,       0, 0, 0, 0, 0, 0, 0, 0, 0, 0, 0, 0, 0, 0, 0, 0, 0, 0, 0, 0, 0, 0, 0, 0, 0, 0, 0, 0, 0, 0, 0, 0, 0, 0, 0, 0, 0, 0, 0, 0, 0, 0, 0, 0, 0, 0, 0, 0, 0, 0, 0, 0, 0, 0, 0, 0, 0, 0, 0, 0, 0],\n",
       "[      0,       0,      0,       0, 0, 0, 0, 0, 0, 0, 0, 0, 0, 0, 0, 0, 0, 0, 0, 0, 0, 0, 0, 0, 0, 0, 0, 0, 0, 0, 0, 0, 0, 0, 0, 0, 0, 0, 0, 0, 0, 0, 0, 0, 0, 0, 0, 0, 0, 0, 0, 0, 0, 0, 0, 0, 0, 0, 0, 0, 0, 0, 0, 0],\n",
       "[      0,       0,      0,       0, 0, 0, 0, 0, 0, 0, 0, 0, 0, 0, 0, 0, 0, 0, 0, 0, 0, 0, 0, 0, 0, 0, 0, 0, 0, 0, 0, 0, 0, 0, 0, 0, 0, 0, 0, 0, 0, 0, 0, 0, 0, 0, 0, 0, 0, 0, 0, 0, 0, 0, 0, 0, 0, 0, 0, 0, 0, 0, 0, 0],\n",
       "[      0,       0,      0,       0, 0, 0, 0, 0, 0, 0, 0, 0, 0, 0, 0, 0, 0, 0, 0, 0, 0, 0, 0, 0, 0, 0, 0, 0, 0, 0, 0, 0, 0, 0, 0, 0, 0, 0, 0, 0, 0, 0, 0, 0, 0, 0, 0, 0, 0, 0, 0, 0, 0, 0, 0, 0, 0, 0, 0, 0, 0, 0, 0, 0],\n",
       "[      0,       0,      0,       0, 0, 0, 0, 0, 0, 0, 0, 0, 0, 0, 0, 0, 0, 0, 0, 0, 0, 0, 0, 0, 0, 0, 0, 0, 0, 0, 0, 0, 0, 0, 0, 0, 0, 0, 0, 0, 0, 0, 0, 0, 0, 0, 0, 0, 0, 0, 0, 0, 0, 0, 0, 0, 0, 0, 0, 0, 0, 0, 0, 0],\n",
       "[      0,       0,      0,       0, 0, 0, 0, 0, 0, 0, 0, 0, 0, 0, 0, 0, 0, 0, 0, 0, 0, 0, 0, 0, 0, 0, 0, 0, 0, 0, 0, 0, 0, 0, 0, 0, 0, 0, 0, 0, 0, 0, 0, 0, 0, 0, 0, 0, 0, 0, 0, 0, 0, 0, 0, 0, 0, 0, 0, 0, 0, 0, 0, 0],\n",
       "[      0,       0,      0,       0, 0, 0, 0, 0, 0, 0, 0, 0, 0, 0, 0, 0, 0, 0, 0, 0, 0, 0, 0, 0, 0, 0, 0, 0, 0, 0, 0, 0, 0, 0, 0, 0, 0, 0, 0, 0, 0, 0, 0, 0, 0, 0, 0, 0, 0, 0, 0, 0, 0, 0, 0, 0, 0, 0, 0, 0, 0, 0, 0, 0],\n",
       "[      0,       0,      0,       0, 0, 0, 0, 0, 0, 0, 0, 0, 0, 0, 0, 0, 0, 0, 0, 0, 0, 0, 0, 0, 0, 0, 0, 0, 0, 0, 0, 0, 0, 0, 0, 0, 0, 0, 0, 0, 0, 0, 0, 0, 0, 0, 0, 0, 0, 0, 0, 0, 0, 0, 0, 0, 0, 0, 0, 0, 0, 0, 0, 0],\n",
       "[      0,       0,      0,       0, 0, 0, 0, 0, 0, 0, 0, 0, 0, 0, 0, 0, 0, 0, 0, 0, 0, 0, 0, 0, 0, 0, 0, 0, 0, 0, 0, 0, 0, 0, 0, 0, 0, 0, 0, 0, 0, 0, 0, 0, 0, 0, 0, 0, 0, 0, 0, 0, 0, 0, 0, 0, 0, 0, 0, 0, 0, 0, 0, 0],\n",
       "[      0,       0,      0,       0, 0, 0, 0, 0, 0, 0, 0, 0, 0, 0, 0, 0, 0, 0, 0, 0, 0, 0, 0, 0, 0, 0, 0, 0, 0, 0, 0, 0, 0, 0, 0, 0, 0, 0, 0, 0, 0, 0, 0, 0, 0, 0, 0, 0, 0, 0, 0, 0, 0, 0, 0, 0, 0, 0, 0, 0, 0, 0, 0, 0]])"
      ]
     },
     "execution_count": 161,
     "metadata": {},
     "output_type": "execute_result"
    }
   ],
   "source": [
    "rho = proj(psi)\n",
    "rho"
   ]
  },
  {
   "cell_type": "code",
   "execution_count": 162,
   "id": "a3bf33c4",
   "metadata": {},
   "outputs": [
    {
     "data": {
      "text/latex": [
       "$\\displaystyle 0.25 {\\left|000000\\right\\rangle } {\\left\\langle 000000\\right|} - 0.25 i {\\left|000000\\right\\rangle } {\\left\\langle 000001\\right|} + 0.25 i {\\left|000000\\right\\rangle } {\\left\\langle 000010\\right|} + 0.25 {\\left|000000\\right\\rangle } {\\left\\langle 000011\\right|} + 0.25 i {\\left|000001\\right\\rangle } {\\left\\langle 000000\\right|} + 0.25 {\\left|000001\\right\\rangle } {\\left\\langle 000001\\right|} - 0.25 {\\left|000001\\right\\rangle } {\\left\\langle 000010\\right|} + 0.25 i {\\left|000001\\right\\rangle } {\\left\\langle 000011\\right|} - 0.25 i {\\left|000010\\right\\rangle } {\\left\\langle 000000\\right|} - 0.25 {\\left|000010\\right\\rangle } {\\left\\langle 000001\\right|} + 0.25 {\\left|000010\\right\\rangle } {\\left\\langle 000010\\right|} - 0.25 i {\\left|000010\\right\\rangle } {\\left\\langle 000011\\right|} + 0.25 {\\left|000011\\right\\rangle } {\\left\\langle 000000\\right|} - 0.25 i {\\left|000011\\right\\rangle } {\\left\\langle 000001\\right|} + 0.25 i {\\left|000011\\right\\rangle } {\\left\\langle 000010\\right|} + 0.25 {\\left|000011\\right\\rangle } {\\left\\langle 000011\\right|}$"
      ],
      "text/plain": [
       "0.25*|000000>*<000000| - 0.25*I*|000000>*<000001| + 0.25*I*|000000>*<000010| + 0.25*|000000>*<000011| + 0.25*I*|000001>*<000000| + 0.25*|000001>*<000001| - 0.25*|000001>*<000010| + 0.25*I*|000001>*<000011| - 0.25*I*|000010>*<000000| - 0.25*|000010>*<000001| + 0.25*|000010>*<000010| - 0.25*I*|000010>*<000011| + 0.25*|000011>*<000000| - 0.25*I*|000011>*<000001| + 0.25*I*|000011>*<000010| + 0.25*|000011>*<000011|"
      ]
     },
     "execution_count": 162,
     "metadata": {},
     "output_type": "execute_result"
    }
   ],
   "source": [
    "rhokb = m_braket(proj(psi))\n",
    "rhokb"
   ]
  },
  {
   "cell_type": "markdown",
   "id": "d9c8453b",
   "metadata": {},
   "source": [
    "### Exemplo 2"
   ]
  },
  {
   "cell_type": "code",
   "execution_count": 170,
   "id": "055b0b9e",
   "metadata": {},
   "outputs": [
    {
     "data": {
      "text/latex": [
       "$\\displaystyle \\left[\\begin{matrix}\\rho_{00} & \\rho_{01} & \\rho_{02} & \\rho_{03}\\\\\\rho_{04} & \\rho_{05} & \\rho_{06} & \\rho_{07}\\\\\\rho_{08} & \\rho_{09} & \\rho_{10} & \\rho_{11}\\\\\\rho_{12} & \\rho_{13} & \\rho_{14} & \\rho_{15}\\end{matrix}\\right]$"
      ],
      "text/plain": [
       "Matrix([\n",
       "[rho_00, rho_01, rho_02, rho_03],\n",
       "[rho_04, rho_05, rho_06, rho_07],\n",
       "[rho_08, rho_09, rho_10, rho_11],\n",
       "[rho_12, rho_13, rho_14, rho_15]])"
      ]
     },
     "execution_count": 170,
     "metadata": {},
     "output_type": "execute_result"
    }
   ],
   "source": [
    "rho_AB = rho_g(4,0)\n",
    "rho_AB"
   ]
  },
  {
   "cell_type": "code",
   "execution_count": 171,
   "id": "9420cf02",
   "metadata": {},
   "outputs": [
    {
     "data": {
      "text/latex": [
       "$\\displaystyle \\rho_{00} {\\left|00\\right\\rangle } {\\left\\langle 00\\right|} + \\rho_{01} {\\left|00\\right\\rangle } {\\left\\langle 01\\right|} + \\rho_{02} {\\left|00\\right\\rangle } {\\left\\langle 10\\right|} + \\rho_{03} {\\left|00\\right\\rangle } {\\left\\langle 11\\right|} + \\rho_{04} {\\left|01\\right\\rangle } {\\left\\langle 00\\right|} + \\rho_{05} {\\left|01\\right\\rangle } {\\left\\langle 01\\right|} + \\rho_{06} {\\left|01\\right\\rangle } {\\left\\langle 10\\right|} + \\rho_{07} {\\left|01\\right\\rangle } {\\left\\langle 11\\right|} + \\rho_{08} {\\left|10\\right\\rangle } {\\left\\langle 00\\right|} + \\rho_{09} {\\left|10\\right\\rangle } {\\left\\langle 01\\right|} + \\rho_{10} {\\left|10\\right\\rangle } {\\left\\langle 10\\right|} + \\rho_{11} {\\left|10\\right\\rangle } {\\left\\langle 11\\right|} + \\rho_{12} {\\left|11\\right\\rangle } {\\left\\langle 00\\right|} + \\rho_{13} {\\left|11\\right\\rangle } {\\left\\langle 01\\right|} + \\rho_{14} {\\left|11\\right\\rangle } {\\left\\langle 10\\right|} + \\rho_{15} {\\left|11\\right\\rangle } {\\left\\langle 11\\right|}$"
      ],
      "text/plain": [
       "rho_00*|00>*<00| + rho_01*|00>*<01| + rho_02*|00>*<10| + rho_03*|00>*<11| + rho_04*|01>*<00| + rho_05*|01>*<01| + rho_06*|01>*<10| + rho_07*|01>*<11| + rho_08*|10>*<00| + rho_09*|10>*<01| + rho_10*|10>*<10| + rho_11*|10>*<11| + rho_12*|11>*<00| + rho_13*|11>*<01| + rho_14*|11>*<10| + rho_15*|11>*<11|"
      ]
     },
     "execution_count": 171,
     "metadata": {},
     "output_type": "execute_result"
    }
   ],
   "source": [
    "rhokb_AB = m_braket(rho_AB)\n",
    "rhokb_AB"
   ]
  },
  {
   "cell_type": "markdown",
   "id": "9abb6235",
   "metadata": {},
   "source": [
    "#### Matriz densidade reduzida do subsistema A - Traço parcial no subsistema B"
   ]
  },
  {
   "cell_type": "code",
   "execution_count": 172,
   "id": "f5b9e2eb",
   "metadata": {},
   "outputs": [
    {
     "data": {
      "text/latex": [
       "$\\displaystyle \\left[\\begin{matrix}\\rho_{00} + \\rho_{05} & \\rho_{02} + \\rho_{07}\\\\\\rho_{08} + \\rho_{13} & \\rho_{10} + \\rho_{15}\\end{matrix}\\right]$"
      ],
      "text/plain": [
       "Matrix([\n",
       "[rho_00 + rho_05, rho_02 + rho_07],\n",
       "[rho_08 + rho_13, rho_10 + rho_15]])"
      ]
     },
     "execution_count": 172,
     "metadata": {},
     "output_type": "execute_result"
    }
   ],
   "source": [
    "rho_A = ptraceB(2,2,rho_AB)\n",
    "rho_A"
   ]
  },
  {
   "cell_type": "code",
   "execution_count": 173,
   "id": "96554a3b",
   "metadata": {},
   "outputs": [
    {
     "data": {
      "text/latex": [
       "$\\displaystyle \\left(\\rho_{00} + \\rho_{05}\\right) {\\left|0\\right\\rangle } {\\left\\langle 0\\right|} + \\left(\\rho_{02} + \\rho_{07}\\right) {\\left|0\\right\\rangle } {\\left\\langle 1\\right|} + \\left(\\rho_{08} + \\rho_{13}\\right) {\\left|1\\right\\rangle } {\\left\\langle 0\\right|} + \\left(\\rho_{10} + \\rho_{15}\\right) {\\left|1\\right\\rangle } {\\left\\langle 1\\right|}$"
      ],
      "text/plain": [
       "(rho_00 + rho_05)*|0>*<0| + (rho_02 + rho_07)*|0>*<1| + (rho_08 + rho_13)*|1>*<0| + (rho_10 + rho_15)*|1>*<1|"
      ]
     },
     "execution_count": 173,
     "metadata": {},
     "output_type": "execute_result"
    }
   ],
   "source": [
    "rhokb_A = m_braket(rho_A)\n",
    "rhokb_A"
   ]
  },
  {
   "cell_type": "markdown",
   "id": "12770fc1",
   "metadata": {},
   "source": [
    "#### Matriz densidade reduzida do subsistema B - Traço parcial no subsistema A"
   ]
  },
  {
   "cell_type": "code",
   "execution_count": 174,
   "id": "150c60b4",
   "metadata": {},
   "outputs": [
    {
     "data": {
      "text/latex": [
       "$\\displaystyle \\left[\\begin{matrix}\\rho_{00} + \\rho_{10} & \\rho_{01} + \\rho_{11}\\\\\\rho_{04} + \\rho_{14} & \\rho_{05} + \\rho_{15}\\end{matrix}\\right]$"
      ],
      "text/plain": [
       "Matrix([\n",
       "[rho_00 + rho_10, rho_01 + rho_11],\n",
       "[rho_04 + rho_14, rho_05 + rho_15]])"
      ]
     },
     "execution_count": 174,
     "metadata": {},
     "output_type": "execute_result"
    }
   ],
   "source": [
    "rho_B = ptraceA(2,2,rho_AB)\n",
    "rho_B"
   ]
  },
  {
   "cell_type": "code",
   "execution_count": 175,
   "id": "c2b42933",
   "metadata": {},
   "outputs": [
    {
     "data": {
      "text/latex": [
       "$\\displaystyle \\left(\\rho_{00} + \\rho_{10}\\right) {\\left|0\\right\\rangle } {\\left\\langle 0\\right|} + \\left(\\rho_{01} + \\rho_{11}\\right) {\\left|0\\right\\rangle } {\\left\\langle 1\\right|} + \\left(\\rho_{04} + \\rho_{14}\\right) {\\left|1\\right\\rangle } {\\left\\langle 0\\right|} + \\left(\\rho_{05} + \\rho_{15}\\right) {\\left|1\\right\\rangle } {\\left\\langle 1\\right|}$"
      ],
      "text/plain": [
       "(rho_00 + rho_10)*|0>*<0| + (rho_01 + rho_11)*|0>*<1| + (rho_04 + rho_14)*|1>*<0| + (rho_05 + rho_15)*|1>*<1|"
      ]
     },
     "execution_count": 175,
     "metadata": {},
     "output_type": "execute_result"
    }
   ],
   "source": [
    "rhokb_B = m_braket(rho_B)\n",
    "rhokb_B"
   ]
  },
  {
   "cell_type": "markdown",
   "id": "a57197a0",
   "metadata": {},
   "source": [
    "### Exemplo 3 - Base de Bell"
   ]
  },
  {
   "cell_type": "markdown",
   "id": "0aa4b47f",
   "metadata": {},
   "source": [
    "Base de Bell - $\\Phi_+$"
   ]
  },
  {
   "cell_type": "code",
   "execution_count": 176,
   "id": "26c9bd5c",
   "metadata": {},
   "outputs": [
    {
     "data": {
      "text/latex": [
       "$\\displaystyle \\left[\\begin{matrix}\\frac{\\sqrt{2}}{2}\\\\0\\\\0\\\\\\frac{\\sqrt{2}}{2}\\end{matrix}\\right]$"
      ],
      "text/plain": [
       "Matrix([\n",
       "[sqrt(2)/2],\n",
       "[        0],\n",
       "[        0],\n",
       "[sqrt(2)/2]])"
      ]
     },
     "execution_count": 176,
     "metadata": {},
     "output_type": "execute_result"
    }
   ],
   "source": [
    "Phi_p = (tp(cb(2,0),cb(2,0)) + tp(cb(2,1),cb(2,1)))/sqrt(2)\n",
    "Phi_p"
   ]
  },
  {
   "cell_type": "code",
   "execution_count": 177,
   "id": "d7a6cd50",
   "metadata": {},
   "outputs": [
    {
     "data": {
      "text/latex": [
       "$\\displaystyle \\frac{\\sqrt{2} \\left({\\left|00\\right\\rangle } + {\\left|11\\right\\rangle }\\right)}{2}$"
      ],
      "text/plain": [
       "sqrt(2)*(|00> + |11>)/2"
      ]
     },
     "execution_count": 177,
     "metadata": {},
     "output_type": "execute_result"
    }
   ],
   "source": [
    "Phikb_p = m_braket(Phi_p)\n",
    "simplify(Phikb_p)"
   ]
  },
  {
   "cell_type": "code",
   "execution_count": 178,
   "id": "7959873c",
   "metadata": {},
   "outputs": [
    {
     "data": {
      "text/latex": [
       "$\\displaystyle \\left[\\begin{matrix}\\frac{1}{2} & 0 & 0 & \\frac{1}{2}\\\\0 & 0 & 0 & 0\\\\0 & 0 & 0 & 0\\\\\\frac{1}{2} & 0 & 0 & \\frac{1}{2}\\end{matrix}\\right]$"
      ],
      "text/plain": [
       "Matrix([\n",
       "[1/2, 0, 0, 1/2],\n",
       "[  0, 0, 0,   0],\n",
       "[  0, 0, 0,   0],\n",
       "[1/2, 0, 0, 1/2]])"
      ]
     },
     "execution_count": 178,
     "metadata": {},
     "output_type": "execute_result"
    }
   ],
   "source": [
    "rho_Phi_p = proj(Phi_p)\n",
    "rho_Phi_p"
   ]
  },
  {
   "cell_type": "code",
   "execution_count": 179,
   "id": "3c849c0b",
   "metadata": {},
   "outputs": [
    {
     "data": {
      "text/latex": [
       "$\\displaystyle \\frac{{\\left|00\\right\\rangle } {\\left\\langle 00\\right|} + {\\left|00\\right\\rangle } {\\left\\langle 11\\right|} + {\\left|11\\right\\rangle } {\\left\\langle 00\\right|} + {\\left|11\\right\\rangle } {\\left\\langle 11\\right|}}{2}$"
      ],
      "text/plain": [
       "(|00>*<00| + |00>*<11| + |11>*<00| + |11>*<11|)/2"
      ]
     },
     "execution_count": 179,
     "metadata": {},
     "output_type": "execute_result"
    }
   ],
   "source": [
    "rhokb_Phi_p = m_braket(proj(Phi_p))\n",
    "rhokb_Phi_p.simplify()"
   ]
  },
  {
   "cell_type": "markdown",
   "id": "28a7fa41",
   "metadata": {},
   "source": [
    "Base de Bell - $\\Psi_+$"
   ]
  },
  {
   "cell_type": "code",
   "execution_count": 180,
   "id": "cd9b42d5",
   "metadata": {},
   "outputs": [
    {
     "data": {
      "text/latex": [
       "$\\displaystyle \\left[\\begin{matrix}0\\\\\\frac{\\sqrt{2}}{2}\\\\\\frac{\\sqrt{2}}{2}\\\\0\\end{matrix}\\right]$"
      ],
      "text/plain": [
       "Matrix([\n",
       "[        0],\n",
       "[sqrt(2)/2],\n",
       "[sqrt(2)/2],\n",
       "[        0]])"
      ]
     },
     "execution_count": 180,
     "metadata": {},
     "output_type": "execute_result"
    }
   ],
   "source": [
    "Psi_p = (tp(cb(2,0),cb(2,1)) + tp(cb(2,1),cb(2,0)))/sqrt(2)\n",
    "Psi_p"
   ]
  },
  {
   "cell_type": "code",
   "execution_count": 181,
   "id": "23c7639d",
   "metadata": {},
   "outputs": [
    {
     "data": {
      "text/latex": [
       "$\\displaystyle \\frac{\\sqrt{2} \\left({\\left|01\\right\\rangle } + {\\left|10\\right\\rangle }\\right)}{2}$"
      ],
      "text/plain": [
       "sqrt(2)*(|01> + |10>)/2"
      ]
     },
     "execution_count": 181,
     "metadata": {},
     "output_type": "execute_result"
    }
   ],
   "source": [
    "Psikb_p = m_braket(Psi_p)\n",
    "Psikb_p.simplify()"
   ]
  },
  {
   "cell_type": "code",
   "execution_count": 182,
   "id": "b611ac15",
   "metadata": {},
   "outputs": [
    {
     "data": {
      "text/latex": [
       "$\\displaystyle \\left[\\begin{matrix}0 & 0 & 0 & 0\\\\0 & \\frac{1}{2} & \\frac{1}{2} & 0\\\\0 & \\frac{1}{2} & \\frac{1}{2} & 0\\\\0 & 0 & 0 & 0\\end{matrix}\\right]$"
      ],
      "text/plain": [
       "Matrix([\n",
       "[0,   0,   0, 0],\n",
       "[0, 1/2, 1/2, 0],\n",
       "[0, 1/2, 1/2, 0],\n",
       "[0,   0,   0, 0]])"
      ]
     },
     "execution_count": 182,
     "metadata": {},
     "output_type": "execute_result"
    }
   ],
   "source": [
    "rho_Psi_p = proj(Psi_p)\n",
    "rho_Psi_p"
   ]
  },
  {
   "cell_type": "code",
   "execution_count": 183,
   "id": "28a627f7",
   "metadata": {},
   "outputs": [
    {
     "data": {
      "text/latex": [
       "$\\displaystyle \\frac{{\\left|01\\right\\rangle } {\\left\\langle 01\\right|} + {\\left|01\\right\\rangle } {\\left\\langle 10\\right|} + {\\left|10\\right\\rangle } {\\left\\langle 01\\right|} + {\\left|10\\right\\rangle } {\\left\\langle 10\\right|}}{2}$"
      ],
      "text/plain": [
       "(|01>*<01| + |01>*<10| + |10>*<01| + |10>*<10|)/2"
      ]
     },
     "execution_count": 183,
     "metadata": {},
     "output_type": "execute_result"
    }
   ],
   "source": [
    "rhokb_Psi_p = m_braket(proj(Psi_p))\n",
    "rhokb_Psi_p.simplify()"
   ]
  },
  {
   "cell_type": "markdown",
   "id": "5d5c2886",
   "metadata": {},
   "source": [
    "Base de Bell - $\\Psi_-$"
   ]
  },
  {
   "cell_type": "code",
   "execution_count": 184,
   "id": "2ceb1d9f",
   "metadata": {},
   "outputs": [
    {
     "data": {
      "text/latex": [
       "$\\displaystyle \\left[\\begin{matrix}0\\\\\\frac{\\sqrt{2}}{2}\\\\- \\frac{\\sqrt{2}}{2}\\\\0\\end{matrix}\\right]$"
      ],
      "text/plain": [
       "Matrix([\n",
       "[         0],\n",
       "[ sqrt(2)/2],\n",
       "[-sqrt(2)/2],\n",
       "[         0]])"
      ]
     },
     "execution_count": 184,
     "metadata": {},
     "output_type": "execute_result"
    }
   ],
   "source": [
    "Psi_m = (tp(cb(2,0),cb(2,1)) - tp(cb(2,1),cb(2,0)))/sqrt(2)\n",
    "Psi_m"
   ]
  },
  {
   "cell_type": "code",
   "execution_count": 185,
   "id": "575b17ff",
   "metadata": {},
   "outputs": [
    {
     "data": {
      "text/latex": [
       "$\\displaystyle \\frac{\\sqrt{2} \\left({\\left|01\\right\\rangle } - {\\left|10\\right\\rangle }\\right)}{2}$"
      ],
      "text/plain": [
       "sqrt(2)*(|01> - |10>)/2"
      ]
     },
     "execution_count": 185,
     "metadata": {},
     "output_type": "execute_result"
    }
   ],
   "source": [
    "Psikb_m = m_braket(Psi_m)\n",
    "Psikb_m.simplify()"
   ]
  },
  {
   "cell_type": "code",
   "execution_count": 186,
   "id": "e625bd32",
   "metadata": {},
   "outputs": [
    {
     "data": {
      "text/latex": [
       "$\\displaystyle \\left[\\begin{matrix}0 & 0 & 0 & 0\\\\0 & \\frac{1}{2} & - \\frac{1}{2} & 0\\\\0 & - \\frac{1}{2} & \\frac{1}{2} & 0\\\\0 & 0 & 0 & 0\\end{matrix}\\right]$"
      ],
      "text/plain": [
       "Matrix([\n",
       "[0,    0,    0, 0],\n",
       "[0,  1/2, -1/2, 0],\n",
       "[0, -1/2,  1/2, 0],\n",
       "[0,    0,    0, 0]])"
      ]
     },
     "execution_count": 186,
     "metadata": {},
     "output_type": "execute_result"
    }
   ],
   "source": [
    "rho_Psi_m = proj(Psi_m)\n",
    "rho_Psi_m"
   ]
  },
  {
   "cell_type": "code",
   "execution_count": 187,
   "id": "63e44825",
   "metadata": {},
   "outputs": [
    {
     "data": {
      "text/latex": [
       "$\\displaystyle \\frac{{\\left|01\\right\\rangle } {\\left\\langle 01\\right|} - {\\left|01\\right\\rangle } {\\left\\langle 10\\right|} - {\\left|10\\right\\rangle } {\\left\\langle 01\\right|} + {\\left|10\\right\\rangle } {\\left\\langle 10\\right|}}{2}$"
      ],
      "text/plain": [
       "(|01>*<01| - |01>*<10| - |10>*<01| + |10>*<10|)/2"
      ]
     },
     "execution_count": 187,
     "metadata": {},
     "output_type": "execute_result"
    }
   ],
   "source": [
    "rhokb_Psi_m = m_braket(proj(Psi_m))\n",
    "rhokb_Psi_m.simplify()"
   ]
  },
  {
   "cell_type": "markdown",
   "id": "40cdb928",
   "metadata": {},
   "source": [
    "Base de Bell - $\\Phi_-$"
   ]
  },
  {
   "cell_type": "code",
   "execution_count": 188,
   "id": "cfd3b933",
   "metadata": {},
   "outputs": [
    {
     "data": {
      "text/latex": [
       "$\\displaystyle \\left[\\begin{matrix}\\frac{\\sqrt{2}}{2}\\\\0\\\\0\\\\- \\frac{\\sqrt{2}}{2}\\end{matrix}\\right]$"
      ],
      "text/plain": [
       "Matrix([\n",
       "[ sqrt(2)/2],\n",
       "[         0],\n",
       "[         0],\n",
       "[-sqrt(2)/2]])"
      ]
     },
     "execution_count": 188,
     "metadata": {},
     "output_type": "execute_result"
    }
   ],
   "source": [
    "Phi_m = (tp(cb(2,0),cb(2,0)) - tp(cb(2,1),cb(2,1)))/sqrt(2)\n",
    "Phi_m"
   ]
  },
  {
   "cell_type": "code",
   "execution_count": 189,
   "id": "e65662d8",
   "metadata": {},
   "outputs": [
    {
     "data": {
      "text/latex": [
       "$\\displaystyle \\frac{\\sqrt{2} \\left({\\left|00\\right\\rangle } - {\\left|11\\right\\rangle }\\right)}{2}$"
      ],
      "text/plain": [
       "sqrt(2)*(|00> - |11>)/2"
      ]
     },
     "execution_count": 189,
     "metadata": {},
     "output_type": "execute_result"
    }
   ],
   "source": [
    "Phikb_m = m_braket(Phi_m)\n",
    "Phikb_m.simplify()"
   ]
  },
  {
   "cell_type": "code",
   "execution_count": 190,
   "id": "46225fbd",
   "metadata": {},
   "outputs": [
    {
     "data": {
      "text/latex": [
       "$\\displaystyle \\left[\\begin{matrix}\\frac{1}{2} & 0 & 0 & - \\frac{1}{2}\\\\0 & 0 & 0 & 0\\\\0 & 0 & 0 & 0\\\\- \\frac{1}{2} & 0 & 0 & \\frac{1}{2}\\end{matrix}\\right]$"
      ],
      "text/plain": [
       "Matrix([\n",
       "[ 1/2, 0, 0, -1/2],\n",
       "[   0, 0, 0,    0],\n",
       "[   0, 0, 0,    0],\n",
       "[-1/2, 0, 0,  1/2]])"
      ]
     },
     "execution_count": 190,
     "metadata": {},
     "output_type": "execute_result"
    }
   ],
   "source": [
    "rho_Phi_m = proj(Phi_m)\n",
    "rho_Phi_m"
   ]
  },
  {
   "cell_type": "code",
   "execution_count": 191,
   "id": "b97a35ed",
   "metadata": {},
   "outputs": [
    {
     "data": {
      "text/latex": [
       "$\\displaystyle \\frac{{\\left|00\\right\\rangle } {\\left\\langle 00\\right|} - {\\left|00\\right\\rangle } {\\left\\langle 11\\right|} - {\\left|11\\right\\rangle } {\\left\\langle 00\\right|} + {\\left|11\\right\\rangle } {\\left\\langle 11\\right|}}{2}$"
      ],
      "text/plain": [
       "(|00>*<00| - |00>*<11| - |11>*<00| + |11>*<11|)/2"
      ]
     },
     "execution_count": 191,
     "metadata": {},
     "output_type": "execute_result"
    }
   ],
   "source": [
    "rhokb_Phi_m = m_braket(proj(Phi_m))\n",
    "rhokb_Phi_m.simplify()"
   ]
  },
  {
   "cell_type": "markdown",
   "id": "e7870440",
   "metadata": {},
   "source": [
    "# Outras funções"
   ]
  },
  {
   "cell_type": "markdown",
   "id": "9056a081",
   "metadata": {},
   "source": [
    "## Projective measure"
   ]
  },
  {
   "cell_type": "code",
   "execution_count": 201,
   "id": "e7568995",
   "metadata": {},
   "outputs": [],
   "source": [
    "# Projective measure: subsistemas ABCD para sobrar apenas o D\n",
    "#\n",
    "# IMPORTANTE: D subsystem on the left\n",
    "#\n",
    "# rho_AB\n",
    "#\n",
    "# rho_B_red = Proj(A) * rho_AB * Proj(A)\n",
    "#\n",
    "# seq_bin:\n",
    "# If you want project |101>_ABC of |101>_ABC(|0>_D+|1>_D) send seq_bin = '101'\n",
    "# The last qubit is the susystem that you want to keep\n",
    "#\n",
    "# db = dimension expected to the matrix B (ex above is 2 -> M_{2x2}, only D system)\n",
    "# because we are going to remove the ABC systems\n",
    "#\n",
    "def projM(db, seq_bin, rho): # seq_bin \n",
    "    rhoB = zeros(db,db)\n",
    "    dn= int(seq_bin+str(0), 2) # num decimal number of seq_bin\n",
    "    #print(dn)\n",
    "    for j in range(0, db):\n",
    "        for k in range(0, db):\n",
    "                rhoB[j,k] = rho[j+dn,k+dn]\n",
    "    return rhoB/tr(rhoB)"
   ]
  },
  {
   "cell_type": "code",
   "execution_count": 202,
   "id": "ded5b773",
   "metadata": {},
   "outputs": [
    {
     "data": {
      "text/latex": [
       "$\\displaystyle \\left[\\begin{matrix}\\rho_{00} & \\rho_{01} & \\rho_{02} & \\rho_{03}\\\\\\rho_{04} & \\rho_{05} & \\rho_{06} & \\rho_{07}\\\\\\rho_{08} & \\rho_{09} & \\rho_{10} & \\rho_{11}\\\\\\rho_{12} & \\rho_{13} & \\rho_{14} & \\rho_{15}\\end{matrix}\\right]$"
      ],
      "text/plain": [
       "Matrix([\n",
       "[rho_00, rho_01, rho_02, rho_03],\n",
       "[rho_04, rho_05, rho_06, rho_07],\n",
       "[rho_08, rho_09, rho_10, rho_11],\n",
       "[rho_12, rho_13, rho_14, rho_15]])"
      ]
     },
     "execution_count": 202,
     "metadata": {},
     "output_type": "execute_result"
    }
   ],
   "source": [
    "rho_AB = rho_g(4,0)\n",
    "rho_AB"
   ]
  },
  {
   "cell_type": "code",
   "execution_count": 203,
   "id": "9ed573f4",
   "metadata": {},
   "outputs": [
    {
     "data": {
      "text/latex": [
       "$\\displaystyle \\rho_{00} {\\left|00\\right\\rangle } {\\left\\langle 00\\right|} + \\rho_{01} {\\left|00\\right\\rangle } {\\left\\langle 01\\right|} + \\rho_{02} {\\left|00\\right\\rangle } {\\left\\langle 10\\right|} + \\rho_{03} {\\left|00\\right\\rangle } {\\left\\langle 11\\right|} + \\rho_{04} {\\left|01\\right\\rangle } {\\left\\langle 00\\right|} + \\rho_{05} {\\left|01\\right\\rangle } {\\left\\langle 01\\right|} + \\rho_{06} {\\left|01\\right\\rangle } {\\left\\langle 10\\right|} + \\rho_{07} {\\left|01\\right\\rangle } {\\left\\langle 11\\right|} + \\rho_{08} {\\left|10\\right\\rangle } {\\left\\langle 00\\right|} + \\rho_{09} {\\left|10\\right\\rangle } {\\left\\langle 01\\right|} + \\rho_{10} {\\left|10\\right\\rangle } {\\left\\langle 10\\right|} + \\rho_{11} {\\left|10\\right\\rangle } {\\left\\langle 11\\right|} + \\rho_{12} {\\left|11\\right\\rangle } {\\left\\langle 00\\right|} + \\rho_{13} {\\left|11\\right\\rangle } {\\left\\langle 01\\right|} + \\rho_{14} {\\left|11\\right\\rangle } {\\left\\langle 10\\right|} + \\rho_{15} {\\left|11\\right\\rangle } {\\left\\langle 11\\right|}$"
      ],
      "text/plain": [
       "rho_00*|00>*<00| + rho_01*|00>*<01| + rho_02*|00>*<10| + rho_03*|00>*<11| + rho_04*|01>*<00| + rho_05*|01>*<01| + rho_06*|01>*<10| + rho_07*|01>*<11| + rho_08*|10>*<00| + rho_09*|10>*<01| + rho_10*|10>*<10| + rho_11*|10>*<11| + rho_12*|11>*<00| + rho_13*|11>*<01| + rho_14*|11>*<10| + rho_15*|11>*<11|"
      ]
     },
     "execution_count": 203,
     "metadata": {},
     "output_type": "execute_result"
    }
   ],
   "source": [
    "m_braket_g(2,rho_AB)"
   ]
  },
  {
   "cell_type": "code",
   "execution_count": 204,
   "id": "8100e4b8",
   "metadata": {},
   "outputs": [
    {
     "data": {
      "text/latex": [
       "$\\displaystyle \\left[\\begin{matrix}\\frac{\\rho_{00}}{\\rho_{00} + \\rho_{06}} & \\frac{\\rho_{01}}{\\rho_{00} + \\rho_{06}}\\\\\\frac{\\rho_{05}}{\\rho_{00} + \\rho_{06}} & \\frac{\\rho_{06}}{\\rho_{00} + \\rho_{06}}\\end{matrix}\\right]$"
      ],
      "text/plain": [
       "Matrix([\n",
       "[rho_00/(rho_00 + rho_06), rho_01/(rho_00 + rho_06)],\n",
       "[rho_05/(rho_00 + rho_06), rho_06/(rho_00 + rho_06)]])"
      ]
     },
     "execution_count": 204,
     "metadata": {},
     "output_type": "execute_result"
    }
   ],
   "source": [
    "rho_0B = projM(2,'0', rho_0)\n",
    "rho_0B"
   ]
  },
  {
   "cell_type": "code",
   "execution_count": 205,
   "id": "c8d6ec90",
   "metadata": {},
   "outputs": [
    {
     "data": {
      "text/latex": [
       "$\\displaystyle \\frac{\\rho_{00} {\\left|0\\right\\rangle } {\\left\\langle 0\\right|} + \\rho_{01} {\\left|0\\right\\rangle } {\\left\\langle 1\\right|} + \\rho_{05} {\\left|1\\right\\rangle } {\\left\\langle 0\\right|} + \\rho_{06} {\\left|1\\right\\rangle } {\\left\\langle 1\\right|}}{\\rho_{00} + \\rho_{06}}$"
      ],
      "text/plain": [
       "(rho_00*|0>*<0| + rho_01*|0>*<1| + rho_05*|1>*<0| + rho_06*|1>*<1|)/(rho_00 + rho_06)"
      ]
     },
     "execution_count": 205,
     "metadata": {},
     "output_type": "execute_result"
    }
   ],
   "source": [
    "simplify(m_braket(rho_0B))"
   ]
  },
  {
   "cell_type": "code",
   "execution_count": 206,
   "id": "2d9978e6",
   "metadata": {},
   "outputs": [
    {
     "data": {
      "text/latex": [
       "$\\displaystyle \\left[\\begin{matrix}\\frac{\\rho_{12}}{\\rho_{12} + \\rho_{18}} & \\frac{\\rho_{13}}{\\rho_{12} + \\rho_{18}}\\\\\\frac{\\rho_{17}}{\\rho_{12} + \\rho_{18}} & \\frac{\\rho_{18}}{\\rho_{12} + \\rho_{18}}\\end{matrix}\\right]$"
      ],
      "text/plain": [
       "Matrix([\n",
       "[rho_12/(rho_12 + rho_18), rho_13/(rho_12 + rho_18)],\n",
       "[rho_17/(rho_12 + rho_18), rho_18/(rho_12 + rho_18)]])"
      ]
     },
     "execution_count": 206,
     "metadata": {},
     "output_type": "execute_result"
    }
   ],
   "source": [
    "rho_1B = projM(2,'1',rho_0)\n",
    "rho_1B"
   ]
  },
  {
   "cell_type": "code",
   "execution_count": 207,
   "id": "3baf48fe",
   "metadata": {},
   "outputs": [
    {
     "data": {
      "text/latex": [
       "$\\displaystyle \\frac{\\rho_{12} {\\left|0\\right\\rangle } {\\left\\langle 0\\right|} + \\rho_{13} {\\left|0\\right\\rangle } {\\left\\langle 1\\right|} + \\rho_{17} {\\left|1\\right\\rangle } {\\left\\langle 0\\right|} + \\rho_{18} {\\left|1\\right\\rangle } {\\left\\langle 1\\right|}}{\\rho_{12} + \\rho_{18}}$"
      ],
      "text/plain": [
       "(rho_12*|0>*<0| + rho_13*|0>*<1| + rho_17*|1>*<0| + rho_18*|1>*<1|)/(rho_12 + rho_18)"
      ]
     },
     "execution_count": 207,
     "metadata": {},
     "output_type": "execute_result"
    }
   ],
   "source": [
    "simplify(m_braket(rho_1B))"
   ]
  },
  {
   "cell_type": "markdown",
   "id": "96e57492",
   "metadata": {},
   "source": [
    "## Dephasing map"
   ]
  },
  {
   "cell_type": "code",
   "execution_count": 208,
   "id": "f7c37bf8",
   "metadata": {},
   "outputs": [],
   "source": [
    "# Essa função aplica o dephasing map M_j em 2 qubits, tanto no W como no Z\n",
    "# \n",
    "# M₀=|00><00|=(|0>⊗|0>)(<0|⊗<0|)=[ 1\t0\t0\t0\n",
    "#                                   0\t0\t0\t0\n",
    "#                                   0\t0\t0\t0\n",
    "#                                   0\t0\t0\t0]\n",
    "def dephasing_map_2qubits(rho):\n",
    "    M0,M1,M2,M3 = zeros(4, 4), zeros(4, 4), zeros(4, 4), zeros(4, 4)\n",
    "    M0[0, 0] = 1\n",
    "    M1[1, 1] = 1\n",
    "    M2[2, 2] = 1\n",
    "    M3[3, 3] = 1\n",
    "    Phi_rho = M0*rho*M0 + M1*rho*M1 + M2*rho*M2 + M3*rho*M3\n",
    "    return Phi_rho"
   ]
  },
  {
   "cell_type": "code",
   "execution_count": 213,
   "id": "7f41e8d9",
   "metadata": {},
   "outputs": [
    {
     "data": {
      "text/latex": [
       "$\\displaystyle \\left[\\begin{matrix}\\rho_{00} & \\rho_{01} & \\rho_{02} & \\rho_{03}\\\\\\rho_{04} & \\rho_{05} & \\rho_{06} & \\rho_{07}\\\\\\rho_{08} & \\rho_{09} & \\rho_{10} & \\rho_{11}\\\\\\rho_{12} & \\rho_{13} & \\rho_{14} & \\rho_{15}\\end{matrix}\\right]$"
      ],
      "text/plain": [
       "Matrix([\n",
       "[rho_00, rho_01, rho_02, rho_03],\n",
       "[rho_04, rho_05, rho_06, rho_07],\n",
       "[rho_08, rho_09, rho_10, rho_11],\n",
       "[rho_12, rho_13, rho_14, rho_15]])"
      ]
     },
     "execution_count": 213,
     "metadata": {},
     "output_type": "execute_result"
    }
   ],
   "source": [
    "rho_0 = rho_g(4,0); rho_0"
   ]
  },
  {
   "cell_type": "code",
   "execution_count": 216,
   "id": "78eb0aad",
   "metadata": {},
   "outputs": [
    {
     "data": {
      "text/latex": [
       "$\\displaystyle \\rho_{00} {\\left|00\\right\\rangle } {\\left\\langle 00\\right|} + \\rho_{01} {\\left|00\\right\\rangle } {\\left\\langle 01\\right|} + \\rho_{02} {\\left|00\\right\\rangle } {\\left\\langle 10\\right|} + \\rho_{03} {\\left|00\\right\\rangle } {\\left\\langle 11\\right|} + \\rho_{04} {\\left|01\\right\\rangle } {\\left\\langle 00\\right|} + \\rho_{05} {\\left|01\\right\\rangle } {\\left\\langle 01\\right|} + \\rho_{06} {\\left|01\\right\\rangle } {\\left\\langle 10\\right|} + \\rho_{07} {\\left|01\\right\\rangle } {\\left\\langle 11\\right|} + \\rho_{08} {\\left|10\\right\\rangle } {\\left\\langle 00\\right|} + \\rho_{09} {\\left|10\\right\\rangle } {\\left\\langle 01\\right|} + \\rho_{10} {\\left|10\\right\\rangle } {\\left\\langle 10\\right|} + \\rho_{11} {\\left|10\\right\\rangle } {\\left\\langle 11\\right|} + \\rho_{12} {\\left|11\\right\\rangle } {\\left\\langle 00\\right|} + \\rho_{13} {\\left|11\\right\\rangle } {\\left\\langle 01\\right|} + \\rho_{14} {\\left|11\\right\\rangle } {\\left\\langle 10\\right|} + \\rho_{15} {\\left|11\\right\\rangle } {\\left\\langle 11\\right|}$"
      ],
      "text/plain": [
       "rho_00*|00>*<00| + rho_01*|00>*<01| + rho_02*|00>*<10| + rho_03*|00>*<11| + rho_04*|01>*<00| + rho_05*|01>*<01| + rho_06*|01>*<10| + rho_07*|01>*<11| + rho_08*|10>*<00| + rho_09*|10>*<01| + rho_10*|10>*<10| + rho_11*|10>*<11| + rho_12*|11>*<00| + rho_13*|11>*<01| + rho_14*|11>*<10| + rho_15*|11>*<11|"
      ]
     },
     "execution_count": 216,
     "metadata": {},
     "output_type": "execute_result"
    }
   ],
   "source": [
    "m_braket(rho_0)"
   ]
  },
  {
   "cell_type": "code",
   "execution_count": 217,
   "id": "d82aa315",
   "metadata": {},
   "outputs": [
    {
     "data": {
      "text/latex": [
       "$\\displaystyle \\left[\\begin{matrix}\\rho_{00} & 0 & 0 & 0\\\\0 & \\rho_{05} & 0 & 0\\\\0 & 0 & \\rho_{10} & 0\\\\0 & 0 & 0 & \\rho_{15}\\end{matrix}\\right]$"
      ],
      "text/plain": [
       "Matrix([\n",
       "[rho_00,      0,      0,      0],\n",
       "[     0, rho_05,      0,      0],\n",
       "[     0,      0, rho_10,      0],\n",
       "[     0,      0,      0, rho_15]])"
      ]
     },
     "execution_count": 217,
     "metadata": {},
     "output_type": "execute_result"
    }
   ],
   "source": [
    "dephasing_map_2qubits(rho_0)"
   ]
  },
  {
   "cell_type": "code",
   "execution_count": 218,
   "id": "cc81a65c",
   "metadata": {},
   "outputs": [
    {
     "data": {
      "text/latex": [
       "$\\displaystyle \\rho_{00} {\\left|00\\right\\rangle } {\\left\\langle 00\\right|} + \\rho_{05} {\\left|01\\right\\rangle } {\\left\\langle 01\\right|} + \\rho_{10} {\\left|10\\right\\rangle } {\\left\\langle 10\\right|} + \\rho_{15} {\\left|11\\right\\rangle } {\\left\\langle 11\\right|}$"
      ],
      "text/plain": [
       "rho_00*|00>*<00| + rho_05*|01>*<01| + rho_10*|10>*<10| + rho_15*|11>*<11|"
      ]
     },
     "execution_count": 218,
     "metadata": {},
     "output_type": "execute_result"
    }
   ],
   "source": [
    "m_braket(dephasing_map_2qubits(rho_0))"
   ]
  },
  {
   "cell_type": "code",
   "execution_count": 219,
   "id": "f2fff821",
   "metadata": {},
   "outputs": [],
   "source": [
    "def id_sympy(n):\n",
    "    identity = sym.eye(n)\n",
    "    return identity"
   ]
  },
  {
   "cell_type": "code",
   "execution_count": 220,
   "id": "597eb408",
   "metadata": {},
   "outputs": [],
   "source": [
    "# Essa função aplica o dephasing map M0 = [1,0],[0,0] e M1 = [0,0],[0,1] somente no primeiro qubit\n",
    "# \n",
    "def dephasing_map_2qubits_primeiro(rho):\n",
    "    M0,M1 = zeros(2, 2), zeros(2, 2)\n",
    "    M0[0, 0] = 1\n",
    "    M0_2 = tp(M0,  id_sympy(2))\n",
    "    M1[1, 1] = 1\n",
    "    M1_2 = tp(M1,  id_sympy(2))\n",
    "    Phi_rho = M0_2*rho*M0_2 + M1_2*rho*M1_2\n",
    "    return Phi_rho"
   ]
  },
  {
   "cell_type": "code",
   "execution_count": 224,
   "id": "985c95f6",
   "metadata": {},
   "outputs": [
    {
     "data": {
      "text/latex": [
       "$\\displaystyle \\rho_{00} {\\left|00\\right\\rangle } {\\left\\langle 00\\right|} + \\rho_{01} {\\left|00\\right\\rangle } {\\left\\langle 01\\right|} + \\rho_{02} {\\left|00\\right\\rangle } {\\left\\langle 10\\right|} + \\rho_{03} {\\left|00\\right\\rangle } {\\left\\langle 11\\right|} + \\rho_{04} {\\left|01\\right\\rangle } {\\left\\langle 00\\right|} + \\rho_{05} {\\left|01\\right\\rangle } {\\left\\langle 01\\right|} + \\rho_{06} {\\left|01\\right\\rangle } {\\left\\langle 10\\right|} + \\rho_{07} {\\left|01\\right\\rangle } {\\left\\langle 11\\right|} + \\rho_{08} {\\left|10\\right\\rangle } {\\left\\langle 00\\right|} + \\rho_{09} {\\left|10\\right\\rangle } {\\left\\langle 01\\right|} + \\rho_{10} {\\left|10\\right\\rangle } {\\left\\langle 10\\right|} + \\rho_{11} {\\left|10\\right\\rangle } {\\left\\langle 11\\right|} + \\rho_{12} {\\left|11\\right\\rangle } {\\left\\langle 00\\right|} + \\rho_{13} {\\left|11\\right\\rangle } {\\left\\langle 01\\right|} + \\rho_{14} {\\left|11\\right\\rangle } {\\left\\langle 10\\right|} + \\rho_{15} {\\left|11\\right\\rangle } {\\left\\langle 11\\right|}$"
      ],
      "text/plain": [
       "rho_00*|00>*<00| + rho_01*|00>*<01| + rho_02*|00>*<10| + rho_03*|00>*<11| + rho_04*|01>*<00| + rho_05*|01>*<01| + rho_06*|01>*<10| + rho_07*|01>*<11| + rho_08*|10>*<00| + rho_09*|10>*<01| + rho_10*|10>*<10| + rho_11*|10>*<11| + rho_12*|11>*<00| + rho_13*|11>*<01| + rho_14*|11>*<10| + rho_15*|11>*<11|"
      ]
     },
     "execution_count": 224,
     "metadata": {},
     "output_type": "execute_result"
    }
   ],
   "source": [
    "m_braket(rho_0)"
   ]
  },
  {
   "cell_type": "code",
   "execution_count": 226,
   "id": "c4ca3624",
   "metadata": {},
   "outputs": [
    {
     "data": {
      "text/latex": [
       "$\\displaystyle \\left[\\begin{matrix}\\rho_{00} & \\rho_{01} & 0 & 0\\\\\\rho_{04} & \\rho_{05} & 0 & 0\\\\0 & 0 & \\rho_{10} & \\rho_{11}\\\\0 & 0 & \\rho_{14} & \\rho_{15}\\end{matrix}\\right]$"
      ],
      "text/plain": [
       "Matrix([\n",
       "[rho_00, rho_01,      0,      0],\n",
       "[rho_04, rho_05,      0,      0],\n",
       "[     0,      0, rho_10, rho_11],\n",
       "[     0,      0, rho_14, rho_15]])"
      ]
     },
     "execution_count": 226,
     "metadata": {},
     "output_type": "execute_result"
    }
   ],
   "source": [
    "dephasing_map_2qubits_primeiro(rho_0)"
   ]
  },
  {
   "cell_type": "code",
   "execution_count": 228,
   "id": "7dbcd87d",
   "metadata": {},
   "outputs": [
    {
     "data": {
      "text/latex": [
       "$\\displaystyle \\rho_{00} {\\left|00\\right\\rangle } {\\left\\langle 00\\right|} + \\rho_{01} {\\left|00\\right\\rangle } {\\left\\langle 01\\right|} + \\rho_{04} {\\left|01\\right\\rangle } {\\left\\langle 00\\right|} + \\rho_{05} {\\left|01\\right\\rangle } {\\left\\langle 01\\right|} + \\rho_{10} {\\left|10\\right\\rangle } {\\left\\langle 10\\right|} + \\rho_{11} {\\left|10\\right\\rangle } {\\left\\langle 11\\right|} + \\rho_{14} {\\left|11\\right\\rangle } {\\left\\langle 10\\right|} + \\rho_{15} {\\left|11\\right\\rangle } {\\left\\langle 11\\right|}$"
      ],
      "text/plain": [
       "rho_00*|00>*<00| + rho_01*|00>*<01| + rho_04*|01>*<00| + rho_05*|01>*<01| + rho_10*|10>*<10| + rho_11*|10>*<11| + rho_14*|11>*<10| + rho_15*|11>*<11|"
      ]
     },
     "execution_count": 228,
     "metadata": {},
     "output_type": "execute_result"
    }
   ],
   "source": [
    "m_braket(dephasing_map_2qubits_primeiro(rho_0))"
   ]
  },
  {
   "cell_type": "code",
   "execution_count": null,
   "id": "7c153aaa",
   "metadata": {},
   "outputs": [],
   "source": []
  }
 ],
 "metadata": {
  "kernelspec": {
   "display_name": "Python 3 (ipykernel)",
   "language": "python",
   "name": "python3"
  },
  "language_info": {
   "codemirror_mode": {
    "name": "ipython",
    "version": 3
   },
   "file_extension": ".py",
   "mimetype": "text/x-python",
   "name": "python",
   "nbconvert_exporter": "python",
   "pygments_lexer": "ipython3",
   "version": "3.9.13"
  }
 },
 "nbformat": 4,
 "nbformat_minor": 5
}
