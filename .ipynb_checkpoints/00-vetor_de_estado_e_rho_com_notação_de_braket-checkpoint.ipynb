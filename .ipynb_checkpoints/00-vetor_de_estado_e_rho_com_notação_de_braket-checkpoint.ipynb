{
 "cells": [
  {
   "cell_type": "code",
   "execution_count": 1,
   "id": "93d4c9e8",
   "metadata": {},
   "outputs": [],
   "source": [
    "import sympy\n",
    "from sympy import *\n",
    "import sympy as sym\n",
    "from sympy.physics.quantum import TensorProduct as tp # produto tensorial\n",
    "import math\n",
    "from sympy.physics.quantum import Ket, Bra"
   ]
  },
  {
   "cell_type": "markdown",
   "id": "f757245b",
   "metadata": {},
   "source": [
    "# Funções auxiliares"
   ]
  },
  {
   "cell_type": "code",
   "execution_count": 16,
   "id": "701e014f",
   "metadata": {},
   "outputs": [],
   "source": [
    "def cb(n,j):\n",
    "    '''retorna um vetor da base padrão de C^n'''\n",
    "    vec = zeros(n,1)\n",
    "    vec[j] = 1\n",
    "    return vec"
   ]
  },
  {
   "cell_type": "code",
   "execution_count": 17,
   "id": "ec5f4b00",
   "metadata": {},
   "outputs": [
    {
     "data": {
      "text/latex": [
       "$\\displaystyle \\left[\\begin{matrix}1\\\\0\\end{matrix}\\right]$"
      ],
      "text/plain": [
       "Matrix([\n",
       "[1],\n",
       "[0]])"
      ]
     },
     "metadata": {},
     "output_type": "display_data"
    },
    {
     "data": {
      "text/latex": [
       "$\\displaystyle \\left[\\begin{matrix}0\\\\1\\end{matrix}\\right]$"
      ],
      "text/plain": [
       "Matrix([\n",
       "[0],\n",
       "[1]])"
      ]
     },
     "metadata": {},
     "output_type": "display_data"
    }
   ],
   "source": [
    "display(cb(2,0), cb(2,1))"
   ]
  },
  {
   "cell_type": "code",
   "execution_count": 70,
   "id": "ee378752",
   "metadata": {},
   "outputs": [
    {
     "data": {
      "text/latex": [
       "$\\displaystyle \\left[\\begin{matrix}1\\\\0\\\\0\\end{matrix}\\right]$"
      ],
      "text/plain": [
       "Matrix([\n",
       "[1],\n",
       "[0],\n",
       "[0]])"
      ]
     },
     "metadata": {},
     "output_type": "display_data"
    },
    {
     "data": {
      "text/latex": [
       "$\\displaystyle \\left[\\begin{matrix}0\\\\1\\\\0\\end{matrix}\\right]$"
      ],
      "text/plain": [
       "Matrix([\n",
       "[0],\n",
       "[1],\n",
       "[0]])"
      ]
     },
     "metadata": {},
     "output_type": "display_data"
    }
   ],
   "source": [
    "display(cb(3,0), cb(3,1))"
   ]
  },
  {
   "cell_type": "code",
   "execution_count": 18,
   "id": "b4d80ecc",
   "metadata": {},
   "outputs": [],
   "source": [
    "def proj(psi): \n",
    "    '''retorna o projetor no vetor psi'''\n",
    "    d = psi.shape[0]\n",
    "    P = zeros(d,d)\n",
    "    for j in range(0,d):\n",
    "        for k in range(0,d):\n",
    "            P[j,k] = psi[j]*conjugate(psi[k])\n",
    "    return P"
   ]
  },
  {
   "cell_type": "code",
   "execution_count": 19,
   "id": "2dd0b809",
   "metadata": {},
   "outputs": [
    {
     "data": {
      "text/latex": [
       "$\\displaystyle \\left[\\begin{matrix}1 & 0\\\\0 & 0\\end{matrix}\\right]$"
      ],
      "text/plain": [
       "Matrix([\n",
       "[1, 0],\n",
       "[0, 0]])"
      ]
     },
     "metadata": {},
     "output_type": "display_data"
    },
    {
     "data": {
      "text/latex": [
       "$\\displaystyle \\left[\\begin{matrix}0 & 0\\\\0 & 1\\end{matrix}\\right]$"
      ],
      "text/plain": [
       "Matrix([\n",
       "[0, 0],\n",
       "[0, 1]])"
      ]
     },
     "metadata": {},
     "output_type": "display_data"
    }
   ],
   "source": [
    "display(proj(cb(2,0)),proj(cb(2,1)))"
   ]
  },
  {
   "cell_type": "code",
   "execution_count": 20,
   "id": "f82a2c6b",
   "metadata": {},
   "outputs": [],
   "source": [
    "def inner_product(v,w):\n",
    "    d = len(v); ip = 0\n",
    "    for j in range(0,d):\n",
    "        ip += conjugate(v[j])*w[j]\n",
    "    return ip"
   ]
  },
  {
   "cell_type": "code",
   "execution_count": 21,
   "id": "85a12bf2",
   "metadata": {},
   "outputs": [
    {
     "data": {
      "text/latex": [
       "$\\displaystyle c \\overline{b} + d \\overline{a}$"
      ],
      "text/plain": [
       "c*conjugate(b) + d*conjugate(a)"
      ]
     },
     "execution_count": 21,
     "metadata": {},
     "output_type": "execute_result"
    }
   ],
   "source": [
    "a,b,c,d = symbols(\"a b c d\"); v = [b,a]; w = [c,d]; inner_product(v,w)"
   ]
  },
  {
   "cell_type": "code",
   "execution_count": 26,
   "id": "d1dff576",
   "metadata": {},
   "outputs": [],
   "source": [
    "def ext_product(psi1, psi2): \n",
    "    '''retorna o projetor no vetor psi'''\n",
    "    d1 = psi1.shape[0]\n",
    "    d2 = psi2.shape[0]\n",
    "    P = zeros(d1,d2)\n",
    "    for j in range(0,d1):\n",
    "        for k in range(0,d2):\n",
    "            P[j,k] = psi1[j]*conjugate(psi2[k])\n",
    "    return P"
   ]
  },
  {
   "cell_type": "code",
   "execution_count": 30,
   "id": "7c32a848",
   "metadata": {},
   "outputs": [
    {
     "data": {
      "text/latex": [
       "$\\displaystyle \\left[\\begin{matrix}1 & 0\\\\0 & 0\\end{matrix}\\right]$"
      ],
      "text/plain": [
       "Matrix([\n",
       "[1, 0],\n",
       "[0, 0]])"
      ]
     },
     "metadata": {},
     "output_type": "display_data"
    },
    {
     "data": {
      "text/latex": [
       "$\\displaystyle \\left[\\begin{matrix}0 & 1\\\\0 & 0\\end{matrix}\\right]$"
      ],
      "text/plain": [
       "Matrix([\n",
       "[0, 1],\n",
       "[0, 0]])"
      ]
     },
     "metadata": {},
     "output_type": "display_data"
    },
    {
     "data": {
      "text/latex": [
       "$\\displaystyle \\left[\\begin{matrix}0 & 0\\\\1 & 0\\end{matrix}\\right]$"
      ],
      "text/plain": [
       "Matrix([\n",
       "[0, 0],\n",
       "[1, 0]])"
      ]
     },
     "metadata": {},
     "output_type": "display_data"
    },
    {
     "data": {
      "text/latex": [
       "$\\displaystyle \\left[\\begin{matrix}0 & 0\\\\0 & 1\\end{matrix}\\right]$"
      ],
      "text/plain": [
       "Matrix([\n",
       "[0, 0],\n",
       "[0, 1]])"
      ]
     },
     "metadata": {},
     "output_type": "display_data"
    }
   ],
   "source": [
    "display(ext_product(cb(2,0),cb(2,0)),ext_product(cb(2,0),cb(2,1)),ext_product(cb(2,1),cb(2,0)),ext_product(cb(2,1),cb(2,1)))"
   ]
  },
  {
   "cell_type": "code",
   "execution_count": 31,
   "id": "28470260",
   "metadata": {},
   "outputs": [],
   "source": [
    "def norm(v):\n",
    "    v = inner_product(v,v)\n",
    "    return sqrt(v)"
   ]
  },
  {
   "cell_type": "code",
   "execution_count": 32,
   "id": "6990dc9d",
   "metadata": {},
   "outputs": [
    {
     "data": {
      "text/latex": [
       "$\\displaystyle 2 \\sqrt{2}$"
      ],
      "text/plain": [
       "2*sqrt(2)"
      ]
     },
     "execution_count": 32,
     "metadata": {},
     "output_type": "execute_result"
    }
   ],
   "source": [
    "v = [2,2]; norm(v)"
   ]
  },
  {
   "cell_type": "code",
   "execution_count": 33,
   "id": "984c9c0e",
   "metadata": {},
   "outputs": [],
   "source": [
    "# Outside these functions, initialize: rhos = zeros(ds,ds), s=A,B\n",
    "#\n",
    "# da = dim de A\n",
    "# db = dim de B\n",
    "#\n",
    "# rho_AB\n",
    "#\n",
    "# rho_B = Tr_A (rho_AB)\n",
    "#\n",
    "def ptraceA(da, db, rho):\n",
    "    rhoB = zeros(db,db)\n",
    "    for j in range(0, db):\n",
    "        for k in range(0, db):\n",
    "            for l in range(0, da):\n",
    "                rhoB[j,k] += rho[l*db+j,l*db+k]\n",
    "    return rhoB\n",
    "#\n",
    "# rho_A = Tr_B (rho_AB)\n",
    "#\n",
    "def ptraceB(da, db, rho):\n",
    "    rhoA = zeros(da,da)\n",
    "    for j in range(0, da):\n",
    "        for k in range(0, da):\n",
    "            for l in range(0, db):\n",
    "                rhoA[j,k] += rho[j*db+l,k*db+l]\n",
    "    return rhoA"
   ]
  },
  {
   "cell_type": "markdown",
   "id": "6b5456ec",
   "metadata": {},
   "source": [
    "# Criando um vetor de estados para 6 qubits"
   ]
  },
  {
   "cell_type": "code",
   "execution_count": 42,
   "id": "66b1efed",
   "metadata": {},
   "outputs": [],
   "source": [
    "# Base computacional - tensor product matrix\n",
    "#\n",
    "# A notação é |j,k,l,m,n,o>, ou seja, a função retorna a matriz desse ket\n",
    "#\n",
    "def tp6(j,k,l,m,n,o):\n",
    "    tp6 = tp(tp(tp(cb(2,j),cb(2,k)), tp(cb(2,l),cb(2,m))), tp(cb(2,n),cb(2,o)))\n",
    "    return tp6"
   ]
  },
  {
   "cell_type": "code",
   "execution_count": 43,
   "id": "b8af3ec5",
   "metadata": {},
   "outputs": [
    {
     "data": {
      "text/latex": [
       "$\\displaystyle \\left[\\begin{array}{cccccccccccccccccccccccccccccccccccccccccccccccccccccccccccccccc}1 & 0 & 0 & 0 & 0 & 0 & 0 & 0 & 0 & 0 & 0 & 0 & 0 & 0 & 0 & 0 & 0 & 0 & 0 & 0 & 0 & 0 & 0 & 0 & 0 & 0 & 0 & 0 & 0 & 0 & 0 & 0 & 0 & 0 & 0 & 0 & 0 & 0 & 0 & 0 & 0 & 0 & 0 & 0 & 0 & 0 & 0 & 0 & 0 & 0 & 0 & 0 & 0 & 0 & 0 & 0 & 0 & 0 & 0 & 0 & 0 & 0 & 0 & 0\\end{array}\\right]$"
      ],
      "text/plain": [
       "Matrix([[1, 0, 0, 0, 0, 0, 0, 0, 0, 0, 0, 0, 0, 0, 0, 0, 0, 0, 0, 0, 0, 0, 0, 0, 0, 0, 0, 0, 0, 0, 0, 0, 0, 0, 0, 0, 0, 0, 0, 0, 0, 0, 0, 0, 0, 0, 0, 0, 0, 0, 0, 0, 0, 0, 0, 0, 0, 0, 0, 0, 0, 0, 0, 0]])"
      ]
     },
     "metadata": {},
     "output_type": "display_data"
    },
    {
     "data": {
      "text/latex": [
       "$\\displaystyle \\left[\\begin{array}{cccccccccccccccccccccccccccccccccccccccccccccccccccccccccccccccc}0 & 1 & 0 & 0 & 0 & 0 & 0 & 0 & 0 & 0 & 0 & 0 & 0 & 0 & 0 & 0 & 0 & 0 & 0 & 0 & 0 & 0 & 0 & 0 & 0 & 0 & 0 & 0 & 0 & 0 & 0 & 0 & 0 & 0 & 0 & 0 & 0 & 0 & 0 & 0 & 0 & 0 & 0 & 0 & 0 & 0 & 0 & 0 & 0 & 0 & 0 & 0 & 0 & 0 & 0 & 0 & 0 & 0 & 0 & 0 & 0 & 0 & 0 & 0\\end{array}\\right]$"
      ],
      "text/plain": [
       "Matrix([[0, 1, 0, 0, 0, 0, 0, 0, 0, 0, 0, 0, 0, 0, 0, 0, 0, 0, 0, 0, 0, 0, 0, 0, 0, 0, 0, 0, 0, 0, 0, 0, 0, 0, 0, 0, 0, 0, 0, 0, 0, 0, 0, 0, 0, 0, 0, 0, 0, 0, 0, 0, 0, 0, 0, 0, 0, 0, 0, 0, 0, 0, 0, 0]])"
      ]
     },
     "metadata": {},
     "output_type": "display_data"
    },
    {
     "data": {
      "text/latex": [
       "$\\displaystyle \\left[\\begin{array}{cccccccccccccccccccccccccccccccccccccccccccccccccccccccccccccccc}0 & 0 & 1 & 0 & 0 & 0 & 0 & 0 & 0 & 0 & 0 & 0 & 0 & 0 & 0 & 0 & 0 & 0 & 0 & 0 & 0 & 0 & 0 & 0 & 0 & 0 & 0 & 0 & 0 & 0 & 0 & 0 & 0 & 0 & 0 & 0 & 0 & 0 & 0 & 0 & 0 & 0 & 0 & 0 & 0 & 0 & 0 & 0 & 0 & 0 & 0 & 0 & 0 & 0 & 0 & 0 & 0 & 0 & 0 & 0 & 0 & 0 & 0 & 0\\end{array}\\right]$"
      ],
      "text/plain": [
       "Matrix([[0, 0, 1, 0, 0, 0, 0, 0, 0, 0, 0, 0, 0, 0, 0, 0, 0, 0, 0, 0, 0, 0, 0, 0, 0, 0, 0, 0, 0, 0, 0, 0, 0, 0, 0, 0, 0, 0, 0, 0, 0, 0, 0, 0, 0, 0, 0, 0, 0, 0, 0, 0, 0, 0, 0, 0, 0, 0, 0, 0, 0, 0, 0, 0]])"
      ]
     },
     "metadata": {},
     "output_type": "display_data"
    },
    {
     "data": {
      "text/latex": [
       "$\\displaystyle \\left[\\begin{array}{cccccccccccccccccccccccccccccccccccccccccccccccccccccccccccccccc}0 & 0 & 0 & 1 & 0 & 0 & 0 & 0 & 0 & 0 & 0 & 0 & 0 & 0 & 0 & 0 & 0 & 0 & 0 & 0 & 0 & 0 & 0 & 0 & 0 & 0 & 0 & 0 & 0 & 0 & 0 & 0 & 0 & 0 & 0 & 0 & 0 & 0 & 0 & 0 & 0 & 0 & 0 & 0 & 0 & 0 & 0 & 0 & 0 & 0 & 0 & 0 & 0 & 0 & 0 & 0 & 0 & 0 & 0 & 0 & 0 & 0 & 0 & 0\\end{array}\\right]$"
      ],
      "text/plain": [
       "Matrix([[0, 0, 0, 1, 0, 0, 0, 0, 0, 0, 0, 0, 0, 0, 0, 0, 0, 0, 0, 0, 0, 0, 0, 0, 0, 0, 0, 0, 0, 0, 0, 0, 0, 0, 0, 0, 0, 0, 0, 0, 0, 0, 0, 0, 0, 0, 0, 0, 0, 0, 0, 0, 0, 0, 0, 0, 0, 0, 0, 0, 0, 0, 0, 0]])"
      ]
     },
     "metadata": {},
     "output_type": "display_data"
    }
   ],
   "source": [
    "display(transpose(tp6(0,0,0,0,0,0)), transpose(tp6(0,0,0,0,0,1)), transpose(tp6(0,0,0,0,1,0)), transpose(tp6(0,0,0,0,1,1)))"
   ]
  },
  {
   "cell_type": "markdown",
   "id": "85a5f9fb",
   "metadata": {},
   "source": [
    "# Criando um rho genérico de $n$ qubits"
   ]
  },
  {
   "cell_type": "code",
   "execution_count": 44,
   "id": "c4919262",
   "metadata": {},
   "outputs": [],
   "source": [
    "# Retorna um rho genérico simbólico\n",
    "# matriz quadrada\n",
    "# n = qubits\n",
    "def rho_g(n):\n",
    "    n = 2**n\n",
    "    rho = sympy.symbols('rho_0:{}'.format(n**2))\n",
    "    A = zeros(n,n)\n",
    "    l = 0\n",
    "    for j in range(0,n):\n",
    "        for k in range(0,n):\n",
    "                A[j,k] = rho[l]\n",
    "                l += 1\n",
    "    return A"
   ]
  },
  {
   "cell_type": "code",
   "execution_count": 48,
   "id": "ae46fbcc",
   "metadata": {
    "scrolled": true
   },
   "outputs": [
    {
     "data": {
      "text/latex": [
       "$\\displaystyle \\left[\\begin{array}{cccccccccccccccccccccccccccccccccccccccccccccccccccccccccccccccc}\\rho_{0} & \\rho_{1} & \\rho_{2} & \\rho_{3} & \\rho_{4} & \\rho_{5} & \\rho_{6} & \\rho_{7} & \\rho_{8} & \\rho_{9} & \\rho_{10} & \\rho_{11} & \\rho_{12} & \\rho_{13} & \\rho_{14} & \\rho_{15} & \\rho_{16} & \\rho_{17} & \\rho_{18} & \\rho_{19} & \\rho_{20} & \\rho_{21} & \\rho_{22} & \\rho_{23} & \\rho_{24} & \\rho_{25} & \\rho_{26} & \\rho_{27} & \\rho_{28} & \\rho_{29} & \\rho_{30} & \\rho_{31} & \\rho_{32} & \\rho_{33} & \\rho_{34} & \\rho_{35} & \\rho_{36} & \\rho_{37} & \\rho_{38} & \\rho_{39} & \\rho_{40} & \\rho_{41} & \\rho_{42} & \\rho_{43} & \\rho_{44} & \\rho_{45} & \\rho_{46} & \\rho_{47} & \\rho_{48} & \\rho_{49} & \\rho_{50} & \\rho_{51} & \\rho_{52} & \\rho_{53} & \\rho_{54} & \\rho_{55} & \\rho_{56} & \\rho_{57} & \\rho_{58} & \\rho_{59} & \\rho_{60} & \\rho_{61} & \\rho_{62} & \\rho_{63}\\\\\\rho_{64} & \\rho_{65} & \\rho_{66} & \\rho_{67} & \\rho_{68} & \\rho_{69} & \\rho_{70} & \\rho_{71} & \\rho_{72} & \\rho_{73} & \\rho_{74} & \\rho_{75} & \\rho_{76} & \\rho_{77} & \\rho_{78} & \\rho_{79} & \\rho_{80} & \\rho_{81} & \\rho_{82} & \\rho_{83} & \\rho_{84} & \\rho_{85} & \\rho_{86} & \\rho_{87} & \\rho_{88} & \\rho_{89} & \\rho_{90} & \\rho_{91} & \\rho_{92} & \\rho_{93} & \\rho_{94} & \\rho_{95} & \\rho_{96} & \\rho_{97} & \\rho_{98} & \\rho_{99} & \\rho_{100} & \\rho_{101} & \\rho_{102} & \\rho_{103} & \\rho_{104} & \\rho_{105} & \\rho_{106} & \\rho_{107} & \\rho_{108} & \\rho_{109} & \\rho_{110} & \\rho_{111} & \\rho_{112} & \\rho_{113} & \\rho_{114} & \\rho_{115} & \\rho_{116} & \\rho_{117} & \\rho_{118} & \\rho_{119} & \\rho_{120} & \\rho_{121} & \\rho_{122} & \\rho_{123} & \\rho_{124} & \\rho_{125} & \\rho_{126} & \\rho_{127}\\\\\\rho_{128} & \\rho_{129} & \\rho_{130} & \\rho_{131} & \\rho_{132} & \\rho_{133} & \\rho_{134} & \\rho_{135} & \\rho_{136} & \\rho_{137} & \\rho_{138} & \\rho_{139} & \\rho_{140} & \\rho_{141} & \\rho_{142} & \\rho_{143} & \\rho_{144} & \\rho_{145} & \\rho_{146} & \\rho_{147} & \\rho_{148} & \\rho_{149} & \\rho_{150} & \\rho_{151} & \\rho_{152} & \\rho_{153} & \\rho_{154} & \\rho_{155} & \\rho_{156} & \\rho_{157} & \\rho_{158} & \\rho_{159} & \\rho_{160} & \\rho_{161} & \\rho_{162} & \\rho_{163} & \\rho_{164} & \\rho_{165} & \\rho_{166} & \\rho_{167} & \\rho_{168} & \\rho_{169} & \\rho_{170} & \\rho_{171} & \\rho_{172} & \\rho_{173} & \\rho_{174} & \\rho_{175} & \\rho_{176} & \\rho_{177} & \\rho_{178} & \\rho_{179} & \\rho_{180} & \\rho_{181} & \\rho_{182} & \\rho_{183} & \\rho_{184} & \\rho_{185} & \\rho_{186} & \\rho_{187} & \\rho_{188} & \\rho_{189} & \\rho_{190} & \\rho_{191}\\\\\\rho_{192} & \\rho_{193} & \\rho_{194} & \\rho_{195} & \\rho_{196} & \\rho_{197} & \\rho_{198} & \\rho_{199} & \\rho_{200} & \\rho_{201} & \\rho_{202} & \\rho_{203} & \\rho_{204} & \\rho_{205} & \\rho_{206} & \\rho_{207} & \\rho_{208} & \\rho_{209} & \\rho_{210} & \\rho_{211} & \\rho_{212} & \\rho_{213} & \\rho_{214} & \\rho_{215} & \\rho_{216} & \\rho_{217} & \\rho_{218} & \\rho_{219} & \\rho_{220} & \\rho_{221} & \\rho_{222} & \\rho_{223} & \\rho_{224} & \\rho_{225} & \\rho_{226} & \\rho_{227} & \\rho_{228} & \\rho_{229} & \\rho_{230} & \\rho_{231} & \\rho_{232} & \\rho_{233} & \\rho_{234} & \\rho_{235} & \\rho_{236} & \\rho_{237} & \\rho_{238} & \\rho_{239} & \\rho_{240} & \\rho_{241} & \\rho_{242} & \\rho_{243} & \\rho_{244} & \\rho_{245} & \\rho_{246} & \\rho_{247} & \\rho_{248} & \\rho_{249} & \\rho_{250} & \\rho_{251} & \\rho_{252} & \\rho_{253} & \\rho_{254} & \\rho_{255}\\\\\\rho_{256} & \\rho_{257} & \\rho_{258} & \\rho_{259} & \\rho_{260} & \\rho_{261} & \\rho_{262} & \\rho_{263} & \\rho_{264} & \\rho_{265} & \\rho_{266} & \\rho_{267} & \\rho_{268} & \\rho_{269} & \\rho_{270} & \\rho_{271} & \\rho_{272} & \\rho_{273} & \\rho_{274} & \\rho_{275} & \\rho_{276} & \\rho_{277} & \\rho_{278} & \\rho_{279} & \\rho_{280} & \\rho_{281} & \\rho_{282} & \\rho_{283} & \\rho_{284} & \\rho_{285} & \\rho_{286} & \\rho_{287} & \\rho_{288} & \\rho_{289} & \\rho_{290} & \\rho_{291} & \\rho_{292} & \\rho_{293} & \\rho_{294} & \\rho_{295} & \\rho_{296} & \\rho_{297} & \\rho_{298} & \\rho_{299} & \\rho_{300} & \\rho_{301} & \\rho_{302} & \\rho_{303} & \\rho_{304} & \\rho_{305} & \\rho_{306} & \\rho_{307} & \\rho_{308} & \\rho_{309} & \\rho_{310} & \\rho_{311} & \\rho_{312} & \\rho_{313} & \\rho_{314} & \\rho_{315} & \\rho_{316} & \\rho_{317} & \\rho_{318} & \\rho_{319}\\\\\\rho_{320} & \\rho_{321} & \\rho_{322} & \\rho_{323} & \\rho_{324} & \\rho_{325} & \\rho_{326} & \\rho_{327} & \\rho_{328} & \\rho_{329} & \\rho_{330} & \\rho_{331} & \\rho_{332} & \\rho_{333} & \\rho_{334} & \\rho_{335} & \\rho_{336} & \\rho_{337} & \\rho_{338} & \\rho_{339} & \\rho_{340} & \\rho_{341} & \\rho_{342} & \\rho_{343} & \\rho_{344} & \\rho_{345} & \\rho_{346} & \\rho_{347} & \\rho_{348} & \\rho_{349} & \\rho_{350} & \\rho_{351} & \\rho_{352} & \\rho_{353} & \\rho_{354} & \\rho_{355} & \\rho_{356} & \\rho_{357} & \\rho_{358} & \\rho_{359} & \\rho_{360} & \\rho_{361} & \\rho_{362} & \\rho_{363} & \\rho_{364} & \\rho_{365} & \\rho_{366} & \\rho_{367} & \\rho_{368} & \\rho_{369} & \\rho_{370} & \\rho_{371} & \\rho_{372} & \\rho_{373} & \\rho_{374} & \\rho_{375} & \\rho_{376} & \\rho_{377} & \\rho_{378} & \\rho_{379} & \\rho_{380} & \\rho_{381} & \\rho_{382} & \\rho_{383}\\\\\\rho_{384} & \\rho_{385} & \\rho_{386} & \\rho_{387} & \\rho_{388} & \\rho_{389} & \\rho_{390} & \\rho_{391} & \\rho_{392} & \\rho_{393} & \\rho_{394} & \\rho_{395} & \\rho_{396} & \\rho_{397} & \\rho_{398} & \\rho_{399} & \\rho_{400} & \\rho_{401} & \\rho_{402} & \\rho_{403} & \\rho_{404} & \\rho_{405} & \\rho_{406} & \\rho_{407} & \\rho_{408} & \\rho_{409} & \\rho_{410} & \\rho_{411} & \\rho_{412} & \\rho_{413} & \\rho_{414} & \\rho_{415} & \\rho_{416} & \\rho_{417} & \\rho_{418} & \\rho_{419} & \\rho_{420} & \\rho_{421} & \\rho_{422} & \\rho_{423} & \\rho_{424} & \\rho_{425} & \\rho_{426} & \\rho_{427} & \\rho_{428} & \\rho_{429} & \\rho_{430} & \\rho_{431} & \\rho_{432} & \\rho_{433} & \\rho_{434} & \\rho_{435} & \\rho_{436} & \\rho_{437} & \\rho_{438} & \\rho_{439} & \\rho_{440} & \\rho_{441} & \\rho_{442} & \\rho_{443} & \\rho_{444} & \\rho_{445} & \\rho_{446} & \\rho_{447}\\\\\\rho_{448} & \\rho_{449} & \\rho_{450} & \\rho_{451} & \\rho_{452} & \\rho_{453} & \\rho_{454} & \\rho_{455} & \\rho_{456} & \\rho_{457} & \\rho_{458} & \\rho_{459} & \\rho_{460} & \\rho_{461} & \\rho_{462} & \\rho_{463} & \\rho_{464} & \\rho_{465} & \\rho_{466} & \\rho_{467} & \\rho_{468} & \\rho_{469} & \\rho_{470} & \\rho_{471} & \\rho_{472} & \\rho_{473} & \\rho_{474} & \\rho_{475} & \\rho_{476} & \\rho_{477} & \\rho_{478} & \\rho_{479} & \\rho_{480} & \\rho_{481} & \\rho_{482} & \\rho_{483} & \\rho_{484} & \\rho_{485} & \\rho_{486} & \\rho_{487} & \\rho_{488} & \\rho_{489} & \\rho_{490} & \\rho_{491} & \\rho_{492} & \\rho_{493} & \\rho_{494} & \\rho_{495} & \\rho_{496} & \\rho_{497} & \\rho_{498} & \\rho_{499} & \\rho_{500} & \\rho_{501} & \\rho_{502} & \\rho_{503} & \\rho_{504} & \\rho_{505} & \\rho_{506} & \\rho_{507} & \\rho_{508} & \\rho_{509} & \\rho_{510} & \\rho_{511}\\\\\\rho_{512} & \\rho_{513} & \\rho_{514} & \\rho_{515} & \\rho_{516} & \\rho_{517} & \\rho_{518} & \\rho_{519} & \\rho_{520} & \\rho_{521} & \\rho_{522} & \\rho_{523} & \\rho_{524} & \\rho_{525} & \\rho_{526} & \\rho_{527} & \\rho_{528} & \\rho_{529} & \\rho_{530} & \\rho_{531} & \\rho_{532} & \\rho_{533} & \\rho_{534} & \\rho_{535} & \\rho_{536} & \\rho_{537} & \\rho_{538} & \\rho_{539} & \\rho_{540} & \\rho_{541} & \\rho_{542} & \\rho_{543} & \\rho_{544} & \\rho_{545} & \\rho_{546} & \\rho_{547} & \\rho_{548} & \\rho_{549} & \\rho_{550} & \\rho_{551} & \\rho_{552} & \\rho_{553} & \\rho_{554} & \\rho_{555} & \\rho_{556} & \\rho_{557} & \\rho_{558} & \\rho_{559} & \\rho_{560} & \\rho_{561} & \\rho_{562} & \\rho_{563} & \\rho_{564} & \\rho_{565} & \\rho_{566} & \\rho_{567} & \\rho_{568} & \\rho_{569} & \\rho_{570} & \\rho_{571} & \\rho_{572} & \\rho_{573} & \\rho_{574} & \\rho_{575}\\\\\\rho_{576} & \\rho_{577} & \\rho_{578} & \\rho_{579} & \\rho_{580} & \\rho_{581} & \\rho_{582} & \\rho_{583} & \\rho_{584} & \\rho_{585} & \\rho_{586} & \\rho_{587} & \\rho_{588} & \\rho_{589} & \\rho_{590} & \\rho_{591} & \\rho_{592} & \\rho_{593} & \\rho_{594} & \\rho_{595} & \\rho_{596} & \\rho_{597} & \\rho_{598} & \\rho_{599} & \\rho_{600} & \\rho_{601} & \\rho_{602} & \\rho_{603} & \\rho_{604} & \\rho_{605} & \\rho_{606} & \\rho_{607} & \\rho_{608} & \\rho_{609} & \\rho_{610} & \\rho_{611} & \\rho_{612} & \\rho_{613} & \\rho_{614} & \\rho_{615} & \\rho_{616} & \\rho_{617} & \\rho_{618} & \\rho_{619} & \\rho_{620} & \\rho_{621} & \\rho_{622} & \\rho_{623} & \\rho_{624} & \\rho_{625} & \\rho_{626} & \\rho_{627} & \\rho_{628} & \\rho_{629} & \\rho_{630} & \\rho_{631} & \\rho_{632} & \\rho_{633} & \\rho_{634} & \\rho_{635} & \\rho_{636} & \\rho_{637} & \\rho_{638} & \\rho_{639}\\\\\\rho_{640} & \\rho_{641} & \\rho_{642} & \\rho_{643} & \\rho_{644} & \\rho_{645} & \\rho_{646} & \\rho_{647} & \\rho_{648} & \\rho_{649} & \\rho_{650} & \\rho_{651} & \\rho_{652} & \\rho_{653} & \\rho_{654} & \\rho_{655} & \\rho_{656} & \\rho_{657} & \\rho_{658} & \\rho_{659} & \\rho_{660} & \\rho_{661} & \\rho_{662} & \\rho_{663} & \\rho_{664} & \\rho_{665} & \\rho_{666} & \\rho_{667} & \\rho_{668} & \\rho_{669} & \\rho_{670} & \\rho_{671} & \\rho_{672} & \\rho_{673} & \\rho_{674} & \\rho_{675} & \\rho_{676} & \\rho_{677} & \\rho_{678} & \\rho_{679} & \\rho_{680} & \\rho_{681} & \\rho_{682} & \\rho_{683} & \\rho_{684} & \\rho_{685} & \\rho_{686} & \\rho_{687} & \\rho_{688} & \\rho_{689} & \\rho_{690} & \\rho_{691} & \\rho_{692} & \\rho_{693} & \\rho_{694} & \\rho_{695} & \\rho_{696} & \\rho_{697} & \\rho_{698} & \\rho_{699} & \\rho_{700} & \\rho_{701} & \\rho_{702} & \\rho_{703}\\\\\\rho_{704} & \\rho_{705} & \\rho_{706} & \\rho_{707} & \\rho_{708} & \\rho_{709} & \\rho_{710} & \\rho_{711} & \\rho_{712} & \\rho_{713} & \\rho_{714} & \\rho_{715} & \\rho_{716} & \\rho_{717} & \\rho_{718} & \\rho_{719} & \\rho_{720} & \\rho_{721} & \\rho_{722} & \\rho_{723} & \\rho_{724} & \\rho_{725} & \\rho_{726} & \\rho_{727} & \\rho_{728} & \\rho_{729} & \\rho_{730} & \\rho_{731} & \\rho_{732} & \\rho_{733} & \\rho_{734} & \\rho_{735} & \\rho_{736} & \\rho_{737} & \\rho_{738} & \\rho_{739} & \\rho_{740} & \\rho_{741} & \\rho_{742} & \\rho_{743} & \\rho_{744} & \\rho_{745} & \\rho_{746} & \\rho_{747} & \\rho_{748} & \\rho_{749} & \\rho_{750} & \\rho_{751} & \\rho_{752} & \\rho_{753} & \\rho_{754} & \\rho_{755} & \\rho_{756} & \\rho_{757} & \\rho_{758} & \\rho_{759} & \\rho_{760} & \\rho_{761} & \\rho_{762} & \\rho_{763} & \\rho_{764} & \\rho_{765} & \\rho_{766} & \\rho_{767}\\\\\\rho_{768} & \\rho_{769} & \\rho_{770} & \\rho_{771} & \\rho_{772} & \\rho_{773} & \\rho_{774} & \\rho_{775} & \\rho_{776} & \\rho_{777} & \\rho_{778} & \\rho_{779} & \\rho_{780} & \\rho_{781} & \\rho_{782} & \\rho_{783} & \\rho_{784} & \\rho_{785} & \\rho_{786} & \\rho_{787} & \\rho_{788} & \\rho_{789} & \\rho_{790} & \\rho_{791} & \\rho_{792} & \\rho_{793} & \\rho_{794} & \\rho_{795} & \\rho_{796} & \\rho_{797} & \\rho_{798} & \\rho_{799} & \\rho_{800} & \\rho_{801} & \\rho_{802} & \\rho_{803} & \\rho_{804} & \\rho_{805} & \\rho_{806} & \\rho_{807} & \\rho_{808} & \\rho_{809} & \\rho_{810} & \\rho_{811} & \\rho_{812} & \\rho_{813} & \\rho_{814} & \\rho_{815} & \\rho_{816} & \\rho_{817} & \\rho_{818} & \\rho_{819} & \\rho_{820} & \\rho_{821} & \\rho_{822} & \\rho_{823} & \\rho_{824} & \\rho_{825} & \\rho_{826} & \\rho_{827} & \\rho_{828} & \\rho_{829} & \\rho_{830} & \\rho_{831}\\\\\\rho_{832} & \\rho_{833} & \\rho_{834} & \\rho_{835} & \\rho_{836} & \\rho_{837} & \\rho_{838} & \\rho_{839} & \\rho_{840} & \\rho_{841} & \\rho_{842} & \\rho_{843} & \\rho_{844} & \\rho_{845} & \\rho_{846} & \\rho_{847} & \\rho_{848} & \\rho_{849} & \\rho_{850} & \\rho_{851} & \\rho_{852} & \\rho_{853} & \\rho_{854} & \\rho_{855} & \\rho_{856} & \\rho_{857} & \\rho_{858} & \\rho_{859} & \\rho_{860} & \\rho_{861} & \\rho_{862} & \\rho_{863} & \\rho_{864} & \\rho_{865} & \\rho_{866} & \\rho_{867} & \\rho_{868} & \\rho_{869} & \\rho_{870} & \\rho_{871} & \\rho_{872} & \\rho_{873} & \\rho_{874} & \\rho_{875} & \\rho_{876} & \\rho_{877} & \\rho_{878} & \\rho_{879} & \\rho_{880} & \\rho_{881} & \\rho_{882} & \\rho_{883} & \\rho_{884} & \\rho_{885} & \\rho_{886} & \\rho_{887} & \\rho_{888} & \\rho_{889} & \\rho_{890} & \\rho_{891} & \\rho_{892} & \\rho_{893} & \\rho_{894} & \\rho_{895}\\\\\\rho_{896} & \\rho_{897} & \\rho_{898} & \\rho_{899} & \\rho_{900} & \\rho_{901} & \\rho_{902} & \\rho_{903} & \\rho_{904} & \\rho_{905} & \\rho_{906} & \\rho_{907} & \\rho_{908} & \\rho_{909} & \\rho_{910} & \\rho_{911} & \\rho_{912} & \\rho_{913} & \\rho_{914} & \\rho_{915} & \\rho_{916} & \\rho_{917} & \\rho_{918} & \\rho_{919} & \\rho_{920} & \\rho_{921} & \\rho_{922} & \\rho_{923} & \\rho_{924} & \\rho_{925} & \\rho_{926} & \\rho_{927} & \\rho_{928} & \\rho_{929} & \\rho_{930} & \\rho_{931} & \\rho_{932} & \\rho_{933} & \\rho_{934} & \\rho_{935} & \\rho_{936} & \\rho_{937} & \\rho_{938} & \\rho_{939} & \\rho_{940} & \\rho_{941} & \\rho_{942} & \\rho_{943} & \\rho_{944} & \\rho_{945} & \\rho_{946} & \\rho_{947} & \\rho_{948} & \\rho_{949} & \\rho_{950} & \\rho_{951} & \\rho_{952} & \\rho_{953} & \\rho_{954} & \\rho_{955} & \\rho_{956} & \\rho_{957} & \\rho_{958} & \\rho_{959}\\\\\\rho_{960} & \\rho_{961} & \\rho_{962} & \\rho_{963} & \\rho_{964} & \\rho_{965} & \\rho_{966} & \\rho_{967} & \\rho_{968} & \\rho_{969} & \\rho_{970} & \\rho_{971} & \\rho_{972} & \\rho_{973} & \\rho_{974} & \\rho_{975} & \\rho_{976} & \\rho_{977} & \\rho_{978} & \\rho_{979} & \\rho_{980} & \\rho_{981} & \\rho_{982} & \\rho_{983} & \\rho_{984} & \\rho_{985} & \\rho_{986} & \\rho_{987} & \\rho_{988} & \\rho_{989} & \\rho_{990} & \\rho_{991} & \\rho_{992} & \\rho_{993} & \\rho_{994} & \\rho_{995} & \\rho_{996} & \\rho_{997} & \\rho_{998} & \\rho_{999} & \\rho_{1000} & \\rho_{1001} & \\rho_{1002} & \\rho_{1003} & \\rho_{1004} & \\rho_{1005} & \\rho_{1006} & \\rho_{1007} & \\rho_{1008} & \\rho_{1009} & \\rho_{1010} & \\rho_{1011} & \\rho_{1012} & \\rho_{1013} & \\rho_{1014} & \\rho_{1015} & \\rho_{1016} & \\rho_{1017} & \\rho_{1018} & \\rho_{1019} & \\rho_{1020} & \\rho_{1021} & \\rho_{1022} & \\rho_{1023}\\\\\\rho_{1024} & \\rho_{1025} & \\rho_{1026} & \\rho_{1027} & \\rho_{1028} & \\rho_{1029} & \\rho_{1030} & \\rho_{1031} & \\rho_{1032} & \\rho_{1033} & \\rho_{1034} & \\rho_{1035} & \\rho_{1036} & \\rho_{1037} & \\rho_{1038} & \\rho_{1039} & \\rho_{1040} & \\rho_{1041} & \\rho_{1042} & \\rho_{1043} & \\rho_{1044} & \\rho_{1045} & \\rho_{1046} & \\rho_{1047} & \\rho_{1048} & \\rho_{1049} & \\rho_{1050} & \\rho_{1051} & \\rho_{1052} & \\rho_{1053} & \\rho_{1054} & \\rho_{1055} & \\rho_{1056} & \\rho_{1057} & \\rho_{1058} & \\rho_{1059} & \\rho_{1060} & \\rho_{1061} & \\rho_{1062} & \\rho_{1063} & \\rho_{1064} & \\rho_{1065} & \\rho_{1066} & \\rho_{1067} & \\rho_{1068} & \\rho_{1069} & \\rho_{1070} & \\rho_{1071} & \\rho_{1072} & \\rho_{1073} & \\rho_{1074} & \\rho_{1075} & \\rho_{1076} & \\rho_{1077} & \\rho_{1078} & \\rho_{1079} & \\rho_{1080} & \\rho_{1081} & \\rho_{1082} & \\rho_{1083} & \\rho_{1084} & \\rho_{1085} & \\rho_{1086} & \\rho_{1087}\\\\\\rho_{1088} & \\rho_{1089} & \\rho_{1090} & \\rho_{1091} & \\rho_{1092} & \\rho_{1093} & \\rho_{1094} & \\rho_{1095} & \\rho_{1096} & \\rho_{1097} & \\rho_{1098} & \\rho_{1099} & \\rho_{1100} & \\rho_{1101} & \\rho_{1102} & \\rho_{1103} & \\rho_{1104} & \\rho_{1105} & \\rho_{1106} & \\rho_{1107} & \\rho_{1108} & \\rho_{1109} & \\rho_{1110} & \\rho_{1111} & \\rho_{1112} & \\rho_{1113} & \\rho_{1114} & \\rho_{1115} & \\rho_{1116} & \\rho_{1117} & \\rho_{1118} & \\rho_{1119} & \\rho_{1120} & \\rho_{1121} & \\rho_{1122} & \\rho_{1123} & \\rho_{1124} & \\rho_{1125} & \\rho_{1126} & \\rho_{1127} & \\rho_{1128} & \\rho_{1129} & \\rho_{1130} & \\rho_{1131} & \\rho_{1132} & \\rho_{1133} & \\rho_{1134} & \\rho_{1135} & \\rho_{1136} & \\rho_{1137} & \\rho_{1138} & \\rho_{1139} & \\rho_{1140} & \\rho_{1141} & \\rho_{1142} & \\rho_{1143} & \\rho_{1144} & \\rho_{1145} & \\rho_{1146} & \\rho_{1147} & \\rho_{1148} & \\rho_{1149} & \\rho_{1150} & \\rho_{1151}\\\\\\rho_{1152} & \\rho_{1153} & \\rho_{1154} & \\rho_{1155} & \\rho_{1156} & \\rho_{1157} & \\rho_{1158} & \\rho_{1159} & \\rho_{1160} & \\rho_{1161} & \\rho_{1162} & \\rho_{1163} & \\rho_{1164} & \\rho_{1165} & \\rho_{1166} & \\rho_{1167} & \\rho_{1168} & \\rho_{1169} & \\rho_{1170} & \\rho_{1171} & \\rho_{1172} & \\rho_{1173} & \\rho_{1174} & \\rho_{1175} & \\rho_{1176} & \\rho_{1177} & \\rho_{1178} & \\rho_{1179} & \\rho_{1180} & \\rho_{1181} & \\rho_{1182} & \\rho_{1183} & \\rho_{1184} & \\rho_{1185} & \\rho_{1186} & \\rho_{1187} & \\rho_{1188} & \\rho_{1189} & \\rho_{1190} & \\rho_{1191} & \\rho_{1192} & \\rho_{1193} & \\rho_{1194} & \\rho_{1195} & \\rho_{1196} & \\rho_{1197} & \\rho_{1198} & \\rho_{1199} & \\rho_{1200} & \\rho_{1201} & \\rho_{1202} & \\rho_{1203} & \\rho_{1204} & \\rho_{1205} & \\rho_{1206} & \\rho_{1207} & \\rho_{1208} & \\rho_{1209} & \\rho_{1210} & \\rho_{1211} & \\rho_{1212} & \\rho_{1213} & \\rho_{1214} & \\rho_{1215}\\\\\\rho_{1216} & \\rho_{1217} & \\rho_{1218} & \\rho_{1219} & \\rho_{1220} & \\rho_{1221} & \\rho_{1222} & \\rho_{1223} & \\rho_{1224} & \\rho_{1225} & \\rho_{1226} & \\rho_{1227} & \\rho_{1228} & \\rho_{1229} & \\rho_{1230} & \\rho_{1231} & \\rho_{1232} & \\rho_{1233} & \\rho_{1234} & \\rho_{1235} & \\rho_{1236} & \\rho_{1237} & \\rho_{1238} & \\rho_{1239} & \\rho_{1240} & \\rho_{1241} & \\rho_{1242} & \\rho_{1243} & \\rho_{1244} & \\rho_{1245} & \\rho_{1246} & \\rho_{1247} & \\rho_{1248} & \\rho_{1249} & \\rho_{1250} & \\rho_{1251} & \\rho_{1252} & \\rho_{1253} & \\rho_{1254} & \\rho_{1255} & \\rho_{1256} & \\rho_{1257} & \\rho_{1258} & \\rho_{1259} & \\rho_{1260} & \\rho_{1261} & \\rho_{1262} & \\rho_{1263} & \\rho_{1264} & \\rho_{1265} & \\rho_{1266} & \\rho_{1267} & \\rho_{1268} & \\rho_{1269} & \\rho_{1270} & \\rho_{1271} & \\rho_{1272} & \\rho_{1273} & \\rho_{1274} & \\rho_{1275} & \\rho_{1276} & \\rho_{1277} & \\rho_{1278} & \\rho_{1279}\\\\\\rho_{1280} & \\rho_{1281} & \\rho_{1282} & \\rho_{1283} & \\rho_{1284} & \\rho_{1285} & \\rho_{1286} & \\rho_{1287} & \\rho_{1288} & \\rho_{1289} & \\rho_{1290} & \\rho_{1291} & \\rho_{1292} & \\rho_{1293} & \\rho_{1294} & \\rho_{1295} & \\rho_{1296} & \\rho_{1297} & \\rho_{1298} & \\rho_{1299} & \\rho_{1300} & \\rho_{1301} & \\rho_{1302} & \\rho_{1303} & \\rho_{1304} & \\rho_{1305} & \\rho_{1306} & \\rho_{1307} & \\rho_{1308} & \\rho_{1309} & \\rho_{1310} & \\rho_{1311} & \\rho_{1312} & \\rho_{1313} & \\rho_{1314} & \\rho_{1315} & \\rho_{1316} & \\rho_{1317} & \\rho_{1318} & \\rho_{1319} & \\rho_{1320} & \\rho_{1321} & \\rho_{1322} & \\rho_{1323} & \\rho_{1324} & \\rho_{1325} & \\rho_{1326} & \\rho_{1327} & \\rho_{1328} & \\rho_{1329} & \\rho_{1330} & \\rho_{1331} & \\rho_{1332} & \\rho_{1333} & \\rho_{1334} & \\rho_{1335} & \\rho_{1336} & \\rho_{1337} & \\rho_{1338} & \\rho_{1339} & \\rho_{1340} & \\rho_{1341} & \\rho_{1342} & \\rho_{1343}\\\\\\rho_{1344} & \\rho_{1345} & \\rho_{1346} & \\rho_{1347} & \\rho_{1348} & \\rho_{1349} & \\rho_{1350} & \\rho_{1351} & \\rho_{1352} & \\rho_{1353} & \\rho_{1354} & \\rho_{1355} & \\rho_{1356} & \\rho_{1357} & \\rho_{1358} & \\rho_{1359} & \\rho_{1360} & \\rho_{1361} & \\rho_{1362} & \\rho_{1363} & \\rho_{1364} & \\rho_{1365} & \\rho_{1366} & \\rho_{1367} & \\rho_{1368} & \\rho_{1369} & \\rho_{1370} & \\rho_{1371} & \\rho_{1372} & \\rho_{1373} & \\rho_{1374} & \\rho_{1375} & \\rho_{1376} & \\rho_{1377} & \\rho_{1378} & \\rho_{1379} & \\rho_{1380} & \\rho_{1381} & \\rho_{1382} & \\rho_{1383} & \\rho_{1384} & \\rho_{1385} & \\rho_{1386} & \\rho_{1387} & \\rho_{1388} & \\rho_{1389} & \\rho_{1390} & \\rho_{1391} & \\rho_{1392} & \\rho_{1393} & \\rho_{1394} & \\rho_{1395} & \\rho_{1396} & \\rho_{1397} & \\rho_{1398} & \\rho_{1399} & \\rho_{1400} & \\rho_{1401} & \\rho_{1402} & \\rho_{1403} & \\rho_{1404} & \\rho_{1405} & \\rho_{1406} & \\rho_{1407}\\\\\\rho_{1408} & \\rho_{1409} & \\rho_{1410} & \\rho_{1411} & \\rho_{1412} & \\rho_{1413} & \\rho_{1414} & \\rho_{1415} & \\rho_{1416} & \\rho_{1417} & \\rho_{1418} & \\rho_{1419} & \\rho_{1420} & \\rho_{1421} & \\rho_{1422} & \\rho_{1423} & \\rho_{1424} & \\rho_{1425} & \\rho_{1426} & \\rho_{1427} & \\rho_{1428} & \\rho_{1429} & \\rho_{1430} & \\rho_{1431} & \\rho_{1432} & \\rho_{1433} & \\rho_{1434} & \\rho_{1435} & \\rho_{1436} & \\rho_{1437} & \\rho_{1438} & \\rho_{1439} & \\rho_{1440} & \\rho_{1441} & \\rho_{1442} & \\rho_{1443} & \\rho_{1444} & \\rho_{1445} & \\rho_{1446} & \\rho_{1447} & \\rho_{1448} & \\rho_{1449} & \\rho_{1450} & \\rho_{1451} & \\rho_{1452} & \\rho_{1453} & \\rho_{1454} & \\rho_{1455} & \\rho_{1456} & \\rho_{1457} & \\rho_{1458} & \\rho_{1459} & \\rho_{1460} & \\rho_{1461} & \\rho_{1462} & \\rho_{1463} & \\rho_{1464} & \\rho_{1465} & \\rho_{1466} & \\rho_{1467} & \\rho_{1468} & \\rho_{1469} & \\rho_{1470} & \\rho_{1471}\\\\\\rho_{1472} & \\rho_{1473} & \\rho_{1474} & \\rho_{1475} & \\rho_{1476} & \\rho_{1477} & \\rho_{1478} & \\rho_{1479} & \\rho_{1480} & \\rho_{1481} & \\rho_{1482} & \\rho_{1483} & \\rho_{1484} & \\rho_{1485} & \\rho_{1486} & \\rho_{1487} & \\rho_{1488} & \\rho_{1489} & \\rho_{1490} & \\rho_{1491} & \\rho_{1492} & \\rho_{1493} & \\rho_{1494} & \\rho_{1495} & \\rho_{1496} & \\rho_{1497} & \\rho_{1498} & \\rho_{1499} & \\rho_{1500} & \\rho_{1501} & \\rho_{1502} & \\rho_{1503} & \\rho_{1504} & \\rho_{1505} & \\rho_{1506} & \\rho_{1507} & \\rho_{1508} & \\rho_{1509} & \\rho_{1510} & \\rho_{1511} & \\rho_{1512} & \\rho_{1513} & \\rho_{1514} & \\rho_{1515} & \\rho_{1516} & \\rho_{1517} & \\rho_{1518} & \\rho_{1519} & \\rho_{1520} & \\rho_{1521} & \\rho_{1522} & \\rho_{1523} & \\rho_{1524} & \\rho_{1525} & \\rho_{1526} & \\rho_{1527} & \\rho_{1528} & \\rho_{1529} & \\rho_{1530} & \\rho_{1531} & \\rho_{1532} & \\rho_{1533} & \\rho_{1534} & \\rho_{1535}\\\\\\rho_{1536} & \\rho_{1537} & \\rho_{1538} & \\rho_{1539} & \\rho_{1540} & \\rho_{1541} & \\rho_{1542} & \\rho_{1543} & \\rho_{1544} & \\rho_{1545} & \\rho_{1546} & \\rho_{1547} & \\rho_{1548} & \\rho_{1549} & \\rho_{1550} & \\rho_{1551} & \\rho_{1552} & \\rho_{1553} & \\rho_{1554} & \\rho_{1555} & \\rho_{1556} & \\rho_{1557} & \\rho_{1558} & \\rho_{1559} & \\rho_{1560} & \\rho_{1561} & \\rho_{1562} & \\rho_{1563} & \\rho_{1564} & \\rho_{1565} & \\rho_{1566} & \\rho_{1567} & \\rho_{1568} & \\rho_{1569} & \\rho_{1570} & \\rho_{1571} & \\rho_{1572} & \\rho_{1573} & \\rho_{1574} & \\rho_{1575} & \\rho_{1576} & \\rho_{1577} & \\rho_{1578} & \\rho_{1579} & \\rho_{1580} & \\rho_{1581} & \\rho_{1582} & \\rho_{1583} & \\rho_{1584} & \\rho_{1585} & \\rho_{1586} & \\rho_{1587} & \\rho_{1588} & \\rho_{1589} & \\rho_{1590} & \\rho_{1591} & \\rho_{1592} & \\rho_{1593} & \\rho_{1594} & \\rho_{1595} & \\rho_{1596} & \\rho_{1597} & \\rho_{1598} & \\rho_{1599}\\\\\\rho_{1600} & \\rho_{1601} & \\rho_{1602} & \\rho_{1603} & \\rho_{1604} & \\rho_{1605} & \\rho_{1606} & \\rho_{1607} & \\rho_{1608} & \\rho_{1609} & \\rho_{1610} & \\rho_{1611} & \\rho_{1612} & \\rho_{1613} & \\rho_{1614} & \\rho_{1615} & \\rho_{1616} & \\rho_{1617} & \\rho_{1618} & \\rho_{1619} & \\rho_{1620} & \\rho_{1621} & \\rho_{1622} & \\rho_{1623} & \\rho_{1624} & \\rho_{1625} & \\rho_{1626} & \\rho_{1627} & \\rho_{1628} & \\rho_{1629} & \\rho_{1630} & \\rho_{1631} & \\rho_{1632} & \\rho_{1633} & \\rho_{1634} & \\rho_{1635} & \\rho_{1636} & \\rho_{1637} & \\rho_{1638} & \\rho_{1639} & \\rho_{1640} & \\rho_{1641} & \\rho_{1642} & \\rho_{1643} & \\rho_{1644} & \\rho_{1645} & \\rho_{1646} & \\rho_{1647} & \\rho_{1648} & \\rho_{1649} & \\rho_{1650} & \\rho_{1651} & \\rho_{1652} & \\rho_{1653} & \\rho_{1654} & \\rho_{1655} & \\rho_{1656} & \\rho_{1657} & \\rho_{1658} & \\rho_{1659} & \\rho_{1660} & \\rho_{1661} & \\rho_{1662} & \\rho_{1663}\\\\\\rho_{1664} & \\rho_{1665} & \\rho_{1666} & \\rho_{1667} & \\rho_{1668} & \\rho_{1669} & \\rho_{1670} & \\rho_{1671} & \\rho_{1672} & \\rho_{1673} & \\rho_{1674} & \\rho_{1675} & \\rho_{1676} & \\rho_{1677} & \\rho_{1678} & \\rho_{1679} & \\rho_{1680} & \\rho_{1681} & \\rho_{1682} & \\rho_{1683} & \\rho_{1684} & \\rho_{1685} & \\rho_{1686} & \\rho_{1687} & \\rho_{1688} & \\rho_{1689} & \\rho_{1690} & \\rho_{1691} & \\rho_{1692} & \\rho_{1693} & \\rho_{1694} & \\rho_{1695} & \\rho_{1696} & \\rho_{1697} & \\rho_{1698} & \\rho_{1699} & \\rho_{1700} & \\rho_{1701} & \\rho_{1702} & \\rho_{1703} & \\rho_{1704} & \\rho_{1705} & \\rho_{1706} & \\rho_{1707} & \\rho_{1708} & \\rho_{1709} & \\rho_{1710} & \\rho_{1711} & \\rho_{1712} & \\rho_{1713} & \\rho_{1714} & \\rho_{1715} & \\rho_{1716} & \\rho_{1717} & \\rho_{1718} & \\rho_{1719} & \\rho_{1720} & \\rho_{1721} & \\rho_{1722} & \\rho_{1723} & \\rho_{1724} & \\rho_{1725} & \\rho_{1726} & \\rho_{1727}\\\\\\rho_{1728} & \\rho_{1729} & \\rho_{1730} & \\rho_{1731} & \\rho_{1732} & \\rho_{1733} & \\rho_{1734} & \\rho_{1735} & \\rho_{1736} & \\rho_{1737} & \\rho_{1738} & \\rho_{1739} & \\rho_{1740} & \\rho_{1741} & \\rho_{1742} & \\rho_{1743} & \\rho_{1744} & \\rho_{1745} & \\rho_{1746} & \\rho_{1747} & \\rho_{1748} & \\rho_{1749} & \\rho_{1750} & \\rho_{1751} & \\rho_{1752} & \\rho_{1753} & \\rho_{1754} & \\rho_{1755} & \\rho_{1756} & \\rho_{1757} & \\rho_{1758} & \\rho_{1759} & \\rho_{1760} & \\rho_{1761} & \\rho_{1762} & \\rho_{1763} & \\rho_{1764} & \\rho_{1765} & \\rho_{1766} & \\rho_{1767} & \\rho_{1768} & \\rho_{1769} & \\rho_{1770} & \\rho_{1771} & \\rho_{1772} & \\rho_{1773} & \\rho_{1774} & \\rho_{1775} & \\rho_{1776} & \\rho_{1777} & \\rho_{1778} & \\rho_{1779} & \\rho_{1780} & \\rho_{1781} & \\rho_{1782} & \\rho_{1783} & \\rho_{1784} & \\rho_{1785} & \\rho_{1786} & \\rho_{1787} & \\rho_{1788} & \\rho_{1789} & \\rho_{1790} & \\rho_{1791}\\\\\\rho_{1792} & \\rho_{1793} & \\rho_{1794} & \\rho_{1795} & \\rho_{1796} & \\rho_{1797} & \\rho_{1798} & \\rho_{1799} & \\rho_{1800} & \\rho_{1801} & \\rho_{1802} & \\rho_{1803} & \\rho_{1804} & \\rho_{1805} & \\rho_{1806} & \\rho_{1807} & \\rho_{1808} & \\rho_{1809} & \\rho_{1810} & \\rho_{1811} & \\rho_{1812} & \\rho_{1813} & \\rho_{1814} & \\rho_{1815} & \\rho_{1816} & \\rho_{1817} & \\rho_{1818} & \\rho_{1819} & \\rho_{1820} & \\rho_{1821} & \\rho_{1822} & \\rho_{1823} & \\rho_{1824} & \\rho_{1825} & \\rho_{1826} & \\rho_{1827} & \\rho_{1828} & \\rho_{1829} & \\rho_{1830} & \\rho_{1831} & \\rho_{1832} & \\rho_{1833} & \\rho_{1834} & \\rho_{1835} & \\rho_{1836} & \\rho_{1837} & \\rho_{1838} & \\rho_{1839} & \\rho_{1840} & \\rho_{1841} & \\rho_{1842} & \\rho_{1843} & \\rho_{1844} & \\rho_{1845} & \\rho_{1846} & \\rho_{1847} & \\rho_{1848} & \\rho_{1849} & \\rho_{1850} & \\rho_{1851} & \\rho_{1852} & \\rho_{1853} & \\rho_{1854} & \\rho_{1855}\\\\\\rho_{1856} & \\rho_{1857} & \\rho_{1858} & \\rho_{1859} & \\rho_{1860} & \\rho_{1861} & \\rho_{1862} & \\rho_{1863} & \\rho_{1864} & \\rho_{1865} & \\rho_{1866} & \\rho_{1867} & \\rho_{1868} & \\rho_{1869} & \\rho_{1870} & \\rho_{1871} & \\rho_{1872} & \\rho_{1873} & \\rho_{1874} & \\rho_{1875} & \\rho_{1876} & \\rho_{1877} & \\rho_{1878} & \\rho_{1879} & \\rho_{1880} & \\rho_{1881} & \\rho_{1882} & \\rho_{1883} & \\rho_{1884} & \\rho_{1885} & \\rho_{1886} & \\rho_{1887} & \\rho_{1888} & \\rho_{1889} & \\rho_{1890} & \\rho_{1891} & \\rho_{1892} & \\rho_{1893} & \\rho_{1894} & \\rho_{1895} & \\rho_{1896} & \\rho_{1897} & \\rho_{1898} & \\rho_{1899} & \\rho_{1900} & \\rho_{1901} & \\rho_{1902} & \\rho_{1903} & \\rho_{1904} & \\rho_{1905} & \\rho_{1906} & \\rho_{1907} & \\rho_{1908} & \\rho_{1909} & \\rho_{1910} & \\rho_{1911} & \\rho_{1912} & \\rho_{1913} & \\rho_{1914} & \\rho_{1915} & \\rho_{1916} & \\rho_{1917} & \\rho_{1918} & \\rho_{1919}\\\\\\rho_{1920} & \\rho_{1921} & \\rho_{1922} & \\rho_{1923} & \\rho_{1924} & \\rho_{1925} & \\rho_{1926} & \\rho_{1927} & \\rho_{1928} & \\rho_{1929} & \\rho_{1930} & \\rho_{1931} & \\rho_{1932} & \\rho_{1933} & \\rho_{1934} & \\rho_{1935} & \\rho_{1936} & \\rho_{1937} & \\rho_{1938} & \\rho_{1939} & \\rho_{1940} & \\rho_{1941} & \\rho_{1942} & \\rho_{1943} & \\rho_{1944} & \\rho_{1945} & \\rho_{1946} & \\rho_{1947} & \\rho_{1948} & \\rho_{1949} & \\rho_{1950} & \\rho_{1951} & \\rho_{1952} & \\rho_{1953} & \\rho_{1954} & \\rho_{1955} & \\rho_{1956} & \\rho_{1957} & \\rho_{1958} & \\rho_{1959} & \\rho_{1960} & \\rho_{1961} & \\rho_{1962} & \\rho_{1963} & \\rho_{1964} & \\rho_{1965} & \\rho_{1966} & \\rho_{1967} & \\rho_{1968} & \\rho_{1969} & \\rho_{1970} & \\rho_{1971} & \\rho_{1972} & \\rho_{1973} & \\rho_{1974} & \\rho_{1975} & \\rho_{1976} & \\rho_{1977} & \\rho_{1978} & \\rho_{1979} & \\rho_{1980} & \\rho_{1981} & \\rho_{1982} & \\rho_{1983}\\\\\\rho_{1984} & \\rho_{1985} & \\rho_{1986} & \\rho_{1987} & \\rho_{1988} & \\rho_{1989} & \\rho_{1990} & \\rho_{1991} & \\rho_{1992} & \\rho_{1993} & \\rho_{1994} & \\rho_{1995} & \\rho_{1996} & \\rho_{1997} & \\rho_{1998} & \\rho_{1999} & \\rho_{2000} & \\rho_{2001} & \\rho_{2002} & \\rho_{2003} & \\rho_{2004} & \\rho_{2005} & \\rho_{2006} & \\rho_{2007} & \\rho_{2008} & \\rho_{2009} & \\rho_{2010} & \\rho_{2011} & \\rho_{2012} & \\rho_{2013} & \\rho_{2014} & \\rho_{2015} & \\rho_{2016} & \\rho_{2017} & \\rho_{2018} & \\rho_{2019} & \\rho_{2020} & \\rho_{2021} & \\rho_{2022} & \\rho_{2023} & \\rho_{2024} & \\rho_{2025} & \\rho_{2026} & \\rho_{2027} & \\rho_{2028} & \\rho_{2029} & \\rho_{2030} & \\rho_{2031} & \\rho_{2032} & \\rho_{2033} & \\rho_{2034} & \\rho_{2035} & \\rho_{2036} & \\rho_{2037} & \\rho_{2038} & \\rho_{2039} & \\rho_{2040} & \\rho_{2041} & \\rho_{2042} & \\rho_{2043} & \\rho_{2044} & \\rho_{2045} & \\rho_{2046} & \\rho_{2047}\\\\\\rho_{2048} & \\rho_{2049} & \\rho_{2050} & \\rho_{2051} & \\rho_{2052} & \\rho_{2053} & \\rho_{2054} & \\rho_{2055} & \\rho_{2056} & \\rho_{2057} & \\rho_{2058} & \\rho_{2059} & \\rho_{2060} & \\rho_{2061} & \\rho_{2062} & \\rho_{2063} & \\rho_{2064} & \\rho_{2065} & \\rho_{2066} & \\rho_{2067} & \\rho_{2068} & \\rho_{2069} & \\rho_{2070} & \\rho_{2071} & \\rho_{2072} & \\rho_{2073} & \\rho_{2074} & \\rho_{2075} & \\rho_{2076} & \\rho_{2077} & \\rho_{2078} & \\rho_{2079} & \\rho_{2080} & \\rho_{2081} & \\rho_{2082} & \\rho_{2083} & \\rho_{2084} & \\rho_{2085} & \\rho_{2086} & \\rho_{2087} & \\rho_{2088} & \\rho_{2089} & \\rho_{2090} & \\rho_{2091} & \\rho_{2092} & \\rho_{2093} & \\rho_{2094} & \\rho_{2095} & \\rho_{2096} & \\rho_{2097} & \\rho_{2098} & \\rho_{2099} & \\rho_{2100} & \\rho_{2101} & \\rho_{2102} & \\rho_{2103} & \\rho_{2104} & \\rho_{2105} & \\rho_{2106} & \\rho_{2107} & \\rho_{2108} & \\rho_{2109} & \\rho_{2110} & \\rho_{2111}\\\\\\rho_{2112} & \\rho_{2113} & \\rho_{2114} & \\rho_{2115} & \\rho_{2116} & \\rho_{2117} & \\rho_{2118} & \\rho_{2119} & \\rho_{2120} & \\rho_{2121} & \\rho_{2122} & \\rho_{2123} & \\rho_{2124} & \\rho_{2125} & \\rho_{2126} & \\rho_{2127} & \\rho_{2128} & \\rho_{2129} & \\rho_{2130} & \\rho_{2131} & \\rho_{2132} & \\rho_{2133} & \\rho_{2134} & \\rho_{2135} & \\rho_{2136} & \\rho_{2137} & \\rho_{2138} & \\rho_{2139} & \\rho_{2140} & \\rho_{2141} & \\rho_{2142} & \\rho_{2143} & \\rho_{2144} & \\rho_{2145} & \\rho_{2146} & \\rho_{2147} & \\rho_{2148} & \\rho_{2149} & \\rho_{2150} & \\rho_{2151} & \\rho_{2152} & \\rho_{2153} & \\rho_{2154} & \\rho_{2155} & \\rho_{2156} & \\rho_{2157} & \\rho_{2158} & \\rho_{2159} & \\rho_{2160} & \\rho_{2161} & \\rho_{2162} & \\rho_{2163} & \\rho_{2164} & \\rho_{2165} & \\rho_{2166} & \\rho_{2167} & \\rho_{2168} & \\rho_{2169} & \\rho_{2170} & \\rho_{2171} & \\rho_{2172} & \\rho_{2173} & \\rho_{2174} & \\rho_{2175}\\\\\\rho_{2176} & \\rho_{2177} & \\rho_{2178} & \\rho_{2179} & \\rho_{2180} & \\rho_{2181} & \\rho_{2182} & \\rho_{2183} & \\rho_{2184} & \\rho_{2185} & \\rho_{2186} & \\rho_{2187} & \\rho_{2188} & \\rho_{2189} & \\rho_{2190} & \\rho_{2191} & \\rho_{2192} & \\rho_{2193} & \\rho_{2194} & \\rho_{2195} & \\rho_{2196} & \\rho_{2197} & \\rho_{2198} & \\rho_{2199} & \\rho_{2200} & \\rho_{2201} & \\rho_{2202} & \\rho_{2203} & \\rho_{2204} & \\rho_{2205} & \\rho_{2206} & \\rho_{2207} & \\rho_{2208} & \\rho_{2209} & \\rho_{2210} & \\rho_{2211} & \\rho_{2212} & \\rho_{2213} & \\rho_{2214} & \\rho_{2215} & \\rho_{2216} & \\rho_{2217} & \\rho_{2218} & \\rho_{2219} & \\rho_{2220} & \\rho_{2221} & \\rho_{2222} & \\rho_{2223} & \\rho_{2224} & \\rho_{2225} & \\rho_{2226} & \\rho_{2227} & \\rho_{2228} & \\rho_{2229} & \\rho_{2230} & \\rho_{2231} & \\rho_{2232} & \\rho_{2233} & \\rho_{2234} & \\rho_{2235} & \\rho_{2236} & \\rho_{2237} & \\rho_{2238} & \\rho_{2239}\\\\\\rho_{2240} & \\rho_{2241} & \\rho_{2242} & \\rho_{2243} & \\rho_{2244} & \\rho_{2245} & \\rho_{2246} & \\rho_{2247} & \\rho_{2248} & \\rho_{2249} & \\rho_{2250} & \\rho_{2251} & \\rho_{2252} & \\rho_{2253} & \\rho_{2254} & \\rho_{2255} & \\rho_{2256} & \\rho_{2257} & \\rho_{2258} & \\rho_{2259} & \\rho_{2260} & \\rho_{2261} & \\rho_{2262} & \\rho_{2263} & \\rho_{2264} & \\rho_{2265} & \\rho_{2266} & \\rho_{2267} & \\rho_{2268} & \\rho_{2269} & \\rho_{2270} & \\rho_{2271} & \\rho_{2272} & \\rho_{2273} & \\rho_{2274} & \\rho_{2275} & \\rho_{2276} & \\rho_{2277} & \\rho_{2278} & \\rho_{2279} & \\rho_{2280} & \\rho_{2281} & \\rho_{2282} & \\rho_{2283} & \\rho_{2284} & \\rho_{2285} & \\rho_{2286} & \\rho_{2287} & \\rho_{2288} & \\rho_{2289} & \\rho_{2290} & \\rho_{2291} & \\rho_{2292} & \\rho_{2293} & \\rho_{2294} & \\rho_{2295} & \\rho_{2296} & \\rho_{2297} & \\rho_{2298} & \\rho_{2299} & \\rho_{2300} & \\rho_{2301} & \\rho_{2302} & \\rho_{2303}\\\\\\rho_{2304} & \\rho_{2305} & \\rho_{2306} & \\rho_{2307} & \\rho_{2308} & \\rho_{2309} & \\rho_{2310} & \\rho_{2311} & \\rho_{2312} & \\rho_{2313} & \\rho_{2314} & \\rho_{2315} & \\rho_{2316} & \\rho_{2317} & \\rho_{2318} & \\rho_{2319} & \\rho_{2320} & \\rho_{2321} & \\rho_{2322} & \\rho_{2323} & \\rho_{2324} & \\rho_{2325} & \\rho_{2326} & \\rho_{2327} & \\rho_{2328} & \\rho_{2329} & \\rho_{2330} & \\rho_{2331} & \\rho_{2332} & \\rho_{2333} & \\rho_{2334} & \\rho_{2335} & \\rho_{2336} & \\rho_{2337} & \\rho_{2338} & \\rho_{2339} & \\rho_{2340} & \\rho_{2341} & \\rho_{2342} & \\rho_{2343} & \\rho_{2344} & \\rho_{2345} & \\rho_{2346} & \\rho_{2347} & \\rho_{2348} & \\rho_{2349} & \\rho_{2350} & \\rho_{2351} & \\rho_{2352} & \\rho_{2353} & \\rho_{2354} & \\rho_{2355} & \\rho_{2356} & \\rho_{2357} & \\rho_{2358} & \\rho_{2359} & \\rho_{2360} & \\rho_{2361} & \\rho_{2362} & \\rho_{2363} & \\rho_{2364} & \\rho_{2365} & \\rho_{2366} & \\rho_{2367}\\\\\\rho_{2368} & \\rho_{2369} & \\rho_{2370} & \\rho_{2371} & \\rho_{2372} & \\rho_{2373} & \\rho_{2374} & \\rho_{2375} & \\rho_{2376} & \\rho_{2377} & \\rho_{2378} & \\rho_{2379} & \\rho_{2380} & \\rho_{2381} & \\rho_{2382} & \\rho_{2383} & \\rho_{2384} & \\rho_{2385} & \\rho_{2386} & \\rho_{2387} & \\rho_{2388} & \\rho_{2389} & \\rho_{2390} & \\rho_{2391} & \\rho_{2392} & \\rho_{2393} & \\rho_{2394} & \\rho_{2395} & \\rho_{2396} & \\rho_{2397} & \\rho_{2398} & \\rho_{2399} & \\rho_{2400} & \\rho_{2401} & \\rho_{2402} & \\rho_{2403} & \\rho_{2404} & \\rho_{2405} & \\rho_{2406} & \\rho_{2407} & \\rho_{2408} & \\rho_{2409} & \\rho_{2410} & \\rho_{2411} & \\rho_{2412} & \\rho_{2413} & \\rho_{2414} & \\rho_{2415} & \\rho_{2416} & \\rho_{2417} & \\rho_{2418} & \\rho_{2419} & \\rho_{2420} & \\rho_{2421} & \\rho_{2422} & \\rho_{2423} & \\rho_{2424} & \\rho_{2425} & \\rho_{2426} & \\rho_{2427} & \\rho_{2428} & \\rho_{2429} & \\rho_{2430} & \\rho_{2431}\\\\\\rho_{2432} & \\rho_{2433} & \\rho_{2434} & \\rho_{2435} & \\rho_{2436} & \\rho_{2437} & \\rho_{2438} & \\rho_{2439} & \\rho_{2440} & \\rho_{2441} & \\rho_{2442} & \\rho_{2443} & \\rho_{2444} & \\rho_{2445} & \\rho_{2446} & \\rho_{2447} & \\rho_{2448} & \\rho_{2449} & \\rho_{2450} & \\rho_{2451} & \\rho_{2452} & \\rho_{2453} & \\rho_{2454} & \\rho_{2455} & \\rho_{2456} & \\rho_{2457} & \\rho_{2458} & \\rho_{2459} & \\rho_{2460} & \\rho_{2461} & \\rho_{2462} & \\rho_{2463} & \\rho_{2464} & \\rho_{2465} & \\rho_{2466} & \\rho_{2467} & \\rho_{2468} & \\rho_{2469} & \\rho_{2470} & \\rho_{2471} & \\rho_{2472} & \\rho_{2473} & \\rho_{2474} & \\rho_{2475} & \\rho_{2476} & \\rho_{2477} & \\rho_{2478} & \\rho_{2479} & \\rho_{2480} & \\rho_{2481} & \\rho_{2482} & \\rho_{2483} & \\rho_{2484} & \\rho_{2485} & \\rho_{2486} & \\rho_{2487} & \\rho_{2488} & \\rho_{2489} & \\rho_{2490} & \\rho_{2491} & \\rho_{2492} & \\rho_{2493} & \\rho_{2494} & \\rho_{2495}\\\\\\rho_{2496} & \\rho_{2497} & \\rho_{2498} & \\rho_{2499} & \\rho_{2500} & \\rho_{2501} & \\rho_{2502} & \\rho_{2503} & \\rho_{2504} & \\rho_{2505} & \\rho_{2506} & \\rho_{2507} & \\rho_{2508} & \\rho_{2509} & \\rho_{2510} & \\rho_{2511} & \\rho_{2512} & \\rho_{2513} & \\rho_{2514} & \\rho_{2515} & \\rho_{2516} & \\rho_{2517} & \\rho_{2518} & \\rho_{2519} & \\rho_{2520} & \\rho_{2521} & \\rho_{2522} & \\rho_{2523} & \\rho_{2524} & \\rho_{2525} & \\rho_{2526} & \\rho_{2527} & \\rho_{2528} & \\rho_{2529} & \\rho_{2530} & \\rho_{2531} & \\rho_{2532} & \\rho_{2533} & \\rho_{2534} & \\rho_{2535} & \\rho_{2536} & \\rho_{2537} & \\rho_{2538} & \\rho_{2539} & \\rho_{2540} & \\rho_{2541} & \\rho_{2542} & \\rho_{2543} & \\rho_{2544} & \\rho_{2545} & \\rho_{2546} & \\rho_{2547} & \\rho_{2548} & \\rho_{2549} & \\rho_{2550} & \\rho_{2551} & \\rho_{2552} & \\rho_{2553} & \\rho_{2554} & \\rho_{2555} & \\rho_{2556} & \\rho_{2557} & \\rho_{2558} & \\rho_{2559}\\\\\\rho_{2560} & \\rho_{2561} & \\rho_{2562} & \\rho_{2563} & \\rho_{2564} & \\rho_{2565} & \\rho_{2566} & \\rho_{2567} & \\rho_{2568} & \\rho_{2569} & \\rho_{2570} & \\rho_{2571} & \\rho_{2572} & \\rho_{2573} & \\rho_{2574} & \\rho_{2575} & \\rho_{2576} & \\rho_{2577} & \\rho_{2578} & \\rho_{2579} & \\rho_{2580} & \\rho_{2581} & \\rho_{2582} & \\rho_{2583} & \\rho_{2584} & \\rho_{2585} & \\rho_{2586} & \\rho_{2587} & \\rho_{2588} & \\rho_{2589} & \\rho_{2590} & \\rho_{2591} & \\rho_{2592} & \\rho_{2593} & \\rho_{2594} & \\rho_{2595} & \\rho_{2596} & \\rho_{2597} & \\rho_{2598} & \\rho_{2599} & \\rho_{2600} & \\rho_{2601} & \\rho_{2602} & \\rho_{2603} & \\rho_{2604} & \\rho_{2605} & \\rho_{2606} & \\rho_{2607} & \\rho_{2608} & \\rho_{2609} & \\rho_{2610} & \\rho_{2611} & \\rho_{2612} & \\rho_{2613} & \\rho_{2614} & \\rho_{2615} & \\rho_{2616} & \\rho_{2617} & \\rho_{2618} & \\rho_{2619} & \\rho_{2620} & \\rho_{2621} & \\rho_{2622} & \\rho_{2623}\\\\\\rho_{2624} & \\rho_{2625} & \\rho_{2626} & \\rho_{2627} & \\rho_{2628} & \\rho_{2629} & \\rho_{2630} & \\rho_{2631} & \\rho_{2632} & \\rho_{2633} & \\rho_{2634} & \\rho_{2635} & \\rho_{2636} & \\rho_{2637} & \\rho_{2638} & \\rho_{2639} & \\rho_{2640} & \\rho_{2641} & \\rho_{2642} & \\rho_{2643} & \\rho_{2644} & \\rho_{2645} & \\rho_{2646} & \\rho_{2647} & \\rho_{2648} & \\rho_{2649} & \\rho_{2650} & \\rho_{2651} & \\rho_{2652} & \\rho_{2653} & \\rho_{2654} & \\rho_{2655} & \\rho_{2656} & \\rho_{2657} & \\rho_{2658} & \\rho_{2659} & \\rho_{2660} & \\rho_{2661} & \\rho_{2662} & \\rho_{2663} & \\rho_{2664} & \\rho_{2665} & \\rho_{2666} & \\rho_{2667} & \\rho_{2668} & \\rho_{2669} & \\rho_{2670} & \\rho_{2671} & \\rho_{2672} & \\rho_{2673} & \\rho_{2674} & \\rho_{2675} & \\rho_{2676} & \\rho_{2677} & \\rho_{2678} & \\rho_{2679} & \\rho_{2680} & \\rho_{2681} & \\rho_{2682} & \\rho_{2683} & \\rho_{2684} & \\rho_{2685} & \\rho_{2686} & \\rho_{2687}\\\\\\rho_{2688} & \\rho_{2689} & \\rho_{2690} & \\rho_{2691} & \\rho_{2692} & \\rho_{2693} & \\rho_{2694} & \\rho_{2695} & \\rho_{2696} & \\rho_{2697} & \\rho_{2698} & \\rho_{2699} & \\rho_{2700} & \\rho_{2701} & \\rho_{2702} & \\rho_{2703} & \\rho_{2704} & \\rho_{2705} & \\rho_{2706} & \\rho_{2707} & \\rho_{2708} & \\rho_{2709} & \\rho_{2710} & \\rho_{2711} & \\rho_{2712} & \\rho_{2713} & \\rho_{2714} & \\rho_{2715} & \\rho_{2716} & \\rho_{2717} & \\rho_{2718} & \\rho_{2719} & \\rho_{2720} & \\rho_{2721} & \\rho_{2722} & \\rho_{2723} & \\rho_{2724} & \\rho_{2725} & \\rho_{2726} & \\rho_{2727} & \\rho_{2728} & \\rho_{2729} & \\rho_{2730} & \\rho_{2731} & \\rho_{2732} & \\rho_{2733} & \\rho_{2734} & \\rho_{2735} & \\rho_{2736} & \\rho_{2737} & \\rho_{2738} & \\rho_{2739} & \\rho_{2740} & \\rho_{2741} & \\rho_{2742} & \\rho_{2743} & \\rho_{2744} & \\rho_{2745} & \\rho_{2746} & \\rho_{2747} & \\rho_{2748} & \\rho_{2749} & \\rho_{2750} & \\rho_{2751}\\\\\\rho_{2752} & \\rho_{2753} & \\rho_{2754} & \\rho_{2755} & \\rho_{2756} & \\rho_{2757} & \\rho_{2758} & \\rho_{2759} & \\rho_{2760} & \\rho_{2761} & \\rho_{2762} & \\rho_{2763} & \\rho_{2764} & \\rho_{2765} & \\rho_{2766} & \\rho_{2767} & \\rho_{2768} & \\rho_{2769} & \\rho_{2770} & \\rho_{2771} & \\rho_{2772} & \\rho_{2773} & \\rho_{2774} & \\rho_{2775} & \\rho_{2776} & \\rho_{2777} & \\rho_{2778} & \\rho_{2779} & \\rho_{2780} & \\rho_{2781} & \\rho_{2782} & \\rho_{2783} & \\rho_{2784} & \\rho_{2785} & \\rho_{2786} & \\rho_{2787} & \\rho_{2788} & \\rho_{2789} & \\rho_{2790} & \\rho_{2791} & \\rho_{2792} & \\rho_{2793} & \\rho_{2794} & \\rho_{2795} & \\rho_{2796} & \\rho_{2797} & \\rho_{2798} & \\rho_{2799} & \\rho_{2800} & \\rho_{2801} & \\rho_{2802} & \\rho_{2803} & \\rho_{2804} & \\rho_{2805} & \\rho_{2806} & \\rho_{2807} & \\rho_{2808} & \\rho_{2809} & \\rho_{2810} & \\rho_{2811} & \\rho_{2812} & \\rho_{2813} & \\rho_{2814} & \\rho_{2815}\\\\\\rho_{2816} & \\rho_{2817} & \\rho_{2818} & \\rho_{2819} & \\rho_{2820} & \\rho_{2821} & \\rho_{2822} & \\rho_{2823} & \\rho_{2824} & \\rho_{2825} & \\rho_{2826} & \\rho_{2827} & \\rho_{2828} & \\rho_{2829} & \\rho_{2830} & \\rho_{2831} & \\rho_{2832} & \\rho_{2833} & \\rho_{2834} & \\rho_{2835} & \\rho_{2836} & \\rho_{2837} & \\rho_{2838} & \\rho_{2839} & \\rho_{2840} & \\rho_{2841} & \\rho_{2842} & \\rho_{2843} & \\rho_{2844} & \\rho_{2845} & \\rho_{2846} & \\rho_{2847} & \\rho_{2848} & \\rho_{2849} & \\rho_{2850} & \\rho_{2851} & \\rho_{2852} & \\rho_{2853} & \\rho_{2854} & \\rho_{2855} & \\rho_{2856} & \\rho_{2857} & \\rho_{2858} & \\rho_{2859} & \\rho_{2860} & \\rho_{2861} & \\rho_{2862} & \\rho_{2863} & \\rho_{2864} & \\rho_{2865} & \\rho_{2866} & \\rho_{2867} & \\rho_{2868} & \\rho_{2869} & \\rho_{2870} & \\rho_{2871} & \\rho_{2872} & \\rho_{2873} & \\rho_{2874} & \\rho_{2875} & \\rho_{2876} & \\rho_{2877} & \\rho_{2878} & \\rho_{2879}\\\\\\rho_{2880} & \\rho_{2881} & \\rho_{2882} & \\rho_{2883} & \\rho_{2884} & \\rho_{2885} & \\rho_{2886} & \\rho_{2887} & \\rho_{2888} & \\rho_{2889} & \\rho_{2890} & \\rho_{2891} & \\rho_{2892} & \\rho_{2893} & \\rho_{2894} & \\rho_{2895} & \\rho_{2896} & \\rho_{2897} & \\rho_{2898} & \\rho_{2899} & \\rho_{2900} & \\rho_{2901} & \\rho_{2902} & \\rho_{2903} & \\rho_{2904} & \\rho_{2905} & \\rho_{2906} & \\rho_{2907} & \\rho_{2908} & \\rho_{2909} & \\rho_{2910} & \\rho_{2911} & \\rho_{2912} & \\rho_{2913} & \\rho_{2914} & \\rho_{2915} & \\rho_{2916} & \\rho_{2917} & \\rho_{2918} & \\rho_{2919} & \\rho_{2920} & \\rho_{2921} & \\rho_{2922} & \\rho_{2923} & \\rho_{2924} & \\rho_{2925} & \\rho_{2926} & \\rho_{2927} & \\rho_{2928} & \\rho_{2929} & \\rho_{2930} & \\rho_{2931} & \\rho_{2932} & \\rho_{2933} & \\rho_{2934} & \\rho_{2935} & \\rho_{2936} & \\rho_{2937} & \\rho_{2938} & \\rho_{2939} & \\rho_{2940} & \\rho_{2941} & \\rho_{2942} & \\rho_{2943}\\\\\\rho_{2944} & \\rho_{2945} & \\rho_{2946} & \\rho_{2947} & \\rho_{2948} & \\rho_{2949} & \\rho_{2950} & \\rho_{2951} & \\rho_{2952} & \\rho_{2953} & \\rho_{2954} & \\rho_{2955} & \\rho_{2956} & \\rho_{2957} & \\rho_{2958} & \\rho_{2959} & \\rho_{2960} & \\rho_{2961} & \\rho_{2962} & \\rho_{2963} & \\rho_{2964} & \\rho_{2965} & \\rho_{2966} & \\rho_{2967} & \\rho_{2968} & \\rho_{2969} & \\rho_{2970} & \\rho_{2971} & \\rho_{2972} & \\rho_{2973} & \\rho_{2974} & \\rho_{2975} & \\rho_{2976} & \\rho_{2977} & \\rho_{2978} & \\rho_{2979} & \\rho_{2980} & \\rho_{2981} & \\rho_{2982} & \\rho_{2983} & \\rho_{2984} & \\rho_{2985} & \\rho_{2986} & \\rho_{2987} & \\rho_{2988} & \\rho_{2989} & \\rho_{2990} & \\rho_{2991} & \\rho_{2992} & \\rho_{2993} & \\rho_{2994} & \\rho_{2995} & \\rho_{2996} & \\rho_{2997} & \\rho_{2998} & \\rho_{2999} & \\rho_{3000} & \\rho_{3001} & \\rho_{3002} & \\rho_{3003} & \\rho_{3004} & \\rho_{3005} & \\rho_{3006} & \\rho_{3007}\\\\\\rho_{3008} & \\rho_{3009} & \\rho_{3010} & \\rho_{3011} & \\rho_{3012} & \\rho_{3013} & \\rho_{3014} & \\rho_{3015} & \\rho_{3016} & \\rho_{3017} & \\rho_{3018} & \\rho_{3019} & \\rho_{3020} & \\rho_{3021} & \\rho_{3022} & \\rho_{3023} & \\rho_{3024} & \\rho_{3025} & \\rho_{3026} & \\rho_{3027} & \\rho_{3028} & \\rho_{3029} & \\rho_{3030} & \\rho_{3031} & \\rho_{3032} & \\rho_{3033} & \\rho_{3034} & \\rho_{3035} & \\rho_{3036} & \\rho_{3037} & \\rho_{3038} & \\rho_{3039} & \\rho_{3040} & \\rho_{3041} & \\rho_{3042} & \\rho_{3043} & \\rho_{3044} & \\rho_{3045} & \\rho_{3046} & \\rho_{3047} & \\rho_{3048} & \\rho_{3049} & \\rho_{3050} & \\rho_{3051} & \\rho_{3052} & \\rho_{3053} & \\rho_{3054} & \\rho_{3055} & \\rho_{3056} & \\rho_{3057} & \\rho_{3058} & \\rho_{3059} & \\rho_{3060} & \\rho_{3061} & \\rho_{3062} & \\rho_{3063} & \\rho_{3064} & \\rho_{3065} & \\rho_{3066} & \\rho_{3067} & \\rho_{3068} & \\rho_{3069} & \\rho_{3070} & \\rho_{3071}\\\\\\rho_{3072} & \\rho_{3073} & \\rho_{3074} & \\rho_{3075} & \\rho_{3076} & \\rho_{3077} & \\rho_{3078} & \\rho_{3079} & \\rho_{3080} & \\rho_{3081} & \\rho_{3082} & \\rho_{3083} & \\rho_{3084} & \\rho_{3085} & \\rho_{3086} & \\rho_{3087} & \\rho_{3088} & \\rho_{3089} & \\rho_{3090} & \\rho_{3091} & \\rho_{3092} & \\rho_{3093} & \\rho_{3094} & \\rho_{3095} & \\rho_{3096} & \\rho_{3097} & \\rho_{3098} & \\rho_{3099} & \\rho_{3100} & \\rho_{3101} & \\rho_{3102} & \\rho_{3103} & \\rho_{3104} & \\rho_{3105} & \\rho_{3106} & \\rho_{3107} & \\rho_{3108} & \\rho_{3109} & \\rho_{3110} & \\rho_{3111} & \\rho_{3112} & \\rho_{3113} & \\rho_{3114} & \\rho_{3115} & \\rho_{3116} & \\rho_{3117} & \\rho_{3118} & \\rho_{3119} & \\rho_{3120} & \\rho_{3121} & \\rho_{3122} & \\rho_{3123} & \\rho_{3124} & \\rho_{3125} & \\rho_{3126} & \\rho_{3127} & \\rho_{3128} & \\rho_{3129} & \\rho_{3130} & \\rho_{3131} & \\rho_{3132} & \\rho_{3133} & \\rho_{3134} & \\rho_{3135}\\\\\\rho_{3136} & \\rho_{3137} & \\rho_{3138} & \\rho_{3139} & \\rho_{3140} & \\rho_{3141} & \\rho_{3142} & \\rho_{3143} & \\rho_{3144} & \\rho_{3145} & \\rho_{3146} & \\rho_{3147} & \\rho_{3148} & \\rho_{3149} & \\rho_{3150} & \\rho_{3151} & \\rho_{3152} & \\rho_{3153} & \\rho_{3154} & \\rho_{3155} & \\rho_{3156} & \\rho_{3157} & \\rho_{3158} & \\rho_{3159} & \\rho_{3160} & \\rho_{3161} & \\rho_{3162} & \\rho_{3163} & \\rho_{3164} & \\rho_{3165} & \\rho_{3166} & \\rho_{3167} & \\rho_{3168} & \\rho_{3169} & \\rho_{3170} & \\rho_{3171} & \\rho_{3172} & \\rho_{3173} & \\rho_{3174} & \\rho_{3175} & \\rho_{3176} & \\rho_{3177} & \\rho_{3178} & \\rho_{3179} & \\rho_{3180} & \\rho_{3181} & \\rho_{3182} & \\rho_{3183} & \\rho_{3184} & \\rho_{3185} & \\rho_{3186} & \\rho_{3187} & \\rho_{3188} & \\rho_{3189} & \\rho_{3190} & \\rho_{3191} & \\rho_{3192} & \\rho_{3193} & \\rho_{3194} & \\rho_{3195} & \\rho_{3196} & \\rho_{3197} & \\rho_{3198} & \\rho_{3199}\\\\\\rho_{3200} & \\rho_{3201} & \\rho_{3202} & \\rho_{3203} & \\rho_{3204} & \\rho_{3205} & \\rho_{3206} & \\rho_{3207} & \\rho_{3208} & \\rho_{3209} & \\rho_{3210} & \\rho_{3211} & \\rho_{3212} & \\rho_{3213} & \\rho_{3214} & \\rho_{3215} & \\rho_{3216} & \\rho_{3217} & \\rho_{3218} & \\rho_{3219} & \\rho_{3220} & \\rho_{3221} & \\rho_{3222} & \\rho_{3223} & \\rho_{3224} & \\rho_{3225} & \\rho_{3226} & \\rho_{3227} & \\rho_{3228} & \\rho_{3229} & \\rho_{3230} & \\rho_{3231} & \\rho_{3232} & \\rho_{3233} & \\rho_{3234} & \\rho_{3235} & \\rho_{3236} & \\rho_{3237} & \\rho_{3238} & \\rho_{3239} & \\rho_{3240} & \\rho_{3241} & \\rho_{3242} & \\rho_{3243} & \\rho_{3244} & \\rho_{3245} & \\rho_{3246} & \\rho_{3247} & \\rho_{3248} & \\rho_{3249} & \\rho_{3250} & \\rho_{3251} & \\rho_{3252} & \\rho_{3253} & \\rho_{3254} & \\rho_{3255} & \\rho_{3256} & \\rho_{3257} & \\rho_{3258} & \\rho_{3259} & \\rho_{3260} & \\rho_{3261} & \\rho_{3262} & \\rho_{3263}\\\\\\rho_{3264} & \\rho_{3265} & \\rho_{3266} & \\rho_{3267} & \\rho_{3268} & \\rho_{3269} & \\rho_{3270} & \\rho_{3271} & \\rho_{3272} & \\rho_{3273} & \\rho_{3274} & \\rho_{3275} & \\rho_{3276} & \\rho_{3277} & \\rho_{3278} & \\rho_{3279} & \\rho_{3280} & \\rho_{3281} & \\rho_{3282} & \\rho_{3283} & \\rho_{3284} & \\rho_{3285} & \\rho_{3286} & \\rho_{3287} & \\rho_{3288} & \\rho_{3289} & \\rho_{3290} & \\rho_{3291} & \\rho_{3292} & \\rho_{3293} & \\rho_{3294} & \\rho_{3295} & \\rho_{3296} & \\rho_{3297} & \\rho_{3298} & \\rho_{3299} & \\rho_{3300} & \\rho_{3301} & \\rho_{3302} & \\rho_{3303} & \\rho_{3304} & \\rho_{3305} & \\rho_{3306} & \\rho_{3307} & \\rho_{3308} & \\rho_{3309} & \\rho_{3310} & \\rho_{3311} & \\rho_{3312} & \\rho_{3313} & \\rho_{3314} & \\rho_{3315} & \\rho_{3316} & \\rho_{3317} & \\rho_{3318} & \\rho_{3319} & \\rho_{3320} & \\rho_{3321} & \\rho_{3322} & \\rho_{3323} & \\rho_{3324} & \\rho_{3325} & \\rho_{3326} & \\rho_{3327}\\\\\\rho_{3328} & \\rho_{3329} & \\rho_{3330} & \\rho_{3331} & \\rho_{3332} & \\rho_{3333} & \\rho_{3334} & \\rho_{3335} & \\rho_{3336} & \\rho_{3337} & \\rho_{3338} & \\rho_{3339} & \\rho_{3340} & \\rho_{3341} & \\rho_{3342} & \\rho_{3343} & \\rho_{3344} & \\rho_{3345} & \\rho_{3346} & \\rho_{3347} & \\rho_{3348} & \\rho_{3349} & \\rho_{3350} & \\rho_{3351} & \\rho_{3352} & \\rho_{3353} & \\rho_{3354} & \\rho_{3355} & \\rho_{3356} & \\rho_{3357} & \\rho_{3358} & \\rho_{3359} & \\rho_{3360} & \\rho_{3361} & \\rho_{3362} & \\rho_{3363} & \\rho_{3364} & \\rho_{3365} & \\rho_{3366} & \\rho_{3367} & \\rho_{3368} & \\rho_{3369} & \\rho_{3370} & \\rho_{3371} & \\rho_{3372} & \\rho_{3373} & \\rho_{3374} & \\rho_{3375} & \\rho_{3376} & \\rho_{3377} & \\rho_{3378} & \\rho_{3379} & \\rho_{3380} & \\rho_{3381} & \\rho_{3382} & \\rho_{3383} & \\rho_{3384} & \\rho_{3385} & \\rho_{3386} & \\rho_{3387} & \\rho_{3388} & \\rho_{3389} & \\rho_{3390} & \\rho_{3391}\\\\\\rho_{3392} & \\rho_{3393} & \\rho_{3394} & \\rho_{3395} & \\rho_{3396} & \\rho_{3397} & \\rho_{3398} & \\rho_{3399} & \\rho_{3400} & \\rho_{3401} & \\rho_{3402} & \\rho_{3403} & \\rho_{3404} & \\rho_{3405} & \\rho_{3406} & \\rho_{3407} & \\rho_{3408} & \\rho_{3409} & \\rho_{3410} & \\rho_{3411} & \\rho_{3412} & \\rho_{3413} & \\rho_{3414} & \\rho_{3415} & \\rho_{3416} & \\rho_{3417} & \\rho_{3418} & \\rho_{3419} & \\rho_{3420} & \\rho_{3421} & \\rho_{3422} & \\rho_{3423} & \\rho_{3424} & \\rho_{3425} & \\rho_{3426} & \\rho_{3427} & \\rho_{3428} & \\rho_{3429} & \\rho_{3430} & \\rho_{3431} & \\rho_{3432} & \\rho_{3433} & \\rho_{3434} & \\rho_{3435} & \\rho_{3436} & \\rho_{3437} & \\rho_{3438} & \\rho_{3439} & \\rho_{3440} & \\rho_{3441} & \\rho_{3442} & \\rho_{3443} & \\rho_{3444} & \\rho_{3445} & \\rho_{3446} & \\rho_{3447} & \\rho_{3448} & \\rho_{3449} & \\rho_{3450} & \\rho_{3451} & \\rho_{3452} & \\rho_{3453} & \\rho_{3454} & \\rho_{3455}\\\\\\rho_{3456} & \\rho_{3457} & \\rho_{3458} & \\rho_{3459} & \\rho_{3460} & \\rho_{3461} & \\rho_{3462} & \\rho_{3463} & \\rho_{3464} & \\rho_{3465} & \\rho_{3466} & \\rho_{3467} & \\rho_{3468} & \\rho_{3469} & \\rho_{3470} & \\rho_{3471} & \\rho_{3472} & \\rho_{3473} & \\rho_{3474} & \\rho_{3475} & \\rho_{3476} & \\rho_{3477} & \\rho_{3478} & \\rho_{3479} & \\rho_{3480} & \\rho_{3481} & \\rho_{3482} & \\rho_{3483} & \\rho_{3484} & \\rho_{3485} & \\rho_{3486} & \\rho_{3487} & \\rho_{3488} & \\rho_{3489} & \\rho_{3490} & \\rho_{3491} & \\rho_{3492} & \\rho_{3493} & \\rho_{3494} & \\rho_{3495} & \\rho_{3496} & \\rho_{3497} & \\rho_{3498} & \\rho_{3499} & \\rho_{3500} & \\rho_{3501} & \\rho_{3502} & \\rho_{3503} & \\rho_{3504} & \\rho_{3505} & \\rho_{3506} & \\rho_{3507} & \\rho_{3508} & \\rho_{3509} & \\rho_{3510} & \\rho_{3511} & \\rho_{3512} & \\rho_{3513} & \\rho_{3514} & \\rho_{3515} & \\rho_{3516} & \\rho_{3517} & \\rho_{3518} & \\rho_{3519}\\\\\\rho_{3520} & \\rho_{3521} & \\rho_{3522} & \\rho_{3523} & \\rho_{3524} & \\rho_{3525} & \\rho_{3526} & \\rho_{3527} & \\rho_{3528} & \\rho_{3529} & \\rho_{3530} & \\rho_{3531} & \\rho_{3532} & \\rho_{3533} & \\rho_{3534} & \\rho_{3535} & \\rho_{3536} & \\rho_{3537} & \\rho_{3538} & \\rho_{3539} & \\rho_{3540} & \\rho_{3541} & \\rho_{3542} & \\rho_{3543} & \\rho_{3544} & \\rho_{3545} & \\rho_{3546} & \\rho_{3547} & \\rho_{3548} & \\rho_{3549} & \\rho_{3550} & \\rho_{3551} & \\rho_{3552} & \\rho_{3553} & \\rho_{3554} & \\rho_{3555} & \\rho_{3556} & \\rho_{3557} & \\rho_{3558} & \\rho_{3559} & \\rho_{3560} & \\rho_{3561} & \\rho_{3562} & \\rho_{3563} & \\rho_{3564} & \\rho_{3565} & \\rho_{3566} & \\rho_{3567} & \\rho_{3568} & \\rho_{3569} & \\rho_{3570} & \\rho_{3571} & \\rho_{3572} & \\rho_{3573} & \\rho_{3574} & \\rho_{3575} & \\rho_{3576} & \\rho_{3577} & \\rho_{3578} & \\rho_{3579} & \\rho_{3580} & \\rho_{3581} & \\rho_{3582} & \\rho_{3583}\\\\\\rho_{3584} & \\rho_{3585} & \\rho_{3586} & \\rho_{3587} & \\rho_{3588} & \\rho_{3589} & \\rho_{3590} & \\rho_{3591} & \\rho_{3592} & \\rho_{3593} & \\rho_{3594} & \\rho_{3595} & \\rho_{3596} & \\rho_{3597} & \\rho_{3598} & \\rho_{3599} & \\rho_{3600} & \\rho_{3601} & \\rho_{3602} & \\rho_{3603} & \\rho_{3604} & \\rho_{3605} & \\rho_{3606} & \\rho_{3607} & \\rho_{3608} & \\rho_{3609} & \\rho_{3610} & \\rho_{3611} & \\rho_{3612} & \\rho_{3613} & \\rho_{3614} & \\rho_{3615} & \\rho_{3616} & \\rho_{3617} & \\rho_{3618} & \\rho_{3619} & \\rho_{3620} & \\rho_{3621} & \\rho_{3622} & \\rho_{3623} & \\rho_{3624} & \\rho_{3625} & \\rho_{3626} & \\rho_{3627} & \\rho_{3628} & \\rho_{3629} & \\rho_{3630} & \\rho_{3631} & \\rho_{3632} & \\rho_{3633} & \\rho_{3634} & \\rho_{3635} & \\rho_{3636} & \\rho_{3637} & \\rho_{3638} & \\rho_{3639} & \\rho_{3640} & \\rho_{3641} & \\rho_{3642} & \\rho_{3643} & \\rho_{3644} & \\rho_{3645} & \\rho_{3646} & \\rho_{3647}\\\\\\rho_{3648} & \\rho_{3649} & \\rho_{3650} & \\rho_{3651} & \\rho_{3652} & \\rho_{3653} & \\rho_{3654} & \\rho_{3655} & \\rho_{3656} & \\rho_{3657} & \\rho_{3658} & \\rho_{3659} & \\rho_{3660} & \\rho_{3661} & \\rho_{3662} & \\rho_{3663} & \\rho_{3664} & \\rho_{3665} & \\rho_{3666} & \\rho_{3667} & \\rho_{3668} & \\rho_{3669} & \\rho_{3670} & \\rho_{3671} & \\rho_{3672} & \\rho_{3673} & \\rho_{3674} & \\rho_{3675} & \\rho_{3676} & \\rho_{3677} & \\rho_{3678} & \\rho_{3679} & \\rho_{3680} & \\rho_{3681} & \\rho_{3682} & \\rho_{3683} & \\rho_{3684} & \\rho_{3685} & \\rho_{3686} & \\rho_{3687} & \\rho_{3688} & \\rho_{3689} & \\rho_{3690} & \\rho_{3691} & \\rho_{3692} & \\rho_{3693} & \\rho_{3694} & \\rho_{3695} & \\rho_{3696} & \\rho_{3697} & \\rho_{3698} & \\rho_{3699} & \\rho_{3700} & \\rho_{3701} & \\rho_{3702} & \\rho_{3703} & \\rho_{3704} & \\rho_{3705} & \\rho_{3706} & \\rho_{3707} & \\rho_{3708} & \\rho_{3709} & \\rho_{3710} & \\rho_{3711}\\\\\\rho_{3712} & \\rho_{3713} & \\rho_{3714} & \\rho_{3715} & \\rho_{3716} & \\rho_{3717} & \\rho_{3718} & \\rho_{3719} & \\rho_{3720} & \\rho_{3721} & \\rho_{3722} & \\rho_{3723} & \\rho_{3724} & \\rho_{3725} & \\rho_{3726} & \\rho_{3727} & \\rho_{3728} & \\rho_{3729} & \\rho_{3730} & \\rho_{3731} & \\rho_{3732} & \\rho_{3733} & \\rho_{3734} & \\rho_{3735} & \\rho_{3736} & \\rho_{3737} & \\rho_{3738} & \\rho_{3739} & \\rho_{3740} & \\rho_{3741} & \\rho_{3742} & \\rho_{3743} & \\rho_{3744} & \\rho_{3745} & \\rho_{3746} & \\rho_{3747} & \\rho_{3748} & \\rho_{3749} & \\rho_{3750} & \\rho_{3751} & \\rho_{3752} & \\rho_{3753} & \\rho_{3754} & \\rho_{3755} & \\rho_{3756} & \\rho_{3757} & \\rho_{3758} & \\rho_{3759} & \\rho_{3760} & \\rho_{3761} & \\rho_{3762} & \\rho_{3763} & \\rho_{3764} & \\rho_{3765} & \\rho_{3766} & \\rho_{3767} & \\rho_{3768} & \\rho_{3769} & \\rho_{3770} & \\rho_{3771} & \\rho_{3772} & \\rho_{3773} & \\rho_{3774} & \\rho_{3775}\\\\\\rho_{3776} & \\rho_{3777} & \\rho_{3778} & \\rho_{3779} & \\rho_{3780} & \\rho_{3781} & \\rho_{3782} & \\rho_{3783} & \\rho_{3784} & \\rho_{3785} & \\rho_{3786} & \\rho_{3787} & \\rho_{3788} & \\rho_{3789} & \\rho_{3790} & \\rho_{3791} & \\rho_{3792} & \\rho_{3793} & \\rho_{3794} & \\rho_{3795} & \\rho_{3796} & \\rho_{3797} & \\rho_{3798} & \\rho_{3799} & \\rho_{3800} & \\rho_{3801} & \\rho_{3802} & \\rho_{3803} & \\rho_{3804} & \\rho_{3805} & \\rho_{3806} & \\rho_{3807} & \\rho_{3808} & \\rho_{3809} & \\rho_{3810} & \\rho_{3811} & \\rho_{3812} & \\rho_{3813} & \\rho_{3814} & \\rho_{3815} & \\rho_{3816} & \\rho_{3817} & \\rho_{3818} & \\rho_{3819} & \\rho_{3820} & \\rho_{3821} & \\rho_{3822} & \\rho_{3823} & \\rho_{3824} & \\rho_{3825} & \\rho_{3826} & \\rho_{3827} & \\rho_{3828} & \\rho_{3829} & \\rho_{3830} & \\rho_{3831} & \\rho_{3832} & \\rho_{3833} & \\rho_{3834} & \\rho_{3835} & \\rho_{3836} & \\rho_{3837} & \\rho_{3838} & \\rho_{3839}\\\\\\rho_{3840} & \\rho_{3841} & \\rho_{3842} & \\rho_{3843} & \\rho_{3844} & \\rho_{3845} & \\rho_{3846} & \\rho_{3847} & \\rho_{3848} & \\rho_{3849} & \\rho_{3850} & \\rho_{3851} & \\rho_{3852} & \\rho_{3853} & \\rho_{3854} & \\rho_{3855} & \\rho_{3856} & \\rho_{3857} & \\rho_{3858} & \\rho_{3859} & \\rho_{3860} & \\rho_{3861} & \\rho_{3862} & \\rho_{3863} & \\rho_{3864} & \\rho_{3865} & \\rho_{3866} & \\rho_{3867} & \\rho_{3868} & \\rho_{3869} & \\rho_{3870} & \\rho_{3871} & \\rho_{3872} & \\rho_{3873} & \\rho_{3874} & \\rho_{3875} & \\rho_{3876} & \\rho_{3877} & \\rho_{3878} & \\rho_{3879} & \\rho_{3880} & \\rho_{3881} & \\rho_{3882} & \\rho_{3883} & \\rho_{3884} & \\rho_{3885} & \\rho_{3886} & \\rho_{3887} & \\rho_{3888} & \\rho_{3889} & \\rho_{3890} & \\rho_{3891} & \\rho_{3892} & \\rho_{3893} & \\rho_{3894} & \\rho_{3895} & \\rho_{3896} & \\rho_{3897} & \\rho_{3898} & \\rho_{3899} & \\rho_{3900} & \\rho_{3901} & \\rho_{3902} & \\rho_{3903}\\\\\\rho_{3904} & \\rho_{3905} & \\rho_{3906} & \\rho_{3907} & \\rho_{3908} & \\rho_{3909} & \\rho_{3910} & \\rho_{3911} & \\rho_{3912} & \\rho_{3913} & \\rho_{3914} & \\rho_{3915} & \\rho_{3916} & \\rho_{3917} & \\rho_{3918} & \\rho_{3919} & \\rho_{3920} & \\rho_{3921} & \\rho_{3922} & \\rho_{3923} & \\rho_{3924} & \\rho_{3925} & \\rho_{3926} & \\rho_{3927} & \\rho_{3928} & \\rho_{3929} & \\rho_{3930} & \\rho_{3931} & \\rho_{3932} & \\rho_{3933} & \\rho_{3934} & \\rho_{3935} & \\rho_{3936} & \\rho_{3937} & \\rho_{3938} & \\rho_{3939} & \\rho_{3940} & \\rho_{3941} & \\rho_{3942} & \\rho_{3943} & \\rho_{3944} & \\rho_{3945} & \\rho_{3946} & \\rho_{3947} & \\rho_{3948} & \\rho_{3949} & \\rho_{3950} & \\rho_{3951} & \\rho_{3952} & \\rho_{3953} & \\rho_{3954} & \\rho_{3955} & \\rho_{3956} & \\rho_{3957} & \\rho_{3958} & \\rho_{3959} & \\rho_{3960} & \\rho_{3961} & \\rho_{3962} & \\rho_{3963} & \\rho_{3964} & \\rho_{3965} & \\rho_{3966} & \\rho_{3967}\\\\\\rho_{3968} & \\rho_{3969} & \\rho_{3970} & \\rho_{3971} & \\rho_{3972} & \\rho_{3973} & \\rho_{3974} & \\rho_{3975} & \\rho_{3976} & \\rho_{3977} & \\rho_{3978} & \\rho_{3979} & \\rho_{3980} & \\rho_{3981} & \\rho_{3982} & \\rho_{3983} & \\rho_{3984} & \\rho_{3985} & \\rho_{3986} & \\rho_{3987} & \\rho_{3988} & \\rho_{3989} & \\rho_{3990} & \\rho_{3991} & \\rho_{3992} & \\rho_{3993} & \\rho_{3994} & \\rho_{3995} & \\rho_{3996} & \\rho_{3997} & \\rho_{3998} & \\rho_{3999} & \\rho_{4000} & \\rho_{4001} & \\rho_{4002} & \\rho_{4003} & \\rho_{4004} & \\rho_{4005} & \\rho_{4006} & \\rho_{4007} & \\rho_{4008} & \\rho_{4009} & \\rho_{4010} & \\rho_{4011} & \\rho_{4012} & \\rho_{4013} & \\rho_{4014} & \\rho_{4015} & \\rho_{4016} & \\rho_{4017} & \\rho_{4018} & \\rho_{4019} & \\rho_{4020} & \\rho_{4021} & \\rho_{4022} & \\rho_{4023} & \\rho_{4024} & \\rho_{4025} & \\rho_{4026} & \\rho_{4027} & \\rho_{4028} & \\rho_{4029} & \\rho_{4030} & \\rho_{4031}\\\\\\rho_{4032} & \\rho_{4033} & \\rho_{4034} & \\rho_{4035} & \\rho_{4036} & \\rho_{4037} & \\rho_{4038} & \\rho_{4039} & \\rho_{4040} & \\rho_{4041} & \\rho_{4042} & \\rho_{4043} & \\rho_{4044} & \\rho_{4045} & \\rho_{4046} & \\rho_{4047} & \\rho_{4048} & \\rho_{4049} & \\rho_{4050} & \\rho_{4051} & \\rho_{4052} & \\rho_{4053} & \\rho_{4054} & \\rho_{4055} & \\rho_{4056} & \\rho_{4057} & \\rho_{4058} & \\rho_{4059} & \\rho_{4060} & \\rho_{4061} & \\rho_{4062} & \\rho_{4063} & \\rho_{4064} & \\rho_{4065} & \\rho_{4066} & \\rho_{4067} & \\rho_{4068} & \\rho_{4069} & \\rho_{4070} & \\rho_{4071} & \\rho_{4072} & \\rho_{4073} & \\rho_{4074} & \\rho_{4075} & \\rho_{4076} & \\rho_{4077} & \\rho_{4078} & \\rho_{4079} & \\rho_{4080} & \\rho_{4081} & \\rho_{4082} & \\rho_{4083} & \\rho_{4084} & \\rho_{4085} & \\rho_{4086} & \\rho_{4087} & \\rho_{4088} & \\rho_{4089} & \\rho_{4090} & \\rho_{4091} & \\rho_{4092} & \\rho_{4093} & \\rho_{4094} & \\rho_{4095}\\end{array}\\right]$"
      ],
      "text/plain": [
       "Matrix([\n",
       "[   rho_0,    rho_1,    rho_2,    rho_3,    rho_4,    rho_5,    rho_6,    rho_7,    rho_8,    rho_9,   rho_10,   rho_11,   rho_12,   rho_13,   rho_14,   rho_15,   rho_16,   rho_17,   rho_18,   rho_19,   rho_20,   rho_21,   rho_22,   rho_23,   rho_24,   rho_25,   rho_26,   rho_27,   rho_28,   rho_29,   rho_30,   rho_31,   rho_32,   rho_33,   rho_34,   rho_35,   rho_36,   rho_37,   rho_38,   rho_39,   rho_40,   rho_41,   rho_42,   rho_43,   rho_44,   rho_45,   rho_46,   rho_47,   rho_48,   rho_49,   rho_50,   rho_51,   rho_52,   rho_53,   rho_54,   rho_55,   rho_56,   rho_57,   rho_58,   rho_59,   rho_60,   rho_61,   rho_62,   rho_63],\n",
       "[  rho_64,   rho_65,   rho_66,   rho_67,   rho_68,   rho_69,   rho_70,   rho_71,   rho_72,   rho_73,   rho_74,   rho_75,   rho_76,   rho_77,   rho_78,   rho_79,   rho_80,   rho_81,   rho_82,   rho_83,   rho_84,   rho_85,   rho_86,   rho_87,   rho_88,   rho_89,   rho_90,   rho_91,   rho_92,   rho_93,   rho_94,   rho_95,   rho_96,   rho_97,   rho_98,   rho_99,  rho_100,  rho_101,  rho_102,  rho_103,  rho_104,  rho_105,  rho_106,  rho_107,  rho_108,  rho_109,  rho_110,  rho_111,  rho_112,  rho_113,  rho_114,  rho_115,  rho_116,  rho_117,  rho_118,  rho_119,  rho_120,  rho_121,  rho_122,  rho_123,  rho_124,  rho_125,  rho_126,  rho_127],\n",
       "[ rho_128,  rho_129,  rho_130,  rho_131,  rho_132,  rho_133,  rho_134,  rho_135,  rho_136,  rho_137,  rho_138,  rho_139,  rho_140,  rho_141,  rho_142,  rho_143,  rho_144,  rho_145,  rho_146,  rho_147,  rho_148,  rho_149,  rho_150,  rho_151,  rho_152,  rho_153,  rho_154,  rho_155,  rho_156,  rho_157,  rho_158,  rho_159,  rho_160,  rho_161,  rho_162,  rho_163,  rho_164,  rho_165,  rho_166,  rho_167,  rho_168,  rho_169,  rho_170,  rho_171,  rho_172,  rho_173,  rho_174,  rho_175,  rho_176,  rho_177,  rho_178,  rho_179,  rho_180,  rho_181,  rho_182,  rho_183,  rho_184,  rho_185,  rho_186,  rho_187,  rho_188,  rho_189,  rho_190,  rho_191],\n",
       "[ rho_192,  rho_193,  rho_194,  rho_195,  rho_196,  rho_197,  rho_198,  rho_199,  rho_200,  rho_201,  rho_202,  rho_203,  rho_204,  rho_205,  rho_206,  rho_207,  rho_208,  rho_209,  rho_210,  rho_211,  rho_212,  rho_213,  rho_214,  rho_215,  rho_216,  rho_217,  rho_218,  rho_219,  rho_220,  rho_221,  rho_222,  rho_223,  rho_224,  rho_225,  rho_226,  rho_227,  rho_228,  rho_229,  rho_230,  rho_231,  rho_232,  rho_233,  rho_234,  rho_235,  rho_236,  rho_237,  rho_238,  rho_239,  rho_240,  rho_241,  rho_242,  rho_243,  rho_244,  rho_245,  rho_246,  rho_247,  rho_248,  rho_249,  rho_250,  rho_251,  rho_252,  rho_253,  rho_254,  rho_255],\n",
       "[ rho_256,  rho_257,  rho_258,  rho_259,  rho_260,  rho_261,  rho_262,  rho_263,  rho_264,  rho_265,  rho_266,  rho_267,  rho_268,  rho_269,  rho_270,  rho_271,  rho_272,  rho_273,  rho_274,  rho_275,  rho_276,  rho_277,  rho_278,  rho_279,  rho_280,  rho_281,  rho_282,  rho_283,  rho_284,  rho_285,  rho_286,  rho_287,  rho_288,  rho_289,  rho_290,  rho_291,  rho_292,  rho_293,  rho_294,  rho_295,  rho_296,  rho_297,  rho_298,  rho_299,  rho_300,  rho_301,  rho_302,  rho_303,  rho_304,  rho_305,  rho_306,  rho_307,  rho_308,  rho_309,  rho_310,  rho_311,  rho_312,  rho_313,  rho_314,  rho_315,  rho_316,  rho_317,  rho_318,  rho_319],\n",
       "[ rho_320,  rho_321,  rho_322,  rho_323,  rho_324,  rho_325,  rho_326,  rho_327,  rho_328,  rho_329,  rho_330,  rho_331,  rho_332,  rho_333,  rho_334,  rho_335,  rho_336,  rho_337,  rho_338,  rho_339,  rho_340,  rho_341,  rho_342,  rho_343,  rho_344,  rho_345,  rho_346,  rho_347,  rho_348,  rho_349,  rho_350,  rho_351,  rho_352,  rho_353,  rho_354,  rho_355,  rho_356,  rho_357,  rho_358,  rho_359,  rho_360,  rho_361,  rho_362,  rho_363,  rho_364,  rho_365,  rho_366,  rho_367,  rho_368,  rho_369,  rho_370,  rho_371,  rho_372,  rho_373,  rho_374,  rho_375,  rho_376,  rho_377,  rho_378,  rho_379,  rho_380,  rho_381,  rho_382,  rho_383],\n",
       "[ rho_384,  rho_385,  rho_386,  rho_387,  rho_388,  rho_389,  rho_390,  rho_391,  rho_392,  rho_393,  rho_394,  rho_395,  rho_396,  rho_397,  rho_398,  rho_399,  rho_400,  rho_401,  rho_402,  rho_403,  rho_404,  rho_405,  rho_406,  rho_407,  rho_408,  rho_409,  rho_410,  rho_411,  rho_412,  rho_413,  rho_414,  rho_415,  rho_416,  rho_417,  rho_418,  rho_419,  rho_420,  rho_421,  rho_422,  rho_423,  rho_424,  rho_425,  rho_426,  rho_427,  rho_428,  rho_429,  rho_430,  rho_431,  rho_432,  rho_433,  rho_434,  rho_435,  rho_436,  rho_437,  rho_438,  rho_439,  rho_440,  rho_441,  rho_442,  rho_443,  rho_444,  rho_445,  rho_446,  rho_447],\n",
       "[ rho_448,  rho_449,  rho_450,  rho_451,  rho_452,  rho_453,  rho_454,  rho_455,  rho_456,  rho_457,  rho_458,  rho_459,  rho_460,  rho_461,  rho_462,  rho_463,  rho_464,  rho_465,  rho_466,  rho_467,  rho_468,  rho_469,  rho_470,  rho_471,  rho_472,  rho_473,  rho_474,  rho_475,  rho_476,  rho_477,  rho_478,  rho_479,  rho_480,  rho_481,  rho_482,  rho_483,  rho_484,  rho_485,  rho_486,  rho_487,  rho_488,  rho_489,  rho_490,  rho_491,  rho_492,  rho_493,  rho_494,  rho_495,  rho_496,  rho_497,  rho_498,  rho_499,  rho_500,  rho_501,  rho_502,  rho_503,  rho_504,  rho_505,  rho_506,  rho_507,  rho_508,  rho_509,  rho_510,  rho_511],\n",
       "[ rho_512,  rho_513,  rho_514,  rho_515,  rho_516,  rho_517,  rho_518,  rho_519,  rho_520,  rho_521,  rho_522,  rho_523,  rho_524,  rho_525,  rho_526,  rho_527,  rho_528,  rho_529,  rho_530,  rho_531,  rho_532,  rho_533,  rho_534,  rho_535,  rho_536,  rho_537,  rho_538,  rho_539,  rho_540,  rho_541,  rho_542,  rho_543,  rho_544,  rho_545,  rho_546,  rho_547,  rho_548,  rho_549,  rho_550,  rho_551,  rho_552,  rho_553,  rho_554,  rho_555,  rho_556,  rho_557,  rho_558,  rho_559,  rho_560,  rho_561,  rho_562,  rho_563,  rho_564,  rho_565,  rho_566,  rho_567,  rho_568,  rho_569,  rho_570,  rho_571,  rho_572,  rho_573,  rho_574,  rho_575],\n",
       "[ rho_576,  rho_577,  rho_578,  rho_579,  rho_580,  rho_581,  rho_582,  rho_583,  rho_584,  rho_585,  rho_586,  rho_587,  rho_588,  rho_589,  rho_590,  rho_591,  rho_592,  rho_593,  rho_594,  rho_595,  rho_596,  rho_597,  rho_598,  rho_599,  rho_600,  rho_601,  rho_602,  rho_603,  rho_604,  rho_605,  rho_606,  rho_607,  rho_608,  rho_609,  rho_610,  rho_611,  rho_612,  rho_613,  rho_614,  rho_615,  rho_616,  rho_617,  rho_618,  rho_619,  rho_620,  rho_621,  rho_622,  rho_623,  rho_624,  rho_625,  rho_626,  rho_627,  rho_628,  rho_629,  rho_630,  rho_631,  rho_632,  rho_633,  rho_634,  rho_635,  rho_636,  rho_637,  rho_638,  rho_639],\n",
       "[ rho_640,  rho_641,  rho_642,  rho_643,  rho_644,  rho_645,  rho_646,  rho_647,  rho_648,  rho_649,  rho_650,  rho_651,  rho_652,  rho_653,  rho_654,  rho_655,  rho_656,  rho_657,  rho_658,  rho_659,  rho_660,  rho_661,  rho_662,  rho_663,  rho_664,  rho_665,  rho_666,  rho_667,  rho_668,  rho_669,  rho_670,  rho_671,  rho_672,  rho_673,  rho_674,  rho_675,  rho_676,  rho_677,  rho_678,  rho_679,  rho_680,  rho_681,  rho_682,  rho_683,  rho_684,  rho_685,  rho_686,  rho_687,  rho_688,  rho_689,  rho_690,  rho_691,  rho_692,  rho_693,  rho_694,  rho_695,  rho_696,  rho_697,  rho_698,  rho_699,  rho_700,  rho_701,  rho_702,  rho_703],\n",
       "[ rho_704,  rho_705,  rho_706,  rho_707,  rho_708,  rho_709,  rho_710,  rho_711,  rho_712,  rho_713,  rho_714,  rho_715,  rho_716,  rho_717,  rho_718,  rho_719,  rho_720,  rho_721,  rho_722,  rho_723,  rho_724,  rho_725,  rho_726,  rho_727,  rho_728,  rho_729,  rho_730,  rho_731,  rho_732,  rho_733,  rho_734,  rho_735,  rho_736,  rho_737,  rho_738,  rho_739,  rho_740,  rho_741,  rho_742,  rho_743,  rho_744,  rho_745,  rho_746,  rho_747,  rho_748,  rho_749,  rho_750,  rho_751,  rho_752,  rho_753,  rho_754,  rho_755,  rho_756,  rho_757,  rho_758,  rho_759,  rho_760,  rho_761,  rho_762,  rho_763,  rho_764,  rho_765,  rho_766,  rho_767],\n",
       "[ rho_768,  rho_769,  rho_770,  rho_771,  rho_772,  rho_773,  rho_774,  rho_775,  rho_776,  rho_777,  rho_778,  rho_779,  rho_780,  rho_781,  rho_782,  rho_783,  rho_784,  rho_785,  rho_786,  rho_787,  rho_788,  rho_789,  rho_790,  rho_791,  rho_792,  rho_793,  rho_794,  rho_795,  rho_796,  rho_797,  rho_798,  rho_799,  rho_800,  rho_801,  rho_802,  rho_803,  rho_804,  rho_805,  rho_806,  rho_807,  rho_808,  rho_809,  rho_810,  rho_811,  rho_812,  rho_813,  rho_814,  rho_815,  rho_816,  rho_817,  rho_818,  rho_819,  rho_820,  rho_821,  rho_822,  rho_823,  rho_824,  rho_825,  rho_826,  rho_827,  rho_828,  rho_829,  rho_830,  rho_831],\n",
       "[ rho_832,  rho_833,  rho_834,  rho_835,  rho_836,  rho_837,  rho_838,  rho_839,  rho_840,  rho_841,  rho_842,  rho_843,  rho_844,  rho_845,  rho_846,  rho_847,  rho_848,  rho_849,  rho_850,  rho_851,  rho_852,  rho_853,  rho_854,  rho_855,  rho_856,  rho_857,  rho_858,  rho_859,  rho_860,  rho_861,  rho_862,  rho_863,  rho_864,  rho_865,  rho_866,  rho_867,  rho_868,  rho_869,  rho_870,  rho_871,  rho_872,  rho_873,  rho_874,  rho_875,  rho_876,  rho_877,  rho_878,  rho_879,  rho_880,  rho_881,  rho_882,  rho_883,  rho_884,  rho_885,  rho_886,  rho_887,  rho_888,  rho_889,  rho_890,  rho_891,  rho_892,  rho_893,  rho_894,  rho_895],\n",
       "[ rho_896,  rho_897,  rho_898,  rho_899,  rho_900,  rho_901,  rho_902,  rho_903,  rho_904,  rho_905,  rho_906,  rho_907,  rho_908,  rho_909,  rho_910,  rho_911,  rho_912,  rho_913,  rho_914,  rho_915,  rho_916,  rho_917,  rho_918,  rho_919,  rho_920,  rho_921,  rho_922,  rho_923,  rho_924,  rho_925,  rho_926,  rho_927,  rho_928,  rho_929,  rho_930,  rho_931,  rho_932,  rho_933,  rho_934,  rho_935,  rho_936,  rho_937,  rho_938,  rho_939,  rho_940,  rho_941,  rho_942,  rho_943,  rho_944,  rho_945,  rho_946,  rho_947,  rho_948,  rho_949,  rho_950,  rho_951,  rho_952,  rho_953,  rho_954,  rho_955,  rho_956,  rho_957,  rho_958,  rho_959],\n",
       "[ rho_960,  rho_961,  rho_962,  rho_963,  rho_964,  rho_965,  rho_966,  rho_967,  rho_968,  rho_969,  rho_970,  rho_971,  rho_972,  rho_973,  rho_974,  rho_975,  rho_976,  rho_977,  rho_978,  rho_979,  rho_980,  rho_981,  rho_982,  rho_983,  rho_984,  rho_985,  rho_986,  rho_987,  rho_988,  rho_989,  rho_990,  rho_991,  rho_992,  rho_993,  rho_994,  rho_995,  rho_996,  rho_997,  rho_998,  rho_999, rho_1000, rho_1001, rho_1002, rho_1003, rho_1004, rho_1005, rho_1006, rho_1007, rho_1008, rho_1009, rho_1010, rho_1011, rho_1012, rho_1013, rho_1014, rho_1015, rho_1016, rho_1017, rho_1018, rho_1019, rho_1020, rho_1021, rho_1022, rho_1023],\n",
       "[rho_1024, rho_1025, rho_1026, rho_1027, rho_1028, rho_1029, rho_1030, rho_1031, rho_1032, rho_1033, rho_1034, rho_1035, rho_1036, rho_1037, rho_1038, rho_1039, rho_1040, rho_1041, rho_1042, rho_1043, rho_1044, rho_1045, rho_1046, rho_1047, rho_1048, rho_1049, rho_1050, rho_1051, rho_1052, rho_1053, rho_1054, rho_1055, rho_1056, rho_1057, rho_1058, rho_1059, rho_1060, rho_1061, rho_1062, rho_1063, rho_1064, rho_1065, rho_1066, rho_1067, rho_1068, rho_1069, rho_1070, rho_1071, rho_1072, rho_1073, rho_1074, rho_1075, rho_1076, rho_1077, rho_1078, rho_1079, rho_1080, rho_1081, rho_1082, rho_1083, rho_1084, rho_1085, rho_1086, rho_1087],\n",
       "[rho_1088, rho_1089, rho_1090, rho_1091, rho_1092, rho_1093, rho_1094, rho_1095, rho_1096, rho_1097, rho_1098, rho_1099, rho_1100, rho_1101, rho_1102, rho_1103, rho_1104, rho_1105, rho_1106, rho_1107, rho_1108, rho_1109, rho_1110, rho_1111, rho_1112, rho_1113, rho_1114, rho_1115, rho_1116, rho_1117, rho_1118, rho_1119, rho_1120, rho_1121, rho_1122, rho_1123, rho_1124, rho_1125, rho_1126, rho_1127, rho_1128, rho_1129, rho_1130, rho_1131, rho_1132, rho_1133, rho_1134, rho_1135, rho_1136, rho_1137, rho_1138, rho_1139, rho_1140, rho_1141, rho_1142, rho_1143, rho_1144, rho_1145, rho_1146, rho_1147, rho_1148, rho_1149, rho_1150, rho_1151],\n",
       "[rho_1152, rho_1153, rho_1154, rho_1155, rho_1156, rho_1157, rho_1158, rho_1159, rho_1160, rho_1161, rho_1162, rho_1163, rho_1164, rho_1165, rho_1166, rho_1167, rho_1168, rho_1169, rho_1170, rho_1171, rho_1172, rho_1173, rho_1174, rho_1175, rho_1176, rho_1177, rho_1178, rho_1179, rho_1180, rho_1181, rho_1182, rho_1183, rho_1184, rho_1185, rho_1186, rho_1187, rho_1188, rho_1189, rho_1190, rho_1191, rho_1192, rho_1193, rho_1194, rho_1195, rho_1196, rho_1197, rho_1198, rho_1199, rho_1200, rho_1201, rho_1202, rho_1203, rho_1204, rho_1205, rho_1206, rho_1207, rho_1208, rho_1209, rho_1210, rho_1211, rho_1212, rho_1213, rho_1214, rho_1215],\n",
       "[rho_1216, rho_1217, rho_1218, rho_1219, rho_1220, rho_1221, rho_1222, rho_1223, rho_1224, rho_1225, rho_1226, rho_1227, rho_1228, rho_1229, rho_1230, rho_1231, rho_1232, rho_1233, rho_1234, rho_1235, rho_1236, rho_1237, rho_1238, rho_1239, rho_1240, rho_1241, rho_1242, rho_1243, rho_1244, rho_1245, rho_1246, rho_1247, rho_1248, rho_1249, rho_1250, rho_1251, rho_1252, rho_1253, rho_1254, rho_1255, rho_1256, rho_1257, rho_1258, rho_1259, rho_1260, rho_1261, rho_1262, rho_1263, rho_1264, rho_1265, rho_1266, rho_1267, rho_1268, rho_1269, rho_1270, rho_1271, rho_1272, rho_1273, rho_1274, rho_1275, rho_1276, rho_1277, rho_1278, rho_1279],\n",
       "[rho_1280, rho_1281, rho_1282, rho_1283, rho_1284, rho_1285, rho_1286, rho_1287, rho_1288, rho_1289, rho_1290, rho_1291, rho_1292, rho_1293, rho_1294, rho_1295, rho_1296, rho_1297, rho_1298, rho_1299, rho_1300, rho_1301, rho_1302, rho_1303, rho_1304, rho_1305, rho_1306, rho_1307, rho_1308, rho_1309, rho_1310, rho_1311, rho_1312, rho_1313, rho_1314, rho_1315, rho_1316, rho_1317, rho_1318, rho_1319, rho_1320, rho_1321, rho_1322, rho_1323, rho_1324, rho_1325, rho_1326, rho_1327, rho_1328, rho_1329, rho_1330, rho_1331, rho_1332, rho_1333, rho_1334, rho_1335, rho_1336, rho_1337, rho_1338, rho_1339, rho_1340, rho_1341, rho_1342, rho_1343],\n",
       "[rho_1344, rho_1345, rho_1346, rho_1347, rho_1348, rho_1349, rho_1350, rho_1351, rho_1352, rho_1353, rho_1354, rho_1355, rho_1356, rho_1357, rho_1358, rho_1359, rho_1360, rho_1361, rho_1362, rho_1363, rho_1364, rho_1365, rho_1366, rho_1367, rho_1368, rho_1369, rho_1370, rho_1371, rho_1372, rho_1373, rho_1374, rho_1375, rho_1376, rho_1377, rho_1378, rho_1379, rho_1380, rho_1381, rho_1382, rho_1383, rho_1384, rho_1385, rho_1386, rho_1387, rho_1388, rho_1389, rho_1390, rho_1391, rho_1392, rho_1393, rho_1394, rho_1395, rho_1396, rho_1397, rho_1398, rho_1399, rho_1400, rho_1401, rho_1402, rho_1403, rho_1404, rho_1405, rho_1406, rho_1407],\n",
       "[rho_1408, rho_1409, rho_1410, rho_1411, rho_1412, rho_1413, rho_1414, rho_1415, rho_1416, rho_1417, rho_1418, rho_1419, rho_1420, rho_1421, rho_1422, rho_1423, rho_1424, rho_1425, rho_1426, rho_1427, rho_1428, rho_1429, rho_1430, rho_1431, rho_1432, rho_1433, rho_1434, rho_1435, rho_1436, rho_1437, rho_1438, rho_1439, rho_1440, rho_1441, rho_1442, rho_1443, rho_1444, rho_1445, rho_1446, rho_1447, rho_1448, rho_1449, rho_1450, rho_1451, rho_1452, rho_1453, rho_1454, rho_1455, rho_1456, rho_1457, rho_1458, rho_1459, rho_1460, rho_1461, rho_1462, rho_1463, rho_1464, rho_1465, rho_1466, rho_1467, rho_1468, rho_1469, rho_1470, rho_1471],\n",
       "[rho_1472, rho_1473, rho_1474, rho_1475, rho_1476, rho_1477, rho_1478, rho_1479, rho_1480, rho_1481, rho_1482, rho_1483, rho_1484, rho_1485, rho_1486, rho_1487, rho_1488, rho_1489, rho_1490, rho_1491, rho_1492, rho_1493, rho_1494, rho_1495, rho_1496, rho_1497, rho_1498, rho_1499, rho_1500, rho_1501, rho_1502, rho_1503, rho_1504, rho_1505, rho_1506, rho_1507, rho_1508, rho_1509, rho_1510, rho_1511, rho_1512, rho_1513, rho_1514, rho_1515, rho_1516, rho_1517, rho_1518, rho_1519, rho_1520, rho_1521, rho_1522, rho_1523, rho_1524, rho_1525, rho_1526, rho_1527, rho_1528, rho_1529, rho_1530, rho_1531, rho_1532, rho_1533, rho_1534, rho_1535],\n",
       "[rho_1536, rho_1537, rho_1538, rho_1539, rho_1540, rho_1541, rho_1542, rho_1543, rho_1544, rho_1545, rho_1546, rho_1547, rho_1548, rho_1549, rho_1550, rho_1551, rho_1552, rho_1553, rho_1554, rho_1555, rho_1556, rho_1557, rho_1558, rho_1559, rho_1560, rho_1561, rho_1562, rho_1563, rho_1564, rho_1565, rho_1566, rho_1567, rho_1568, rho_1569, rho_1570, rho_1571, rho_1572, rho_1573, rho_1574, rho_1575, rho_1576, rho_1577, rho_1578, rho_1579, rho_1580, rho_1581, rho_1582, rho_1583, rho_1584, rho_1585, rho_1586, rho_1587, rho_1588, rho_1589, rho_1590, rho_1591, rho_1592, rho_1593, rho_1594, rho_1595, rho_1596, rho_1597, rho_1598, rho_1599],\n",
       "[rho_1600, rho_1601, rho_1602, rho_1603, rho_1604, rho_1605, rho_1606, rho_1607, rho_1608, rho_1609, rho_1610, rho_1611, rho_1612, rho_1613, rho_1614, rho_1615, rho_1616, rho_1617, rho_1618, rho_1619, rho_1620, rho_1621, rho_1622, rho_1623, rho_1624, rho_1625, rho_1626, rho_1627, rho_1628, rho_1629, rho_1630, rho_1631, rho_1632, rho_1633, rho_1634, rho_1635, rho_1636, rho_1637, rho_1638, rho_1639, rho_1640, rho_1641, rho_1642, rho_1643, rho_1644, rho_1645, rho_1646, rho_1647, rho_1648, rho_1649, rho_1650, rho_1651, rho_1652, rho_1653, rho_1654, rho_1655, rho_1656, rho_1657, rho_1658, rho_1659, rho_1660, rho_1661, rho_1662, rho_1663],\n",
       "[rho_1664, rho_1665, rho_1666, rho_1667, rho_1668, rho_1669, rho_1670, rho_1671, rho_1672, rho_1673, rho_1674, rho_1675, rho_1676, rho_1677, rho_1678, rho_1679, rho_1680, rho_1681, rho_1682, rho_1683, rho_1684, rho_1685, rho_1686, rho_1687, rho_1688, rho_1689, rho_1690, rho_1691, rho_1692, rho_1693, rho_1694, rho_1695, rho_1696, rho_1697, rho_1698, rho_1699, rho_1700, rho_1701, rho_1702, rho_1703, rho_1704, rho_1705, rho_1706, rho_1707, rho_1708, rho_1709, rho_1710, rho_1711, rho_1712, rho_1713, rho_1714, rho_1715, rho_1716, rho_1717, rho_1718, rho_1719, rho_1720, rho_1721, rho_1722, rho_1723, rho_1724, rho_1725, rho_1726, rho_1727],\n",
       "[rho_1728, rho_1729, rho_1730, rho_1731, rho_1732, rho_1733, rho_1734, rho_1735, rho_1736, rho_1737, rho_1738, rho_1739, rho_1740, rho_1741, rho_1742, rho_1743, rho_1744, rho_1745, rho_1746, rho_1747, rho_1748, rho_1749, rho_1750, rho_1751, rho_1752, rho_1753, rho_1754, rho_1755, rho_1756, rho_1757, rho_1758, rho_1759, rho_1760, rho_1761, rho_1762, rho_1763, rho_1764, rho_1765, rho_1766, rho_1767, rho_1768, rho_1769, rho_1770, rho_1771, rho_1772, rho_1773, rho_1774, rho_1775, rho_1776, rho_1777, rho_1778, rho_1779, rho_1780, rho_1781, rho_1782, rho_1783, rho_1784, rho_1785, rho_1786, rho_1787, rho_1788, rho_1789, rho_1790, rho_1791],\n",
       "[rho_1792, rho_1793, rho_1794, rho_1795, rho_1796, rho_1797, rho_1798, rho_1799, rho_1800, rho_1801, rho_1802, rho_1803, rho_1804, rho_1805, rho_1806, rho_1807, rho_1808, rho_1809, rho_1810, rho_1811, rho_1812, rho_1813, rho_1814, rho_1815, rho_1816, rho_1817, rho_1818, rho_1819, rho_1820, rho_1821, rho_1822, rho_1823, rho_1824, rho_1825, rho_1826, rho_1827, rho_1828, rho_1829, rho_1830, rho_1831, rho_1832, rho_1833, rho_1834, rho_1835, rho_1836, rho_1837, rho_1838, rho_1839, rho_1840, rho_1841, rho_1842, rho_1843, rho_1844, rho_1845, rho_1846, rho_1847, rho_1848, rho_1849, rho_1850, rho_1851, rho_1852, rho_1853, rho_1854, rho_1855],\n",
       "[rho_1856, rho_1857, rho_1858, rho_1859, rho_1860, rho_1861, rho_1862, rho_1863, rho_1864, rho_1865, rho_1866, rho_1867, rho_1868, rho_1869, rho_1870, rho_1871, rho_1872, rho_1873, rho_1874, rho_1875, rho_1876, rho_1877, rho_1878, rho_1879, rho_1880, rho_1881, rho_1882, rho_1883, rho_1884, rho_1885, rho_1886, rho_1887, rho_1888, rho_1889, rho_1890, rho_1891, rho_1892, rho_1893, rho_1894, rho_1895, rho_1896, rho_1897, rho_1898, rho_1899, rho_1900, rho_1901, rho_1902, rho_1903, rho_1904, rho_1905, rho_1906, rho_1907, rho_1908, rho_1909, rho_1910, rho_1911, rho_1912, rho_1913, rho_1914, rho_1915, rho_1916, rho_1917, rho_1918, rho_1919],\n",
       "[rho_1920, rho_1921, rho_1922, rho_1923, rho_1924, rho_1925, rho_1926, rho_1927, rho_1928, rho_1929, rho_1930, rho_1931, rho_1932, rho_1933, rho_1934, rho_1935, rho_1936, rho_1937, rho_1938, rho_1939, rho_1940, rho_1941, rho_1942, rho_1943, rho_1944, rho_1945, rho_1946, rho_1947, rho_1948, rho_1949, rho_1950, rho_1951, rho_1952, rho_1953, rho_1954, rho_1955, rho_1956, rho_1957, rho_1958, rho_1959, rho_1960, rho_1961, rho_1962, rho_1963, rho_1964, rho_1965, rho_1966, rho_1967, rho_1968, rho_1969, rho_1970, rho_1971, rho_1972, rho_1973, rho_1974, rho_1975, rho_1976, rho_1977, rho_1978, rho_1979, rho_1980, rho_1981, rho_1982, rho_1983],\n",
       "[rho_1984, rho_1985, rho_1986, rho_1987, rho_1988, rho_1989, rho_1990, rho_1991, rho_1992, rho_1993, rho_1994, rho_1995, rho_1996, rho_1997, rho_1998, rho_1999, rho_2000, rho_2001, rho_2002, rho_2003, rho_2004, rho_2005, rho_2006, rho_2007, rho_2008, rho_2009, rho_2010, rho_2011, rho_2012, rho_2013, rho_2014, rho_2015, rho_2016, rho_2017, rho_2018, rho_2019, rho_2020, rho_2021, rho_2022, rho_2023, rho_2024, rho_2025, rho_2026, rho_2027, rho_2028, rho_2029, rho_2030, rho_2031, rho_2032, rho_2033, rho_2034, rho_2035, rho_2036, rho_2037, rho_2038, rho_2039, rho_2040, rho_2041, rho_2042, rho_2043, rho_2044, rho_2045, rho_2046, rho_2047],\n",
       "[rho_2048, rho_2049, rho_2050, rho_2051, rho_2052, rho_2053, rho_2054, rho_2055, rho_2056, rho_2057, rho_2058, rho_2059, rho_2060, rho_2061, rho_2062, rho_2063, rho_2064, rho_2065, rho_2066, rho_2067, rho_2068, rho_2069, rho_2070, rho_2071, rho_2072, rho_2073, rho_2074, rho_2075, rho_2076, rho_2077, rho_2078, rho_2079, rho_2080, rho_2081, rho_2082, rho_2083, rho_2084, rho_2085, rho_2086, rho_2087, rho_2088, rho_2089, rho_2090, rho_2091, rho_2092, rho_2093, rho_2094, rho_2095, rho_2096, rho_2097, rho_2098, rho_2099, rho_2100, rho_2101, rho_2102, rho_2103, rho_2104, rho_2105, rho_2106, rho_2107, rho_2108, rho_2109, rho_2110, rho_2111],\n",
       "[rho_2112, rho_2113, rho_2114, rho_2115, rho_2116, rho_2117, rho_2118, rho_2119, rho_2120, rho_2121, rho_2122, rho_2123, rho_2124, rho_2125, rho_2126, rho_2127, rho_2128, rho_2129, rho_2130, rho_2131, rho_2132, rho_2133, rho_2134, rho_2135, rho_2136, rho_2137, rho_2138, rho_2139, rho_2140, rho_2141, rho_2142, rho_2143, rho_2144, rho_2145, rho_2146, rho_2147, rho_2148, rho_2149, rho_2150, rho_2151, rho_2152, rho_2153, rho_2154, rho_2155, rho_2156, rho_2157, rho_2158, rho_2159, rho_2160, rho_2161, rho_2162, rho_2163, rho_2164, rho_2165, rho_2166, rho_2167, rho_2168, rho_2169, rho_2170, rho_2171, rho_2172, rho_2173, rho_2174, rho_2175],\n",
       "[rho_2176, rho_2177, rho_2178, rho_2179, rho_2180, rho_2181, rho_2182, rho_2183, rho_2184, rho_2185, rho_2186, rho_2187, rho_2188, rho_2189, rho_2190, rho_2191, rho_2192, rho_2193, rho_2194, rho_2195, rho_2196, rho_2197, rho_2198, rho_2199, rho_2200, rho_2201, rho_2202, rho_2203, rho_2204, rho_2205, rho_2206, rho_2207, rho_2208, rho_2209, rho_2210, rho_2211, rho_2212, rho_2213, rho_2214, rho_2215, rho_2216, rho_2217, rho_2218, rho_2219, rho_2220, rho_2221, rho_2222, rho_2223, rho_2224, rho_2225, rho_2226, rho_2227, rho_2228, rho_2229, rho_2230, rho_2231, rho_2232, rho_2233, rho_2234, rho_2235, rho_2236, rho_2237, rho_2238, rho_2239],\n",
       "[rho_2240, rho_2241, rho_2242, rho_2243, rho_2244, rho_2245, rho_2246, rho_2247, rho_2248, rho_2249, rho_2250, rho_2251, rho_2252, rho_2253, rho_2254, rho_2255, rho_2256, rho_2257, rho_2258, rho_2259, rho_2260, rho_2261, rho_2262, rho_2263, rho_2264, rho_2265, rho_2266, rho_2267, rho_2268, rho_2269, rho_2270, rho_2271, rho_2272, rho_2273, rho_2274, rho_2275, rho_2276, rho_2277, rho_2278, rho_2279, rho_2280, rho_2281, rho_2282, rho_2283, rho_2284, rho_2285, rho_2286, rho_2287, rho_2288, rho_2289, rho_2290, rho_2291, rho_2292, rho_2293, rho_2294, rho_2295, rho_2296, rho_2297, rho_2298, rho_2299, rho_2300, rho_2301, rho_2302, rho_2303],\n",
       "[rho_2304, rho_2305, rho_2306, rho_2307, rho_2308, rho_2309, rho_2310, rho_2311, rho_2312, rho_2313, rho_2314, rho_2315, rho_2316, rho_2317, rho_2318, rho_2319, rho_2320, rho_2321, rho_2322, rho_2323, rho_2324, rho_2325, rho_2326, rho_2327, rho_2328, rho_2329, rho_2330, rho_2331, rho_2332, rho_2333, rho_2334, rho_2335, rho_2336, rho_2337, rho_2338, rho_2339, rho_2340, rho_2341, rho_2342, rho_2343, rho_2344, rho_2345, rho_2346, rho_2347, rho_2348, rho_2349, rho_2350, rho_2351, rho_2352, rho_2353, rho_2354, rho_2355, rho_2356, rho_2357, rho_2358, rho_2359, rho_2360, rho_2361, rho_2362, rho_2363, rho_2364, rho_2365, rho_2366, rho_2367],\n",
       "[rho_2368, rho_2369, rho_2370, rho_2371, rho_2372, rho_2373, rho_2374, rho_2375, rho_2376, rho_2377, rho_2378, rho_2379, rho_2380, rho_2381, rho_2382, rho_2383, rho_2384, rho_2385, rho_2386, rho_2387, rho_2388, rho_2389, rho_2390, rho_2391, rho_2392, rho_2393, rho_2394, rho_2395, rho_2396, rho_2397, rho_2398, rho_2399, rho_2400, rho_2401, rho_2402, rho_2403, rho_2404, rho_2405, rho_2406, rho_2407, rho_2408, rho_2409, rho_2410, rho_2411, rho_2412, rho_2413, rho_2414, rho_2415, rho_2416, rho_2417, rho_2418, rho_2419, rho_2420, rho_2421, rho_2422, rho_2423, rho_2424, rho_2425, rho_2426, rho_2427, rho_2428, rho_2429, rho_2430, rho_2431],\n",
       "[rho_2432, rho_2433, rho_2434, rho_2435, rho_2436, rho_2437, rho_2438, rho_2439, rho_2440, rho_2441, rho_2442, rho_2443, rho_2444, rho_2445, rho_2446, rho_2447, rho_2448, rho_2449, rho_2450, rho_2451, rho_2452, rho_2453, rho_2454, rho_2455, rho_2456, rho_2457, rho_2458, rho_2459, rho_2460, rho_2461, rho_2462, rho_2463, rho_2464, rho_2465, rho_2466, rho_2467, rho_2468, rho_2469, rho_2470, rho_2471, rho_2472, rho_2473, rho_2474, rho_2475, rho_2476, rho_2477, rho_2478, rho_2479, rho_2480, rho_2481, rho_2482, rho_2483, rho_2484, rho_2485, rho_2486, rho_2487, rho_2488, rho_2489, rho_2490, rho_2491, rho_2492, rho_2493, rho_2494, rho_2495],\n",
       "[rho_2496, rho_2497, rho_2498, rho_2499, rho_2500, rho_2501, rho_2502, rho_2503, rho_2504, rho_2505, rho_2506, rho_2507, rho_2508, rho_2509, rho_2510, rho_2511, rho_2512, rho_2513, rho_2514, rho_2515, rho_2516, rho_2517, rho_2518, rho_2519, rho_2520, rho_2521, rho_2522, rho_2523, rho_2524, rho_2525, rho_2526, rho_2527, rho_2528, rho_2529, rho_2530, rho_2531, rho_2532, rho_2533, rho_2534, rho_2535, rho_2536, rho_2537, rho_2538, rho_2539, rho_2540, rho_2541, rho_2542, rho_2543, rho_2544, rho_2545, rho_2546, rho_2547, rho_2548, rho_2549, rho_2550, rho_2551, rho_2552, rho_2553, rho_2554, rho_2555, rho_2556, rho_2557, rho_2558, rho_2559],\n",
       "[rho_2560, rho_2561, rho_2562, rho_2563, rho_2564, rho_2565, rho_2566, rho_2567, rho_2568, rho_2569, rho_2570, rho_2571, rho_2572, rho_2573, rho_2574, rho_2575, rho_2576, rho_2577, rho_2578, rho_2579, rho_2580, rho_2581, rho_2582, rho_2583, rho_2584, rho_2585, rho_2586, rho_2587, rho_2588, rho_2589, rho_2590, rho_2591, rho_2592, rho_2593, rho_2594, rho_2595, rho_2596, rho_2597, rho_2598, rho_2599, rho_2600, rho_2601, rho_2602, rho_2603, rho_2604, rho_2605, rho_2606, rho_2607, rho_2608, rho_2609, rho_2610, rho_2611, rho_2612, rho_2613, rho_2614, rho_2615, rho_2616, rho_2617, rho_2618, rho_2619, rho_2620, rho_2621, rho_2622, rho_2623],\n",
       "[rho_2624, rho_2625, rho_2626, rho_2627, rho_2628, rho_2629, rho_2630, rho_2631, rho_2632, rho_2633, rho_2634, rho_2635, rho_2636, rho_2637, rho_2638, rho_2639, rho_2640, rho_2641, rho_2642, rho_2643, rho_2644, rho_2645, rho_2646, rho_2647, rho_2648, rho_2649, rho_2650, rho_2651, rho_2652, rho_2653, rho_2654, rho_2655, rho_2656, rho_2657, rho_2658, rho_2659, rho_2660, rho_2661, rho_2662, rho_2663, rho_2664, rho_2665, rho_2666, rho_2667, rho_2668, rho_2669, rho_2670, rho_2671, rho_2672, rho_2673, rho_2674, rho_2675, rho_2676, rho_2677, rho_2678, rho_2679, rho_2680, rho_2681, rho_2682, rho_2683, rho_2684, rho_2685, rho_2686, rho_2687],\n",
       "[rho_2688, rho_2689, rho_2690, rho_2691, rho_2692, rho_2693, rho_2694, rho_2695, rho_2696, rho_2697, rho_2698, rho_2699, rho_2700, rho_2701, rho_2702, rho_2703, rho_2704, rho_2705, rho_2706, rho_2707, rho_2708, rho_2709, rho_2710, rho_2711, rho_2712, rho_2713, rho_2714, rho_2715, rho_2716, rho_2717, rho_2718, rho_2719, rho_2720, rho_2721, rho_2722, rho_2723, rho_2724, rho_2725, rho_2726, rho_2727, rho_2728, rho_2729, rho_2730, rho_2731, rho_2732, rho_2733, rho_2734, rho_2735, rho_2736, rho_2737, rho_2738, rho_2739, rho_2740, rho_2741, rho_2742, rho_2743, rho_2744, rho_2745, rho_2746, rho_2747, rho_2748, rho_2749, rho_2750, rho_2751],\n",
       "[rho_2752, rho_2753, rho_2754, rho_2755, rho_2756, rho_2757, rho_2758, rho_2759, rho_2760, rho_2761, rho_2762, rho_2763, rho_2764, rho_2765, rho_2766, rho_2767, rho_2768, rho_2769, rho_2770, rho_2771, rho_2772, rho_2773, rho_2774, rho_2775, rho_2776, rho_2777, rho_2778, rho_2779, rho_2780, rho_2781, rho_2782, rho_2783, rho_2784, rho_2785, rho_2786, rho_2787, rho_2788, rho_2789, rho_2790, rho_2791, rho_2792, rho_2793, rho_2794, rho_2795, rho_2796, rho_2797, rho_2798, rho_2799, rho_2800, rho_2801, rho_2802, rho_2803, rho_2804, rho_2805, rho_2806, rho_2807, rho_2808, rho_2809, rho_2810, rho_2811, rho_2812, rho_2813, rho_2814, rho_2815],\n",
       "[rho_2816, rho_2817, rho_2818, rho_2819, rho_2820, rho_2821, rho_2822, rho_2823, rho_2824, rho_2825, rho_2826, rho_2827, rho_2828, rho_2829, rho_2830, rho_2831, rho_2832, rho_2833, rho_2834, rho_2835, rho_2836, rho_2837, rho_2838, rho_2839, rho_2840, rho_2841, rho_2842, rho_2843, rho_2844, rho_2845, rho_2846, rho_2847, rho_2848, rho_2849, rho_2850, rho_2851, rho_2852, rho_2853, rho_2854, rho_2855, rho_2856, rho_2857, rho_2858, rho_2859, rho_2860, rho_2861, rho_2862, rho_2863, rho_2864, rho_2865, rho_2866, rho_2867, rho_2868, rho_2869, rho_2870, rho_2871, rho_2872, rho_2873, rho_2874, rho_2875, rho_2876, rho_2877, rho_2878, rho_2879],\n",
       "[rho_2880, rho_2881, rho_2882, rho_2883, rho_2884, rho_2885, rho_2886, rho_2887, rho_2888, rho_2889, rho_2890, rho_2891, rho_2892, rho_2893, rho_2894, rho_2895, rho_2896, rho_2897, rho_2898, rho_2899, rho_2900, rho_2901, rho_2902, rho_2903, rho_2904, rho_2905, rho_2906, rho_2907, rho_2908, rho_2909, rho_2910, rho_2911, rho_2912, rho_2913, rho_2914, rho_2915, rho_2916, rho_2917, rho_2918, rho_2919, rho_2920, rho_2921, rho_2922, rho_2923, rho_2924, rho_2925, rho_2926, rho_2927, rho_2928, rho_2929, rho_2930, rho_2931, rho_2932, rho_2933, rho_2934, rho_2935, rho_2936, rho_2937, rho_2938, rho_2939, rho_2940, rho_2941, rho_2942, rho_2943],\n",
       "[rho_2944, rho_2945, rho_2946, rho_2947, rho_2948, rho_2949, rho_2950, rho_2951, rho_2952, rho_2953, rho_2954, rho_2955, rho_2956, rho_2957, rho_2958, rho_2959, rho_2960, rho_2961, rho_2962, rho_2963, rho_2964, rho_2965, rho_2966, rho_2967, rho_2968, rho_2969, rho_2970, rho_2971, rho_2972, rho_2973, rho_2974, rho_2975, rho_2976, rho_2977, rho_2978, rho_2979, rho_2980, rho_2981, rho_2982, rho_2983, rho_2984, rho_2985, rho_2986, rho_2987, rho_2988, rho_2989, rho_2990, rho_2991, rho_2992, rho_2993, rho_2994, rho_2995, rho_2996, rho_2997, rho_2998, rho_2999, rho_3000, rho_3001, rho_3002, rho_3003, rho_3004, rho_3005, rho_3006, rho_3007],\n",
       "[rho_3008, rho_3009, rho_3010, rho_3011, rho_3012, rho_3013, rho_3014, rho_3015, rho_3016, rho_3017, rho_3018, rho_3019, rho_3020, rho_3021, rho_3022, rho_3023, rho_3024, rho_3025, rho_3026, rho_3027, rho_3028, rho_3029, rho_3030, rho_3031, rho_3032, rho_3033, rho_3034, rho_3035, rho_3036, rho_3037, rho_3038, rho_3039, rho_3040, rho_3041, rho_3042, rho_3043, rho_3044, rho_3045, rho_3046, rho_3047, rho_3048, rho_3049, rho_3050, rho_3051, rho_3052, rho_3053, rho_3054, rho_3055, rho_3056, rho_3057, rho_3058, rho_3059, rho_3060, rho_3061, rho_3062, rho_3063, rho_3064, rho_3065, rho_3066, rho_3067, rho_3068, rho_3069, rho_3070, rho_3071],\n",
       "[rho_3072, rho_3073, rho_3074, rho_3075, rho_3076, rho_3077, rho_3078, rho_3079, rho_3080, rho_3081, rho_3082, rho_3083, rho_3084, rho_3085, rho_3086, rho_3087, rho_3088, rho_3089, rho_3090, rho_3091, rho_3092, rho_3093, rho_3094, rho_3095, rho_3096, rho_3097, rho_3098, rho_3099, rho_3100, rho_3101, rho_3102, rho_3103, rho_3104, rho_3105, rho_3106, rho_3107, rho_3108, rho_3109, rho_3110, rho_3111, rho_3112, rho_3113, rho_3114, rho_3115, rho_3116, rho_3117, rho_3118, rho_3119, rho_3120, rho_3121, rho_3122, rho_3123, rho_3124, rho_3125, rho_3126, rho_3127, rho_3128, rho_3129, rho_3130, rho_3131, rho_3132, rho_3133, rho_3134, rho_3135],\n",
       "[rho_3136, rho_3137, rho_3138, rho_3139, rho_3140, rho_3141, rho_3142, rho_3143, rho_3144, rho_3145, rho_3146, rho_3147, rho_3148, rho_3149, rho_3150, rho_3151, rho_3152, rho_3153, rho_3154, rho_3155, rho_3156, rho_3157, rho_3158, rho_3159, rho_3160, rho_3161, rho_3162, rho_3163, rho_3164, rho_3165, rho_3166, rho_3167, rho_3168, rho_3169, rho_3170, rho_3171, rho_3172, rho_3173, rho_3174, rho_3175, rho_3176, rho_3177, rho_3178, rho_3179, rho_3180, rho_3181, rho_3182, rho_3183, rho_3184, rho_3185, rho_3186, rho_3187, rho_3188, rho_3189, rho_3190, rho_3191, rho_3192, rho_3193, rho_3194, rho_3195, rho_3196, rho_3197, rho_3198, rho_3199],\n",
       "[rho_3200, rho_3201, rho_3202, rho_3203, rho_3204, rho_3205, rho_3206, rho_3207, rho_3208, rho_3209, rho_3210, rho_3211, rho_3212, rho_3213, rho_3214, rho_3215, rho_3216, rho_3217, rho_3218, rho_3219, rho_3220, rho_3221, rho_3222, rho_3223, rho_3224, rho_3225, rho_3226, rho_3227, rho_3228, rho_3229, rho_3230, rho_3231, rho_3232, rho_3233, rho_3234, rho_3235, rho_3236, rho_3237, rho_3238, rho_3239, rho_3240, rho_3241, rho_3242, rho_3243, rho_3244, rho_3245, rho_3246, rho_3247, rho_3248, rho_3249, rho_3250, rho_3251, rho_3252, rho_3253, rho_3254, rho_3255, rho_3256, rho_3257, rho_3258, rho_3259, rho_3260, rho_3261, rho_3262, rho_3263],\n",
       "[rho_3264, rho_3265, rho_3266, rho_3267, rho_3268, rho_3269, rho_3270, rho_3271, rho_3272, rho_3273, rho_3274, rho_3275, rho_3276, rho_3277, rho_3278, rho_3279, rho_3280, rho_3281, rho_3282, rho_3283, rho_3284, rho_3285, rho_3286, rho_3287, rho_3288, rho_3289, rho_3290, rho_3291, rho_3292, rho_3293, rho_3294, rho_3295, rho_3296, rho_3297, rho_3298, rho_3299, rho_3300, rho_3301, rho_3302, rho_3303, rho_3304, rho_3305, rho_3306, rho_3307, rho_3308, rho_3309, rho_3310, rho_3311, rho_3312, rho_3313, rho_3314, rho_3315, rho_3316, rho_3317, rho_3318, rho_3319, rho_3320, rho_3321, rho_3322, rho_3323, rho_3324, rho_3325, rho_3326, rho_3327],\n",
       "[rho_3328, rho_3329, rho_3330, rho_3331, rho_3332, rho_3333, rho_3334, rho_3335, rho_3336, rho_3337, rho_3338, rho_3339, rho_3340, rho_3341, rho_3342, rho_3343, rho_3344, rho_3345, rho_3346, rho_3347, rho_3348, rho_3349, rho_3350, rho_3351, rho_3352, rho_3353, rho_3354, rho_3355, rho_3356, rho_3357, rho_3358, rho_3359, rho_3360, rho_3361, rho_3362, rho_3363, rho_3364, rho_3365, rho_3366, rho_3367, rho_3368, rho_3369, rho_3370, rho_3371, rho_3372, rho_3373, rho_3374, rho_3375, rho_3376, rho_3377, rho_3378, rho_3379, rho_3380, rho_3381, rho_3382, rho_3383, rho_3384, rho_3385, rho_3386, rho_3387, rho_3388, rho_3389, rho_3390, rho_3391],\n",
       "[rho_3392, rho_3393, rho_3394, rho_3395, rho_3396, rho_3397, rho_3398, rho_3399, rho_3400, rho_3401, rho_3402, rho_3403, rho_3404, rho_3405, rho_3406, rho_3407, rho_3408, rho_3409, rho_3410, rho_3411, rho_3412, rho_3413, rho_3414, rho_3415, rho_3416, rho_3417, rho_3418, rho_3419, rho_3420, rho_3421, rho_3422, rho_3423, rho_3424, rho_3425, rho_3426, rho_3427, rho_3428, rho_3429, rho_3430, rho_3431, rho_3432, rho_3433, rho_3434, rho_3435, rho_3436, rho_3437, rho_3438, rho_3439, rho_3440, rho_3441, rho_3442, rho_3443, rho_3444, rho_3445, rho_3446, rho_3447, rho_3448, rho_3449, rho_3450, rho_3451, rho_3452, rho_3453, rho_3454, rho_3455],\n",
       "[rho_3456, rho_3457, rho_3458, rho_3459, rho_3460, rho_3461, rho_3462, rho_3463, rho_3464, rho_3465, rho_3466, rho_3467, rho_3468, rho_3469, rho_3470, rho_3471, rho_3472, rho_3473, rho_3474, rho_3475, rho_3476, rho_3477, rho_3478, rho_3479, rho_3480, rho_3481, rho_3482, rho_3483, rho_3484, rho_3485, rho_3486, rho_3487, rho_3488, rho_3489, rho_3490, rho_3491, rho_3492, rho_3493, rho_3494, rho_3495, rho_3496, rho_3497, rho_3498, rho_3499, rho_3500, rho_3501, rho_3502, rho_3503, rho_3504, rho_3505, rho_3506, rho_3507, rho_3508, rho_3509, rho_3510, rho_3511, rho_3512, rho_3513, rho_3514, rho_3515, rho_3516, rho_3517, rho_3518, rho_3519],\n",
       "[rho_3520, rho_3521, rho_3522, rho_3523, rho_3524, rho_3525, rho_3526, rho_3527, rho_3528, rho_3529, rho_3530, rho_3531, rho_3532, rho_3533, rho_3534, rho_3535, rho_3536, rho_3537, rho_3538, rho_3539, rho_3540, rho_3541, rho_3542, rho_3543, rho_3544, rho_3545, rho_3546, rho_3547, rho_3548, rho_3549, rho_3550, rho_3551, rho_3552, rho_3553, rho_3554, rho_3555, rho_3556, rho_3557, rho_3558, rho_3559, rho_3560, rho_3561, rho_3562, rho_3563, rho_3564, rho_3565, rho_3566, rho_3567, rho_3568, rho_3569, rho_3570, rho_3571, rho_3572, rho_3573, rho_3574, rho_3575, rho_3576, rho_3577, rho_3578, rho_3579, rho_3580, rho_3581, rho_3582, rho_3583],\n",
       "[rho_3584, rho_3585, rho_3586, rho_3587, rho_3588, rho_3589, rho_3590, rho_3591, rho_3592, rho_3593, rho_3594, rho_3595, rho_3596, rho_3597, rho_3598, rho_3599, rho_3600, rho_3601, rho_3602, rho_3603, rho_3604, rho_3605, rho_3606, rho_3607, rho_3608, rho_3609, rho_3610, rho_3611, rho_3612, rho_3613, rho_3614, rho_3615, rho_3616, rho_3617, rho_3618, rho_3619, rho_3620, rho_3621, rho_3622, rho_3623, rho_3624, rho_3625, rho_3626, rho_3627, rho_3628, rho_3629, rho_3630, rho_3631, rho_3632, rho_3633, rho_3634, rho_3635, rho_3636, rho_3637, rho_3638, rho_3639, rho_3640, rho_3641, rho_3642, rho_3643, rho_3644, rho_3645, rho_3646, rho_3647],\n",
       "[rho_3648, rho_3649, rho_3650, rho_3651, rho_3652, rho_3653, rho_3654, rho_3655, rho_3656, rho_3657, rho_3658, rho_3659, rho_3660, rho_3661, rho_3662, rho_3663, rho_3664, rho_3665, rho_3666, rho_3667, rho_3668, rho_3669, rho_3670, rho_3671, rho_3672, rho_3673, rho_3674, rho_3675, rho_3676, rho_3677, rho_3678, rho_3679, rho_3680, rho_3681, rho_3682, rho_3683, rho_3684, rho_3685, rho_3686, rho_3687, rho_3688, rho_3689, rho_3690, rho_3691, rho_3692, rho_3693, rho_3694, rho_3695, rho_3696, rho_3697, rho_3698, rho_3699, rho_3700, rho_3701, rho_3702, rho_3703, rho_3704, rho_3705, rho_3706, rho_3707, rho_3708, rho_3709, rho_3710, rho_3711],\n",
       "[rho_3712, rho_3713, rho_3714, rho_3715, rho_3716, rho_3717, rho_3718, rho_3719, rho_3720, rho_3721, rho_3722, rho_3723, rho_3724, rho_3725, rho_3726, rho_3727, rho_3728, rho_3729, rho_3730, rho_3731, rho_3732, rho_3733, rho_3734, rho_3735, rho_3736, rho_3737, rho_3738, rho_3739, rho_3740, rho_3741, rho_3742, rho_3743, rho_3744, rho_3745, rho_3746, rho_3747, rho_3748, rho_3749, rho_3750, rho_3751, rho_3752, rho_3753, rho_3754, rho_3755, rho_3756, rho_3757, rho_3758, rho_3759, rho_3760, rho_3761, rho_3762, rho_3763, rho_3764, rho_3765, rho_3766, rho_3767, rho_3768, rho_3769, rho_3770, rho_3771, rho_3772, rho_3773, rho_3774, rho_3775],\n",
       "[rho_3776, rho_3777, rho_3778, rho_3779, rho_3780, rho_3781, rho_3782, rho_3783, rho_3784, rho_3785, rho_3786, rho_3787, rho_3788, rho_3789, rho_3790, rho_3791, rho_3792, rho_3793, rho_3794, rho_3795, rho_3796, rho_3797, rho_3798, rho_3799, rho_3800, rho_3801, rho_3802, rho_3803, rho_3804, rho_3805, rho_3806, rho_3807, rho_3808, rho_3809, rho_3810, rho_3811, rho_3812, rho_3813, rho_3814, rho_3815, rho_3816, rho_3817, rho_3818, rho_3819, rho_3820, rho_3821, rho_3822, rho_3823, rho_3824, rho_3825, rho_3826, rho_3827, rho_3828, rho_3829, rho_3830, rho_3831, rho_3832, rho_3833, rho_3834, rho_3835, rho_3836, rho_3837, rho_3838, rho_3839],\n",
       "[rho_3840, rho_3841, rho_3842, rho_3843, rho_3844, rho_3845, rho_3846, rho_3847, rho_3848, rho_3849, rho_3850, rho_3851, rho_3852, rho_3853, rho_3854, rho_3855, rho_3856, rho_3857, rho_3858, rho_3859, rho_3860, rho_3861, rho_3862, rho_3863, rho_3864, rho_3865, rho_3866, rho_3867, rho_3868, rho_3869, rho_3870, rho_3871, rho_3872, rho_3873, rho_3874, rho_3875, rho_3876, rho_3877, rho_3878, rho_3879, rho_3880, rho_3881, rho_3882, rho_3883, rho_3884, rho_3885, rho_3886, rho_3887, rho_3888, rho_3889, rho_3890, rho_3891, rho_3892, rho_3893, rho_3894, rho_3895, rho_3896, rho_3897, rho_3898, rho_3899, rho_3900, rho_3901, rho_3902, rho_3903],\n",
       "[rho_3904, rho_3905, rho_3906, rho_3907, rho_3908, rho_3909, rho_3910, rho_3911, rho_3912, rho_3913, rho_3914, rho_3915, rho_3916, rho_3917, rho_3918, rho_3919, rho_3920, rho_3921, rho_3922, rho_3923, rho_3924, rho_3925, rho_3926, rho_3927, rho_3928, rho_3929, rho_3930, rho_3931, rho_3932, rho_3933, rho_3934, rho_3935, rho_3936, rho_3937, rho_3938, rho_3939, rho_3940, rho_3941, rho_3942, rho_3943, rho_3944, rho_3945, rho_3946, rho_3947, rho_3948, rho_3949, rho_3950, rho_3951, rho_3952, rho_3953, rho_3954, rho_3955, rho_3956, rho_3957, rho_3958, rho_3959, rho_3960, rho_3961, rho_3962, rho_3963, rho_3964, rho_3965, rho_3966, rho_3967],\n",
       "[rho_3968, rho_3969, rho_3970, rho_3971, rho_3972, rho_3973, rho_3974, rho_3975, rho_3976, rho_3977, rho_3978, rho_3979, rho_3980, rho_3981, rho_3982, rho_3983, rho_3984, rho_3985, rho_3986, rho_3987, rho_3988, rho_3989, rho_3990, rho_3991, rho_3992, rho_3993, rho_3994, rho_3995, rho_3996, rho_3997, rho_3998, rho_3999, rho_4000, rho_4001, rho_4002, rho_4003, rho_4004, rho_4005, rho_4006, rho_4007, rho_4008, rho_4009, rho_4010, rho_4011, rho_4012, rho_4013, rho_4014, rho_4015, rho_4016, rho_4017, rho_4018, rho_4019, rho_4020, rho_4021, rho_4022, rho_4023, rho_4024, rho_4025, rho_4026, rho_4027, rho_4028, rho_4029, rho_4030, rho_4031],\n",
       "[rho_4032, rho_4033, rho_4034, rho_4035, rho_4036, rho_4037, rho_4038, rho_4039, rho_4040, rho_4041, rho_4042, rho_4043, rho_4044, rho_4045, rho_4046, rho_4047, rho_4048, rho_4049, rho_4050, rho_4051, rho_4052, rho_4053, rho_4054, rho_4055, rho_4056, rho_4057, rho_4058, rho_4059, rho_4060, rho_4061, rho_4062, rho_4063, rho_4064, rho_4065, rho_4066, rho_4067, rho_4068, rho_4069, rho_4070, rho_4071, rho_4072, rho_4073, rho_4074, rho_4075, rho_4076, rho_4077, rho_4078, rho_4079, rho_4080, rho_4081, rho_4082, rho_4083, rho_4084, rho_4085, rho_4086, rho_4087, rho_4088, rho_4089, rho_4090, rho_4091, rho_4092, rho_4093, rho_4094, rho_4095]])"
      ]
     },
     "execution_count": 48,
     "metadata": {},
     "output_type": "execute_result"
    }
   ],
   "source": [
    "rho_0 = rho_g(6); rho_0"
   ]
  },
  {
   "cell_type": "code",
   "execution_count": 51,
   "id": "b4d2dbf5",
   "metadata": {
    "scrolled": true
   },
   "outputs": [
    {
     "data": {
      "text/latex": [
       "$\\displaystyle \\left[\\begin{matrix}\\rho_{0} & \\rho_{1} & \\rho_{2} & \\rho_{3}\\\\\\rho_{4} & \\rho_{5} & \\rho_{6} & \\rho_{7}\\\\\\rho_{8} & \\rho_{9} & \\rho_{10} & \\rho_{11}\\\\\\rho_{12} & \\rho_{13} & \\rho_{14} & \\rho_{15}\\end{matrix}\\right]$"
      ],
      "text/plain": [
       "Matrix([\n",
       "[ rho_0,  rho_1,  rho_2,  rho_3],\n",
       "[ rho_4,  rho_5,  rho_6,  rho_7],\n",
       "[ rho_8,  rho_9, rho_10, rho_11],\n",
       "[rho_12, rho_13, rho_14, rho_15]])"
      ]
     },
     "execution_count": 51,
     "metadata": {},
     "output_type": "execute_result"
    }
   ],
   "source": [
    "rho_0 = rho_g(2); rho_0"
   ]
  },
  {
   "cell_type": "markdown",
   "id": "0c787d53",
   "metadata": {},
   "source": [
    "# Função que retorna os elementos do vetor de estado ou rho na notação de braket"
   ]
  },
  {
   "cell_type": "code",
   "execution_count": 49,
   "id": "e047501b",
   "metadata": {},
   "outputs": [],
   "source": [
    "# Retorna Psi ou rho na notação ketbra\n",
    "# Mandou Psi - retorna Psi\n",
    "# Mandou rho - retorna rho\n",
    "def m_braket(matrix):\n",
    "    posicoes = []\n",
    "    posicoes_bin = []\n",
    "    val = []\n",
    "    if isinstance(matrix, sympy.matrices.dense.MutableDenseMatrix):\n",
    "        n_linhas, n_colunas = matrix.shape\n",
    "        if n_linhas == 1 or n_colunas == 1:\n",
    "            Psi = 0\n",
    "            x = len(matrix)\n",
    "            for i in range(x):\n",
    "                if matrix[i] != 0:\n",
    "                    val.append(matrix[i])\n",
    "                    posicoes.append(i)\n",
    "                    posicoes_bin.append(format(i, f'0{int(math.log(x)/math.log(2))}b'))\n",
    "            for i in range(len(val)):\n",
    "                Psi = val[i] * Ket(posicoes_bin[i]) + Psi\n",
    "            return Psi\n",
    "        else:\n",
    "            m, n = matrix.shape\n",
    "            rho = 0\n",
    "            for i in range(m):\n",
    "                for j in range(n):\n",
    "                    if matrix[i, j] != 0:\n",
    "                        val.append(matrix[i, j])\n",
    "                        posicoes.append((i, j))\n",
    "                        posicoes_bin.append((format(i, f'0{int(math.log(m)/math.log(2))}b'),\n",
    "                                            format(j, f'0{int(math.log(n)/math.log(2))}b')))\n",
    "            for i in range(len(val)):\n",
    "                rho = val[i] * (Ket(posicoes_bin[i][0])) * (Bra(posicoes_bin[i][1])) + rho\n",
    "            return rho"
   ]
  },
  {
   "cell_type": "code",
   "execution_count": 52,
   "id": "25255def",
   "metadata": {},
   "outputs": [
    {
     "data": {
      "text/latex": [
       "$\\displaystyle \\rho_{0} {\\left|00\\right\\rangle } {\\left\\langle 00\\right|} + \\rho_{1} {\\left|00\\right\\rangle } {\\left\\langle 01\\right|} + \\rho_{10} {\\left|10\\right\\rangle } {\\left\\langle 10\\right|} + \\rho_{11} {\\left|10\\right\\rangle } {\\left\\langle 11\\right|} + \\rho_{12} {\\left|11\\right\\rangle } {\\left\\langle 00\\right|} + \\rho_{13} {\\left|11\\right\\rangle } {\\left\\langle 01\\right|} + \\rho_{14} {\\left|11\\right\\rangle } {\\left\\langle 10\\right|} + \\rho_{15} {\\left|11\\right\\rangle } {\\left\\langle 11\\right|} + \\rho_{2} {\\left|00\\right\\rangle } {\\left\\langle 10\\right|} + \\rho_{3} {\\left|00\\right\\rangle } {\\left\\langle 11\\right|} + \\rho_{4} {\\left|01\\right\\rangle } {\\left\\langle 00\\right|} + \\rho_{5} {\\left|01\\right\\rangle } {\\left\\langle 01\\right|} + \\rho_{6} {\\left|01\\right\\rangle } {\\left\\langle 10\\right|} + \\rho_{7} {\\left|01\\right\\rangle } {\\left\\langle 11\\right|} + \\rho_{8} {\\left|10\\right\\rangle } {\\left\\langle 00\\right|} + \\rho_{9} {\\left|10\\right\\rangle } {\\left\\langle 01\\right|}$"
      ],
      "text/plain": [
       "rho_0*|00>*<00| + rho_1*|00>*<01| + rho_10*|10>*<10| + rho_11*|10>*<11| + rho_12*|11>*<00| + rho_13*|11>*<01| + rho_14*|11>*<10| + rho_15*|11>*<11| + rho_2*|00>*<10| + rho_3*|00>*<11| + rho_4*|01>*<00| + rho_5*|01>*<01| + rho_6*|01>*<10| + rho_7*|01>*<11| + rho_8*|10>*<00| + rho_9*|10>*<01|"
      ]
     },
     "execution_count": 52,
     "metadata": {},
     "output_type": "execute_result"
    }
   ],
   "source": [
    "m_braket(rho_0)"
   ]
  },
  {
   "cell_type": "code",
   "execution_count": 50,
   "id": "cd0f8d90",
   "metadata": {},
   "outputs": [],
   "source": [
    "# Retorna Psi ou rho na notação ketbra\n",
    "# Mandou Psi - retorna Psi\n",
    "# Mandou rho - retorna rho\n",
    "def m_braket_g(matrix):\n",
    "    posicoes = []\n",
    "    posicoes_bin = []\n",
    "    val = []\n",
    "    if isinstance(matrix, sympy.matrices.dense.MutableDenseMatrix):\n",
    "        n_linhas, n_colunas = matrix.shape\n",
    "        if n_linhas == 1 or n_colunas == 1:\n",
    "            Psi = 0\n",
    "            x = len(matrix)\n",
    "            for i in range(x):\n",
    "                if matrix[i] != 0:\n",
    "                    val.append(matrix[i])\n",
    "                    posicoes.append(i)\n",
    "                    posicoes_bin.append(format(i, f'0{int(math.log(x)/math.log(2))}b'))\n",
    "            for i in range(len(val)):\n",
    "                Psi = val[i] * Ket(posicoes[i]) + Psi\n",
    "            return Psi\n",
    "        else:\n",
    "            m, n = matrix.shape\n",
    "            rho = 0\n",
    "            for i in range(m):\n",
    "                for j in range(n):\n",
    "                    if matrix[i, j] != 0:\n",
    "                        val.append(matrix[i, j])\n",
    "                        posicoes.append((i, j))\n",
    "                        posicoes_bin.append((format(i, f'0{int(math.log(m)/math.log(2))}b'),\n",
    "                                            format(j, f'0{int(math.log(n)/math.log(2))}b')))\n",
    "            for i in range(len(val)):\n",
    "                rho = val[i] * (Ket(posicoes[i][0])) * (Bra(posicoes[i][1])) + rho\n",
    "            return rho"
   ]
  },
  {
   "cell_type": "code",
   "execution_count": 53,
   "id": "b18cc44e",
   "metadata": {},
   "outputs": [
    {
     "data": {
      "text/latex": [
       "$\\displaystyle \\rho_{0} {\\left|0\\right\\rangle } {\\left\\langle 0\\right|} + \\rho_{1} {\\left|0\\right\\rangle } {\\left\\langle 1\\right|} + \\rho_{10} {\\left|2\\right\\rangle } {\\left\\langle 2\\right|} + \\rho_{11} {\\left|2\\right\\rangle } {\\left\\langle 3\\right|} + \\rho_{12} {\\left|3\\right\\rangle } {\\left\\langle 0\\right|} + \\rho_{13} {\\left|3\\right\\rangle } {\\left\\langle 1\\right|} + \\rho_{14} {\\left|3\\right\\rangle } {\\left\\langle 2\\right|} + \\rho_{15} {\\left|3\\right\\rangle } {\\left\\langle 3\\right|} + \\rho_{2} {\\left|0\\right\\rangle } {\\left\\langle 2\\right|} + \\rho_{3} {\\left|0\\right\\rangle } {\\left\\langle 3\\right|} + \\rho_{4} {\\left|1\\right\\rangle } {\\left\\langle 0\\right|} + \\rho_{5} {\\left|1\\right\\rangle } {\\left\\langle 1\\right|} + \\rho_{6} {\\left|1\\right\\rangle } {\\left\\langle 2\\right|} + \\rho_{7} {\\left|1\\right\\rangle } {\\left\\langle 3\\right|} + \\rho_{8} {\\left|2\\right\\rangle } {\\left\\langle 0\\right|} + \\rho_{9} {\\left|2\\right\\rangle } {\\left\\langle 1\\right|}$"
      ],
      "text/plain": [
       "rho_0*|0>*<0| + rho_1*|0>*<1| + rho_10*|2>*<2| + rho_11*|2>*<3| + rho_12*|3>*<0| + rho_13*|3>*<1| + rho_14*|3>*<2| + rho_15*|3>*<3| + rho_2*|0>*<2| + rho_3*|0>*<3| + rho_4*|1>*<0| + rho_5*|1>*<1| + rho_6*|1>*<2| + rho_7*|1>*<3| + rho_8*|2>*<0| + rho_9*|2>*<1|"
      ]
     },
     "execution_count": 53,
     "metadata": {},
     "output_type": "execute_result"
    }
   ],
   "source": [
    "m_braket_g(rho_0)"
   ]
  },
  {
   "cell_type": "code",
   "execution_count": 63,
   "id": "86607fdf",
   "metadata": {},
   "outputs": [
    {
     "data": {
      "text/latex": [
       "$\\displaystyle \\left[\\begin{matrix}\\rho_{0} & \\rho_{1} & \\rho_{2}\\\\\\rho_{3} & \\rho_{4} & \\rho_{5}\\\\\\rho_{6} & \\rho_{7} & \\rho_{8}\\end{matrix}\\right]$"
      ],
      "text/plain": [
       "Matrix([\n",
       "[rho_0, rho_1, rho_2],\n",
       "[rho_3, rho_4, rho_5],\n",
       "[rho_6, rho_7, rho_8]])"
      ]
     },
     "execution_count": 63,
     "metadata": {},
     "output_type": "execute_result"
    }
   ],
   "source": [
    "rho_0 = rho_g(log(3,2))\n",
    "rho_0"
   ]
  },
  {
   "cell_type": "code",
   "execution_count": 64,
   "id": "10945303",
   "metadata": {},
   "outputs": [
    {
     "data": {
      "text/latex": [
       "$\\displaystyle \\rho_{0} {\\left|0\\right\\rangle } {\\left\\langle 0\\right|} + \\rho_{1} {\\left|0\\right\\rangle } {\\left\\langle 1\\right|} + \\rho_{2} {\\left|0\\right\\rangle } {\\left\\langle 2\\right|} + \\rho_{3} {\\left|1\\right\\rangle } {\\left\\langle 0\\right|} + \\rho_{4} {\\left|1\\right\\rangle } {\\left\\langle 1\\right|} + \\rho_{5} {\\left|1\\right\\rangle } {\\left\\langle 2\\right|} + \\rho_{6} {\\left|2\\right\\rangle } {\\left\\langle 0\\right|} + \\rho_{7} {\\left|2\\right\\rangle } {\\left\\langle 1\\right|} + \\rho_{8} {\\left|2\\right\\rangle } {\\left\\langle 2\\right|}$"
      ],
      "text/plain": [
       "rho_0*|0>*<0| + rho_1*|0>*<1| + rho_2*|0>*<2| + rho_3*|1>*<0| + rho_4*|1>*<1| + rho_5*|1>*<2| + rho_6*|2>*<0| + rho_7*|2>*<1| + rho_8*|2>*<2|"
      ]
     },
     "execution_count": 64,
     "metadata": {},
     "output_type": "execute_result"
    }
   ],
   "source": [
    "m_braket_g(rho_0)"
   ]
  },
  {
   "cell_type": "markdown",
   "id": "d769d3e8",
   "metadata": {},
   "source": [
    "## Exemplos"
   ]
  },
  {
   "cell_type": "markdown",
   "id": "abc80c85",
   "metadata": {},
   "source": [
    "### Exemplo 1"
   ]
  },
  {
   "cell_type": "code",
   "execution_count": 10,
   "id": "24d09847",
   "metadata": {},
   "outputs": [
    {
     "data": {
      "text/latex": [
       "$\\displaystyle \\left[\\begin{array}{cccccccccccccccccccccccccccccccccccccccccccccccccccccccccccccccc}0.5 & 0.5 i & - 0.5 i & 0.5 & 0 & 0 & 0 & 0 & 0 & 0 & 0 & 0 & 0 & 0 & 0 & 0 & 0 & 0 & 0 & 0 & 0 & 0 & 0 & 0 & 0 & 0 & 0 & 0 & 0 & 0 & 0 & 0 & 0 & 0 & 0 & 0 & 0 & 0 & 0 & 0 & 0 & 0 & 0 & 0 & 0 & 0 & 0 & 0 & 0 & 0 & 0 & 0 & 0 & 0 & 0 & 0 & 0 & 0 & 0 & 0 & 0 & 0 & 0 & 0\\end{array}\\right]$"
      ],
      "text/plain": [
       "Matrix([[0.5, 0.5*I, -0.5*I, 0.5, 0, 0, 0, 0, 0, 0, 0, 0, 0, 0, 0, 0, 0, 0, 0, 0, 0, 0, 0, 0, 0, 0, 0, 0, 0, 0, 0, 0, 0, 0, 0, 0, 0, 0, 0, 0, 0, 0, 0, 0, 0, 0, 0, 0, 0, 0, 0, 0, 0, 0, 0, 0, 0, 0, 0, 0, 0, 0, 0, 0]])"
      ]
     },
     "execution_count": 10,
     "metadata": {},
     "output_type": "execute_result"
    }
   ],
   "source": [
    "psi = tp6(0,0,0,0,0,0) + 1j*tp6(0,0,0,0,0,1) - 1j*tp6(0,0,0,0,1,0) + tp6(0,0,0,0,1,1)\n",
    "psi = psi/norm(psi)\n",
    "transpose(psi)"
   ]
  },
  {
   "cell_type": "code",
   "execution_count": 11,
   "id": "2f158757",
   "metadata": {},
   "outputs": [
    {
     "data": {
      "text/latex": [
       "$\\displaystyle 0.5 {\\left|000000\\right\\rangle } + 0.5 i {\\left|000001\\right\\rangle } - 0.5 i {\\left|000010\\right\\rangle } + 0.5 {\\left|000011\\right\\rangle }$"
      ],
      "text/plain": [
       "0.5*|000000> + 0.5*I*|000001> - 0.5*I*|000010> + 0.5*|000011>"
      ]
     },
     "execution_count": 11,
     "metadata": {},
     "output_type": "execute_result"
    }
   ],
   "source": [
    "psik = m_braket(psi)\n",
    "psik"
   ]
  },
  {
   "cell_type": "code",
   "execution_count": 12,
   "id": "7a742013",
   "metadata": {
    "scrolled": true
   },
   "outputs": [
    {
     "data": {
      "text/latex": [
       "$\\displaystyle \\left[\\begin{array}{cccccccccccccccccccccccccccccccccccccccccccccccccccccccccccccccc}0.25 & - 0.25 i & 0.25 i & 0.25 & 0 & 0 & 0 & 0 & 0 & 0 & 0 & 0 & 0 & 0 & 0 & 0 & 0 & 0 & 0 & 0 & 0 & 0 & 0 & 0 & 0 & 0 & 0 & 0 & 0 & 0 & 0 & 0 & 0 & 0 & 0 & 0 & 0 & 0 & 0 & 0 & 0 & 0 & 0 & 0 & 0 & 0 & 0 & 0 & 0 & 0 & 0 & 0 & 0 & 0 & 0 & 0 & 0 & 0 & 0 & 0 & 0 & 0 & 0 & 0\\\\0.25 i & 0.25 & -0.25 & 0.25 i & 0 & 0 & 0 & 0 & 0 & 0 & 0 & 0 & 0 & 0 & 0 & 0 & 0 & 0 & 0 & 0 & 0 & 0 & 0 & 0 & 0 & 0 & 0 & 0 & 0 & 0 & 0 & 0 & 0 & 0 & 0 & 0 & 0 & 0 & 0 & 0 & 0 & 0 & 0 & 0 & 0 & 0 & 0 & 0 & 0 & 0 & 0 & 0 & 0 & 0 & 0 & 0 & 0 & 0 & 0 & 0 & 0 & 0 & 0 & 0\\\\- 0.25 i & -0.25 & 0.25 & - 0.25 i & 0 & 0 & 0 & 0 & 0 & 0 & 0 & 0 & 0 & 0 & 0 & 0 & 0 & 0 & 0 & 0 & 0 & 0 & 0 & 0 & 0 & 0 & 0 & 0 & 0 & 0 & 0 & 0 & 0 & 0 & 0 & 0 & 0 & 0 & 0 & 0 & 0 & 0 & 0 & 0 & 0 & 0 & 0 & 0 & 0 & 0 & 0 & 0 & 0 & 0 & 0 & 0 & 0 & 0 & 0 & 0 & 0 & 0 & 0 & 0\\\\0.25 & - 0.25 i & 0.25 i & 0.25 & 0 & 0 & 0 & 0 & 0 & 0 & 0 & 0 & 0 & 0 & 0 & 0 & 0 & 0 & 0 & 0 & 0 & 0 & 0 & 0 & 0 & 0 & 0 & 0 & 0 & 0 & 0 & 0 & 0 & 0 & 0 & 0 & 0 & 0 & 0 & 0 & 0 & 0 & 0 & 0 & 0 & 0 & 0 & 0 & 0 & 0 & 0 & 0 & 0 & 0 & 0 & 0 & 0 & 0 & 0 & 0 & 0 & 0 & 0 & 0\\\\0 & 0 & 0 & 0 & 0 & 0 & 0 & 0 & 0 & 0 & 0 & 0 & 0 & 0 & 0 & 0 & 0 & 0 & 0 & 0 & 0 & 0 & 0 & 0 & 0 & 0 & 0 & 0 & 0 & 0 & 0 & 0 & 0 & 0 & 0 & 0 & 0 & 0 & 0 & 0 & 0 & 0 & 0 & 0 & 0 & 0 & 0 & 0 & 0 & 0 & 0 & 0 & 0 & 0 & 0 & 0 & 0 & 0 & 0 & 0 & 0 & 0 & 0 & 0\\\\0 & 0 & 0 & 0 & 0 & 0 & 0 & 0 & 0 & 0 & 0 & 0 & 0 & 0 & 0 & 0 & 0 & 0 & 0 & 0 & 0 & 0 & 0 & 0 & 0 & 0 & 0 & 0 & 0 & 0 & 0 & 0 & 0 & 0 & 0 & 0 & 0 & 0 & 0 & 0 & 0 & 0 & 0 & 0 & 0 & 0 & 0 & 0 & 0 & 0 & 0 & 0 & 0 & 0 & 0 & 0 & 0 & 0 & 0 & 0 & 0 & 0 & 0 & 0\\\\0 & 0 & 0 & 0 & 0 & 0 & 0 & 0 & 0 & 0 & 0 & 0 & 0 & 0 & 0 & 0 & 0 & 0 & 0 & 0 & 0 & 0 & 0 & 0 & 0 & 0 & 0 & 0 & 0 & 0 & 0 & 0 & 0 & 0 & 0 & 0 & 0 & 0 & 0 & 0 & 0 & 0 & 0 & 0 & 0 & 0 & 0 & 0 & 0 & 0 & 0 & 0 & 0 & 0 & 0 & 0 & 0 & 0 & 0 & 0 & 0 & 0 & 0 & 0\\\\0 & 0 & 0 & 0 & 0 & 0 & 0 & 0 & 0 & 0 & 0 & 0 & 0 & 0 & 0 & 0 & 0 & 0 & 0 & 0 & 0 & 0 & 0 & 0 & 0 & 0 & 0 & 0 & 0 & 0 & 0 & 0 & 0 & 0 & 0 & 0 & 0 & 0 & 0 & 0 & 0 & 0 & 0 & 0 & 0 & 0 & 0 & 0 & 0 & 0 & 0 & 0 & 0 & 0 & 0 & 0 & 0 & 0 & 0 & 0 & 0 & 0 & 0 & 0\\\\0 & 0 & 0 & 0 & 0 & 0 & 0 & 0 & 0 & 0 & 0 & 0 & 0 & 0 & 0 & 0 & 0 & 0 & 0 & 0 & 0 & 0 & 0 & 0 & 0 & 0 & 0 & 0 & 0 & 0 & 0 & 0 & 0 & 0 & 0 & 0 & 0 & 0 & 0 & 0 & 0 & 0 & 0 & 0 & 0 & 0 & 0 & 0 & 0 & 0 & 0 & 0 & 0 & 0 & 0 & 0 & 0 & 0 & 0 & 0 & 0 & 0 & 0 & 0\\\\0 & 0 & 0 & 0 & 0 & 0 & 0 & 0 & 0 & 0 & 0 & 0 & 0 & 0 & 0 & 0 & 0 & 0 & 0 & 0 & 0 & 0 & 0 & 0 & 0 & 0 & 0 & 0 & 0 & 0 & 0 & 0 & 0 & 0 & 0 & 0 & 0 & 0 & 0 & 0 & 0 & 0 & 0 & 0 & 0 & 0 & 0 & 0 & 0 & 0 & 0 & 0 & 0 & 0 & 0 & 0 & 0 & 0 & 0 & 0 & 0 & 0 & 0 & 0\\\\0 & 0 & 0 & 0 & 0 & 0 & 0 & 0 & 0 & 0 & 0 & 0 & 0 & 0 & 0 & 0 & 0 & 0 & 0 & 0 & 0 & 0 & 0 & 0 & 0 & 0 & 0 & 0 & 0 & 0 & 0 & 0 & 0 & 0 & 0 & 0 & 0 & 0 & 0 & 0 & 0 & 0 & 0 & 0 & 0 & 0 & 0 & 0 & 0 & 0 & 0 & 0 & 0 & 0 & 0 & 0 & 0 & 0 & 0 & 0 & 0 & 0 & 0 & 0\\\\0 & 0 & 0 & 0 & 0 & 0 & 0 & 0 & 0 & 0 & 0 & 0 & 0 & 0 & 0 & 0 & 0 & 0 & 0 & 0 & 0 & 0 & 0 & 0 & 0 & 0 & 0 & 0 & 0 & 0 & 0 & 0 & 0 & 0 & 0 & 0 & 0 & 0 & 0 & 0 & 0 & 0 & 0 & 0 & 0 & 0 & 0 & 0 & 0 & 0 & 0 & 0 & 0 & 0 & 0 & 0 & 0 & 0 & 0 & 0 & 0 & 0 & 0 & 0\\\\0 & 0 & 0 & 0 & 0 & 0 & 0 & 0 & 0 & 0 & 0 & 0 & 0 & 0 & 0 & 0 & 0 & 0 & 0 & 0 & 0 & 0 & 0 & 0 & 0 & 0 & 0 & 0 & 0 & 0 & 0 & 0 & 0 & 0 & 0 & 0 & 0 & 0 & 0 & 0 & 0 & 0 & 0 & 0 & 0 & 0 & 0 & 0 & 0 & 0 & 0 & 0 & 0 & 0 & 0 & 0 & 0 & 0 & 0 & 0 & 0 & 0 & 0 & 0\\\\0 & 0 & 0 & 0 & 0 & 0 & 0 & 0 & 0 & 0 & 0 & 0 & 0 & 0 & 0 & 0 & 0 & 0 & 0 & 0 & 0 & 0 & 0 & 0 & 0 & 0 & 0 & 0 & 0 & 0 & 0 & 0 & 0 & 0 & 0 & 0 & 0 & 0 & 0 & 0 & 0 & 0 & 0 & 0 & 0 & 0 & 0 & 0 & 0 & 0 & 0 & 0 & 0 & 0 & 0 & 0 & 0 & 0 & 0 & 0 & 0 & 0 & 0 & 0\\\\0 & 0 & 0 & 0 & 0 & 0 & 0 & 0 & 0 & 0 & 0 & 0 & 0 & 0 & 0 & 0 & 0 & 0 & 0 & 0 & 0 & 0 & 0 & 0 & 0 & 0 & 0 & 0 & 0 & 0 & 0 & 0 & 0 & 0 & 0 & 0 & 0 & 0 & 0 & 0 & 0 & 0 & 0 & 0 & 0 & 0 & 0 & 0 & 0 & 0 & 0 & 0 & 0 & 0 & 0 & 0 & 0 & 0 & 0 & 0 & 0 & 0 & 0 & 0\\\\0 & 0 & 0 & 0 & 0 & 0 & 0 & 0 & 0 & 0 & 0 & 0 & 0 & 0 & 0 & 0 & 0 & 0 & 0 & 0 & 0 & 0 & 0 & 0 & 0 & 0 & 0 & 0 & 0 & 0 & 0 & 0 & 0 & 0 & 0 & 0 & 0 & 0 & 0 & 0 & 0 & 0 & 0 & 0 & 0 & 0 & 0 & 0 & 0 & 0 & 0 & 0 & 0 & 0 & 0 & 0 & 0 & 0 & 0 & 0 & 0 & 0 & 0 & 0\\\\0 & 0 & 0 & 0 & 0 & 0 & 0 & 0 & 0 & 0 & 0 & 0 & 0 & 0 & 0 & 0 & 0 & 0 & 0 & 0 & 0 & 0 & 0 & 0 & 0 & 0 & 0 & 0 & 0 & 0 & 0 & 0 & 0 & 0 & 0 & 0 & 0 & 0 & 0 & 0 & 0 & 0 & 0 & 0 & 0 & 0 & 0 & 0 & 0 & 0 & 0 & 0 & 0 & 0 & 0 & 0 & 0 & 0 & 0 & 0 & 0 & 0 & 0 & 0\\\\0 & 0 & 0 & 0 & 0 & 0 & 0 & 0 & 0 & 0 & 0 & 0 & 0 & 0 & 0 & 0 & 0 & 0 & 0 & 0 & 0 & 0 & 0 & 0 & 0 & 0 & 0 & 0 & 0 & 0 & 0 & 0 & 0 & 0 & 0 & 0 & 0 & 0 & 0 & 0 & 0 & 0 & 0 & 0 & 0 & 0 & 0 & 0 & 0 & 0 & 0 & 0 & 0 & 0 & 0 & 0 & 0 & 0 & 0 & 0 & 0 & 0 & 0 & 0\\\\0 & 0 & 0 & 0 & 0 & 0 & 0 & 0 & 0 & 0 & 0 & 0 & 0 & 0 & 0 & 0 & 0 & 0 & 0 & 0 & 0 & 0 & 0 & 0 & 0 & 0 & 0 & 0 & 0 & 0 & 0 & 0 & 0 & 0 & 0 & 0 & 0 & 0 & 0 & 0 & 0 & 0 & 0 & 0 & 0 & 0 & 0 & 0 & 0 & 0 & 0 & 0 & 0 & 0 & 0 & 0 & 0 & 0 & 0 & 0 & 0 & 0 & 0 & 0\\\\0 & 0 & 0 & 0 & 0 & 0 & 0 & 0 & 0 & 0 & 0 & 0 & 0 & 0 & 0 & 0 & 0 & 0 & 0 & 0 & 0 & 0 & 0 & 0 & 0 & 0 & 0 & 0 & 0 & 0 & 0 & 0 & 0 & 0 & 0 & 0 & 0 & 0 & 0 & 0 & 0 & 0 & 0 & 0 & 0 & 0 & 0 & 0 & 0 & 0 & 0 & 0 & 0 & 0 & 0 & 0 & 0 & 0 & 0 & 0 & 0 & 0 & 0 & 0\\\\0 & 0 & 0 & 0 & 0 & 0 & 0 & 0 & 0 & 0 & 0 & 0 & 0 & 0 & 0 & 0 & 0 & 0 & 0 & 0 & 0 & 0 & 0 & 0 & 0 & 0 & 0 & 0 & 0 & 0 & 0 & 0 & 0 & 0 & 0 & 0 & 0 & 0 & 0 & 0 & 0 & 0 & 0 & 0 & 0 & 0 & 0 & 0 & 0 & 0 & 0 & 0 & 0 & 0 & 0 & 0 & 0 & 0 & 0 & 0 & 0 & 0 & 0 & 0\\\\0 & 0 & 0 & 0 & 0 & 0 & 0 & 0 & 0 & 0 & 0 & 0 & 0 & 0 & 0 & 0 & 0 & 0 & 0 & 0 & 0 & 0 & 0 & 0 & 0 & 0 & 0 & 0 & 0 & 0 & 0 & 0 & 0 & 0 & 0 & 0 & 0 & 0 & 0 & 0 & 0 & 0 & 0 & 0 & 0 & 0 & 0 & 0 & 0 & 0 & 0 & 0 & 0 & 0 & 0 & 0 & 0 & 0 & 0 & 0 & 0 & 0 & 0 & 0\\\\0 & 0 & 0 & 0 & 0 & 0 & 0 & 0 & 0 & 0 & 0 & 0 & 0 & 0 & 0 & 0 & 0 & 0 & 0 & 0 & 0 & 0 & 0 & 0 & 0 & 0 & 0 & 0 & 0 & 0 & 0 & 0 & 0 & 0 & 0 & 0 & 0 & 0 & 0 & 0 & 0 & 0 & 0 & 0 & 0 & 0 & 0 & 0 & 0 & 0 & 0 & 0 & 0 & 0 & 0 & 0 & 0 & 0 & 0 & 0 & 0 & 0 & 0 & 0\\\\0 & 0 & 0 & 0 & 0 & 0 & 0 & 0 & 0 & 0 & 0 & 0 & 0 & 0 & 0 & 0 & 0 & 0 & 0 & 0 & 0 & 0 & 0 & 0 & 0 & 0 & 0 & 0 & 0 & 0 & 0 & 0 & 0 & 0 & 0 & 0 & 0 & 0 & 0 & 0 & 0 & 0 & 0 & 0 & 0 & 0 & 0 & 0 & 0 & 0 & 0 & 0 & 0 & 0 & 0 & 0 & 0 & 0 & 0 & 0 & 0 & 0 & 0 & 0\\\\0 & 0 & 0 & 0 & 0 & 0 & 0 & 0 & 0 & 0 & 0 & 0 & 0 & 0 & 0 & 0 & 0 & 0 & 0 & 0 & 0 & 0 & 0 & 0 & 0 & 0 & 0 & 0 & 0 & 0 & 0 & 0 & 0 & 0 & 0 & 0 & 0 & 0 & 0 & 0 & 0 & 0 & 0 & 0 & 0 & 0 & 0 & 0 & 0 & 0 & 0 & 0 & 0 & 0 & 0 & 0 & 0 & 0 & 0 & 0 & 0 & 0 & 0 & 0\\\\0 & 0 & 0 & 0 & 0 & 0 & 0 & 0 & 0 & 0 & 0 & 0 & 0 & 0 & 0 & 0 & 0 & 0 & 0 & 0 & 0 & 0 & 0 & 0 & 0 & 0 & 0 & 0 & 0 & 0 & 0 & 0 & 0 & 0 & 0 & 0 & 0 & 0 & 0 & 0 & 0 & 0 & 0 & 0 & 0 & 0 & 0 & 0 & 0 & 0 & 0 & 0 & 0 & 0 & 0 & 0 & 0 & 0 & 0 & 0 & 0 & 0 & 0 & 0\\\\0 & 0 & 0 & 0 & 0 & 0 & 0 & 0 & 0 & 0 & 0 & 0 & 0 & 0 & 0 & 0 & 0 & 0 & 0 & 0 & 0 & 0 & 0 & 0 & 0 & 0 & 0 & 0 & 0 & 0 & 0 & 0 & 0 & 0 & 0 & 0 & 0 & 0 & 0 & 0 & 0 & 0 & 0 & 0 & 0 & 0 & 0 & 0 & 0 & 0 & 0 & 0 & 0 & 0 & 0 & 0 & 0 & 0 & 0 & 0 & 0 & 0 & 0 & 0\\\\0 & 0 & 0 & 0 & 0 & 0 & 0 & 0 & 0 & 0 & 0 & 0 & 0 & 0 & 0 & 0 & 0 & 0 & 0 & 0 & 0 & 0 & 0 & 0 & 0 & 0 & 0 & 0 & 0 & 0 & 0 & 0 & 0 & 0 & 0 & 0 & 0 & 0 & 0 & 0 & 0 & 0 & 0 & 0 & 0 & 0 & 0 & 0 & 0 & 0 & 0 & 0 & 0 & 0 & 0 & 0 & 0 & 0 & 0 & 0 & 0 & 0 & 0 & 0\\\\0 & 0 & 0 & 0 & 0 & 0 & 0 & 0 & 0 & 0 & 0 & 0 & 0 & 0 & 0 & 0 & 0 & 0 & 0 & 0 & 0 & 0 & 0 & 0 & 0 & 0 & 0 & 0 & 0 & 0 & 0 & 0 & 0 & 0 & 0 & 0 & 0 & 0 & 0 & 0 & 0 & 0 & 0 & 0 & 0 & 0 & 0 & 0 & 0 & 0 & 0 & 0 & 0 & 0 & 0 & 0 & 0 & 0 & 0 & 0 & 0 & 0 & 0 & 0\\\\0 & 0 & 0 & 0 & 0 & 0 & 0 & 0 & 0 & 0 & 0 & 0 & 0 & 0 & 0 & 0 & 0 & 0 & 0 & 0 & 0 & 0 & 0 & 0 & 0 & 0 & 0 & 0 & 0 & 0 & 0 & 0 & 0 & 0 & 0 & 0 & 0 & 0 & 0 & 0 & 0 & 0 & 0 & 0 & 0 & 0 & 0 & 0 & 0 & 0 & 0 & 0 & 0 & 0 & 0 & 0 & 0 & 0 & 0 & 0 & 0 & 0 & 0 & 0\\\\0 & 0 & 0 & 0 & 0 & 0 & 0 & 0 & 0 & 0 & 0 & 0 & 0 & 0 & 0 & 0 & 0 & 0 & 0 & 0 & 0 & 0 & 0 & 0 & 0 & 0 & 0 & 0 & 0 & 0 & 0 & 0 & 0 & 0 & 0 & 0 & 0 & 0 & 0 & 0 & 0 & 0 & 0 & 0 & 0 & 0 & 0 & 0 & 0 & 0 & 0 & 0 & 0 & 0 & 0 & 0 & 0 & 0 & 0 & 0 & 0 & 0 & 0 & 0\\\\0 & 0 & 0 & 0 & 0 & 0 & 0 & 0 & 0 & 0 & 0 & 0 & 0 & 0 & 0 & 0 & 0 & 0 & 0 & 0 & 0 & 0 & 0 & 0 & 0 & 0 & 0 & 0 & 0 & 0 & 0 & 0 & 0 & 0 & 0 & 0 & 0 & 0 & 0 & 0 & 0 & 0 & 0 & 0 & 0 & 0 & 0 & 0 & 0 & 0 & 0 & 0 & 0 & 0 & 0 & 0 & 0 & 0 & 0 & 0 & 0 & 0 & 0 & 0\\\\0 & 0 & 0 & 0 & 0 & 0 & 0 & 0 & 0 & 0 & 0 & 0 & 0 & 0 & 0 & 0 & 0 & 0 & 0 & 0 & 0 & 0 & 0 & 0 & 0 & 0 & 0 & 0 & 0 & 0 & 0 & 0 & 0 & 0 & 0 & 0 & 0 & 0 & 0 & 0 & 0 & 0 & 0 & 0 & 0 & 0 & 0 & 0 & 0 & 0 & 0 & 0 & 0 & 0 & 0 & 0 & 0 & 0 & 0 & 0 & 0 & 0 & 0 & 0\\\\0 & 0 & 0 & 0 & 0 & 0 & 0 & 0 & 0 & 0 & 0 & 0 & 0 & 0 & 0 & 0 & 0 & 0 & 0 & 0 & 0 & 0 & 0 & 0 & 0 & 0 & 0 & 0 & 0 & 0 & 0 & 0 & 0 & 0 & 0 & 0 & 0 & 0 & 0 & 0 & 0 & 0 & 0 & 0 & 0 & 0 & 0 & 0 & 0 & 0 & 0 & 0 & 0 & 0 & 0 & 0 & 0 & 0 & 0 & 0 & 0 & 0 & 0 & 0\\\\0 & 0 & 0 & 0 & 0 & 0 & 0 & 0 & 0 & 0 & 0 & 0 & 0 & 0 & 0 & 0 & 0 & 0 & 0 & 0 & 0 & 0 & 0 & 0 & 0 & 0 & 0 & 0 & 0 & 0 & 0 & 0 & 0 & 0 & 0 & 0 & 0 & 0 & 0 & 0 & 0 & 0 & 0 & 0 & 0 & 0 & 0 & 0 & 0 & 0 & 0 & 0 & 0 & 0 & 0 & 0 & 0 & 0 & 0 & 0 & 0 & 0 & 0 & 0\\\\0 & 0 & 0 & 0 & 0 & 0 & 0 & 0 & 0 & 0 & 0 & 0 & 0 & 0 & 0 & 0 & 0 & 0 & 0 & 0 & 0 & 0 & 0 & 0 & 0 & 0 & 0 & 0 & 0 & 0 & 0 & 0 & 0 & 0 & 0 & 0 & 0 & 0 & 0 & 0 & 0 & 0 & 0 & 0 & 0 & 0 & 0 & 0 & 0 & 0 & 0 & 0 & 0 & 0 & 0 & 0 & 0 & 0 & 0 & 0 & 0 & 0 & 0 & 0\\\\0 & 0 & 0 & 0 & 0 & 0 & 0 & 0 & 0 & 0 & 0 & 0 & 0 & 0 & 0 & 0 & 0 & 0 & 0 & 0 & 0 & 0 & 0 & 0 & 0 & 0 & 0 & 0 & 0 & 0 & 0 & 0 & 0 & 0 & 0 & 0 & 0 & 0 & 0 & 0 & 0 & 0 & 0 & 0 & 0 & 0 & 0 & 0 & 0 & 0 & 0 & 0 & 0 & 0 & 0 & 0 & 0 & 0 & 0 & 0 & 0 & 0 & 0 & 0\\\\0 & 0 & 0 & 0 & 0 & 0 & 0 & 0 & 0 & 0 & 0 & 0 & 0 & 0 & 0 & 0 & 0 & 0 & 0 & 0 & 0 & 0 & 0 & 0 & 0 & 0 & 0 & 0 & 0 & 0 & 0 & 0 & 0 & 0 & 0 & 0 & 0 & 0 & 0 & 0 & 0 & 0 & 0 & 0 & 0 & 0 & 0 & 0 & 0 & 0 & 0 & 0 & 0 & 0 & 0 & 0 & 0 & 0 & 0 & 0 & 0 & 0 & 0 & 0\\\\0 & 0 & 0 & 0 & 0 & 0 & 0 & 0 & 0 & 0 & 0 & 0 & 0 & 0 & 0 & 0 & 0 & 0 & 0 & 0 & 0 & 0 & 0 & 0 & 0 & 0 & 0 & 0 & 0 & 0 & 0 & 0 & 0 & 0 & 0 & 0 & 0 & 0 & 0 & 0 & 0 & 0 & 0 & 0 & 0 & 0 & 0 & 0 & 0 & 0 & 0 & 0 & 0 & 0 & 0 & 0 & 0 & 0 & 0 & 0 & 0 & 0 & 0 & 0\\\\0 & 0 & 0 & 0 & 0 & 0 & 0 & 0 & 0 & 0 & 0 & 0 & 0 & 0 & 0 & 0 & 0 & 0 & 0 & 0 & 0 & 0 & 0 & 0 & 0 & 0 & 0 & 0 & 0 & 0 & 0 & 0 & 0 & 0 & 0 & 0 & 0 & 0 & 0 & 0 & 0 & 0 & 0 & 0 & 0 & 0 & 0 & 0 & 0 & 0 & 0 & 0 & 0 & 0 & 0 & 0 & 0 & 0 & 0 & 0 & 0 & 0 & 0 & 0\\\\0 & 0 & 0 & 0 & 0 & 0 & 0 & 0 & 0 & 0 & 0 & 0 & 0 & 0 & 0 & 0 & 0 & 0 & 0 & 0 & 0 & 0 & 0 & 0 & 0 & 0 & 0 & 0 & 0 & 0 & 0 & 0 & 0 & 0 & 0 & 0 & 0 & 0 & 0 & 0 & 0 & 0 & 0 & 0 & 0 & 0 & 0 & 0 & 0 & 0 & 0 & 0 & 0 & 0 & 0 & 0 & 0 & 0 & 0 & 0 & 0 & 0 & 0 & 0\\\\0 & 0 & 0 & 0 & 0 & 0 & 0 & 0 & 0 & 0 & 0 & 0 & 0 & 0 & 0 & 0 & 0 & 0 & 0 & 0 & 0 & 0 & 0 & 0 & 0 & 0 & 0 & 0 & 0 & 0 & 0 & 0 & 0 & 0 & 0 & 0 & 0 & 0 & 0 & 0 & 0 & 0 & 0 & 0 & 0 & 0 & 0 & 0 & 0 & 0 & 0 & 0 & 0 & 0 & 0 & 0 & 0 & 0 & 0 & 0 & 0 & 0 & 0 & 0\\\\0 & 0 & 0 & 0 & 0 & 0 & 0 & 0 & 0 & 0 & 0 & 0 & 0 & 0 & 0 & 0 & 0 & 0 & 0 & 0 & 0 & 0 & 0 & 0 & 0 & 0 & 0 & 0 & 0 & 0 & 0 & 0 & 0 & 0 & 0 & 0 & 0 & 0 & 0 & 0 & 0 & 0 & 0 & 0 & 0 & 0 & 0 & 0 & 0 & 0 & 0 & 0 & 0 & 0 & 0 & 0 & 0 & 0 & 0 & 0 & 0 & 0 & 0 & 0\\\\0 & 0 & 0 & 0 & 0 & 0 & 0 & 0 & 0 & 0 & 0 & 0 & 0 & 0 & 0 & 0 & 0 & 0 & 0 & 0 & 0 & 0 & 0 & 0 & 0 & 0 & 0 & 0 & 0 & 0 & 0 & 0 & 0 & 0 & 0 & 0 & 0 & 0 & 0 & 0 & 0 & 0 & 0 & 0 & 0 & 0 & 0 & 0 & 0 & 0 & 0 & 0 & 0 & 0 & 0 & 0 & 0 & 0 & 0 & 0 & 0 & 0 & 0 & 0\\\\0 & 0 & 0 & 0 & 0 & 0 & 0 & 0 & 0 & 0 & 0 & 0 & 0 & 0 & 0 & 0 & 0 & 0 & 0 & 0 & 0 & 0 & 0 & 0 & 0 & 0 & 0 & 0 & 0 & 0 & 0 & 0 & 0 & 0 & 0 & 0 & 0 & 0 & 0 & 0 & 0 & 0 & 0 & 0 & 0 & 0 & 0 & 0 & 0 & 0 & 0 & 0 & 0 & 0 & 0 & 0 & 0 & 0 & 0 & 0 & 0 & 0 & 0 & 0\\\\0 & 0 & 0 & 0 & 0 & 0 & 0 & 0 & 0 & 0 & 0 & 0 & 0 & 0 & 0 & 0 & 0 & 0 & 0 & 0 & 0 & 0 & 0 & 0 & 0 & 0 & 0 & 0 & 0 & 0 & 0 & 0 & 0 & 0 & 0 & 0 & 0 & 0 & 0 & 0 & 0 & 0 & 0 & 0 & 0 & 0 & 0 & 0 & 0 & 0 & 0 & 0 & 0 & 0 & 0 & 0 & 0 & 0 & 0 & 0 & 0 & 0 & 0 & 0\\\\0 & 0 & 0 & 0 & 0 & 0 & 0 & 0 & 0 & 0 & 0 & 0 & 0 & 0 & 0 & 0 & 0 & 0 & 0 & 0 & 0 & 0 & 0 & 0 & 0 & 0 & 0 & 0 & 0 & 0 & 0 & 0 & 0 & 0 & 0 & 0 & 0 & 0 & 0 & 0 & 0 & 0 & 0 & 0 & 0 & 0 & 0 & 0 & 0 & 0 & 0 & 0 & 0 & 0 & 0 & 0 & 0 & 0 & 0 & 0 & 0 & 0 & 0 & 0\\\\0 & 0 & 0 & 0 & 0 & 0 & 0 & 0 & 0 & 0 & 0 & 0 & 0 & 0 & 0 & 0 & 0 & 0 & 0 & 0 & 0 & 0 & 0 & 0 & 0 & 0 & 0 & 0 & 0 & 0 & 0 & 0 & 0 & 0 & 0 & 0 & 0 & 0 & 0 & 0 & 0 & 0 & 0 & 0 & 0 & 0 & 0 & 0 & 0 & 0 & 0 & 0 & 0 & 0 & 0 & 0 & 0 & 0 & 0 & 0 & 0 & 0 & 0 & 0\\\\0 & 0 & 0 & 0 & 0 & 0 & 0 & 0 & 0 & 0 & 0 & 0 & 0 & 0 & 0 & 0 & 0 & 0 & 0 & 0 & 0 & 0 & 0 & 0 & 0 & 0 & 0 & 0 & 0 & 0 & 0 & 0 & 0 & 0 & 0 & 0 & 0 & 0 & 0 & 0 & 0 & 0 & 0 & 0 & 0 & 0 & 0 & 0 & 0 & 0 & 0 & 0 & 0 & 0 & 0 & 0 & 0 & 0 & 0 & 0 & 0 & 0 & 0 & 0\\\\0 & 0 & 0 & 0 & 0 & 0 & 0 & 0 & 0 & 0 & 0 & 0 & 0 & 0 & 0 & 0 & 0 & 0 & 0 & 0 & 0 & 0 & 0 & 0 & 0 & 0 & 0 & 0 & 0 & 0 & 0 & 0 & 0 & 0 & 0 & 0 & 0 & 0 & 0 & 0 & 0 & 0 & 0 & 0 & 0 & 0 & 0 & 0 & 0 & 0 & 0 & 0 & 0 & 0 & 0 & 0 & 0 & 0 & 0 & 0 & 0 & 0 & 0 & 0\\\\0 & 0 & 0 & 0 & 0 & 0 & 0 & 0 & 0 & 0 & 0 & 0 & 0 & 0 & 0 & 0 & 0 & 0 & 0 & 0 & 0 & 0 & 0 & 0 & 0 & 0 & 0 & 0 & 0 & 0 & 0 & 0 & 0 & 0 & 0 & 0 & 0 & 0 & 0 & 0 & 0 & 0 & 0 & 0 & 0 & 0 & 0 & 0 & 0 & 0 & 0 & 0 & 0 & 0 & 0 & 0 & 0 & 0 & 0 & 0 & 0 & 0 & 0 & 0\\\\0 & 0 & 0 & 0 & 0 & 0 & 0 & 0 & 0 & 0 & 0 & 0 & 0 & 0 & 0 & 0 & 0 & 0 & 0 & 0 & 0 & 0 & 0 & 0 & 0 & 0 & 0 & 0 & 0 & 0 & 0 & 0 & 0 & 0 & 0 & 0 & 0 & 0 & 0 & 0 & 0 & 0 & 0 & 0 & 0 & 0 & 0 & 0 & 0 & 0 & 0 & 0 & 0 & 0 & 0 & 0 & 0 & 0 & 0 & 0 & 0 & 0 & 0 & 0\\\\0 & 0 & 0 & 0 & 0 & 0 & 0 & 0 & 0 & 0 & 0 & 0 & 0 & 0 & 0 & 0 & 0 & 0 & 0 & 0 & 0 & 0 & 0 & 0 & 0 & 0 & 0 & 0 & 0 & 0 & 0 & 0 & 0 & 0 & 0 & 0 & 0 & 0 & 0 & 0 & 0 & 0 & 0 & 0 & 0 & 0 & 0 & 0 & 0 & 0 & 0 & 0 & 0 & 0 & 0 & 0 & 0 & 0 & 0 & 0 & 0 & 0 & 0 & 0\\\\0 & 0 & 0 & 0 & 0 & 0 & 0 & 0 & 0 & 0 & 0 & 0 & 0 & 0 & 0 & 0 & 0 & 0 & 0 & 0 & 0 & 0 & 0 & 0 & 0 & 0 & 0 & 0 & 0 & 0 & 0 & 0 & 0 & 0 & 0 & 0 & 0 & 0 & 0 & 0 & 0 & 0 & 0 & 0 & 0 & 0 & 0 & 0 & 0 & 0 & 0 & 0 & 0 & 0 & 0 & 0 & 0 & 0 & 0 & 0 & 0 & 0 & 0 & 0\\\\0 & 0 & 0 & 0 & 0 & 0 & 0 & 0 & 0 & 0 & 0 & 0 & 0 & 0 & 0 & 0 & 0 & 0 & 0 & 0 & 0 & 0 & 0 & 0 & 0 & 0 & 0 & 0 & 0 & 0 & 0 & 0 & 0 & 0 & 0 & 0 & 0 & 0 & 0 & 0 & 0 & 0 & 0 & 0 & 0 & 0 & 0 & 0 & 0 & 0 & 0 & 0 & 0 & 0 & 0 & 0 & 0 & 0 & 0 & 0 & 0 & 0 & 0 & 0\\\\0 & 0 & 0 & 0 & 0 & 0 & 0 & 0 & 0 & 0 & 0 & 0 & 0 & 0 & 0 & 0 & 0 & 0 & 0 & 0 & 0 & 0 & 0 & 0 & 0 & 0 & 0 & 0 & 0 & 0 & 0 & 0 & 0 & 0 & 0 & 0 & 0 & 0 & 0 & 0 & 0 & 0 & 0 & 0 & 0 & 0 & 0 & 0 & 0 & 0 & 0 & 0 & 0 & 0 & 0 & 0 & 0 & 0 & 0 & 0 & 0 & 0 & 0 & 0\\\\0 & 0 & 0 & 0 & 0 & 0 & 0 & 0 & 0 & 0 & 0 & 0 & 0 & 0 & 0 & 0 & 0 & 0 & 0 & 0 & 0 & 0 & 0 & 0 & 0 & 0 & 0 & 0 & 0 & 0 & 0 & 0 & 0 & 0 & 0 & 0 & 0 & 0 & 0 & 0 & 0 & 0 & 0 & 0 & 0 & 0 & 0 & 0 & 0 & 0 & 0 & 0 & 0 & 0 & 0 & 0 & 0 & 0 & 0 & 0 & 0 & 0 & 0 & 0\\\\0 & 0 & 0 & 0 & 0 & 0 & 0 & 0 & 0 & 0 & 0 & 0 & 0 & 0 & 0 & 0 & 0 & 0 & 0 & 0 & 0 & 0 & 0 & 0 & 0 & 0 & 0 & 0 & 0 & 0 & 0 & 0 & 0 & 0 & 0 & 0 & 0 & 0 & 0 & 0 & 0 & 0 & 0 & 0 & 0 & 0 & 0 & 0 & 0 & 0 & 0 & 0 & 0 & 0 & 0 & 0 & 0 & 0 & 0 & 0 & 0 & 0 & 0 & 0\\\\0 & 0 & 0 & 0 & 0 & 0 & 0 & 0 & 0 & 0 & 0 & 0 & 0 & 0 & 0 & 0 & 0 & 0 & 0 & 0 & 0 & 0 & 0 & 0 & 0 & 0 & 0 & 0 & 0 & 0 & 0 & 0 & 0 & 0 & 0 & 0 & 0 & 0 & 0 & 0 & 0 & 0 & 0 & 0 & 0 & 0 & 0 & 0 & 0 & 0 & 0 & 0 & 0 & 0 & 0 & 0 & 0 & 0 & 0 & 0 & 0 & 0 & 0 & 0\\\\0 & 0 & 0 & 0 & 0 & 0 & 0 & 0 & 0 & 0 & 0 & 0 & 0 & 0 & 0 & 0 & 0 & 0 & 0 & 0 & 0 & 0 & 0 & 0 & 0 & 0 & 0 & 0 & 0 & 0 & 0 & 0 & 0 & 0 & 0 & 0 & 0 & 0 & 0 & 0 & 0 & 0 & 0 & 0 & 0 & 0 & 0 & 0 & 0 & 0 & 0 & 0 & 0 & 0 & 0 & 0 & 0 & 0 & 0 & 0 & 0 & 0 & 0 & 0\\\\0 & 0 & 0 & 0 & 0 & 0 & 0 & 0 & 0 & 0 & 0 & 0 & 0 & 0 & 0 & 0 & 0 & 0 & 0 & 0 & 0 & 0 & 0 & 0 & 0 & 0 & 0 & 0 & 0 & 0 & 0 & 0 & 0 & 0 & 0 & 0 & 0 & 0 & 0 & 0 & 0 & 0 & 0 & 0 & 0 & 0 & 0 & 0 & 0 & 0 & 0 & 0 & 0 & 0 & 0 & 0 & 0 & 0 & 0 & 0 & 0 & 0 & 0 & 0\\\\0 & 0 & 0 & 0 & 0 & 0 & 0 & 0 & 0 & 0 & 0 & 0 & 0 & 0 & 0 & 0 & 0 & 0 & 0 & 0 & 0 & 0 & 0 & 0 & 0 & 0 & 0 & 0 & 0 & 0 & 0 & 0 & 0 & 0 & 0 & 0 & 0 & 0 & 0 & 0 & 0 & 0 & 0 & 0 & 0 & 0 & 0 & 0 & 0 & 0 & 0 & 0 & 0 & 0 & 0 & 0 & 0 & 0 & 0 & 0 & 0 & 0 & 0 & 0\\\\0 & 0 & 0 & 0 & 0 & 0 & 0 & 0 & 0 & 0 & 0 & 0 & 0 & 0 & 0 & 0 & 0 & 0 & 0 & 0 & 0 & 0 & 0 & 0 & 0 & 0 & 0 & 0 & 0 & 0 & 0 & 0 & 0 & 0 & 0 & 0 & 0 & 0 & 0 & 0 & 0 & 0 & 0 & 0 & 0 & 0 & 0 & 0 & 0 & 0 & 0 & 0 & 0 & 0 & 0 & 0 & 0 & 0 & 0 & 0 & 0 & 0 & 0 & 0\\\\0 & 0 & 0 & 0 & 0 & 0 & 0 & 0 & 0 & 0 & 0 & 0 & 0 & 0 & 0 & 0 & 0 & 0 & 0 & 0 & 0 & 0 & 0 & 0 & 0 & 0 & 0 & 0 & 0 & 0 & 0 & 0 & 0 & 0 & 0 & 0 & 0 & 0 & 0 & 0 & 0 & 0 & 0 & 0 & 0 & 0 & 0 & 0 & 0 & 0 & 0 & 0 & 0 & 0 & 0 & 0 & 0 & 0 & 0 & 0 & 0 & 0 & 0 & 0\\end{array}\\right]$"
      ],
      "text/plain": [
       "Matrix([\n",
       "[   0.25, -0.25*I, 0.25*I,    0.25, 0, 0, 0, 0, 0, 0, 0, 0, 0, 0, 0, 0, 0, 0, 0, 0, 0, 0, 0, 0, 0, 0, 0, 0, 0, 0, 0, 0, 0, 0, 0, 0, 0, 0, 0, 0, 0, 0, 0, 0, 0, 0, 0, 0, 0, 0, 0, 0, 0, 0, 0, 0, 0, 0, 0, 0, 0, 0, 0, 0],\n",
       "[ 0.25*I,    0.25,  -0.25,  0.25*I, 0, 0, 0, 0, 0, 0, 0, 0, 0, 0, 0, 0, 0, 0, 0, 0, 0, 0, 0, 0, 0, 0, 0, 0, 0, 0, 0, 0, 0, 0, 0, 0, 0, 0, 0, 0, 0, 0, 0, 0, 0, 0, 0, 0, 0, 0, 0, 0, 0, 0, 0, 0, 0, 0, 0, 0, 0, 0, 0, 0],\n",
       "[-0.25*I,   -0.25,   0.25, -0.25*I, 0, 0, 0, 0, 0, 0, 0, 0, 0, 0, 0, 0, 0, 0, 0, 0, 0, 0, 0, 0, 0, 0, 0, 0, 0, 0, 0, 0, 0, 0, 0, 0, 0, 0, 0, 0, 0, 0, 0, 0, 0, 0, 0, 0, 0, 0, 0, 0, 0, 0, 0, 0, 0, 0, 0, 0, 0, 0, 0, 0],\n",
       "[   0.25, -0.25*I, 0.25*I,    0.25, 0, 0, 0, 0, 0, 0, 0, 0, 0, 0, 0, 0, 0, 0, 0, 0, 0, 0, 0, 0, 0, 0, 0, 0, 0, 0, 0, 0, 0, 0, 0, 0, 0, 0, 0, 0, 0, 0, 0, 0, 0, 0, 0, 0, 0, 0, 0, 0, 0, 0, 0, 0, 0, 0, 0, 0, 0, 0, 0, 0],\n",
       "[      0,       0,      0,       0, 0, 0, 0, 0, 0, 0, 0, 0, 0, 0, 0, 0, 0, 0, 0, 0, 0, 0, 0, 0, 0, 0, 0, 0, 0, 0, 0, 0, 0, 0, 0, 0, 0, 0, 0, 0, 0, 0, 0, 0, 0, 0, 0, 0, 0, 0, 0, 0, 0, 0, 0, 0, 0, 0, 0, 0, 0, 0, 0, 0],\n",
       "[      0,       0,      0,       0, 0, 0, 0, 0, 0, 0, 0, 0, 0, 0, 0, 0, 0, 0, 0, 0, 0, 0, 0, 0, 0, 0, 0, 0, 0, 0, 0, 0, 0, 0, 0, 0, 0, 0, 0, 0, 0, 0, 0, 0, 0, 0, 0, 0, 0, 0, 0, 0, 0, 0, 0, 0, 0, 0, 0, 0, 0, 0, 0, 0],\n",
       "[      0,       0,      0,       0, 0, 0, 0, 0, 0, 0, 0, 0, 0, 0, 0, 0, 0, 0, 0, 0, 0, 0, 0, 0, 0, 0, 0, 0, 0, 0, 0, 0, 0, 0, 0, 0, 0, 0, 0, 0, 0, 0, 0, 0, 0, 0, 0, 0, 0, 0, 0, 0, 0, 0, 0, 0, 0, 0, 0, 0, 0, 0, 0, 0],\n",
       "[      0,       0,      0,       0, 0, 0, 0, 0, 0, 0, 0, 0, 0, 0, 0, 0, 0, 0, 0, 0, 0, 0, 0, 0, 0, 0, 0, 0, 0, 0, 0, 0, 0, 0, 0, 0, 0, 0, 0, 0, 0, 0, 0, 0, 0, 0, 0, 0, 0, 0, 0, 0, 0, 0, 0, 0, 0, 0, 0, 0, 0, 0, 0, 0],\n",
       "[      0,       0,      0,       0, 0, 0, 0, 0, 0, 0, 0, 0, 0, 0, 0, 0, 0, 0, 0, 0, 0, 0, 0, 0, 0, 0, 0, 0, 0, 0, 0, 0, 0, 0, 0, 0, 0, 0, 0, 0, 0, 0, 0, 0, 0, 0, 0, 0, 0, 0, 0, 0, 0, 0, 0, 0, 0, 0, 0, 0, 0, 0, 0, 0],\n",
       "[      0,       0,      0,       0, 0, 0, 0, 0, 0, 0, 0, 0, 0, 0, 0, 0, 0, 0, 0, 0, 0, 0, 0, 0, 0, 0, 0, 0, 0, 0, 0, 0, 0, 0, 0, 0, 0, 0, 0, 0, 0, 0, 0, 0, 0, 0, 0, 0, 0, 0, 0, 0, 0, 0, 0, 0, 0, 0, 0, 0, 0, 0, 0, 0],\n",
       "[      0,       0,      0,       0, 0, 0, 0, 0, 0, 0, 0, 0, 0, 0, 0, 0, 0, 0, 0, 0, 0, 0, 0, 0, 0, 0, 0, 0, 0, 0, 0, 0, 0, 0, 0, 0, 0, 0, 0, 0, 0, 0, 0, 0, 0, 0, 0, 0, 0, 0, 0, 0, 0, 0, 0, 0, 0, 0, 0, 0, 0, 0, 0, 0],\n",
       "[      0,       0,      0,       0, 0, 0, 0, 0, 0, 0, 0, 0, 0, 0, 0, 0, 0, 0, 0, 0, 0, 0, 0, 0, 0, 0, 0, 0, 0, 0, 0, 0, 0, 0, 0, 0, 0, 0, 0, 0, 0, 0, 0, 0, 0, 0, 0, 0, 0, 0, 0, 0, 0, 0, 0, 0, 0, 0, 0, 0, 0, 0, 0, 0],\n",
       "[      0,       0,      0,       0, 0, 0, 0, 0, 0, 0, 0, 0, 0, 0, 0, 0, 0, 0, 0, 0, 0, 0, 0, 0, 0, 0, 0, 0, 0, 0, 0, 0, 0, 0, 0, 0, 0, 0, 0, 0, 0, 0, 0, 0, 0, 0, 0, 0, 0, 0, 0, 0, 0, 0, 0, 0, 0, 0, 0, 0, 0, 0, 0, 0],\n",
       "[      0,       0,      0,       0, 0, 0, 0, 0, 0, 0, 0, 0, 0, 0, 0, 0, 0, 0, 0, 0, 0, 0, 0, 0, 0, 0, 0, 0, 0, 0, 0, 0, 0, 0, 0, 0, 0, 0, 0, 0, 0, 0, 0, 0, 0, 0, 0, 0, 0, 0, 0, 0, 0, 0, 0, 0, 0, 0, 0, 0, 0, 0, 0, 0],\n",
       "[      0,       0,      0,       0, 0, 0, 0, 0, 0, 0, 0, 0, 0, 0, 0, 0, 0, 0, 0, 0, 0, 0, 0, 0, 0, 0, 0, 0, 0, 0, 0, 0, 0, 0, 0, 0, 0, 0, 0, 0, 0, 0, 0, 0, 0, 0, 0, 0, 0, 0, 0, 0, 0, 0, 0, 0, 0, 0, 0, 0, 0, 0, 0, 0],\n",
       "[      0,       0,      0,       0, 0, 0, 0, 0, 0, 0, 0, 0, 0, 0, 0, 0, 0, 0, 0, 0, 0, 0, 0, 0, 0, 0, 0, 0, 0, 0, 0, 0, 0, 0, 0, 0, 0, 0, 0, 0, 0, 0, 0, 0, 0, 0, 0, 0, 0, 0, 0, 0, 0, 0, 0, 0, 0, 0, 0, 0, 0, 0, 0, 0],\n",
       "[      0,       0,      0,       0, 0, 0, 0, 0, 0, 0, 0, 0, 0, 0, 0, 0, 0, 0, 0, 0, 0, 0, 0, 0, 0, 0, 0, 0, 0, 0, 0, 0, 0, 0, 0, 0, 0, 0, 0, 0, 0, 0, 0, 0, 0, 0, 0, 0, 0, 0, 0, 0, 0, 0, 0, 0, 0, 0, 0, 0, 0, 0, 0, 0],\n",
       "[      0,       0,      0,       0, 0, 0, 0, 0, 0, 0, 0, 0, 0, 0, 0, 0, 0, 0, 0, 0, 0, 0, 0, 0, 0, 0, 0, 0, 0, 0, 0, 0, 0, 0, 0, 0, 0, 0, 0, 0, 0, 0, 0, 0, 0, 0, 0, 0, 0, 0, 0, 0, 0, 0, 0, 0, 0, 0, 0, 0, 0, 0, 0, 0],\n",
       "[      0,       0,      0,       0, 0, 0, 0, 0, 0, 0, 0, 0, 0, 0, 0, 0, 0, 0, 0, 0, 0, 0, 0, 0, 0, 0, 0, 0, 0, 0, 0, 0, 0, 0, 0, 0, 0, 0, 0, 0, 0, 0, 0, 0, 0, 0, 0, 0, 0, 0, 0, 0, 0, 0, 0, 0, 0, 0, 0, 0, 0, 0, 0, 0],\n",
       "[      0,       0,      0,       0, 0, 0, 0, 0, 0, 0, 0, 0, 0, 0, 0, 0, 0, 0, 0, 0, 0, 0, 0, 0, 0, 0, 0, 0, 0, 0, 0, 0, 0, 0, 0, 0, 0, 0, 0, 0, 0, 0, 0, 0, 0, 0, 0, 0, 0, 0, 0, 0, 0, 0, 0, 0, 0, 0, 0, 0, 0, 0, 0, 0],\n",
       "[      0,       0,      0,       0, 0, 0, 0, 0, 0, 0, 0, 0, 0, 0, 0, 0, 0, 0, 0, 0, 0, 0, 0, 0, 0, 0, 0, 0, 0, 0, 0, 0, 0, 0, 0, 0, 0, 0, 0, 0, 0, 0, 0, 0, 0, 0, 0, 0, 0, 0, 0, 0, 0, 0, 0, 0, 0, 0, 0, 0, 0, 0, 0, 0],\n",
       "[      0,       0,      0,       0, 0, 0, 0, 0, 0, 0, 0, 0, 0, 0, 0, 0, 0, 0, 0, 0, 0, 0, 0, 0, 0, 0, 0, 0, 0, 0, 0, 0, 0, 0, 0, 0, 0, 0, 0, 0, 0, 0, 0, 0, 0, 0, 0, 0, 0, 0, 0, 0, 0, 0, 0, 0, 0, 0, 0, 0, 0, 0, 0, 0],\n",
       "[      0,       0,      0,       0, 0, 0, 0, 0, 0, 0, 0, 0, 0, 0, 0, 0, 0, 0, 0, 0, 0, 0, 0, 0, 0, 0, 0, 0, 0, 0, 0, 0, 0, 0, 0, 0, 0, 0, 0, 0, 0, 0, 0, 0, 0, 0, 0, 0, 0, 0, 0, 0, 0, 0, 0, 0, 0, 0, 0, 0, 0, 0, 0, 0],\n",
       "[      0,       0,      0,       0, 0, 0, 0, 0, 0, 0, 0, 0, 0, 0, 0, 0, 0, 0, 0, 0, 0, 0, 0, 0, 0, 0, 0, 0, 0, 0, 0, 0, 0, 0, 0, 0, 0, 0, 0, 0, 0, 0, 0, 0, 0, 0, 0, 0, 0, 0, 0, 0, 0, 0, 0, 0, 0, 0, 0, 0, 0, 0, 0, 0],\n",
       "[      0,       0,      0,       0, 0, 0, 0, 0, 0, 0, 0, 0, 0, 0, 0, 0, 0, 0, 0, 0, 0, 0, 0, 0, 0, 0, 0, 0, 0, 0, 0, 0, 0, 0, 0, 0, 0, 0, 0, 0, 0, 0, 0, 0, 0, 0, 0, 0, 0, 0, 0, 0, 0, 0, 0, 0, 0, 0, 0, 0, 0, 0, 0, 0],\n",
       "[      0,       0,      0,       0, 0, 0, 0, 0, 0, 0, 0, 0, 0, 0, 0, 0, 0, 0, 0, 0, 0, 0, 0, 0, 0, 0, 0, 0, 0, 0, 0, 0, 0, 0, 0, 0, 0, 0, 0, 0, 0, 0, 0, 0, 0, 0, 0, 0, 0, 0, 0, 0, 0, 0, 0, 0, 0, 0, 0, 0, 0, 0, 0, 0],\n",
       "[      0,       0,      0,       0, 0, 0, 0, 0, 0, 0, 0, 0, 0, 0, 0, 0, 0, 0, 0, 0, 0, 0, 0, 0, 0, 0, 0, 0, 0, 0, 0, 0, 0, 0, 0, 0, 0, 0, 0, 0, 0, 0, 0, 0, 0, 0, 0, 0, 0, 0, 0, 0, 0, 0, 0, 0, 0, 0, 0, 0, 0, 0, 0, 0],\n",
       "[      0,       0,      0,       0, 0, 0, 0, 0, 0, 0, 0, 0, 0, 0, 0, 0, 0, 0, 0, 0, 0, 0, 0, 0, 0, 0, 0, 0, 0, 0, 0, 0, 0, 0, 0, 0, 0, 0, 0, 0, 0, 0, 0, 0, 0, 0, 0, 0, 0, 0, 0, 0, 0, 0, 0, 0, 0, 0, 0, 0, 0, 0, 0, 0],\n",
       "[      0,       0,      0,       0, 0, 0, 0, 0, 0, 0, 0, 0, 0, 0, 0, 0, 0, 0, 0, 0, 0, 0, 0, 0, 0, 0, 0, 0, 0, 0, 0, 0, 0, 0, 0, 0, 0, 0, 0, 0, 0, 0, 0, 0, 0, 0, 0, 0, 0, 0, 0, 0, 0, 0, 0, 0, 0, 0, 0, 0, 0, 0, 0, 0],\n",
       "[      0,       0,      0,       0, 0, 0, 0, 0, 0, 0, 0, 0, 0, 0, 0, 0, 0, 0, 0, 0, 0, 0, 0, 0, 0, 0, 0, 0, 0, 0, 0, 0, 0, 0, 0, 0, 0, 0, 0, 0, 0, 0, 0, 0, 0, 0, 0, 0, 0, 0, 0, 0, 0, 0, 0, 0, 0, 0, 0, 0, 0, 0, 0, 0],\n",
       "[      0,       0,      0,       0, 0, 0, 0, 0, 0, 0, 0, 0, 0, 0, 0, 0, 0, 0, 0, 0, 0, 0, 0, 0, 0, 0, 0, 0, 0, 0, 0, 0, 0, 0, 0, 0, 0, 0, 0, 0, 0, 0, 0, 0, 0, 0, 0, 0, 0, 0, 0, 0, 0, 0, 0, 0, 0, 0, 0, 0, 0, 0, 0, 0],\n",
       "[      0,       0,      0,       0, 0, 0, 0, 0, 0, 0, 0, 0, 0, 0, 0, 0, 0, 0, 0, 0, 0, 0, 0, 0, 0, 0, 0, 0, 0, 0, 0, 0, 0, 0, 0, 0, 0, 0, 0, 0, 0, 0, 0, 0, 0, 0, 0, 0, 0, 0, 0, 0, 0, 0, 0, 0, 0, 0, 0, 0, 0, 0, 0, 0],\n",
       "[      0,       0,      0,       0, 0, 0, 0, 0, 0, 0, 0, 0, 0, 0, 0, 0, 0, 0, 0, 0, 0, 0, 0, 0, 0, 0, 0, 0, 0, 0, 0, 0, 0, 0, 0, 0, 0, 0, 0, 0, 0, 0, 0, 0, 0, 0, 0, 0, 0, 0, 0, 0, 0, 0, 0, 0, 0, 0, 0, 0, 0, 0, 0, 0],\n",
       "[      0,       0,      0,       0, 0, 0, 0, 0, 0, 0, 0, 0, 0, 0, 0, 0, 0, 0, 0, 0, 0, 0, 0, 0, 0, 0, 0, 0, 0, 0, 0, 0, 0, 0, 0, 0, 0, 0, 0, 0, 0, 0, 0, 0, 0, 0, 0, 0, 0, 0, 0, 0, 0, 0, 0, 0, 0, 0, 0, 0, 0, 0, 0, 0],\n",
       "[      0,       0,      0,       0, 0, 0, 0, 0, 0, 0, 0, 0, 0, 0, 0, 0, 0, 0, 0, 0, 0, 0, 0, 0, 0, 0, 0, 0, 0, 0, 0, 0, 0, 0, 0, 0, 0, 0, 0, 0, 0, 0, 0, 0, 0, 0, 0, 0, 0, 0, 0, 0, 0, 0, 0, 0, 0, 0, 0, 0, 0, 0, 0, 0],\n",
       "[      0,       0,      0,       0, 0, 0, 0, 0, 0, 0, 0, 0, 0, 0, 0, 0, 0, 0, 0, 0, 0, 0, 0, 0, 0, 0, 0, 0, 0, 0, 0, 0, 0, 0, 0, 0, 0, 0, 0, 0, 0, 0, 0, 0, 0, 0, 0, 0, 0, 0, 0, 0, 0, 0, 0, 0, 0, 0, 0, 0, 0, 0, 0, 0],\n",
       "[      0,       0,      0,       0, 0, 0, 0, 0, 0, 0, 0, 0, 0, 0, 0, 0, 0, 0, 0, 0, 0, 0, 0, 0, 0, 0, 0, 0, 0, 0, 0, 0, 0, 0, 0, 0, 0, 0, 0, 0, 0, 0, 0, 0, 0, 0, 0, 0, 0, 0, 0, 0, 0, 0, 0, 0, 0, 0, 0, 0, 0, 0, 0, 0],\n",
       "[      0,       0,      0,       0, 0, 0, 0, 0, 0, 0, 0, 0, 0, 0, 0, 0, 0, 0, 0, 0, 0, 0, 0, 0, 0, 0, 0, 0, 0, 0, 0, 0, 0, 0, 0, 0, 0, 0, 0, 0, 0, 0, 0, 0, 0, 0, 0, 0, 0, 0, 0, 0, 0, 0, 0, 0, 0, 0, 0, 0, 0, 0, 0, 0],\n",
       "[      0,       0,      0,       0, 0, 0, 0, 0, 0, 0, 0, 0, 0, 0, 0, 0, 0, 0, 0, 0, 0, 0, 0, 0, 0, 0, 0, 0, 0, 0, 0, 0, 0, 0, 0, 0, 0, 0, 0, 0, 0, 0, 0, 0, 0, 0, 0, 0, 0, 0, 0, 0, 0, 0, 0, 0, 0, 0, 0, 0, 0, 0, 0, 0],\n",
       "[      0,       0,      0,       0, 0, 0, 0, 0, 0, 0, 0, 0, 0, 0, 0, 0, 0, 0, 0, 0, 0, 0, 0, 0, 0, 0, 0, 0, 0, 0, 0, 0, 0, 0, 0, 0, 0, 0, 0, 0, 0, 0, 0, 0, 0, 0, 0, 0, 0, 0, 0, 0, 0, 0, 0, 0, 0, 0, 0, 0, 0, 0, 0, 0],\n",
       "[      0,       0,      0,       0, 0, 0, 0, 0, 0, 0, 0, 0, 0, 0, 0, 0, 0, 0, 0, 0, 0, 0, 0, 0, 0, 0, 0, 0, 0, 0, 0, 0, 0, 0, 0, 0, 0, 0, 0, 0, 0, 0, 0, 0, 0, 0, 0, 0, 0, 0, 0, 0, 0, 0, 0, 0, 0, 0, 0, 0, 0, 0, 0, 0],\n",
       "[      0,       0,      0,       0, 0, 0, 0, 0, 0, 0, 0, 0, 0, 0, 0, 0, 0, 0, 0, 0, 0, 0, 0, 0, 0, 0, 0, 0, 0, 0, 0, 0, 0, 0, 0, 0, 0, 0, 0, 0, 0, 0, 0, 0, 0, 0, 0, 0, 0, 0, 0, 0, 0, 0, 0, 0, 0, 0, 0, 0, 0, 0, 0, 0],\n",
       "[      0,       0,      0,       0, 0, 0, 0, 0, 0, 0, 0, 0, 0, 0, 0, 0, 0, 0, 0, 0, 0, 0, 0, 0, 0, 0, 0, 0, 0, 0, 0, 0, 0, 0, 0, 0, 0, 0, 0, 0, 0, 0, 0, 0, 0, 0, 0, 0, 0, 0, 0, 0, 0, 0, 0, 0, 0, 0, 0, 0, 0, 0, 0, 0],\n",
       "[      0,       0,      0,       0, 0, 0, 0, 0, 0, 0, 0, 0, 0, 0, 0, 0, 0, 0, 0, 0, 0, 0, 0, 0, 0, 0, 0, 0, 0, 0, 0, 0, 0, 0, 0, 0, 0, 0, 0, 0, 0, 0, 0, 0, 0, 0, 0, 0, 0, 0, 0, 0, 0, 0, 0, 0, 0, 0, 0, 0, 0, 0, 0, 0],\n",
       "[      0,       0,      0,       0, 0, 0, 0, 0, 0, 0, 0, 0, 0, 0, 0, 0, 0, 0, 0, 0, 0, 0, 0, 0, 0, 0, 0, 0, 0, 0, 0, 0, 0, 0, 0, 0, 0, 0, 0, 0, 0, 0, 0, 0, 0, 0, 0, 0, 0, 0, 0, 0, 0, 0, 0, 0, 0, 0, 0, 0, 0, 0, 0, 0],\n",
       "[      0,       0,      0,       0, 0, 0, 0, 0, 0, 0, 0, 0, 0, 0, 0, 0, 0, 0, 0, 0, 0, 0, 0, 0, 0, 0, 0, 0, 0, 0, 0, 0, 0, 0, 0, 0, 0, 0, 0, 0, 0, 0, 0, 0, 0, 0, 0, 0, 0, 0, 0, 0, 0, 0, 0, 0, 0, 0, 0, 0, 0, 0, 0, 0],\n",
       "[      0,       0,      0,       0, 0, 0, 0, 0, 0, 0, 0, 0, 0, 0, 0, 0, 0, 0, 0, 0, 0, 0, 0, 0, 0, 0, 0, 0, 0, 0, 0, 0, 0, 0, 0, 0, 0, 0, 0, 0, 0, 0, 0, 0, 0, 0, 0, 0, 0, 0, 0, 0, 0, 0, 0, 0, 0, 0, 0, 0, 0, 0, 0, 0],\n",
       "[      0,       0,      0,       0, 0, 0, 0, 0, 0, 0, 0, 0, 0, 0, 0, 0, 0, 0, 0, 0, 0, 0, 0, 0, 0, 0, 0, 0, 0, 0, 0, 0, 0, 0, 0, 0, 0, 0, 0, 0, 0, 0, 0, 0, 0, 0, 0, 0, 0, 0, 0, 0, 0, 0, 0, 0, 0, 0, 0, 0, 0, 0, 0, 0],\n",
       "[      0,       0,      0,       0, 0, 0, 0, 0, 0, 0, 0, 0, 0, 0, 0, 0, 0, 0, 0, 0, 0, 0, 0, 0, 0, 0, 0, 0, 0, 0, 0, 0, 0, 0, 0, 0, 0, 0, 0, 0, 0, 0, 0, 0, 0, 0, 0, 0, 0, 0, 0, 0, 0, 0, 0, 0, 0, 0, 0, 0, 0, 0, 0, 0],\n",
       "[      0,       0,      0,       0, 0, 0, 0, 0, 0, 0, 0, 0, 0, 0, 0, 0, 0, 0, 0, 0, 0, 0, 0, 0, 0, 0, 0, 0, 0, 0, 0, 0, 0, 0, 0, 0, 0, 0, 0, 0, 0, 0, 0, 0, 0, 0, 0, 0, 0, 0, 0, 0, 0, 0, 0, 0, 0, 0, 0, 0, 0, 0, 0, 0],\n",
       "[      0,       0,      0,       0, 0, 0, 0, 0, 0, 0, 0, 0, 0, 0, 0, 0, 0, 0, 0, 0, 0, 0, 0, 0, 0, 0, 0, 0, 0, 0, 0, 0, 0, 0, 0, 0, 0, 0, 0, 0, 0, 0, 0, 0, 0, 0, 0, 0, 0, 0, 0, 0, 0, 0, 0, 0, 0, 0, 0, 0, 0, 0, 0, 0],\n",
       "[      0,       0,      0,       0, 0, 0, 0, 0, 0, 0, 0, 0, 0, 0, 0, 0, 0, 0, 0, 0, 0, 0, 0, 0, 0, 0, 0, 0, 0, 0, 0, 0, 0, 0, 0, 0, 0, 0, 0, 0, 0, 0, 0, 0, 0, 0, 0, 0, 0, 0, 0, 0, 0, 0, 0, 0, 0, 0, 0, 0, 0, 0, 0, 0],\n",
       "[      0,       0,      0,       0, 0, 0, 0, 0, 0, 0, 0, 0, 0, 0, 0, 0, 0, 0, 0, 0, 0, 0, 0, 0, 0, 0, 0, 0, 0, 0, 0, 0, 0, 0, 0, 0, 0, 0, 0, 0, 0, 0, 0, 0, 0, 0, 0, 0, 0, 0, 0, 0, 0, 0, 0, 0, 0, 0, 0, 0, 0, 0, 0, 0],\n",
       "[      0,       0,      0,       0, 0, 0, 0, 0, 0, 0, 0, 0, 0, 0, 0, 0, 0, 0, 0, 0, 0, 0, 0, 0, 0, 0, 0, 0, 0, 0, 0, 0, 0, 0, 0, 0, 0, 0, 0, 0, 0, 0, 0, 0, 0, 0, 0, 0, 0, 0, 0, 0, 0, 0, 0, 0, 0, 0, 0, 0, 0, 0, 0, 0],\n",
       "[      0,       0,      0,       0, 0, 0, 0, 0, 0, 0, 0, 0, 0, 0, 0, 0, 0, 0, 0, 0, 0, 0, 0, 0, 0, 0, 0, 0, 0, 0, 0, 0, 0, 0, 0, 0, 0, 0, 0, 0, 0, 0, 0, 0, 0, 0, 0, 0, 0, 0, 0, 0, 0, 0, 0, 0, 0, 0, 0, 0, 0, 0, 0, 0],\n",
       "[      0,       0,      0,       0, 0, 0, 0, 0, 0, 0, 0, 0, 0, 0, 0, 0, 0, 0, 0, 0, 0, 0, 0, 0, 0, 0, 0, 0, 0, 0, 0, 0, 0, 0, 0, 0, 0, 0, 0, 0, 0, 0, 0, 0, 0, 0, 0, 0, 0, 0, 0, 0, 0, 0, 0, 0, 0, 0, 0, 0, 0, 0, 0, 0],\n",
       "[      0,       0,      0,       0, 0, 0, 0, 0, 0, 0, 0, 0, 0, 0, 0, 0, 0, 0, 0, 0, 0, 0, 0, 0, 0, 0, 0, 0, 0, 0, 0, 0, 0, 0, 0, 0, 0, 0, 0, 0, 0, 0, 0, 0, 0, 0, 0, 0, 0, 0, 0, 0, 0, 0, 0, 0, 0, 0, 0, 0, 0, 0, 0, 0],\n",
       "[      0,       0,      0,       0, 0, 0, 0, 0, 0, 0, 0, 0, 0, 0, 0, 0, 0, 0, 0, 0, 0, 0, 0, 0, 0, 0, 0, 0, 0, 0, 0, 0, 0, 0, 0, 0, 0, 0, 0, 0, 0, 0, 0, 0, 0, 0, 0, 0, 0, 0, 0, 0, 0, 0, 0, 0, 0, 0, 0, 0, 0, 0, 0, 0],\n",
       "[      0,       0,      0,       0, 0, 0, 0, 0, 0, 0, 0, 0, 0, 0, 0, 0, 0, 0, 0, 0, 0, 0, 0, 0, 0, 0, 0, 0, 0, 0, 0, 0, 0, 0, 0, 0, 0, 0, 0, 0, 0, 0, 0, 0, 0, 0, 0, 0, 0, 0, 0, 0, 0, 0, 0, 0, 0, 0, 0, 0, 0, 0, 0, 0],\n",
       "[      0,       0,      0,       0, 0, 0, 0, 0, 0, 0, 0, 0, 0, 0, 0, 0, 0, 0, 0, 0, 0, 0, 0, 0, 0, 0, 0, 0, 0, 0, 0, 0, 0, 0, 0, 0, 0, 0, 0, 0, 0, 0, 0, 0, 0, 0, 0, 0, 0, 0, 0, 0, 0, 0, 0, 0, 0, 0, 0, 0, 0, 0, 0, 0],\n",
       "[      0,       0,      0,       0, 0, 0, 0, 0, 0, 0, 0, 0, 0, 0, 0, 0, 0, 0, 0, 0, 0, 0, 0, 0, 0, 0, 0, 0, 0, 0, 0, 0, 0, 0, 0, 0, 0, 0, 0, 0, 0, 0, 0, 0, 0, 0, 0, 0, 0, 0, 0, 0, 0, 0, 0, 0, 0, 0, 0, 0, 0, 0, 0, 0],\n",
       "[      0,       0,      0,       0, 0, 0, 0, 0, 0, 0, 0, 0, 0, 0, 0, 0, 0, 0, 0, 0, 0, 0, 0, 0, 0, 0, 0, 0, 0, 0, 0, 0, 0, 0, 0, 0, 0, 0, 0, 0, 0, 0, 0, 0, 0, 0, 0, 0, 0, 0, 0, 0, 0, 0, 0, 0, 0, 0, 0, 0, 0, 0, 0, 0],\n",
       "[      0,       0,      0,       0, 0, 0, 0, 0, 0, 0, 0, 0, 0, 0, 0, 0, 0, 0, 0, 0, 0, 0, 0, 0, 0, 0, 0, 0, 0, 0, 0, 0, 0, 0, 0, 0, 0, 0, 0, 0, 0, 0, 0, 0, 0, 0, 0, 0, 0, 0, 0, 0, 0, 0, 0, 0, 0, 0, 0, 0, 0, 0, 0, 0],\n",
       "[      0,       0,      0,       0, 0, 0, 0, 0, 0, 0, 0, 0, 0, 0, 0, 0, 0, 0, 0, 0, 0, 0, 0, 0, 0, 0, 0, 0, 0, 0, 0, 0, 0, 0, 0, 0, 0, 0, 0, 0, 0, 0, 0, 0, 0, 0, 0, 0, 0, 0, 0, 0, 0, 0, 0, 0, 0, 0, 0, 0, 0, 0, 0, 0]])"
      ]
     },
     "execution_count": 12,
     "metadata": {},
     "output_type": "execute_result"
    }
   ],
   "source": [
    "rho = proj(psi)\n",
    "rho"
   ]
  },
  {
   "cell_type": "code",
   "execution_count": 13,
   "id": "a3bf33c4",
   "metadata": {},
   "outputs": [
    {
     "data": {
      "text/latex": [
       "$\\displaystyle 0.25 {\\left|000000\\right\\rangle } {\\left\\langle 000000\\right|} - 0.25 i {\\left|000000\\right\\rangle } {\\left\\langle 000001\\right|} + 0.25 i {\\left|000000\\right\\rangle } {\\left\\langle 000010\\right|} + 0.25 {\\left|000000\\right\\rangle } {\\left\\langle 000011\\right|} + 0.25 i {\\left|000001\\right\\rangle } {\\left\\langle 000000\\right|} + 0.25 {\\left|000001\\right\\rangle } {\\left\\langle 000001\\right|} - 0.25 {\\left|000001\\right\\rangle } {\\left\\langle 000010\\right|} + 0.25 i {\\left|000001\\right\\rangle } {\\left\\langle 000011\\right|} - 0.25 i {\\left|000010\\right\\rangle } {\\left\\langle 000000\\right|} - 0.25 {\\left|000010\\right\\rangle } {\\left\\langle 000001\\right|} + 0.25 {\\left|000010\\right\\rangle } {\\left\\langle 000010\\right|} - 0.25 i {\\left|000010\\right\\rangle } {\\left\\langle 000011\\right|} + 0.25 {\\left|000011\\right\\rangle } {\\left\\langle 000000\\right|} - 0.25 i {\\left|000011\\right\\rangle } {\\left\\langle 000001\\right|} + 0.25 i {\\left|000011\\right\\rangle } {\\left\\langle 000010\\right|} + 0.25 {\\left|000011\\right\\rangle } {\\left\\langle 000011\\right|}$"
      ],
      "text/plain": [
       "0.25*|000000>*<000000| - 0.25*I*|000000>*<000001| + 0.25*I*|000000>*<000010| + 0.25*|000000>*<000011| + 0.25*I*|000001>*<000000| + 0.25*|000001>*<000001| - 0.25*|000001>*<000010| + 0.25*I*|000001>*<000011| - 0.25*I*|000010>*<000000| - 0.25*|000010>*<000001| + 0.25*|000010>*<000010| - 0.25*I*|000010>*<000011| + 0.25*|000011>*<000000| - 0.25*I*|000011>*<000001| + 0.25*I*|000011>*<000010| + 0.25*|000011>*<000011|"
      ]
     },
     "execution_count": 13,
     "metadata": {},
     "output_type": "execute_result"
    }
   ],
   "source": [
    "rhokb = m_braket(proj(psi))\n",
    "rhokb"
   ]
  },
  {
   "cell_type": "markdown",
   "id": "d9c8453b",
   "metadata": {},
   "source": [
    "### Exemplo 2"
   ]
  },
  {
   "cell_type": "code",
   "execution_count": 14,
   "id": "055b0b9e",
   "metadata": {},
   "outputs": [
    {
     "data": {
      "text/latex": [
       "$\\displaystyle \\left[\\begin{matrix}\\rho_{0} & \\rho_{1} & \\rho_{2} & \\rho_{3}\\\\\\rho_{4} & \\rho_{5} & \\rho_{6} & \\rho_{7}\\\\\\rho_{8} & \\rho_{9} & \\rho_{10} & \\rho_{11}\\\\\\rho_{12} & \\rho_{13} & \\rho_{14} & \\rho_{15}\\end{matrix}\\right]$"
      ],
      "text/plain": [
       "Matrix([\n",
       "[ rho_0,  rho_1,  rho_2,  rho_3],\n",
       "[ rho_4,  rho_5,  rho_6,  rho_7],\n",
       "[ rho_8,  rho_9, rho_10, rho_11],\n",
       "[rho_12, rho_13, rho_14, rho_15]])"
      ]
     },
     "execution_count": 14,
     "metadata": {},
     "output_type": "execute_result"
    }
   ],
   "source": [
    "rho_AB = rho_g(2)\n",
    "rho_AB"
   ]
  },
  {
   "cell_type": "code",
   "execution_count": 15,
   "id": "9420cf02",
   "metadata": {},
   "outputs": [
    {
     "data": {
      "text/latex": [
       "$\\displaystyle \\rho_{0} {\\left|00\\right\\rangle } {\\left\\langle 00\\right|} + \\rho_{1} {\\left|00\\right\\rangle } {\\left\\langle 01\\right|} + \\rho_{10} {\\left|10\\right\\rangle } {\\left\\langle 10\\right|} + \\rho_{11} {\\left|10\\right\\rangle } {\\left\\langle 11\\right|} + \\rho_{12} {\\left|11\\right\\rangle } {\\left\\langle 00\\right|} + \\rho_{13} {\\left|11\\right\\rangle } {\\left\\langle 01\\right|} + \\rho_{14} {\\left|11\\right\\rangle } {\\left\\langle 10\\right|} + \\rho_{15} {\\left|11\\right\\rangle } {\\left\\langle 11\\right|} + \\rho_{2} {\\left|00\\right\\rangle } {\\left\\langle 10\\right|} + \\rho_{3} {\\left|00\\right\\rangle } {\\left\\langle 11\\right|} + \\rho_{4} {\\left|01\\right\\rangle } {\\left\\langle 00\\right|} + \\rho_{5} {\\left|01\\right\\rangle } {\\left\\langle 01\\right|} + \\rho_{6} {\\left|01\\right\\rangle } {\\left\\langle 10\\right|} + \\rho_{7} {\\left|01\\right\\rangle } {\\left\\langle 11\\right|} + \\rho_{8} {\\left|10\\right\\rangle } {\\left\\langle 00\\right|} + \\rho_{9} {\\left|10\\right\\rangle } {\\left\\langle 01\\right|}$"
      ],
      "text/plain": [
       "rho_0*|00>*<00| + rho_1*|00>*<01| + rho_10*|10>*<10| + rho_11*|10>*<11| + rho_12*|11>*<00| + rho_13*|11>*<01| + rho_14*|11>*<10| + rho_15*|11>*<11| + rho_2*|00>*<10| + rho_3*|00>*<11| + rho_4*|01>*<00| + rho_5*|01>*<01| + rho_6*|01>*<10| + rho_7*|01>*<11| + rho_8*|10>*<00| + rho_9*|10>*<01|"
      ]
     },
     "execution_count": 15,
     "metadata": {},
     "output_type": "execute_result"
    }
   ],
   "source": [
    "rhokb_AB = m_braket(rho_AB)\n",
    "rhokb_AB"
   ]
  },
  {
   "cell_type": "markdown",
   "id": "9abb6235",
   "metadata": {},
   "source": [
    "#### Matriz densidade reduzida do subsistema A - Traço parcial no subsistema B"
   ]
  },
  {
   "cell_type": "code",
   "execution_count": 16,
   "id": "f5b9e2eb",
   "metadata": {},
   "outputs": [
    {
     "data": {
      "text/latex": [
       "$\\displaystyle \\left[\\begin{matrix}\\rho_{0} + \\rho_{5} & \\rho_{2} + \\rho_{7}\\\\\\rho_{13} + \\rho_{8} & \\rho_{10} + \\rho_{15}\\end{matrix}\\right]$"
      ],
      "text/plain": [
       "Matrix([\n",
       "[ rho_0 + rho_5,   rho_2 + rho_7],\n",
       "[rho_13 + rho_8, rho_10 + rho_15]])"
      ]
     },
     "execution_count": 16,
     "metadata": {},
     "output_type": "execute_result"
    }
   ],
   "source": [
    "rho_A = ptraceB(2,2,rho_AB)\n",
    "rho_A"
   ]
  },
  {
   "cell_type": "code",
   "execution_count": 17,
   "id": "96554a3b",
   "metadata": {},
   "outputs": [
    {
     "data": {
      "text/latex": [
       "$\\displaystyle \\left(\\rho_{0} + \\rho_{5}\\right) {\\left|0\\right\\rangle } {\\left\\langle 0\\right|} + \\left(\\rho_{10} + \\rho_{15}\\right) {\\left|1\\right\\rangle } {\\left\\langle 1\\right|} + \\left(\\rho_{13} + \\rho_{8}\\right) {\\left|1\\right\\rangle } {\\left\\langle 0\\right|} + \\left(\\rho_{2} + \\rho_{7}\\right) {\\left|0\\right\\rangle } {\\left\\langle 1\\right|}$"
      ],
      "text/plain": [
       "(rho_0 + rho_5)*|0>*<0| + (rho_10 + rho_15)*|1>*<1| + (rho_13 + rho_8)*|1>*<0| + (rho_2 + rho_7)*|0>*<1|"
      ]
     },
     "execution_count": 17,
     "metadata": {},
     "output_type": "execute_result"
    }
   ],
   "source": [
    "rhokb_A = m_braket(rho_A)\n",
    "rhokb_A"
   ]
  },
  {
   "cell_type": "markdown",
   "id": "12770fc1",
   "metadata": {},
   "source": [
    "#### Matriz densidade reduzida do subsistema B - Traço parcial no subsistema A"
   ]
  },
  {
   "cell_type": "code",
   "execution_count": 18,
   "id": "150c60b4",
   "metadata": {},
   "outputs": [
    {
     "data": {
      "text/latex": [
       "$\\displaystyle \\left[\\begin{matrix}\\rho_{0} + \\rho_{10} & \\rho_{1} + \\rho_{11}\\\\\\rho_{14} + \\rho_{4} & \\rho_{15} + \\rho_{5}\\end{matrix}\\right]$"
      ],
      "text/plain": [
       "Matrix([\n",
       "[rho_0 + rho_10, rho_1 + rho_11],\n",
       "[rho_14 + rho_4, rho_15 + rho_5]])"
      ]
     },
     "execution_count": 18,
     "metadata": {},
     "output_type": "execute_result"
    }
   ],
   "source": [
    "rho_B = ptraceA(2,2,rho_AB)\n",
    "rho_B"
   ]
  },
  {
   "cell_type": "code",
   "execution_count": 19,
   "id": "c2b42933",
   "metadata": {},
   "outputs": [
    {
     "data": {
      "text/latex": [
       "$\\displaystyle \\left(\\rho_{0} + \\rho_{10}\\right) {\\left|0\\right\\rangle } {\\left\\langle 0\\right|} + \\left(\\rho_{1} + \\rho_{11}\\right) {\\left|0\\right\\rangle } {\\left\\langle 1\\right|} + \\left(\\rho_{14} + \\rho_{4}\\right) {\\left|1\\right\\rangle } {\\left\\langle 0\\right|} + \\left(\\rho_{15} + \\rho_{5}\\right) {\\left|1\\right\\rangle } {\\left\\langle 1\\right|}$"
      ],
      "text/plain": [
       "(rho_0 + rho_10)*|0>*<0| + (rho_1 + rho_11)*|0>*<1| + (rho_14 + rho_4)*|1>*<0| + (rho_15 + rho_5)*|1>*<1|"
      ]
     },
     "execution_count": 19,
     "metadata": {},
     "output_type": "execute_result"
    }
   ],
   "source": [
    "rhokb_B = m_braket(rho_B)\n",
    "rhokb_B"
   ]
  },
  {
   "cell_type": "markdown",
   "id": "a57197a0",
   "metadata": {},
   "source": [
    "### Exemplo 3 - Base de Bell"
   ]
  },
  {
   "cell_type": "markdown",
   "id": "0aa4b47f",
   "metadata": {},
   "source": [
    "Base de Bell - $\\Phi_+$"
   ]
  },
  {
   "cell_type": "code",
   "execution_count": 66,
   "id": "26c9bd5c",
   "metadata": {},
   "outputs": [
    {
     "data": {
      "text/latex": [
       "$\\displaystyle \\left[\\begin{matrix}\\frac{\\sqrt{2}}{2}\\\\0\\\\0\\\\\\frac{\\sqrt{2}}{2}\\end{matrix}\\right]$"
      ],
      "text/plain": [
       "Matrix([\n",
       "[sqrt(2)/2],\n",
       "[        0],\n",
       "[        0],\n",
       "[sqrt(2)/2]])"
      ]
     },
     "execution_count": 66,
     "metadata": {},
     "output_type": "execute_result"
    }
   ],
   "source": [
    "Phi_p = (tp(cb(2,0),cb(2,0)) + tp(cb(2,1),cb(2,1)))/sqrt(2)\n",
    "Phi_p"
   ]
  },
  {
   "cell_type": "code",
   "execution_count": 67,
   "id": "d7a6cd50",
   "metadata": {},
   "outputs": [
    {
     "data": {
      "text/latex": [
       "$\\displaystyle \\frac{\\sqrt{2} \\left({\\left|00\\right\\rangle } + {\\left|11\\right\\rangle }\\right)}{2}$"
      ],
      "text/plain": [
       "sqrt(2)*(|00> + |11>)/2"
      ]
     },
     "execution_count": 67,
     "metadata": {},
     "output_type": "execute_result"
    }
   ],
   "source": [
    "Phikb_p = m_braket(Phi_p)\n",
    "simplify(Phikb_p)"
   ]
  },
  {
   "cell_type": "code",
   "execution_count": 68,
   "id": "7959873c",
   "metadata": {},
   "outputs": [
    {
     "data": {
      "text/latex": [
       "$\\displaystyle \\left[\\begin{matrix}\\frac{1}{2} & 0 & 0 & \\frac{1}{2}\\\\0 & 0 & 0 & 0\\\\0 & 0 & 0 & 0\\\\\\frac{1}{2} & 0 & 0 & \\frac{1}{2}\\end{matrix}\\right]$"
      ],
      "text/plain": [
       "Matrix([\n",
       "[1/2, 0, 0, 1/2],\n",
       "[  0, 0, 0,   0],\n",
       "[  0, 0, 0,   0],\n",
       "[1/2, 0, 0, 1/2]])"
      ]
     },
     "execution_count": 68,
     "metadata": {},
     "output_type": "execute_result"
    }
   ],
   "source": [
    "rho_Phi_p = proj(Phi_p)\n",
    "rho_Phi_p"
   ]
  },
  {
   "cell_type": "code",
   "execution_count": 69,
   "id": "3c849c0b",
   "metadata": {},
   "outputs": [
    {
     "data": {
      "text/latex": [
       "$\\displaystyle \\frac{{\\left|00\\right\\rangle } {\\left\\langle 00\\right|} + {\\left|00\\right\\rangle } {\\left\\langle 11\\right|} + {\\left|11\\right\\rangle } {\\left\\langle 00\\right|} + {\\left|11\\right\\rangle } {\\left\\langle 11\\right|}}{2}$"
      ],
      "text/plain": [
       "(|00>*<00| + |00>*<11| + |11>*<00| + |11>*<11|)/2"
      ]
     },
     "execution_count": 69,
     "metadata": {},
     "output_type": "execute_result"
    }
   ],
   "source": [
    "rhokb_Phi_p = m_braket(proj(Phi_p))\n",
    "rhokb_Phi_p.simplify()"
   ]
  },
  {
   "cell_type": "markdown",
   "id": "28a7fa41",
   "metadata": {},
   "source": [
    "Base de Bell - $\\Psi_+$"
   ]
  },
  {
   "cell_type": "code",
   "execution_count": 26,
   "id": "cd9b42d5",
   "metadata": {},
   "outputs": [
    {
     "data": {
      "text/latex": [
       "$\\displaystyle \\left[\\begin{matrix}0\\\\\\frac{\\sqrt{2}}{2}\\\\\\frac{\\sqrt{2}}{2}\\\\0\\end{matrix}\\right]$"
      ],
      "text/plain": [
       "Matrix([\n",
       "[        0],\n",
       "[sqrt(2)/2],\n",
       "[sqrt(2)/2],\n",
       "[        0]])"
      ]
     },
     "execution_count": 26,
     "metadata": {},
     "output_type": "execute_result"
    }
   ],
   "source": [
    "Psi_p = (tp(cb(2,0),cb(2,1)) + tp(cb(2,1),cb(2,0)))/sqrt(2)\n",
    "Psi_p"
   ]
  },
  {
   "cell_type": "code",
   "execution_count": 27,
   "id": "23c7639d",
   "metadata": {},
   "outputs": [
    {
     "data": {
      "text/latex": [
       "$\\displaystyle \\frac{\\sqrt{2} \\left({\\left|01\\right\\rangle } + {\\left|10\\right\\rangle }\\right)}{2}$"
      ],
      "text/plain": [
       "sqrt(2)*(|01> + |10>)/2"
      ]
     },
     "execution_count": 27,
     "metadata": {},
     "output_type": "execute_result"
    }
   ],
   "source": [
    "Psikb_p = m_braket(Psi_p)\n",
    "Psikb_p.simplify()"
   ]
  },
  {
   "cell_type": "code",
   "execution_count": 28,
   "id": "b611ac15",
   "metadata": {},
   "outputs": [
    {
     "data": {
      "text/latex": [
       "$\\displaystyle \\left[\\begin{matrix}0 & 0 & 0 & 0\\\\0 & \\frac{1}{2} & \\frac{1}{2} & 0\\\\0 & \\frac{1}{2} & \\frac{1}{2} & 0\\\\0 & 0 & 0 & 0\\end{matrix}\\right]$"
      ],
      "text/plain": [
       "Matrix([\n",
       "[0,   0,   0, 0],\n",
       "[0, 1/2, 1/2, 0],\n",
       "[0, 1/2, 1/2, 0],\n",
       "[0,   0,   0, 0]])"
      ]
     },
     "execution_count": 28,
     "metadata": {},
     "output_type": "execute_result"
    }
   ],
   "source": [
    "rho_Psi_p = proj(Psi_p)\n",
    "rho_Psi_p"
   ]
  },
  {
   "cell_type": "code",
   "execution_count": 29,
   "id": "28a627f7",
   "metadata": {},
   "outputs": [
    {
     "data": {
      "text/latex": [
       "$\\displaystyle \\frac{{\\left|01\\right\\rangle } {\\left\\langle 01\\right|} + {\\left|01\\right\\rangle } {\\left\\langle 10\\right|} + {\\left|10\\right\\rangle } {\\left\\langle 01\\right|} + {\\left|10\\right\\rangle } {\\left\\langle 10\\right|}}{2}$"
      ],
      "text/plain": [
       "(|01>*<01| + |01>*<10| + |10>*<01| + |10>*<10|)/2"
      ]
     },
     "execution_count": 29,
     "metadata": {},
     "output_type": "execute_result"
    }
   ],
   "source": [
    "rhokb_Psi_p = m_braket(proj(Psi_p))\n",
    "rhokb_Psi_p.simplify()"
   ]
  },
  {
   "cell_type": "markdown",
   "id": "5d5c2886",
   "metadata": {},
   "source": [
    "Base de Bell - $\\Psi_-$"
   ]
  },
  {
   "cell_type": "code",
   "execution_count": 30,
   "id": "2ceb1d9f",
   "metadata": {},
   "outputs": [
    {
     "data": {
      "text/latex": [
       "$\\displaystyle \\left[\\begin{matrix}0\\\\\\frac{\\sqrt{2}}{2}\\\\- \\frac{\\sqrt{2}}{2}\\\\0\\end{matrix}\\right]$"
      ],
      "text/plain": [
       "Matrix([\n",
       "[         0],\n",
       "[ sqrt(2)/2],\n",
       "[-sqrt(2)/2],\n",
       "[         0]])"
      ]
     },
     "execution_count": 30,
     "metadata": {},
     "output_type": "execute_result"
    }
   ],
   "source": [
    "Psi_m = (tp(cb(2,0),cb(2,1)) - tp(cb(2,1),cb(2,0)))/sqrt(2)\n",
    "Psi_m"
   ]
  },
  {
   "cell_type": "code",
   "execution_count": 31,
   "id": "575b17ff",
   "metadata": {},
   "outputs": [
    {
     "data": {
      "text/latex": [
       "$\\displaystyle \\frac{\\sqrt{2} \\left({\\left|01\\right\\rangle } - {\\left|10\\right\\rangle }\\right)}{2}$"
      ],
      "text/plain": [
       "sqrt(2)*(|01> - |10>)/2"
      ]
     },
     "execution_count": 31,
     "metadata": {},
     "output_type": "execute_result"
    }
   ],
   "source": [
    "Psikb_m = m_braket(Psi_m)\n",
    "Psikb_m.simplify()"
   ]
  },
  {
   "cell_type": "code",
   "execution_count": 32,
   "id": "e625bd32",
   "metadata": {},
   "outputs": [
    {
     "data": {
      "text/latex": [
       "$\\displaystyle \\left[\\begin{matrix}0 & 0 & 0 & 0\\\\0 & \\frac{1}{2} & - \\frac{1}{2} & 0\\\\0 & - \\frac{1}{2} & \\frac{1}{2} & 0\\\\0 & 0 & 0 & 0\\end{matrix}\\right]$"
      ],
      "text/plain": [
       "Matrix([\n",
       "[0,    0,    0, 0],\n",
       "[0,  1/2, -1/2, 0],\n",
       "[0, -1/2,  1/2, 0],\n",
       "[0,    0,    0, 0]])"
      ]
     },
     "execution_count": 32,
     "metadata": {},
     "output_type": "execute_result"
    }
   ],
   "source": [
    "rho_Psi_m = proj(Psi_m)\n",
    "rho_Psi_m"
   ]
  },
  {
   "cell_type": "code",
   "execution_count": 33,
   "id": "63e44825",
   "metadata": {},
   "outputs": [
    {
     "data": {
      "text/latex": [
       "$\\displaystyle \\frac{{\\left|01\\right\\rangle } {\\left\\langle 01\\right|} - {\\left|01\\right\\rangle } {\\left\\langle 10\\right|} - {\\left|10\\right\\rangle } {\\left\\langle 01\\right|} + {\\left|10\\right\\rangle } {\\left\\langle 10\\right|}}{2}$"
      ],
      "text/plain": [
       "(|01>*<01| - |01>*<10| - |10>*<01| + |10>*<10|)/2"
      ]
     },
     "execution_count": 33,
     "metadata": {},
     "output_type": "execute_result"
    }
   ],
   "source": [
    "rhokb_Psi_m = m_braket(proj(Psi_m))\n",
    "rhokb_Psi_m.simplify()"
   ]
  },
  {
   "cell_type": "markdown",
   "id": "40cdb928",
   "metadata": {},
   "source": [
    "Base de Bell - $\\Phi_-$"
   ]
  },
  {
   "cell_type": "code",
   "execution_count": 34,
   "id": "cfd3b933",
   "metadata": {},
   "outputs": [
    {
     "data": {
      "text/latex": [
       "$\\displaystyle \\left[\\begin{matrix}\\frac{\\sqrt{2}}{2}\\\\0\\\\0\\\\- \\frac{\\sqrt{2}}{2}\\end{matrix}\\right]$"
      ],
      "text/plain": [
       "Matrix([\n",
       "[ sqrt(2)/2],\n",
       "[         0],\n",
       "[         0],\n",
       "[-sqrt(2)/2]])"
      ]
     },
     "execution_count": 34,
     "metadata": {},
     "output_type": "execute_result"
    }
   ],
   "source": [
    "Phi_m = (tp(cb(2,0),cb(2,0)) - tp(cb(2,1),cb(2,1)))/sqrt(2)\n",
    "Phi_m"
   ]
  },
  {
   "cell_type": "code",
   "execution_count": 35,
   "id": "e65662d8",
   "metadata": {},
   "outputs": [
    {
     "data": {
      "text/latex": [
       "$\\displaystyle \\frac{\\sqrt{2} \\left({\\left|00\\right\\rangle } - {\\left|11\\right\\rangle }\\right)}{2}$"
      ],
      "text/plain": [
       "sqrt(2)*(|00> - |11>)/2"
      ]
     },
     "execution_count": 35,
     "metadata": {},
     "output_type": "execute_result"
    }
   ],
   "source": [
    "Phikb_m = m_braket(Phi_m)\n",
    "Phikb_m.simplify()"
   ]
  },
  {
   "cell_type": "code",
   "execution_count": 36,
   "id": "46225fbd",
   "metadata": {},
   "outputs": [
    {
     "data": {
      "text/latex": [
       "$\\displaystyle \\left[\\begin{matrix}\\frac{1}{2} & 0 & 0 & - \\frac{1}{2}\\\\0 & 0 & 0 & 0\\\\0 & 0 & 0 & 0\\\\- \\frac{1}{2} & 0 & 0 & \\frac{1}{2}\\end{matrix}\\right]$"
      ],
      "text/plain": [
       "Matrix([\n",
       "[ 1/2, 0, 0, -1/2],\n",
       "[   0, 0, 0,    0],\n",
       "[   0, 0, 0,    0],\n",
       "[-1/2, 0, 0,  1/2]])"
      ]
     },
     "execution_count": 36,
     "metadata": {},
     "output_type": "execute_result"
    }
   ],
   "source": [
    "rho_Phi_m = proj(Phi_m)\n",
    "rho_Phi_m"
   ]
  },
  {
   "cell_type": "code",
   "execution_count": 37,
   "id": "b97a35ed",
   "metadata": {},
   "outputs": [
    {
     "data": {
      "text/latex": [
       "$\\displaystyle \\frac{{\\left|00\\right\\rangle } {\\left\\langle 00\\right|} - {\\left|00\\right\\rangle } {\\left\\langle 11\\right|} - {\\left|11\\right\\rangle } {\\left\\langle 00\\right|} + {\\left|11\\right\\rangle } {\\left\\langle 11\\right|}}{2}$"
      ],
      "text/plain": [
       "(|00>*<00| - |00>*<11| - |11>*<00| + |11>*<11|)/2"
      ]
     },
     "execution_count": 37,
     "metadata": {},
     "output_type": "execute_result"
    }
   ],
   "source": [
    "rhokb_Phi_m = m_braket(proj(Phi_m))\n",
    "rhokb_Phi_m.simplify()"
   ]
  },
  {
   "cell_type": "markdown",
   "id": "e7870440",
   "metadata": {},
   "source": [
    "# Outras funções"
   ]
  },
  {
   "cell_type": "markdown",
   "id": "9056a081",
   "metadata": {},
   "source": [
    "## Projective measure"
   ]
  },
  {
   "cell_type": "code",
   "execution_count": 77,
   "id": "0128d6c7",
   "metadata": {},
   "outputs": [],
   "source": [
    "def tr(A):\n",
    "    '''retorna o traço de uma matriz'''\n",
    "    d = A.shape[0]\n",
    "    tr = 0\n",
    "    for j in range(0,d):\n",
    "        tr += A[j,j]\n",
    "    return tr"
   ]
  },
  {
   "cell_type": "code",
   "execution_count": 78,
   "id": "e7568995",
   "metadata": {},
   "outputs": [],
   "source": [
    "# Projective measure: subsistemas ABCD para sobrar apenas o D\n",
    "#\n",
    "# IMPORTANTE: D subsystem on the left\n",
    "#\n",
    "# rho_AB\n",
    "#\n",
    "# rho_B_red = Proj(A) * rho_AB * Proj(A)\n",
    "#\n",
    "# seq_bin:\n",
    "# If you want project |101>_ABC of |101>_ABC(|0>_D+|1>_D) send seq_bin = '101'\n",
    "# The last qubit is the susystem that you want to keep\n",
    "#\n",
    "# db = dimension expected to the matrix B (ex above is 2 -> M_{2x2}, only D system)\n",
    "# because we are going to remove the ABC systems\n",
    "#\n",
    "def projM(db, seq_bin, rho): # seq_bin \n",
    "    rhoB = zeros(db,db)\n",
    "    dn= int(seq_bin+str(0), 2) # num decimal number of seq_bin\n",
    "    #print(dn)\n",
    "    for j in range(0, db):\n",
    "        for k in range(0, db):\n",
    "                rhoB[j,k] = rho[j+dn,k+dn]\n",
    "    return rhoB/tr(rhoB)"
   ]
  },
  {
   "cell_type": "code",
   "execution_count": 82,
   "id": "ded5b773",
   "metadata": {},
   "outputs": [
    {
     "data": {
      "text/latex": [
       "$\\displaystyle \\left[\\begin{matrix}\\rho_{0} & \\rho_{1} & \\rho_{2} & \\rho_{3}\\\\\\rho_{4} & \\rho_{5} & \\rho_{6} & \\rho_{7}\\\\\\rho_{8} & \\rho_{9} & \\rho_{10} & \\rho_{11}\\\\\\rho_{12} & \\rho_{13} & \\rho_{14} & \\rho_{15}\\end{matrix}\\right]$"
      ],
      "text/plain": [
       "Matrix([\n",
       "[ rho_0,  rho_1,  rho_2,  rho_3],\n",
       "[ rho_4,  rho_5,  rho_6,  rho_7],\n",
       "[ rho_8,  rho_9, rho_10, rho_11],\n",
       "[rho_12, rho_13, rho_14, rho_15]])"
      ]
     },
     "execution_count": 82,
     "metadata": {},
     "output_type": "execute_result"
    }
   ],
   "source": [
    "rho_AB = rho_g(2)\n",
    "rho_AB"
   ]
  },
  {
   "cell_type": "code",
   "execution_count": 83,
   "id": "9ed573f4",
   "metadata": {},
   "outputs": [
    {
     "data": {
      "text/latex": [
       "$\\displaystyle \\rho_{0} {\\left|00\\right\\rangle } {\\left\\langle 00\\right|} + \\rho_{1} {\\left|00\\right\\rangle } {\\left\\langle 01\\right|} + \\rho_{10} {\\left|10\\right\\rangle } {\\left\\langle 10\\right|} + \\rho_{11} {\\left|10\\right\\rangle } {\\left\\langle 11\\right|} + \\rho_{12} {\\left|11\\right\\rangle } {\\left\\langle 00\\right|} + \\rho_{13} {\\left|11\\right\\rangle } {\\left\\langle 01\\right|} + \\rho_{14} {\\left|11\\right\\rangle } {\\left\\langle 10\\right|} + \\rho_{15} {\\left|11\\right\\rangle } {\\left\\langle 11\\right|} + \\rho_{2} {\\left|00\\right\\rangle } {\\left\\langle 10\\right|} + \\rho_{3} {\\left|00\\right\\rangle } {\\left\\langle 11\\right|} + \\rho_{4} {\\left|01\\right\\rangle } {\\left\\langle 00\\right|} + \\rho_{5} {\\left|01\\right\\rangle } {\\left\\langle 01\\right|} + \\rho_{6} {\\left|01\\right\\rangle } {\\left\\langle 10\\right|} + \\rho_{7} {\\left|01\\right\\rangle } {\\left\\langle 11\\right|} + \\rho_{8} {\\left|10\\right\\rangle } {\\left\\langle 00\\right|} + \\rho_{9} {\\left|10\\right\\rangle } {\\left\\langle 01\\right|}$"
      ],
      "text/plain": [
       "rho_0*|00>*<00| + rho_1*|00>*<01| + rho_10*|10>*<10| + rho_11*|10>*<11| + rho_12*|11>*<00| + rho_13*|11>*<01| + rho_14*|11>*<10| + rho_15*|11>*<11| + rho_2*|00>*<10| + rho_3*|00>*<11| + rho_4*|01>*<00| + rho_5*|01>*<01| + rho_6*|01>*<10| + rho_7*|01>*<11| + rho_8*|10>*<00| + rho_9*|10>*<01|"
      ]
     },
     "execution_count": 83,
     "metadata": {},
     "output_type": "execute_result"
    }
   ],
   "source": [
    "m_braket(rho_0)"
   ]
  },
  {
   "cell_type": "code",
   "execution_count": 84,
   "id": "8100e4b8",
   "metadata": {},
   "outputs": [
    {
     "data": {
      "text/latex": [
       "$\\displaystyle \\left[\\begin{matrix}\\frac{\\rho_{0}}{\\rho_{0} + \\rho_{5}} & \\frac{\\rho_{1}}{\\rho_{0} + \\rho_{5}}\\\\\\frac{\\rho_{4}}{\\rho_{0} + \\rho_{5}} & \\frac{\\rho_{5}}{\\rho_{0} + \\rho_{5}}\\end{matrix}\\right]$"
      ],
      "text/plain": [
       "Matrix([\n",
       "[rho_0/(rho_0 + rho_5), rho_1/(rho_0 + rho_5)],\n",
       "[rho_4/(rho_0 + rho_5), rho_5/(rho_0 + rho_5)]])"
      ]
     },
     "execution_count": 84,
     "metadata": {},
     "output_type": "execute_result"
    }
   ],
   "source": [
    "rho_0B = projM(2,'0', rho_0)\n",
    "rho_0B"
   ]
  },
  {
   "cell_type": "code",
   "execution_count": 87,
   "id": "c8d6ec90",
   "metadata": {},
   "outputs": [
    {
     "data": {
      "text/latex": [
       "$\\displaystyle \\frac{\\rho_{0} {\\left|0\\right\\rangle } {\\left\\langle 0\\right|} + \\rho_{1} {\\left|0\\right\\rangle } {\\left\\langle 1\\right|} + \\rho_{4} {\\left|1\\right\\rangle } {\\left\\langle 0\\right|} + \\rho_{5} {\\left|1\\right\\rangle } {\\left\\langle 1\\right|}}{\\rho_{0} + \\rho_{5}}$"
      ],
      "text/plain": [
       "(rho_0*|0>*<0| + rho_1*|0>*<1| + rho_4*|1>*<0| + rho_5*|1>*<1|)/(rho_0 + rho_5)"
      ]
     },
     "execution_count": 87,
     "metadata": {},
     "output_type": "execute_result"
    }
   ],
   "source": [
    "simplify(m_braket(rho_0B))"
   ]
  },
  {
   "cell_type": "code",
   "execution_count": 88,
   "id": "2d9978e6",
   "metadata": {},
   "outputs": [
    {
     "data": {
      "text/latex": [
       "$\\displaystyle \\left[\\begin{matrix}\\frac{\\rho_{10}}{\\rho_{10} + \\rho_{15}} & \\frac{\\rho_{11}}{\\rho_{10} + \\rho_{15}}\\\\\\frac{\\rho_{14}}{\\rho_{10} + \\rho_{15}} & \\frac{\\rho_{15}}{\\rho_{10} + \\rho_{15}}\\end{matrix}\\right]$"
      ],
      "text/plain": [
       "Matrix([\n",
       "[rho_10/(rho_10 + rho_15), rho_11/(rho_10 + rho_15)],\n",
       "[rho_14/(rho_10 + rho_15), rho_15/(rho_10 + rho_15)]])"
      ]
     },
     "execution_count": 88,
     "metadata": {},
     "output_type": "execute_result"
    }
   ],
   "source": [
    "rho_1B = projM(2,'1',rho_0)\n",
    "rho_1B"
   ]
  },
  {
   "cell_type": "code",
   "execution_count": 89,
   "id": "3baf48fe",
   "metadata": {},
   "outputs": [
    {
     "data": {
      "text/latex": [
       "$\\displaystyle \\frac{\\rho_{10} {\\left|0\\right\\rangle } {\\left\\langle 0\\right|} + \\rho_{11} {\\left|0\\right\\rangle } {\\left\\langle 1\\right|} + \\rho_{14} {\\left|1\\right\\rangle } {\\left\\langle 0\\right|} + \\rho_{15} {\\left|1\\right\\rangle } {\\left\\langle 1\\right|}}{\\rho_{10} + \\rho_{15}}$"
      ],
      "text/plain": [
       "(rho_10*|0>*<0| + rho_11*|0>*<1| + rho_14*|1>*<0| + rho_15*|1>*<1|)/(rho_10 + rho_15)"
      ]
     },
     "execution_count": 89,
     "metadata": {},
     "output_type": "execute_result"
    }
   ],
   "source": [
    "simplify(m_braket(rho_1B))"
   ]
  },
  {
   "cell_type": "markdown",
   "id": "96e57492",
   "metadata": {},
   "source": [
    "## Dephasing map"
   ]
  },
  {
   "cell_type": "code",
   "execution_count": 90,
   "id": "f7c37bf8",
   "metadata": {},
   "outputs": [],
   "source": [
    "# Essa função aplica o dephasing map M_j em 2 qubits, tanto no W como no Z\n",
    "# \n",
    "# M₀=|00><00|=(|0>⊗|0>)(<0|⊗<0|)=[ 1\t0\t0\t0\n",
    "#                                   0\t0\t0\t0\n",
    "#                                   0\t0\t0\t0\n",
    "#                                   0\t0\t0\t0]\n",
    "def dephasing_map_2qubits(rho):\n",
    "    M0,M1,M2,M3 = zeros(4, 4), zeros(4, 4), zeros(4, 4), zeros(4, 4)\n",
    "    M0[0, 0] = 1\n",
    "    M1[1, 1] = 1\n",
    "    M2[2, 2] = 1\n",
    "    M3[3, 3] = 1\n",
    "    Phi_rho = M0*rho*M0 + M1*rho*M1 + M2*rho*M2 + M3*rho*M3\n",
    "    return Phi_rho"
   ]
  },
  {
   "cell_type": "code",
   "execution_count": 110,
   "id": "98b11b81",
   "metadata": {},
   "outputs": [
    {
     "data": {
      "text/latex": [
       "$\\displaystyle \\left[\\begin{matrix}\\rho_{0} & \\rho_{1} & \\rho_{2} & \\rho_{3}\\\\\\rho_{4} & \\rho_{5} & \\rho_{6} & \\rho_{7}\\\\\\rho_{8} & \\rho_{9} & \\rho_{10} & \\rho_{11}\\\\\\rho_{12} & \\rho_{13} & \\rho_{14} & \\rho_{15}\\end{matrix}\\right]$"
      ],
      "text/plain": [
       "Matrix([\n",
       "[ rho_0,  rho_1,  rho_2,  rho_3],\n",
       "[ rho_4,  rho_5,  rho_6,  rho_7],\n",
       "[ rho_8,  rho_9, rho_10, rho_11],\n",
       "[rho_12, rho_13, rho_14, rho_15]])"
      ]
     },
     "execution_count": 110,
     "metadata": {},
     "output_type": "execute_result"
    }
   ],
   "source": [
    "rho_0"
   ]
  },
  {
   "cell_type": "code",
   "execution_count": 92,
   "id": "d82aa315",
   "metadata": {},
   "outputs": [
    {
     "data": {
      "text/latex": [
       "$\\displaystyle \\left[\\begin{matrix}\\rho_{0} & 0 & 0 & 0\\\\0 & \\rho_{5} & 0 & 0\\\\0 & 0 & \\rho_{10} & 0\\\\0 & 0 & 0 & \\rho_{15}\\end{matrix}\\right]$"
      ],
      "text/plain": [
       "Matrix([\n",
       "[rho_0,     0,      0,      0],\n",
       "[    0, rho_5,      0,      0],\n",
       "[    0,     0, rho_10,      0],\n",
       "[    0,     0,      0, rho_15]])"
      ]
     },
     "execution_count": 92,
     "metadata": {},
     "output_type": "execute_result"
    }
   ],
   "source": [
    "dephasing_map_2qubits(rho_0)"
   ]
  },
  {
   "cell_type": "code",
   "execution_count": 93,
   "id": "cc81a65c",
   "metadata": {},
   "outputs": [
    {
     "data": {
      "text/latex": [
       "$\\displaystyle \\rho_{0} {\\left|00\\right\\rangle } {\\left\\langle 00\\right|} + \\rho_{10} {\\left|10\\right\\rangle } {\\left\\langle 10\\right|} + \\rho_{15} {\\left|11\\right\\rangle } {\\left\\langle 11\\right|} + \\rho_{5} {\\left|01\\right\\rangle } {\\left\\langle 01\\right|}$"
      ],
      "text/plain": [
       "rho_0*|00>*<00| + rho_10*|10>*<10| + rho_15*|11>*<11| + rho_5*|01>*<01|"
      ]
     },
     "execution_count": 93,
     "metadata": {},
     "output_type": "execute_result"
    }
   ],
   "source": [
    "m_braket(dephasing_map_2qubits(rho_0))"
   ]
  },
  {
   "cell_type": "code",
   "execution_count": 97,
   "id": "f2fff821",
   "metadata": {},
   "outputs": [],
   "source": [
    "def id_sympy(n):\n",
    "    identity = sym.eye(n)\n",
    "    return identity"
   ]
  },
  {
   "cell_type": "code",
   "execution_count": 116,
   "id": "597eb408",
   "metadata": {},
   "outputs": [],
   "source": [
    "# Essa função aplica o dephasing map M0 = [1,0],[0,0] e M1 = [0,0],[0,1] somente no primeiro qubit\n",
    "# \n",
    "def dephasing_map_2qubits_primeiro(rho):\n",
    "    M0,M1 = zeros(2, 2), zeros(2, 2)\n",
    "    M0[0, 0] = 1\n",
    "    M0_2 = tp(M0,  id_sympy(2))\n",
    "    M1[1, 1] = 1\n",
    "    M1_2 = tp(M1,  id_sympy(2))\n",
    "    Phi_rho = M0_2*rho*M0_2 + M1_2*rho*M1_2\n",
    "    return Phi_rho"
   ]
  },
  {
   "cell_type": "code",
   "execution_count": 117,
   "id": "544d4238",
   "metadata": {},
   "outputs": [
    {
     "data": {
      "text/latex": [
       "$\\displaystyle \\left[\\begin{matrix}\\rho_{0} & \\rho_{1} & \\rho_{2} & \\rho_{3}\\\\\\rho_{4} & \\rho_{5} & \\rho_{6} & \\rho_{7}\\\\\\rho_{8} & \\rho_{9} & \\rho_{10} & \\rho_{11}\\\\\\rho_{12} & \\rho_{13} & \\rho_{14} & \\rho_{15}\\end{matrix}\\right]$"
      ],
      "text/plain": [
       "Matrix([\n",
       "[ rho_0,  rho_1,  rho_2,  rho_3],\n",
       "[ rho_4,  rho_5,  rho_6,  rho_7],\n",
       "[ rho_8,  rho_9, rho_10, rho_11],\n",
       "[rho_12, rho_13, rho_14, rho_15]])"
      ]
     },
     "execution_count": 117,
     "metadata": {},
     "output_type": "execute_result"
    }
   ],
   "source": [
    "rho_g(2)"
   ]
  },
  {
   "cell_type": "code",
   "execution_count": 118,
   "id": "985c95f6",
   "metadata": {},
   "outputs": [
    {
     "data": {
      "text/latex": [
       "$\\displaystyle \\rho_{0} {\\left|00\\right\\rangle } {\\left\\langle 00\\right|} + \\rho_{1} {\\left|00\\right\\rangle } {\\left\\langle 01\\right|} + \\rho_{10} {\\left|10\\right\\rangle } {\\left\\langle 10\\right|} + \\rho_{11} {\\left|10\\right\\rangle } {\\left\\langle 11\\right|} + \\rho_{12} {\\left|11\\right\\rangle } {\\left\\langle 00\\right|} + \\rho_{13} {\\left|11\\right\\rangle } {\\left\\langle 01\\right|} + \\rho_{14} {\\left|11\\right\\rangle } {\\left\\langle 10\\right|} + \\rho_{15} {\\left|11\\right\\rangle } {\\left\\langle 11\\right|} + \\rho_{2} {\\left|00\\right\\rangle } {\\left\\langle 10\\right|} + \\rho_{3} {\\left|00\\right\\rangle } {\\left\\langle 11\\right|} + \\rho_{4} {\\left|01\\right\\rangle } {\\left\\langle 00\\right|} + \\rho_{5} {\\left|01\\right\\rangle } {\\left\\langle 01\\right|} + \\rho_{6} {\\left|01\\right\\rangle } {\\left\\langle 10\\right|} + \\rho_{7} {\\left|01\\right\\rangle } {\\left\\langle 11\\right|} + \\rho_{8} {\\left|10\\right\\rangle } {\\left\\langle 00\\right|} + \\rho_{9} {\\left|10\\right\\rangle } {\\left\\langle 01\\right|}$"
      ],
      "text/plain": [
       "rho_0*|00>*<00| + rho_1*|00>*<01| + rho_10*|10>*<10| + rho_11*|10>*<11| + rho_12*|11>*<00| + rho_13*|11>*<01| + rho_14*|11>*<10| + rho_15*|11>*<11| + rho_2*|00>*<10| + rho_3*|00>*<11| + rho_4*|01>*<00| + rho_5*|01>*<01| + rho_6*|01>*<10| + rho_7*|01>*<11| + rho_8*|10>*<00| + rho_9*|10>*<01|"
      ]
     },
     "execution_count": 118,
     "metadata": {},
     "output_type": "execute_result"
    }
   ],
   "source": [
    "m_braket(rho_g(2))"
   ]
  },
  {
   "cell_type": "code",
   "execution_count": 119,
   "id": "c4ca3624",
   "metadata": {},
   "outputs": [
    {
     "data": {
      "text/latex": [
       "$\\displaystyle \\left[\\begin{matrix}\\rho_{0} & \\rho_{1} & 0 & 0\\\\\\rho_{4} & \\rho_{5} & 0 & 0\\\\0 & 0 & \\rho_{10} & \\rho_{11}\\\\0 & 0 & \\rho_{14} & \\rho_{15}\\end{matrix}\\right]$"
      ],
      "text/plain": [
       "Matrix([\n",
       "[rho_0, rho_1,      0,      0],\n",
       "[rho_4, rho_5,      0,      0],\n",
       "[    0,     0, rho_10, rho_11],\n",
       "[    0,     0, rho_14, rho_15]])"
      ]
     },
     "execution_count": 119,
     "metadata": {},
     "output_type": "execute_result"
    }
   ],
   "source": [
    "dephasing_map_2qubits_primeiro(rho_g(2))"
   ]
  },
  {
   "cell_type": "code",
   "execution_count": 120,
   "id": "7dbcd87d",
   "metadata": {},
   "outputs": [
    {
     "data": {
      "text/latex": [
       "$\\displaystyle \\rho_{0} {\\left|00\\right\\rangle } {\\left\\langle 00\\right|} + \\rho_{1} {\\left|00\\right\\rangle } {\\left\\langle 01\\right|} + \\rho_{10} {\\left|10\\right\\rangle } {\\left\\langle 10\\right|} + \\rho_{11} {\\left|10\\right\\rangle } {\\left\\langle 11\\right|} + \\rho_{14} {\\left|11\\right\\rangle } {\\left\\langle 10\\right|} + \\rho_{15} {\\left|11\\right\\rangle } {\\left\\langle 11\\right|} + \\rho_{4} {\\left|01\\right\\rangle } {\\left\\langle 00\\right|} + \\rho_{5} {\\left|01\\right\\rangle } {\\left\\langle 01\\right|}$"
      ],
      "text/plain": [
       "rho_0*|00>*<00| + rho_1*|00>*<01| + rho_10*|10>*<10| + rho_11*|10>*<11| + rho_14*|11>*<10| + rho_15*|11>*<11| + rho_4*|01>*<00| + rho_5*|01>*<01|"
      ]
     },
     "execution_count": 120,
     "metadata": {},
     "output_type": "execute_result"
    }
   ],
   "source": [
    "m_braket(dephasing_map_2qubits_primeiro(rho_g(2)))"
   ]
  },
  {
   "cell_type": "code",
   "execution_count": null,
   "id": "7c153aaa",
   "metadata": {},
   "outputs": [],
   "source": []
  }
 ],
 "metadata": {
  "kernelspec": {
   "display_name": "Python 3 (ipykernel)",
   "language": "python",
   "name": "python3"
  },
  "language_info": {
   "codemirror_mode": {
    "name": "ipython",
    "version": 3
   },
   "file_extension": ".py",
   "mimetype": "text/x-python",
   "name": "python",
   "nbconvert_exporter": "python",
   "pygments_lexer": "ipython3",
   "version": "3.9.13"
  }
 },
 "nbformat": 4,
 "nbformat_minor": 5
}
